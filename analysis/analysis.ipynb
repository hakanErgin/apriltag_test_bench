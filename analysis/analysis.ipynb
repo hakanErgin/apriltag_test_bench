{
 "cells": [
  {
   "cell_type": "code",
   "execution_count": 1,
   "metadata": {},
   "outputs": [],
   "source": [
    "from nb_categorizer import categorize_notebooks\n",
    "from data_exporter import display_category\n",
    "\n",
    "notebook_paths = categorize_notebooks()"
   ]
  },
  {
   "cell_type": "markdown",
   "metadata": {},
   "source": [
    "static"
   ]
  },
  {
   "cell_type": "code",
   "execution_count": 2,
   "metadata": {},
   "outputs": [
    {
     "data": {
      "text/html": [
       "16h5 - 720"
      ],
      "text/plain": [
       "<IPython.core.display.HTML object>"
      ]
     },
     "metadata": {},
     "output_type": "display_data"
    },
    {
     "data": {
      "text/html": [
       "<div>\n",
       "<style scoped>\n",
       "    .dataframe tbody tr th:only-of-type {\n",
       "        vertical-align: middle;\n",
       "    }\n",
       "\n",
       "    .dataframe tbody tr th {\n",
       "        vertical-align: top;\n",
       "    }\n",
       "\n",
       "    .dataframe thead th {\n",
       "        text-align: right;\n",
       "    }\n",
       "</style>\n",
       "<table border=\"1\" class=\"dataframe\">\n",
       "  <thead>\n",
       "    <tr style=\"text-align: right;\">\n",
       "      <th></th>\n",
       "      <th>count</th>\n",
       "      <th>mean</th>\n",
       "      <th>std</th>\n",
       "      <th>min</th>\n",
       "      <th>25%</th>\n",
       "      <th>50%</th>\n",
       "      <th>75%</th>\n",
       "      <th>max</th>\n",
       "    </tr>\n",
       "    <tr>\n",
       "      <th>true_distance</th>\n",
       "      <th></th>\n",
       "      <th></th>\n",
       "      <th></th>\n",
       "      <th></th>\n",
       "      <th></th>\n",
       "      <th></th>\n",
       "      <th></th>\n",
       "      <th></th>\n",
       "    </tr>\n",
       "  </thead>\n",
       "  <tbody>\n",
       "    <tr>\n",
       "      <th>2</th>\n",
       "      <td>39.0</td>\n",
       "      <td>0.021291</td>\n",
       "      <td>0.004381</td>\n",
       "      <td>0.011031</td>\n",
       "      <td>0.017671</td>\n",
       "      <td>0.021213</td>\n",
       "      <td>0.024907</td>\n",
       "      <td>0.029044</td>\n",
       "    </tr>\n",
       "    <tr>\n",
       "      <th>4</th>\n",
       "      <td>29.0</td>\n",
       "      <td>0.034259</td>\n",
       "      <td>0.007442</td>\n",
       "      <td>0.020051</td>\n",
       "      <td>0.029031</td>\n",
       "      <td>0.034047</td>\n",
       "      <td>0.041196</td>\n",
       "      <td>0.045940</td>\n",
       "    </tr>\n",
       "    <tr>\n",
       "      <th>6</th>\n",
       "      <td>15.0</td>\n",
       "      <td>0.007378</td>\n",
       "      <td>0.013531</td>\n",
       "      <td>-0.012574</td>\n",
       "      <td>-0.004202</td>\n",
       "      <td>0.006456</td>\n",
       "      <td>0.020478</td>\n",
       "      <td>0.027191</td>\n",
       "    </tr>\n",
       "    <tr>\n",
       "      <th>8</th>\n",
       "      <td>23.0</td>\n",
       "      <td>0.072056</td>\n",
       "      <td>0.019338</td>\n",
       "      <td>0.013080</td>\n",
       "      <td>0.062094</td>\n",
       "      <td>0.070143</td>\n",
       "      <td>0.084080</td>\n",
       "      <td>0.106280</td>\n",
       "    </tr>\n",
       "    <tr>\n",
       "      <th>10</th>\n",
       "      <td>20.0</td>\n",
       "      <td>0.190948</td>\n",
       "      <td>0.017860</td>\n",
       "      <td>0.142863</td>\n",
       "      <td>0.185516</td>\n",
       "      <td>0.192848</td>\n",
       "      <td>0.203893</td>\n",
       "      <td>0.212590</td>\n",
       "    </tr>\n",
       "  </tbody>\n",
       "</table>\n",
       "</div>"
      ],
      "text/plain": [
       "<IPython.core.display.HTML object>"
      ]
     },
     "metadata": {},
     "output_type": "display_data"
    },
    {
     "data": {
      "image/png": "[encoded data removed]"
     },
     "metadata": {},
     "output_type": "display_data"
    },
    {
     "data": {
      "text/html": [
       "36h11 - 1080"
      ],
      "text/plain": [
       "<IPython.core.display.HTML object>"
      ]
     },
     "metadata": {},
     "output_type": "display_data"
    },
    {
     "data": {
      "text/html": [
       "<div>\n",
       "<style scoped>\n",
       "    .dataframe tbody tr th:only-of-type {\n",
       "        vertical-align: middle;\n",
       "    }\n",
       "\n",
       "    .dataframe tbody tr th {\n",
       "        vertical-align: top;\n",
       "    }\n",
       "\n",
       "    .dataframe thead th {\n",
       "        text-align: right;\n",
       "    }\n",
       "</style>\n",
       "<table border=\"1\" class=\"dataframe\">\n",
       "  <thead>\n",
       "    <tr style=\"text-align: right;\">\n",
       "      <th></th>\n",
       "      <th>count</th>\n",
       "      <th>mean</th>\n",
       "      <th>std</th>\n",
       "      <th>min</th>\n",
       "      <th>25%</th>\n",
       "      <th>50%</th>\n",
       "      <th>75%</th>\n",
       "      <th>max</th>\n",
       "    </tr>\n",
       "    <tr>\n",
       "      <th>true_distance</th>\n",
       "      <th></th>\n",
       "      <th></th>\n",
       "      <th></th>\n",
       "      <th></th>\n",
       "      <th></th>\n",
       "      <th></th>\n",
       "      <th></th>\n",
       "      <th></th>\n",
       "    </tr>\n",
       "  </thead>\n",
       "  <tbody>\n",
       "    <tr>\n",
       "      <th>2</th>\n",
       "      <td>20.0</td>\n",
       "      <td>-0.029198</td>\n",
       "      <td>0.002703</td>\n",
       "      <td>-0.038909</td>\n",
       "      <td>-0.029888</td>\n",
       "      <td>-0.029018</td>\n",
       "      <td>-0.027931</td>\n",
       "      <td>-0.025818</td>\n",
       "    </tr>\n",
       "    <tr>\n",
       "      <th>4</th>\n",
       "      <td>24.0</td>\n",
       "      <td>-0.003390</td>\n",
       "      <td>0.012833</td>\n",
       "      <td>-0.055768</td>\n",
       "      <td>-0.007372</td>\n",
       "      <td>-0.001218</td>\n",
       "      <td>0.003898</td>\n",
       "      <td>0.012301</td>\n",
       "    </tr>\n",
       "    <tr>\n",
       "      <th>6</th>\n",
       "      <td>18.0</td>\n",
       "      <td>-0.030017</td>\n",
       "      <td>0.008542</td>\n",
       "      <td>-0.043797</td>\n",
       "      <td>-0.036312</td>\n",
       "      <td>-0.028639</td>\n",
       "      <td>-0.025507</td>\n",
       "      <td>-0.013583</td>\n",
       "    </tr>\n",
       "    <tr>\n",
       "      <th>8</th>\n",
       "      <td>26.0</td>\n",
       "      <td>0.000238</td>\n",
       "      <td>0.041557</td>\n",
       "      <td>-0.109079</td>\n",
       "      <td>-0.010343</td>\n",
       "      <td>0.007116</td>\n",
       "      <td>0.031559</td>\n",
       "      <td>0.055637</td>\n",
       "    </tr>\n",
       "    <tr>\n",
       "      <th>10</th>\n",
       "      <td>17.0</td>\n",
       "      <td>-0.029684</td>\n",
       "      <td>0.028080</td>\n",
       "      <td>-0.077808</td>\n",
       "      <td>-0.043651</td>\n",
       "      <td>-0.034359</td>\n",
       "      <td>-0.009903</td>\n",
       "      <td>0.025391</td>\n",
       "    </tr>\n",
       "  </tbody>\n",
       "</table>\n",
       "</div>"
      ],
      "text/plain": [
       "<IPython.core.display.HTML object>"
      ]
     },
     "metadata": {},
     "output_type": "display_data"
    },
    {
     "data": {
      "image/png": "[encoded data removed]"
     },
     "metadata": {},
     "output_type": "display_data"
    },
    {
     "data": {
      "text/html": [
       "25h9 - 1080"
      ],
      "text/plain": [
       "<IPython.core.display.HTML object>"
      ]
     },
     "metadata": {},
     "output_type": "display_data"
    },
    {
     "data": {
      "text/html": [
       "<div>\n",
       "<style scoped>\n",
       "    .dataframe tbody tr th:only-of-type {\n",
       "        vertical-align: middle;\n",
       "    }\n",
       "\n",
       "    .dataframe tbody tr th {\n",
       "        vertical-align: top;\n",
       "    }\n",
       "\n",
       "    .dataframe thead th {\n",
       "        text-align: right;\n",
       "    }\n",
       "</style>\n",
       "<table border=\"1\" class=\"dataframe\">\n",
       "  <thead>\n",
       "    <tr style=\"text-align: right;\">\n",
       "      <th></th>\n",
       "      <th>count</th>\n",
       "      <th>mean</th>\n",
       "      <th>std</th>\n",
       "      <th>min</th>\n",
       "      <th>25%</th>\n",
       "      <th>50%</th>\n",
       "      <th>75%</th>\n",
       "      <th>max</th>\n",
       "    </tr>\n",
       "    <tr>\n",
       "      <th>true_distance</th>\n",
       "      <th></th>\n",
       "      <th></th>\n",
       "      <th></th>\n",
       "      <th></th>\n",
       "      <th></th>\n",
       "      <th></th>\n",
       "      <th></th>\n",
       "      <th></th>\n",
       "    </tr>\n",
       "  </thead>\n",
       "  <tbody>\n",
       "    <tr>\n",
       "      <th>2</th>\n",
       "      <td>23.0</td>\n",
       "      <td>0.007065</td>\n",
       "      <td>0.003327</td>\n",
       "      <td>-0.001271</td>\n",
       "      <td>0.005578</td>\n",
       "      <td>0.007301</td>\n",
       "      <td>0.009167</td>\n",
       "      <td>0.012242</td>\n",
       "    </tr>\n",
       "    <tr>\n",
       "      <th>4</th>\n",
       "      <td>20.0</td>\n",
       "      <td>0.036259</td>\n",
       "      <td>0.015831</td>\n",
       "      <td>-0.022169</td>\n",
       "      <td>0.034574</td>\n",
       "      <td>0.040827</td>\n",
       "      <td>0.043960</td>\n",
       "      <td>0.049616</td>\n",
       "    </tr>\n",
       "    <tr>\n",
       "      <th>6</th>\n",
       "      <td>29.0</td>\n",
       "      <td>0.052886</td>\n",
       "      <td>0.013390</td>\n",
       "      <td>-0.005608</td>\n",
       "      <td>0.050444</td>\n",
       "      <td>0.056175</td>\n",
       "      <td>0.059276</td>\n",
       "      <td>0.064769</td>\n",
       "    </tr>\n",
       "    <tr>\n",
       "      <th>8</th>\n",
       "      <td>22.0</td>\n",
       "      <td>0.012147</td>\n",
       "      <td>0.029429</td>\n",
       "      <td>-0.107470</td>\n",
       "      <td>0.007480</td>\n",
       "      <td>0.016651</td>\n",
       "      <td>0.023960</td>\n",
       "      <td>0.043766</td>\n",
       "    </tr>\n",
       "    <tr>\n",
       "      <th>10</th>\n",
       "      <td>30.0</td>\n",
       "      <td>0.044781</td>\n",
       "      <td>0.060361</td>\n",
       "      <td>-0.114698</td>\n",
       "      <td>0.031793</td>\n",
       "      <td>0.056459</td>\n",
       "      <td>0.074693</td>\n",
       "      <td>0.207943</td>\n",
       "    </tr>\n",
       "  </tbody>\n",
       "</table>\n",
       "</div>"
      ],
      "text/plain": [
       "<IPython.core.display.HTML object>"
      ]
     },
     "metadata": {},
     "output_type": "display_data"
    },
    {
     "data": {
      "image/png": "[encoded data removed]"
     },
     "metadata": {},
     "output_type": "display_data"
    },
    {
     "data": {
      "text/html": [
       "25h9 - 720"
      ],
      "text/plain": [
       "<IPython.core.display.HTML object>"
      ]
     },
     "metadata": {},
     "output_type": "display_data"
    },
    {
     "data": {
      "text/html": [
       "<div>\n",
       "<style scoped>\n",
       "    .dataframe tbody tr th:only-of-type {\n",
       "        vertical-align: middle;\n",
       "    }\n",
       "\n",
       "    .dataframe tbody tr th {\n",
       "        vertical-align: top;\n",
       "    }\n",
       "\n",
       "    .dataframe thead th {\n",
       "        text-align: right;\n",
       "    }\n",
       "</style>\n",
       "<table border=\"1\" class=\"dataframe\">\n",
       "  <thead>\n",
       "    <tr style=\"text-align: right;\">\n",
       "      <th></th>\n",
       "      <th>count</th>\n",
       "      <th>mean</th>\n",
       "      <th>std</th>\n",
       "      <th>min</th>\n",
       "      <th>25%</th>\n",
       "      <th>50%</th>\n",
       "      <th>75%</th>\n",
       "      <th>max</th>\n",
       "    </tr>\n",
       "    <tr>\n",
       "      <th>true_distance</th>\n",
       "      <th></th>\n",
       "      <th></th>\n",
       "      <th></th>\n",
       "      <th></th>\n",
       "      <th></th>\n",
       "      <th></th>\n",
       "      <th></th>\n",
       "      <th></th>\n",
       "    </tr>\n",
       "  </thead>\n",
       "  <tbody>\n",
       "    <tr>\n",
       "      <th>2</th>\n",
       "      <td>48.0</td>\n",
       "      <td>0.009053</td>\n",
       "      <td>0.003349</td>\n",
       "      <td>-0.005255</td>\n",
       "      <td>0.007929</td>\n",
       "      <td>0.008539</td>\n",
       "      <td>0.010025</td>\n",
       "      <td>0.015483</td>\n",
       "    </tr>\n",
       "    <tr>\n",
       "      <th>4</th>\n",
       "      <td>52.0</td>\n",
       "      <td>0.027407</td>\n",
       "      <td>0.011466</td>\n",
       "      <td>-0.011467</td>\n",
       "      <td>0.022708</td>\n",
       "      <td>0.030162</td>\n",
       "      <td>0.036435</td>\n",
       "      <td>0.048881</td>\n",
       "    </tr>\n",
       "    <tr>\n",
       "      <th>6</th>\n",
       "      <td>56.0</td>\n",
       "      <td>0.061099</td>\n",
       "      <td>0.018768</td>\n",
       "      <td>-0.012514</td>\n",
       "      <td>0.054233</td>\n",
       "      <td>0.066275</td>\n",
       "      <td>0.072211</td>\n",
       "      <td>0.083732</td>\n",
       "    </tr>\n",
       "    <tr>\n",
       "      <th>8</th>\n",
       "      <td>62.0</td>\n",
       "      <td>0.102019</td>\n",
       "      <td>0.025637</td>\n",
       "      <td>-0.029328</td>\n",
       "      <td>0.097607</td>\n",
       "      <td>0.103683</td>\n",
       "      <td>0.111896</td>\n",
       "      <td>0.178022</td>\n",
       "    </tr>\n",
       "    <tr>\n",
       "      <th>10</th>\n",
       "      <td>50.0</td>\n",
       "      <td>0.395284</td>\n",
       "      <td>0.096413</td>\n",
       "      <td>0.258516</td>\n",
       "      <td>0.338438</td>\n",
       "      <td>0.403032</td>\n",
       "      <td>0.434327</td>\n",
       "      <td>0.828440</td>\n",
       "    </tr>\n",
       "  </tbody>\n",
       "</table>\n",
       "</div>"
      ],
      "text/plain": [
       "<IPython.core.display.HTML object>"
      ]
     },
     "metadata": {},
     "output_type": "display_data"
    },
    {
     "data": {
      "image/png": "[encoded data removed]"
     },
     "metadata": {},
     "output_type": "display_data"
    },
    {
     "data": {
      "text/html": [
       "21h7 - 1080"
      ],
      "text/plain": [
       "<IPython.core.display.HTML object>"
      ]
     },
     "metadata": {},
     "output_type": "display_data"
    },
    {
     "data": {
      "text/html": [
       "<div>\n",
       "<style scoped>\n",
       "    .dataframe tbody tr th:only-of-type {\n",
       "        vertical-align: middle;\n",
       "    }\n",
       "\n",
       "    .dataframe tbody tr th {\n",
       "        vertical-align: top;\n",
       "    }\n",
       "\n",
       "    .dataframe thead th {\n",
       "        text-align: right;\n",
       "    }\n",
       "</style>\n",
       "<table border=\"1\" class=\"dataframe\">\n",
       "  <thead>\n",
       "    <tr style=\"text-align: right;\">\n",
       "      <th></th>\n",
       "      <th>count</th>\n",
       "      <th>mean</th>\n",
       "      <th>std</th>\n",
       "      <th>min</th>\n",
       "      <th>25%</th>\n",
       "      <th>50%</th>\n",
       "      <th>75%</th>\n",
       "      <th>max</th>\n",
       "    </tr>\n",
       "    <tr>\n",
       "      <th>true_distance</th>\n",
       "      <th></th>\n",
       "      <th></th>\n",
       "      <th></th>\n",
       "      <th></th>\n",
       "      <th></th>\n",
       "      <th></th>\n",
       "      <th></th>\n",
       "      <th></th>\n",
       "    </tr>\n",
       "  </thead>\n",
       "  <tbody>\n",
       "    <tr>\n",
       "      <th>2</th>\n",
       "      <td>13.0</td>\n",
       "      <td>-0.016994</td>\n",
       "      <td>0.004871</td>\n",
       "      <td>-0.024129</td>\n",
       "      <td>-0.020705</td>\n",
       "      <td>-0.016437</td>\n",
       "      <td>-0.013371</td>\n",
       "      <td>-0.009825</td>\n",
       "    </tr>\n",
       "    <tr>\n",
       "      <th>4</th>\n",
       "      <td>13.0</td>\n",
       "      <td>0.044043</td>\n",
       "      <td>0.020893</td>\n",
       "      <td>-0.019158</td>\n",
       "      <td>0.041415</td>\n",
       "      <td>0.045693</td>\n",
       "      <td>0.049664</td>\n",
       "      <td>0.065660</td>\n",
       "    </tr>\n",
       "    <tr>\n",
       "      <th>6</th>\n",
       "      <td>13.0</td>\n",
       "      <td>0.140650</td>\n",
       "      <td>0.023220</td>\n",
       "      <td>0.078770</td>\n",
       "      <td>0.138046</td>\n",
       "      <td>0.149318</td>\n",
       "      <td>0.151396</td>\n",
       "      <td>0.170395</td>\n",
       "    </tr>\n",
       "    <tr>\n",
       "      <th>8</th>\n",
       "      <td>13.0</td>\n",
       "      <td>0.178937</td>\n",
       "      <td>0.015730</td>\n",
       "      <td>0.154483</td>\n",
       "      <td>0.171295</td>\n",
       "      <td>0.175511</td>\n",
       "      <td>0.190062</td>\n",
       "      <td>0.202324</td>\n",
       "    </tr>\n",
       "  </tbody>\n",
       "</table>\n",
       "</div>"
      ],
      "text/plain": [
       "<IPython.core.display.HTML object>"
      ]
     },
     "metadata": {},
     "output_type": "display_data"
    },
    {
     "data": {
      "image/png": "[encoded data removed]"
     },
     "metadata": {},
     "output_type": "display_data"
    },
    {
     "data": {
      "text/html": [
       "16h5 - 360"
      ],
      "text/plain": [
       "<IPython.core.display.HTML object>"
      ]
     },
     "metadata": {},
     "output_type": "display_data"
    },
    {
     "data": {
      "text/html": [
       "<div>\n",
       "<style scoped>\n",
       "    .dataframe tbody tr th:only-of-type {\n",
       "        vertical-align: middle;\n",
       "    }\n",
       "\n",
       "    .dataframe tbody tr th {\n",
       "        vertical-align: top;\n",
       "    }\n",
       "\n",
       "    .dataframe thead th {\n",
       "        text-align: right;\n",
       "    }\n",
       "</style>\n",
       "<table border=\"1\" class=\"dataframe\">\n",
       "  <thead>\n",
       "    <tr style=\"text-align: right;\">\n",
       "      <th></th>\n",
       "      <th>count</th>\n",
       "      <th>mean</th>\n",
       "      <th>std</th>\n",
       "      <th>min</th>\n",
       "      <th>25%</th>\n",
       "      <th>50%</th>\n",
       "      <th>75%</th>\n",
       "      <th>max</th>\n",
       "    </tr>\n",
       "    <tr>\n",
       "      <th>true_distance</th>\n",
       "      <th></th>\n",
       "      <th></th>\n",
       "      <th></th>\n",
       "      <th></th>\n",
       "      <th></th>\n",
       "      <th></th>\n",
       "      <th></th>\n",
       "      <th></th>\n",
       "    </tr>\n",
       "  </thead>\n",
       "  <tbody>\n",
       "    <tr>\n",
       "      <th>2</th>\n",
       "      <td>51.0</td>\n",
       "      <td>0.040005</td>\n",
       "      <td>0.076103</td>\n",
       "      <td>-0.245879</td>\n",
       "      <td>0.031625</td>\n",
       "      <td>0.036718</td>\n",
       "      <td>0.042041</td>\n",
       "      <td>0.493690</td>\n",
       "    </tr>\n",
       "    <tr>\n",
       "      <th>4</th>\n",
       "      <td>39.0</td>\n",
       "      <td>0.097740</td>\n",
       "      <td>0.004067</td>\n",
       "      <td>0.088555</td>\n",
       "      <td>0.095510</td>\n",
       "      <td>0.097099</td>\n",
       "      <td>0.100336</td>\n",
       "      <td>0.109571</td>\n",
       "    </tr>\n",
       "    <tr>\n",
       "      <th>6</th>\n",
       "      <td>22.0</td>\n",
       "      <td>0.128853</td>\n",
       "      <td>0.187157</td>\n",
       "      <td>-0.340216</td>\n",
       "      <td>0.153553</td>\n",
       "      <td>0.205187</td>\n",
       "      <td>0.228636</td>\n",
       "      <td>0.239916</td>\n",
       "    </tr>\n",
       "  </tbody>\n",
       "</table>\n",
       "</div>"
      ],
      "text/plain": [
       "<IPython.core.display.HTML object>"
      ]
     },
     "metadata": {},
     "output_type": "display_data"
    },
    {
     "data": {
      "image/png": "[encoded data removed]"
     },
     "metadata": {},
     "output_type": "display_data"
    },
    {
     "data": {
      "text/html": [
       "21h7 - 720"
      ],
      "text/plain": [
       "<IPython.core.display.HTML object>"
      ]
     },
     "metadata": {},
     "output_type": "display_data"
    },
    {
     "data": {
      "text/html": [
       "<div>\n",
       "<style scoped>\n",
       "    .dataframe tbody tr th:only-of-type {\n",
       "        vertical-align: middle;\n",
       "    }\n",
       "\n",
       "    .dataframe tbody tr th {\n",
       "        vertical-align: top;\n",
       "    }\n",
       "\n",
       "    .dataframe thead th {\n",
       "        text-align: right;\n",
       "    }\n",
       "</style>\n",
       "<table border=\"1\" class=\"dataframe\">\n",
       "  <thead>\n",
       "    <tr style=\"text-align: right;\">\n",
       "      <th></th>\n",
       "      <th>count</th>\n",
       "      <th>mean</th>\n",
       "      <th>std</th>\n",
       "      <th>min</th>\n",
       "      <th>25%</th>\n",
       "      <th>50%</th>\n",
       "      <th>75%</th>\n",
       "      <th>max</th>\n",
       "    </tr>\n",
       "    <tr>\n",
       "      <th>true_distance</th>\n",
       "      <th></th>\n",
       "      <th></th>\n",
       "      <th></th>\n",
       "      <th></th>\n",
       "      <th></th>\n",
       "      <th></th>\n",
       "      <th></th>\n",
       "      <th></th>\n",
       "    </tr>\n",
       "  </thead>\n",
       "  <tbody>\n",
       "    <tr>\n",
       "      <th>2</th>\n",
       "      <td>45.0</td>\n",
       "      <td>-0.018691</td>\n",
       "      <td>0.012520</td>\n",
       "      <td>-0.081701</td>\n",
       "      <td>-0.022370</td>\n",
       "      <td>-0.018639</td>\n",
       "      <td>-0.009811</td>\n",
       "      <td>-0.001698</td>\n",
       "    </tr>\n",
       "    <tr>\n",
       "      <th>4</th>\n",
       "      <td>36.0</td>\n",
       "      <td>0.040371</td>\n",
       "      <td>0.013710</td>\n",
       "      <td>0.005197</td>\n",
       "      <td>0.030273</td>\n",
       "      <td>0.042195</td>\n",
       "      <td>0.049225</td>\n",
       "      <td>0.060473</td>\n",
       "    </tr>\n",
       "    <tr>\n",
       "      <th>6</th>\n",
       "      <td>27.0</td>\n",
       "      <td>0.076480</td>\n",
       "      <td>0.033061</td>\n",
       "      <td>0.017693</td>\n",
       "      <td>0.046142</td>\n",
       "      <td>0.082153</td>\n",
       "      <td>0.094699</td>\n",
       "      <td>0.132661</td>\n",
       "    </tr>\n",
       "    <tr>\n",
       "      <th>8</th>\n",
       "      <td>23.0</td>\n",
       "      <td>-0.138974</td>\n",
       "      <td>0.014435</td>\n",
       "      <td>-0.174847</td>\n",
       "      <td>-0.140900</td>\n",
       "      <td>-0.138003</td>\n",
       "      <td>-0.132735</td>\n",
       "      <td>-0.110978</td>\n",
       "    </tr>\n",
       "  </tbody>\n",
       "</table>\n",
       "</div>"
      ],
      "text/plain": [
       "<IPython.core.display.HTML object>"
      ]
     },
     "metadata": {},
     "output_type": "display_data"
    },
    {
     "data": {
      "image/png": "[encoded data removed]"
     },
     "metadata": {},
     "output_type": "display_data"
    },
    {
     "data": {
      "text/html": [
       "25h9 - 360"
      ],
      "text/plain": [
       "<IPython.core.display.HTML object>"
      ]
     },
     "metadata": {},
     "output_type": "display_data"
    },
    {
     "data": {
      "text/html": [
       "<div>\n",
       "<style scoped>\n",
       "    .dataframe tbody tr th:only-of-type {\n",
       "        vertical-align: middle;\n",
       "    }\n",
       "\n",
       "    .dataframe tbody tr th {\n",
       "        vertical-align: top;\n",
       "    }\n",
       "\n",
       "    .dataframe thead th {\n",
       "        text-align: right;\n",
       "    }\n",
       "</style>\n",
       "<table border=\"1\" class=\"dataframe\">\n",
       "  <thead>\n",
       "    <tr style=\"text-align: right;\">\n",
       "      <th></th>\n",
       "      <th>count</th>\n",
       "      <th>mean</th>\n",
       "      <th>std</th>\n",
       "      <th>min</th>\n",
       "      <th>25%</th>\n",
       "      <th>50%</th>\n",
       "      <th>75%</th>\n",
       "      <th>max</th>\n",
       "    </tr>\n",
       "    <tr>\n",
       "      <th>true_distance</th>\n",
       "      <th></th>\n",
       "      <th></th>\n",
       "      <th></th>\n",
       "      <th></th>\n",
       "      <th></th>\n",
       "      <th></th>\n",
       "      <th></th>\n",
       "      <th></th>\n",
       "    </tr>\n",
       "  </thead>\n",
       "  <tbody>\n",
       "    <tr>\n",
       "      <th>2</th>\n",
       "      <td>110.0</td>\n",
       "      <td>0.028930</td>\n",
       "      <td>0.005381</td>\n",
       "      <td>-0.008212</td>\n",
       "      <td>0.027174</td>\n",
       "      <td>0.030445</td>\n",
       "      <td>0.032011</td>\n",
       "      <td>0.035209</td>\n",
       "    </tr>\n",
       "    <tr>\n",
       "      <th>4</th>\n",
       "      <td>122.0</td>\n",
       "      <td>0.100684</td>\n",
       "      <td>0.021783</td>\n",
       "      <td>0.002069</td>\n",
       "      <td>0.096158</td>\n",
       "      <td>0.101553</td>\n",
       "      <td>0.105245</td>\n",
       "      <td>0.234377</td>\n",
       "    </tr>\n",
       "    <tr>\n",
       "      <th>6</th>\n",
       "      <td>13.0</td>\n",
       "      <td>0.476063</td>\n",
       "      <td>0.378139</td>\n",
       "      <td>-0.345334</td>\n",
       "      <td>0.322262</td>\n",
       "      <td>0.336205</td>\n",
       "      <td>0.770572</td>\n",
       "      <td>1.087673</td>\n",
       "    </tr>\n",
       "  </tbody>\n",
       "</table>\n",
       "</div>"
      ],
      "text/plain": [
       "<IPython.core.display.HTML object>"
      ]
     },
     "metadata": {},
     "output_type": "display_data"
    },
    {
     "data": {
      "image/png": "[encoded data removed]"
     },
     "metadata": {},
     "output_type": "display_data"
    },
    {
     "data": {
      "text/html": [
       "16h5 - 1080"
      ],
      "text/plain": [
       "<IPython.core.display.HTML object>"
      ]
     },
     "metadata": {},
     "output_type": "display_data"
    },
    {
     "data": {
      "text/html": [
       "<div>\n",
       "<style scoped>\n",
       "    .dataframe tbody tr th:only-of-type {\n",
       "        vertical-align: middle;\n",
       "    }\n",
       "\n",
       "    .dataframe tbody tr th {\n",
       "        vertical-align: top;\n",
       "    }\n",
       "\n",
       "    .dataframe thead th {\n",
       "        text-align: right;\n",
       "    }\n",
       "</style>\n",
       "<table border=\"1\" class=\"dataframe\">\n",
       "  <thead>\n",
       "    <tr style=\"text-align: right;\">\n",
       "      <th></th>\n",
       "      <th>count</th>\n",
       "      <th>mean</th>\n",
       "      <th>std</th>\n",
       "      <th>min</th>\n",
       "      <th>25%</th>\n",
       "      <th>50%</th>\n",
       "      <th>75%</th>\n",
       "      <th>max</th>\n",
       "    </tr>\n",
       "    <tr>\n",
       "      <th>true_distance</th>\n",
       "      <th></th>\n",
       "      <th></th>\n",
       "      <th></th>\n",
       "      <th></th>\n",
       "      <th></th>\n",
       "      <th></th>\n",
       "      <th></th>\n",
       "      <th></th>\n",
       "    </tr>\n",
       "  </thead>\n",
       "  <tbody>\n",
       "    <tr>\n",
       "      <th>2</th>\n",
       "      <td>10.0</td>\n",
       "      <td>0.018482</td>\n",
       "      <td>0.006795</td>\n",
       "      <td>0.001804</td>\n",
       "      <td>0.017101</td>\n",
       "      <td>0.018966</td>\n",
       "      <td>0.022728</td>\n",
       "      <td>0.026413</td>\n",
       "    </tr>\n",
       "    <tr>\n",
       "      <th>4</th>\n",
       "      <td>9.0</td>\n",
       "      <td>0.014800</td>\n",
       "      <td>0.016819</td>\n",
       "      <td>-0.028274</td>\n",
       "      <td>0.014448</td>\n",
       "      <td>0.019266</td>\n",
       "      <td>0.024205</td>\n",
       "      <td>0.026532</td>\n",
       "    </tr>\n",
       "    <tr>\n",
       "      <th>6</th>\n",
       "      <td>11.0</td>\n",
       "      <td>0.014206</td>\n",
       "      <td>0.051124</td>\n",
       "      <td>-0.137686</td>\n",
       "      <td>0.018869</td>\n",
       "      <td>0.030659</td>\n",
       "      <td>0.036495</td>\n",
       "      <td>0.039635</td>\n",
       "    </tr>\n",
       "    <tr>\n",
       "      <th>8</th>\n",
       "      <td>10.0</td>\n",
       "      <td>-0.037437</td>\n",
       "      <td>0.041110</td>\n",
       "      <td>-0.132538</td>\n",
       "      <td>-0.048378</td>\n",
       "      <td>-0.027927</td>\n",
       "      <td>-0.013138</td>\n",
       "      <td>0.007906</td>\n",
       "    </tr>\n",
       "    <tr>\n",
       "      <th>10</th>\n",
       "      <td>11.0</td>\n",
       "      <td>-0.042777</td>\n",
       "      <td>0.077333</td>\n",
       "      <td>-0.215556</td>\n",
       "      <td>-0.048999</td>\n",
       "      <td>-0.021582</td>\n",
       "      <td>-0.001750</td>\n",
       "      <td>0.037389</td>\n",
       "    </tr>\n",
       "  </tbody>\n",
       "</table>\n",
       "</div>"
      ],
      "text/plain": [
       "<IPython.core.display.HTML object>"
      ]
     },
     "metadata": {},
     "output_type": "display_data"
    },
    {
     "data": {
      "image/png": "[encoded data removed]"
     },
     "metadata": {},
     "output_type": "display_data"
    },
    {
     "data": {
      "text/html": [
       "36h11 - 360"
      ],
      "text/plain": [
       "<IPython.core.display.HTML object>"
      ]
     },
     "metadata": {},
     "output_type": "display_data"
    },
    {
     "data": {
      "text/html": [
       "<div>\n",
       "<style scoped>\n",
       "    .dataframe tbody tr th:only-of-type {\n",
       "        vertical-align: middle;\n",
       "    }\n",
       "\n",
       "    .dataframe tbody tr th {\n",
       "        vertical-align: top;\n",
       "    }\n",
       "\n",
       "    .dataframe thead th {\n",
       "        text-align: right;\n",
       "    }\n",
       "</style>\n",
       "<table border=\"1\" class=\"dataframe\">\n",
       "  <thead>\n",
       "    <tr style=\"text-align: right;\">\n",
       "      <th></th>\n",
       "      <th>count</th>\n",
       "      <th>mean</th>\n",
       "      <th>std</th>\n",
       "      <th>min</th>\n",
       "      <th>25%</th>\n",
       "      <th>50%</th>\n",
       "      <th>75%</th>\n",
       "      <th>max</th>\n",
       "    </tr>\n",
       "    <tr>\n",
       "      <th>true_distance</th>\n",
       "      <th></th>\n",
       "      <th></th>\n",
       "      <th></th>\n",
       "      <th></th>\n",
       "      <th></th>\n",
       "      <th></th>\n",
       "      <th></th>\n",
       "      <th></th>\n",
       "    </tr>\n",
       "  </thead>\n",
       "  <tbody>\n",
       "    <tr>\n",
       "      <th>2</th>\n",
       "      <td>120.0</td>\n",
       "      <td>-0.010171</td>\n",
       "      <td>0.006606</td>\n",
       "      <td>-0.037785</td>\n",
       "      <td>-0.009077</td>\n",
       "      <td>-0.008408</td>\n",
       "      <td>-0.007435</td>\n",
       "      <td>-0.000669</td>\n",
       "    </tr>\n",
       "    <tr>\n",
       "      <th>4</th>\n",
       "      <td>94.0</td>\n",
       "      <td>0.105263</td>\n",
       "      <td>0.015122</td>\n",
       "      <td>0.074382</td>\n",
       "      <td>0.095195</td>\n",
       "      <td>0.112084</td>\n",
       "      <td>0.116429</td>\n",
       "      <td>0.124270</td>\n",
       "    </tr>\n",
       "    <tr>\n",
       "      <th>6</th>\n",
       "      <td>2.0</td>\n",
       "      <td>0.475309</td>\n",
       "      <td>0.000965</td>\n",
       "      <td>0.474626</td>\n",
       "      <td>0.474967</td>\n",
       "      <td>0.475309</td>\n",
       "      <td>0.475650</td>\n",
       "      <td>0.475991</td>\n",
       "    </tr>\n",
       "  </tbody>\n",
       "</table>\n",
       "</div>"
      ],
      "text/plain": [
       "<IPython.core.display.HTML object>"
      ]
     },
     "metadata": {},
     "output_type": "display_data"
    },
    {
     "data": {
      "image/png": "[encoded data removed]"
     },
     "metadata": {},
     "output_type": "display_data"
    },
    {
     "data": {
      "text/html": [
       "36h11 - 720"
      ],
      "text/plain": [
       "<IPython.core.display.HTML object>"
      ]
     },
     "metadata": {},
     "output_type": "display_data"
    },
    {
     "data": {
      "text/html": [
       "<div>\n",
       "<style scoped>\n",
       "    .dataframe tbody tr th:only-of-type {\n",
       "        vertical-align: middle;\n",
       "    }\n",
       "\n",
       "    .dataframe tbody tr th {\n",
       "        vertical-align: top;\n",
       "    }\n",
       "\n",
       "    .dataframe thead th {\n",
       "        text-align: right;\n",
       "    }\n",
       "</style>\n",
       "<table border=\"1\" class=\"dataframe\">\n",
       "  <thead>\n",
       "    <tr style=\"text-align: right;\">\n",
       "      <th></th>\n",
       "      <th>count</th>\n",
       "      <th>mean</th>\n",
       "      <th>std</th>\n",
       "      <th>min</th>\n",
       "      <th>25%</th>\n",
       "      <th>50%</th>\n",
       "      <th>75%</th>\n",
       "      <th>max</th>\n",
       "    </tr>\n",
       "    <tr>\n",
       "      <th>true_distance</th>\n",
       "      <th></th>\n",
       "      <th></th>\n",
       "      <th></th>\n",
       "      <th></th>\n",
       "      <th></th>\n",
       "      <th></th>\n",
       "      <th></th>\n",
       "      <th></th>\n",
       "    </tr>\n",
       "  </thead>\n",
       "  <tbody>\n",
       "    <tr>\n",
       "      <th>2</th>\n",
       "      <td>38.0</td>\n",
       "      <td>-0.029438</td>\n",
       "      <td>0.003004</td>\n",
       "      <td>-0.040831</td>\n",
       "      <td>-0.030924</td>\n",
       "      <td>-0.029602</td>\n",
       "      <td>-0.027807</td>\n",
       "      <td>-0.023385</td>\n",
       "    </tr>\n",
       "    <tr>\n",
       "      <th>4</th>\n",
       "      <td>66.0</td>\n",
       "      <td>-0.001240</td>\n",
       "      <td>0.020251</td>\n",
       "      <td>-0.147893</td>\n",
       "      <td>-0.003979</td>\n",
       "      <td>0.004289</td>\n",
       "      <td>0.006256</td>\n",
       "      <td>0.019563</td>\n",
       "    </tr>\n",
       "    <tr>\n",
       "      <th>6</th>\n",
       "      <td>50.0</td>\n",
       "      <td>0.057202</td>\n",
       "      <td>0.019387</td>\n",
       "      <td>0.011187</td>\n",
       "      <td>0.050325</td>\n",
       "      <td>0.060501</td>\n",
       "      <td>0.068222</td>\n",
       "      <td>0.105156</td>\n",
       "    </tr>\n",
       "    <tr>\n",
       "      <th>8</th>\n",
       "      <td>70.0</td>\n",
       "      <td>0.136781</td>\n",
       "      <td>0.072503</td>\n",
       "      <td>-0.133978</td>\n",
       "      <td>0.120218</td>\n",
       "      <td>0.161476</td>\n",
       "      <td>0.180135</td>\n",
       "      <td>0.217045</td>\n",
       "    </tr>\n",
       "    <tr>\n",
       "      <th>10</th>\n",
       "      <td>27.0</td>\n",
       "      <td>0.146839</td>\n",
       "      <td>0.137689</td>\n",
       "      <td>-0.241821</td>\n",
       "      <td>0.157788</td>\n",
       "      <td>0.184064</td>\n",
       "      <td>0.218061</td>\n",
       "      <td>0.272151</td>\n",
       "    </tr>\n",
       "  </tbody>\n",
       "</table>\n",
       "</div>"
      ],
      "text/plain": [
       "<IPython.core.display.HTML object>"
      ]
     },
     "metadata": {},
     "output_type": "display_data"
    },
    {
     "data": {
      "image/png": "[encoded data removed]"
     },
     "metadata": {},
     "output_type": "display_data"
    },
    {
     "data": {
      "text/html": [
       "21h7 - 360"
      ],
      "text/plain": [
       "<IPython.core.display.HTML object>"
      ]
     },
     "metadata": {},
     "output_type": "display_data"
    },
    {
     "data": {
      "text/html": [
       "<div>\n",
       "<style scoped>\n",
       "    .dataframe tbody tr th:only-of-type {\n",
       "        vertical-align: middle;\n",
       "    }\n",
       "\n",
       "    .dataframe tbody tr th {\n",
       "        vertical-align: top;\n",
       "    }\n",
       "\n",
       "    .dataframe thead th {\n",
       "        text-align: right;\n",
       "    }\n",
       "</style>\n",
       "<table border=\"1\" class=\"dataframe\">\n",
       "  <thead>\n",
       "    <tr style=\"text-align: right;\">\n",
       "      <th></th>\n",
       "      <th>count</th>\n",
       "      <th>mean</th>\n",
       "      <th>std</th>\n",
       "      <th>min</th>\n",
       "      <th>25%</th>\n",
       "      <th>50%</th>\n",
       "      <th>75%</th>\n",
       "      <th>max</th>\n",
       "    </tr>\n",
       "    <tr>\n",
       "      <th>true_distance</th>\n",
       "      <th></th>\n",
       "      <th></th>\n",
       "      <th></th>\n",
       "      <th></th>\n",
       "      <th></th>\n",
       "      <th></th>\n",
       "      <th></th>\n",
       "      <th></th>\n",
       "    </tr>\n",
       "  </thead>\n",
       "  <tbody>\n",
       "    <tr>\n",
       "      <th>2</th>\n",
       "      <td>119.0</td>\n",
       "      <td>-0.004140</td>\n",
       "      <td>0.011002</td>\n",
       "      <td>-0.072874</td>\n",
       "      <td>-0.011883</td>\n",
       "      <td>-0.002056</td>\n",
       "      <td>0.004159</td>\n",
       "      <td>0.016807</td>\n",
       "    </tr>\n",
       "    <tr>\n",
       "      <th>4</th>\n",
       "      <td>72.0</td>\n",
       "      <td>0.036113</td>\n",
       "      <td>0.012746</td>\n",
       "      <td>0.009640</td>\n",
       "      <td>0.028774</td>\n",
       "      <td>0.037486</td>\n",
       "      <td>0.043069</td>\n",
       "      <td>0.071031</td>\n",
       "    </tr>\n",
       "  </tbody>\n",
       "</table>\n",
       "</div>"
      ],
      "text/plain": [
       "<IPython.core.display.HTML object>"
      ]
     },
     "metadata": {},
     "output_type": "display_data"
    },
    {
     "data": {
      "image/png": "[encoded data removed]"
     },
     "metadata": {},
     "output_type": "display_data"
    }
   ],
   "source": [
    "notebooks = 'translations'\n",
    "\n",
    "display_category(notebook_paths, notebooks)"
   ]
  },
  {
   "cell_type": "code",
   "execution_count": 3,
   "metadata": {},
   "outputs": [
    {
     "data": {
      "text/html": [
       "21h7 - 5m - 720"
      ],
      "text/plain": [
       "<IPython.core.display.HTML object>"
      ]
     },
     "metadata": {},
     "output_type": "display_data"
    },
    {
     "data": {
      "text/html": [
       "<div>\n",
       "<style scoped>\n",
       "    .dataframe tbody tr th:only-of-type {\n",
       "        vertical-align: middle;\n",
       "    }\n",
       "\n",
       "    .dataframe tbody tr th {\n",
       "        vertical-align: top;\n",
       "    }\n",
       "\n",
       "    .dataframe thead th {\n",
       "        text-align: right;\n",
       "    }\n",
       "</style>\n",
       "<table border=\"1\" class=\"dataframe\">\n",
       "  <thead>\n",
       "    <tr style=\"text-align: right;\">\n",
       "      <th></th>\n",
       "      <th>count</th>\n",
       "      <th>mean</th>\n",
       "      <th>std</th>\n",
       "      <th>min</th>\n",
       "      <th>25%</th>\n",
       "      <th>50%</th>\n",
       "      <th>75%</th>\n",
       "      <th>max</th>\n",
       "    </tr>\n",
       "    <tr>\n",
       "      <th>true_yaw</th>\n",
       "      <th></th>\n",
       "      <th></th>\n",
       "      <th></th>\n",
       "      <th></th>\n",
       "      <th></th>\n",
       "      <th></th>\n",
       "      <th></th>\n",
       "      <th></th>\n",
       "    </tr>\n",
       "  </thead>\n",
       "  <tbody>\n",
       "    <tr>\n",
       "      <th>0</th>\n",
       "      <td>9.0</td>\n",
       "      <td>-2.599757</td>\n",
       "      <td>3.923485</td>\n",
       "      <td>-4.599405</td>\n",
       "      <td>-4.343261</td>\n",
       "      <td>-4.201289</td>\n",
       "      <td>-3.464743</td>\n",
       "      <td>7.630293</td>\n",
       "    </tr>\n",
       "    <tr>\n",
       "      <th>15</th>\n",
       "      <td>20.0</td>\n",
       "      <td>3.086803</td>\n",
       "      <td>0.461995</td>\n",
       "      <td>2.309513</td>\n",
       "      <td>2.889285</td>\n",
       "      <td>3.033826</td>\n",
       "      <td>3.197562</td>\n",
       "      <td>4.541125</td>\n",
       "    </tr>\n",
       "    <tr>\n",
       "      <th>30</th>\n",
       "      <td>22.0</td>\n",
       "      <td>4.295066</td>\n",
       "      <td>0.988742</td>\n",
       "      <td>2.373994</td>\n",
       "      <td>3.966479</td>\n",
       "      <td>4.068836</td>\n",
       "      <td>4.886756</td>\n",
       "      <td>6.194339</td>\n",
       "    </tr>\n",
       "    <tr>\n",
       "      <th>45</th>\n",
       "      <td>19.0</td>\n",
       "      <td>3.613511</td>\n",
       "      <td>0.399474</td>\n",
       "      <td>2.613469</td>\n",
       "      <td>3.366823</td>\n",
       "      <td>3.627122</td>\n",
       "      <td>3.875015</td>\n",
       "      <td>4.223402</td>\n",
       "    </tr>\n",
       "    <tr>\n",
       "      <th>60</th>\n",
       "      <td>4.0</td>\n",
       "      <td>-1.522660</td>\n",
       "      <td>0.629044</td>\n",
       "      <td>-2.431096</td>\n",
       "      <td>-1.657430</td>\n",
       "      <td>-1.333976</td>\n",
       "      <td>-1.199206</td>\n",
       "      <td>-0.991591</td>\n",
       "    </tr>\n",
       "  </tbody>\n",
       "</table>\n",
       "</div>"
      ],
      "text/plain": [
       "<IPython.core.display.HTML object>"
      ]
     },
     "metadata": {},
     "output_type": "display_data"
    },
    {
     "data": {
      "image/png": "[encoded data removed]"
     },
     "metadata": {},
     "output_type": "display_data"
    },
    {
     "data": {
      "text/html": [
       "21h7 - 5m - 360"
      ],
      "text/plain": [
       "<IPython.core.display.HTML object>"
      ]
     },
     "metadata": {},
     "output_type": "display_data"
    },
    {
     "data": {
      "text/html": [
       "<div>\n",
       "<style scoped>\n",
       "    .dataframe tbody tr th:only-of-type {\n",
       "        vertical-align: middle;\n",
       "    }\n",
       "\n",
       "    .dataframe tbody tr th {\n",
       "        vertical-align: top;\n",
       "    }\n",
       "\n",
       "    .dataframe thead th {\n",
       "        text-align: right;\n",
       "    }\n",
       "</style>\n",
       "<table border=\"1\" class=\"dataframe\">\n",
       "  <thead>\n",
       "    <tr style=\"text-align: right;\">\n",
       "      <th></th>\n",
       "      <th>count</th>\n",
       "      <th>mean</th>\n",
       "      <th>std</th>\n",
       "      <th>min</th>\n",
       "      <th>25%</th>\n",
       "      <th>50%</th>\n",
       "      <th>75%</th>\n",
       "      <th>max</th>\n",
       "    </tr>\n",
       "    <tr>\n",
       "      <th>true_yaw</th>\n",
       "      <th></th>\n",
       "      <th></th>\n",
       "      <th></th>\n",
       "      <th></th>\n",
       "      <th></th>\n",
       "      <th></th>\n",
       "      <th></th>\n",
       "      <th></th>\n",
       "    </tr>\n",
       "  </thead>\n",
       "  <tbody>\n",
       "    <tr>\n",
       "      <th>0</th>\n",
       "      <td>4.0</td>\n",
       "      <td>28.427901</td>\n",
       "      <td>5.312073</td>\n",
       "      <td>24.307616</td>\n",
       "      <td>25.063498</td>\n",
       "      <td>26.685051</td>\n",
       "      <td>30.049455</td>\n",
       "      <td>36.033884</td>\n",
       "    </tr>\n",
       "    <tr>\n",
       "      <th>15</th>\n",
       "      <td>0.0</td>\n",
       "      <td>NaN</td>\n",
       "      <td>NaN</td>\n",
       "      <td>NaN</td>\n",
       "      <td>NaN</td>\n",
       "      <td>NaN</td>\n",
       "      <td>NaN</td>\n",
       "      <td>NaN</td>\n",
       "    </tr>\n",
       "    <tr>\n",
       "      <th>30</th>\n",
       "      <td>0.0</td>\n",
       "      <td>NaN</td>\n",
       "      <td>NaN</td>\n",
       "      <td>NaN</td>\n",
       "      <td>NaN</td>\n",
       "      <td>NaN</td>\n",
       "      <td>NaN</td>\n",
       "      <td>NaN</td>\n",
       "    </tr>\n",
       "    <tr>\n",
       "      <th>45</th>\n",
       "      <td>0.0</td>\n",
       "      <td>NaN</td>\n",
       "      <td>NaN</td>\n",
       "      <td>NaN</td>\n",
       "      <td>NaN</td>\n",
       "      <td>NaN</td>\n",
       "      <td>NaN</td>\n",
       "      <td>NaN</td>\n",
       "    </tr>\n",
       "    <tr>\n",
       "      <th>60</th>\n",
       "      <td>105.0</td>\n",
       "      <td>36.856923</td>\n",
       "      <td>4.691914</td>\n",
       "      <td>30.185342</td>\n",
       "      <td>31.610466</td>\n",
       "      <td>37.869478</td>\n",
       "      <td>41.580822</td>\n",
       "      <td>43.031567</td>\n",
       "    </tr>\n",
       "    <tr>\n",
       "      <th>75</th>\n",
       "      <td>22.0</td>\n",
       "      <td>36.772172</td>\n",
       "      <td>5.681503</td>\n",
       "      <td>31.914036</td>\n",
       "      <td>32.579954</td>\n",
       "      <td>33.859283</td>\n",
       "      <td>44.730868</td>\n",
       "      <td>45.099654</td>\n",
       "    </tr>\n",
       "  </tbody>\n",
       "</table>\n",
       "</div>"
      ],
      "text/plain": [
       "<IPython.core.display.HTML object>"
      ]
     },
     "metadata": {},
     "output_type": "display_data"
    },
    {
     "data": {
      "image/png": "[encoded data removed]"
     },
     "metadata": {},
     "output_type": "display_data"
    },
    {
     "data": {
      "text/html": [
       "21h7 - 2m - 720"
      ],
      "text/plain": [
       "<IPython.core.display.HTML object>"
      ]
     },
     "metadata": {},
     "output_type": "display_data"
    },
    {
     "data": {
      "text/html": [
       "<div>\n",
       "<style scoped>\n",
       "    .dataframe tbody tr th:only-of-type {\n",
       "        vertical-align: middle;\n",
       "    }\n",
       "\n",
       "    .dataframe tbody tr th {\n",
       "        vertical-align: top;\n",
       "    }\n",
       "\n",
       "    .dataframe thead th {\n",
       "        text-align: right;\n",
       "    }\n",
       "</style>\n",
       "<table border=\"1\" class=\"dataframe\">\n",
       "  <thead>\n",
       "    <tr style=\"text-align: right;\">\n",
       "      <th></th>\n",
       "      <th>count</th>\n",
       "      <th>mean</th>\n",
       "      <th>std</th>\n",
       "      <th>min</th>\n",
       "      <th>25%</th>\n",
       "      <th>50%</th>\n",
       "      <th>75%</th>\n",
       "      <th>max</th>\n",
       "    </tr>\n",
       "    <tr>\n",
       "      <th>true_yaw</th>\n",
       "      <th></th>\n",
       "      <th></th>\n",
       "      <th></th>\n",
       "      <th></th>\n",
       "      <th></th>\n",
       "      <th></th>\n",
       "      <th></th>\n",
       "      <th></th>\n",
       "    </tr>\n",
       "  </thead>\n",
       "  <tbody>\n",
       "    <tr>\n",
       "      <th>0</th>\n",
       "      <td>11.0</td>\n",
       "      <td>-1.961985</td>\n",
       "      <td>5.482213</td>\n",
       "      <td>-6.317870</td>\n",
       "      <td>-6.095413</td>\n",
       "      <td>-5.556639</td>\n",
       "      <td>4.766836</td>\n",
       "      <td>5.335522</td>\n",
       "    </tr>\n",
       "    <tr>\n",
       "      <th>15</th>\n",
       "      <td>15.0</td>\n",
       "      <td>0.701181</td>\n",
       "      <td>0.627611</td>\n",
       "      <td>-0.458019</td>\n",
       "      <td>0.221417</td>\n",
       "      <td>0.655497</td>\n",
       "      <td>1.322391</td>\n",
       "      <td>1.494183</td>\n",
       "    </tr>\n",
       "    <tr>\n",
       "      <th>30</th>\n",
       "      <td>22.0</td>\n",
       "      <td>1.722479</td>\n",
       "      <td>0.343857</td>\n",
       "      <td>0.670400</td>\n",
       "      <td>1.662048</td>\n",
       "      <td>1.799170</td>\n",
       "      <td>1.916293</td>\n",
       "      <td>2.229715</td>\n",
       "    </tr>\n",
       "    <tr>\n",
       "      <th>45</th>\n",
       "      <td>21.0</td>\n",
       "      <td>1.760096</td>\n",
       "      <td>0.215685</td>\n",
       "      <td>1.048355</td>\n",
       "      <td>1.736726</td>\n",
       "      <td>1.810426</td>\n",
       "      <td>1.865441</td>\n",
       "      <td>2.077489</td>\n",
       "    </tr>\n",
       "    <tr>\n",
       "      <th>60</th>\n",
       "      <td>23.0</td>\n",
       "      <td>1.482171</td>\n",
       "      <td>0.314370</td>\n",
       "      <td>0.157547</td>\n",
       "      <td>1.453664</td>\n",
       "      <td>1.500804</td>\n",
       "      <td>1.624321</td>\n",
       "      <td>1.780054</td>\n",
       "    </tr>\n",
       "    <tr>\n",
       "      <th>75</th>\n",
       "      <td>19.0</td>\n",
       "      <td>-0.206726</td>\n",
       "      <td>0.250561</td>\n",
       "      <td>-0.555126</td>\n",
       "      <td>-0.360051</td>\n",
       "      <td>-0.258479</td>\n",
       "      <td>-0.063097</td>\n",
       "      <td>0.276713</td>\n",
       "    </tr>\n",
       "  </tbody>\n",
       "</table>\n",
       "</div>"
      ],
      "text/plain": [
       "<IPython.core.display.HTML object>"
      ]
     },
     "metadata": {},
     "output_type": "display_data"
    },
    {
     "data": {
      "image/png": "[encoded data removed]"
     },
     "metadata": {},
     "output_type": "display_data"
    },
    {
     "data": {
      "text/html": [
       "21h7 - 5m - 1080"
      ],
      "text/plain": [
       "<IPython.core.display.HTML object>"
      ]
     },
     "metadata": {},
     "output_type": "display_data"
    },
    {
     "data": {
      "text/html": [
       "<div>\n",
       "<style scoped>\n",
       "    .dataframe tbody tr th:only-of-type {\n",
       "        vertical-align: middle;\n",
       "    }\n",
       "\n",
       "    .dataframe tbody tr th {\n",
       "        vertical-align: top;\n",
       "    }\n",
       "\n",
       "    .dataframe thead th {\n",
       "        text-align: right;\n",
       "    }\n",
       "</style>\n",
       "<table border=\"1\" class=\"dataframe\">\n",
       "  <thead>\n",
       "    <tr style=\"text-align: right;\">\n",
       "      <th></th>\n",
       "      <th>count</th>\n",
       "      <th>mean</th>\n",
       "      <th>std</th>\n",
       "      <th>min</th>\n",
       "      <th>25%</th>\n",
       "      <th>50%</th>\n",
       "      <th>75%</th>\n",
       "      <th>max</th>\n",
       "    </tr>\n",
       "    <tr>\n",
       "      <th>true_yaw</th>\n",
       "      <th></th>\n",
       "      <th></th>\n",
       "      <th></th>\n",
       "      <th></th>\n",
       "      <th></th>\n",
       "      <th></th>\n",
       "      <th></th>\n",
       "      <th></th>\n",
       "    </tr>\n",
       "  </thead>\n",
       "  <tbody>\n",
       "    <tr>\n",
       "      <th>0</th>\n",
       "      <td>7.0</td>\n",
       "      <td>-0.815777</td>\n",
       "      <td>4.812136</td>\n",
       "      <td>-4.056358</td>\n",
       "      <td>-3.173556</td>\n",
       "      <td>-2.794594</td>\n",
       "      <td>-1.135134</td>\n",
       "      <td>9.757892</td>\n",
       "    </tr>\n",
       "    <tr>\n",
       "      <th>15</th>\n",
       "      <td>11.0</td>\n",
       "      <td>5.615008</td>\n",
       "      <td>2.042520</td>\n",
       "      <td>1.111127</td>\n",
       "      <td>5.605188</td>\n",
       "      <td>5.913728</td>\n",
       "      <td>6.043587</td>\n",
       "      <td>9.705902</td>\n",
       "    </tr>\n",
       "    <tr>\n",
       "      <th>30</th>\n",
       "      <td>9.0</td>\n",
       "      <td>4.250909</td>\n",
       "      <td>0.952682</td>\n",
       "      <td>2.753168</td>\n",
       "      <td>3.567626</td>\n",
       "      <td>4.466232</td>\n",
       "      <td>4.951506</td>\n",
       "      <td>5.449876</td>\n",
       "    </tr>\n",
       "    <tr>\n",
       "      <th>45</th>\n",
       "      <td>2.0</td>\n",
       "      <td>4.217274</td>\n",
       "      <td>1.500561</td>\n",
       "      <td>3.156218</td>\n",
       "      <td>3.686746</td>\n",
       "      <td>4.217274</td>\n",
       "      <td>4.747802</td>\n",
       "      <td>5.278331</td>\n",
       "    </tr>\n",
       "    <tr>\n",
       "      <th>60</th>\n",
       "      <td>4.0</td>\n",
       "      <td>0.114679</td>\n",
       "      <td>0.374589</td>\n",
       "      <td>-0.239446</td>\n",
       "      <td>-0.167581</td>\n",
       "      <td>0.066792</td>\n",
       "      <td>0.349052</td>\n",
       "      <td>0.564577</td>\n",
       "    </tr>\n",
       "  </tbody>\n",
       "</table>\n",
       "</div>"
      ],
      "text/plain": [
       "<IPython.core.display.HTML object>"
      ]
     },
     "metadata": {},
     "output_type": "display_data"
    },
    {
     "data": {
      "image/png": "[encoded data removed]"
     },
     "metadata": {},
     "output_type": "display_data"
    },
    {
     "data": {
      "text/html": [
       "21h7 - 2m - 360"
      ],
      "text/plain": [
       "<IPython.core.display.HTML object>"
      ]
     },
     "metadata": {},
     "output_type": "display_data"
    },
    {
     "data": {
      "text/html": [
       "<div>\n",
       "<style scoped>\n",
       "    .dataframe tbody tr th:only-of-type {\n",
       "        vertical-align: middle;\n",
       "    }\n",
       "\n",
       "    .dataframe tbody tr th {\n",
       "        vertical-align: top;\n",
       "    }\n",
       "\n",
       "    .dataframe thead th {\n",
       "        text-align: right;\n",
       "    }\n",
       "</style>\n",
       "<table border=\"1\" class=\"dataframe\">\n",
       "  <thead>\n",
       "    <tr style=\"text-align: right;\">\n",
       "      <th></th>\n",
       "      <th>count</th>\n",
       "      <th>mean</th>\n",
       "      <th>std</th>\n",
       "      <th>min</th>\n",
       "      <th>25%</th>\n",
       "      <th>50%</th>\n",
       "      <th>75%</th>\n",
       "      <th>max</th>\n",
       "    </tr>\n",
       "    <tr>\n",
       "      <th>true_yaw</th>\n",
       "      <th></th>\n",
       "      <th></th>\n",
       "      <th></th>\n",
       "      <th></th>\n",
       "      <th></th>\n",
       "      <th></th>\n",
       "      <th></th>\n",
       "      <th></th>\n",
       "    </tr>\n",
       "  </thead>\n",
       "  <tbody>\n",
       "    <tr>\n",
       "      <th>0</th>\n",
       "      <td>37.0</td>\n",
       "      <td>-7.002331</td>\n",
       "      <td>0.670499</td>\n",
       "      <td>-8.878537</td>\n",
       "      <td>-7.533066</td>\n",
       "      <td>-7.256672</td>\n",
       "      <td>-6.371579</td>\n",
       "      <td>-6.025599</td>\n",
       "    </tr>\n",
       "    <tr>\n",
       "      <th>15</th>\n",
       "      <td>19.0</td>\n",
       "      <td>0.699632</td>\n",
       "      <td>0.559754</td>\n",
       "      <td>-1.031447</td>\n",
       "      <td>0.447999</td>\n",
       "      <td>0.809549</td>\n",
       "      <td>1.135990</td>\n",
       "      <td>1.234309</td>\n",
       "    </tr>\n",
       "    <tr>\n",
       "      <th>30</th>\n",
       "      <td>27.0</td>\n",
       "      <td>0.120909</td>\n",
       "      <td>0.415927</td>\n",
       "      <td>-1.383111</td>\n",
       "      <td>-0.101386</td>\n",
       "      <td>0.220173</td>\n",
       "      <td>0.438621</td>\n",
       "      <td>0.650308</td>\n",
       "    </tr>\n",
       "    <tr>\n",
       "      <th>45</th>\n",
       "      <td>39.0</td>\n",
       "      <td>0.496816</td>\n",
       "      <td>1.358175</td>\n",
       "      <td>-7.584041</td>\n",
       "      <td>0.441666</td>\n",
       "      <td>0.671164</td>\n",
       "      <td>0.997010</td>\n",
       "      <td>1.050725</td>\n",
       "    </tr>\n",
       "    <tr>\n",
       "      <th>60</th>\n",
       "      <td>57.0</td>\n",
       "      <td>-0.254555</td>\n",
       "      <td>0.304357</td>\n",
       "      <td>-1.326024</td>\n",
       "      <td>-0.308240</td>\n",
       "      <td>-0.161218</td>\n",
       "      <td>-0.055385</td>\n",
       "      <td>0.051459</td>\n",
       "    </tr>\n",
       "  </tbody>\n",
       "</table>\n",
       "</div>"
      ],
      "text/plain": [
       "<IPython.core.display.HTML object>"
      ]
     },
     "metadata": {},
     "output_type": "display_data"
    },
    {
     "data": {
      "image/png": "[encoded data removed]"
     },
     "metadata": {},
     "output_type": "display_data"
    },
    {
     "data": {
      "text/html": [
       "21h7 - 2m - 1080"
      ],
      "text/plain": [
       "<IPython.core.display.HTML object>"
      ]
     },
     "metadata": {},
     "output_type": "display_data"
    },
    {
     "data": {
      "text/html": [
       "<div>\n",
       "<style scoped>\n",
       "    .dataframe tbody tr th:only-of-type {\n",
       "        vertical-align: middle;\n",
       "    }\n",
       "\n",
       "    .dataframe tbody tr th {\n",
       "        vertical-align: top;\n",
       "    }\n",
       "\n",
       "    .dataframe thead th {\n",
       "        text-align: right;\n",
       "    }\n",
       "</style>\n",
       "<table border=\"1\" class=\"dataframe\">\n",
       "  <thead>\n",
       "    <tr style=\"text-align: right;\">\n",
       "      <th></th>\n",
       "      <th>count</th>\n",
       "      <th>mean</th>\n",
       "      <th>std</th>\n",
       "      <th>min</th>\n",
       "      <th>25%</th>\n",
       "      <th>50%</th>\n",
       "      <th>75%</th>\n",
       "      <th>max</th>\n",
       "    </tr>\n",
       "    <tr>\n",
       "      <th>true_yaw</th>\n",
       "      <th></th>\n",
       "      <th></th>\n",
       "      <th></th>\n",
       "      <th></th>\n",
       "      <th></th>\n",
       "      <th></th>\n",
       "      <th></th>\n",
       "      <th></th>\n",
       "    </tr>\n",
       "  </thead>\n",
       "  <tbody>\n",
       "    <tr>\n",
       "      <th>0</th>\n",
       "      <td>10.0</td>\n",
       "      <td>3.528107</td>\n",
       "      <td>2.009708</td>\n",
       "      <td>-2.033503</td>\n",
       "      <td>3.782065</td>\n",
       "      <td>4.100643</td>\n",
       "      <td>4.427988</td>\n",
       "      <td>4.847108</td>\n",
       "    </tr>\n",
       "    <tr>\n",
       "      <th>15</th>\n",
       "      <td>8.0</td>\n",
       "      <td>0.890248</td>\n",
       "      <td>0.925406</td>\n",
       "      <td>-0.058088</td>\n",
       "      <td>0.512999</td>\n",
       "      <td>0.616517</td>\n",
       "      <td>0.850557</td>\n",
       "      <td>3.010700</td>\n",
       "    </tr>\n",
       "    <tr>\n",
       "      <th>30</th>\n",
       "      <td>9.0</td>\n",
       "      <td>1.797067</td>\n",
       "      <td>0.815092</td>\n",
       "      <td>-0.129746</td>\n",
       "      <td>1.848956</td>\n",
       "      <td>2.154834</td>\n",
       "      <td>2.222624</td>\n",
       "      <td>2.449235</td>\n",
       "    </tr>\n",
       "    <tr>\n",
       "      <th>45</th>\n",
       "      <td>9.0</td>\n",
       "      <td>2.069749</td>\n",
       "      <td>0.225979</td>\n",
       "      <td>1.480014</td>\n",
       "      <td>2.094099</td>\n",
       "      <td>2.130810</td>\n",
       "      <td>2.149378</td>\n",
       "      <td>2.235383</td>\n",
       "    </tr>\n",
       "    <tr>\n",
       "      <th>60</th>\n",
       "      <td>7.0</td>\n",
       "      <td>1.719308</td>\n",
       "      <td>0.400093</td>\n",
       "      <td>0.830700</td>\n",
       "      <td>1.777020</td>\n",
       "      <td>1.850092</td>\n",
       "      <td>1.931011</td>\n",
       "      <td>1.938300</td>\n",
       "    </tr>\n",
       "    <tr>\n",
       "      <th>75</th>\n",
       "      <td>7.0</td>\n",
       "      <td>0.481629</td>\n",
       "      <td>0.283298</td>\n",
       "      <td>0.053188</td>\n",
       "      <td>0.346641</td>\n",
       "      <td>0.494298</td>\n",
       "      <td>0.627122</td>\n",
       "      <td>0.876393</td>\n",
       "    </tr>\n",
       "  </tbody>\n",
       "</table>\n",
       "</div>"
      ],
      "text/plain": [
       "<IPython.core.display.HTML object>"
      ]
     },
     "metadata": {},
     "output_type": "display_data"
    },
    {
     "data": {
      "image/png": "[encoded data removed]"
     },
     "metadata": {},
     "output_type": "display_data"
    },
    {
     "data": {
      "text/html": [
       "25h9 - 2m - 1080"
      ],
      "text/plain": [
       "<IPython.core.display.HTML object>"
      ]
     },
     "metadata": {},
     "output_type": "display_data"
    },
    {
     "data": {
      "text/html": [
       "<div>\n",
       "<style scoped>\n",
       "    .dataframe tbody tr th:only-of-type {\n",
       "        vertical-align: middle;\n",
       "    }\n",
       "\n",
       "    .dataframe tbody tr th {\n",
       "        vertical-align: top;\n",
       "    }\n",
       "\n",
       "    .dataframe thead th {\n",
       "        text-align: right;\n",
       "    }\n",
       "</style>\n",
       "<table border=\"1\" class=\"dataframe\">\n",
       "  <thead>\n",
       "    <tr style=\"text-align: right;\">\n",
       "      <th></th>\n",
       "      <th>count</th>\n",
       "      <th>mean</th>\n",
       "      <th>std</th>\n",
       "      <th>min</th>\n",
       "      <th>25%</th>\n",
       "      <th>50%</th>\n",
       "      <th>75%</th>\n",
       "      <th>max</th>\n",
       "    </tr>\n",
       "    <tr>\n",
       "      <th>true_yaw</th>\n",
       "      <th></th>\n",
       "      <th></th>\n",
       "      <th></th>\n",
       "      <th></th>\n",
       "      <th></th>\n",
       "      <th></th>\n",
       "      <th></th>\n",
       "      <th></th>\n",
       "    </tr>\n",
       "  </thead>\n",
       "  <tbody>\n",
       "    <tr>\n",
       "      <th>0</th>\n",
       "      <td>12.0</td>\n",
       "      <td>0.823705</td>\n",
       "      <td>0.408963</td>\n",
       "      <td>0.250067</td>\n",
       "      <td>0.576889</td>\n",
       "      <td>0.717641</td>\n",
       "      <td>1.140243</td>\n",
       "      <td>1.600634</td>\n",
       "    </tr>\n",
       "    <tr>\n",
       "      <th>15</th>\n",
       "      <td>10.0</td>\n",
       "      <td>5.771181</td>\n",
       "      <td>0.964450</td>\n",
       "      <td>3.823825</td>\n",
       "      <td>5.405853</td>\n",
       "      <td>6.055282</td>\n",
       "      <td>6.504790</td>\n",
       "      <td>6.737571</td>\n",
       "    </tr>\n",
       "    <tr>\n",
       "      <th>30</th>\n",
       "      <td>10.0</td>\n",
       "      <td>6.775100</td>\n",
       "      <td>5.033937</td>\n",
       "      <td>-7.501365</td>\n",
       "      <td>8.134114</td>\n",
       "      <td>8.306899</td>\n",
       "      <td>8.340596</td>\n",
       "      <td>9.474823</td>\n",
       "    </tr>\n",
       "    <tr>\n",
       "      <th>45</th>\n",
       "      <td>12.0</td>\n",
       "      <td>7.305926</td>\n",
       "      <td>0.131613</td>\n",
       "      <td>7.061166</td>\n",
       "      <td>7.244773</td>\n",
       "      <td>7.336692</td>\n",
       "      <td>7.398910</td>\n",
       "      <td>7.490606</td>\n",
       "    </tr>\n",
       "    <tr>\n",
       "      <th>60</th>\n",
       "      <td>10.0</td>\n",
       "      <td>5.187783</td>\n",
       "      <td>0.176939</td>\n",
       "      <td>4.711093</td>\n",
       "      <td>5.186452</td>\n",
       "      <td>5.243017</td>\n",
       "      <td>5.245978</td>\n",
       "      <td>5.327129</td>\n",
       "    </tr>\n",
       "    <tr>\n",
       "      <th>75</th>\n",
       "      <td>12.0</td>\n",
       "      <td>4.625229</td>\n",
       "      <td>0.302363</td>\n",
       "      <td>3.844299</td>\n",
       "      <td>4.579372</td>\n",
       "      <td>4.629152</td>\n",
       "      <td>4.746396</td>\n",
       "      <td>5.188515</td>\n",
       "    </tr>\n",
       "  </tbody>\n",
       "</table>\n",
       "</div>"
      ],
      "text/plain": [
       "<IPython.core.display.HTML object>"
      ]
     },
     "metadata": {},
     "output_type": "display_data"
    },
    {
     "data": {
      "image/png": "[encoded data removed]"
     },
     "metadata": {},
     "output_type": "display_data"
    },
    {
     "data": {
      "text/html": [
       "25h9 - 2m - 720"
      ],
      "text/plain": [
       "<IPython.core.display.HTML object>"
      ]
     },
     "metadata": {},
     "output_type": "display_data"
    },
    {
     "data": {
      "text/html": [
       "<div>\n",
       "<style scoped>\n",
       "    .dataframe tbody tr th:only-of-type {\n",
       "        vertical-align: middle;\n",
       "    }\n",
       "\n",
       "    .dataframe tbody tr th {\n",
       "        vertical-align: top;\n",
       "    }\n",
       "\n",
       "    .dataframe thead th {\n",
       "        text-align: right;\n",
       "    }\n",
       "</style>\n",
       "<table border=\"1\" class=\"dataframe\">\n",
       "  <thead>\n",
       "    <tr style=\"text-align: right;\">\n",
       "      <th></th>\n",
       "      <th>count</th>\n",
       "      <th>mean</th>\n",
       "      <th>std</th>\n",
       "      <th>min</th>\n",
       "      <th>25%</th>\n",
       "      <th>50%</th>\n",
       "      <th>75%</th>\n",
       "      <th>max</th>\n",
       "    </tr>\n",
       "    <tr>\n",
       "      <th>true_yaw</th>\n",
       "      <th></th>\n",
       "      <th></th>\n",
       "      <th></th>\n",
       "      <th></th>\n",
       "      <th></th>\n",
       "      <th></th>\n",
       "      <th></th>\n",
       "      <th></th>\n",
       "    </tr>\n",
       "  </thead>\n",
       "  <tbody>\n",
       "    <tr>\n",
       "      <th>0</th>\n",
       "      <td>33.0</td>\n",
       "      <td>-0.248918</td>\n",
       "      <td>1.671904</td>\n",
       "      <td>-8.546190</td>\n",
       "      <td>-0.931567</td>\n",
       "      <td>0.167330</td>\n",
       "      <td>0.609313</td>\n",
       "      <td>1.313810</td>\n",
       "    </tr>\n",
       "    <tr>\n",
       "      <th>15</th>\n",
       "      <td>33.0</td>\n",
       "      <td>5.811181</td>\n",
       "      <td>0.366396</td>\n",
       "      <td>5.208313</td>\n",
       "      <td>5.483314</td>\n",
       "      <td>5.887117</td>\n",
       "      <td>6.138589</td>\n",
       "      <td>6.356007</td>\n",
       "    </tr>\n",
       "    <tr>\n",
       "      <th>30</th>\n",
       "      <td>24.0</td>\n",
       "      <td>7.909427</td>\n",
       "      <td>0.291676</td>\n",
       "      <td>7.430745</td>\n",
       "      <td>7.787395</td>\n",
       "      <td>7.881132</td>\n",
       "      <td>8.014800</td>\n",
       "      <td>8.951354</td>\n",
       "    </tr>\n",
       "    <tr>\n",
       "      <th>45</th>\n",
       "      <td>31.0</td>\n",
       "      <td>7.122185</td>\n",
       "      <td>0.340383</td>\n",
       "      <td>5.567211</td>\n",
       "      <td>7.070747</td>\n",
       "      <td>7.173774</td>\n",
       "      <td>7.311612</td>\n",
       "      <td>7.509929</td>\n",
       "    </tr>\n",
       "    <tr>\n",
       "      <th>60</th>\n",
       "      <td>30.0</td>\n",
       "      <td>5.035020</td>\n",
       "      <td>0.160973</td>\n",
       "      <td>4.545249</td>\n",
       "      <td>5.051308</td>\n",
       "      <td>5.081086</td>\n",
       "      <td>5.115036</td>\n",
       "      <td>5.197725</td>\n",
       "    </tr>\n",
       "    <tr>\n",
       "      <th>75</th>\n",
       "      <td>33.0</td>\n",
       "      <td>4.381851</td>\n",
       "      <td>0.171562</td>\n",
       "      <td>3.571563</td>\n",
       "      <td>4.346294</td>\n",
       "      <td>4.413410</td>\n",
       "      <td>4.464015</td>\n",
       "      <td>4.560807</td>\n",
       "    </tr>\n",
       "  </tbody>\n",
       "</table>\n",
       "</div>"
      ],
      "text/plain": [
       "<IPython.core.display.HTML object>"
      ]
     },
     "metadata": {},
     "output_type": "display_data"
    },
    {
     "data": {
      "image/png": "[encoded data removed]"
     },
     "metadata": {},
     "output_type": "display_data"
    },
    {
     "data": {
      "text/html": [
       "25h9 - 5m - 1080"
      ],
      "text/plain": [
       "<IPython.core.display.HTML object>"
      ]
     },
     "metadata": {},
     "output_type": "display_data"
    },
    {
     "data": {
      "text/html": [
       "<div>\n",
       "<style scoped>\n",
       "    .dataframe tbody tr th:only-of-type {\n",
       "        vertical-align: middle;\n",
       "    }\n",
       "\n",
       "    .dataframe tbody tr th {\n",
       "        vertical-align: top;\n",
       "    }\n",
       "\n",
       "    .dataframe thead th {\n",
       "        text-align: right;\n",
       "    }\n",
       "</style>\n",
       "<table border=\"1\" class=\"dataframe\">\n",
       "  <thead>\n",
       "    <tr style=\"text-align: right;\">\n",
       "      <th></th>\n",
       "      <th>count</th>\n",
       "      <th>mean</th>\n",
       "      <th>std</th>\n",
       "      <th>min</th>\n",
       "      <th>25%</th>\n",
       "      <th>50%</th>\n",
       "      <th>75%</th>\n",
       "      <th>max</th>\n",
       "    </tr>\n",
       "    <tr>\n",
       "      <th>true_yaw</th>\n",
       "      <th></th>\n",
       "      <th></th>\n",
       "      <th></th>\n",
       "      <th></th>\n",
       "      <th></th>\n",
       "      <th></th>\n",
       "      <th></th>\n",
       "      <th></th>\n",
       "    </tr>\n",
       "  </thead>\n",
       "  <tbody>\n",
       "    <tr>\n",
       "      <th>0</th>\n",
       "      <td>11.0</td>\n",
       "      <td>-6.740988</td>\n",
       "      <td>0.235571</td>\n",
       "      <td>-7.076898</td>\n",
       "      <td>-6.915945</td>\n",
       "      <td>-6.735646</td>\n",
       "      <td>-6.636577</td>\n",
       "      <td>-6.209786</td>\n",
       "    </tr>\n",
       "    <tr>\n",
       "      <th>15</th>\n",
       "      <td>11.0</td>\n",
       "      <td>1.690153</td>\n",
       "      <td>0.348813</td>\n",
       "      <td>0.900745</td>\n",
       "      <td>1.512229</td>\n",
       "      <td>1.749176</td>\n",
       "      <td>1.918254</td>\n",
       "      <td>2.114709</td>\n",
       "    </tr>\n",
       "    <tr>\n",
       "      <th>30</th>\n",
       "      <td>8.0</td>\n",
       "      <td>4.036976</td>\n",
       "      <td>0.256569</td>\n",
       "      <td>3.748641</td>\n",
       "      <td>3.829073</td>\n",
       "      <td>4.001646</td>\n",
       "      <td>4.221296</td>\n",
       "      <td>4.382954</td>\n",
       "    </tr>\n",
       "    <tr>\n",
       "      <th>45</th>\n",
       "      <td>10.0</td>\n",
       "      <td>4.279409</td>\n",
       "      <td>0.250866</td>\n",
       "      <td>3.669976</td>\n",
       "      <td>4.215626</td>\n",
       "      <td>4.280472</td>\n",
       "      <td>4.451668</td>\n",
       "      <td>4.536090</td>\n",
       "    </tr>\n",
       "    <tr>\n",
       "      <th>60</th>\n",
       "      <td>11.0</td>\n",
       "      <td>4.313608</td>\n",
       "      <td>0.062052</td>\n",
       "      <td>4.226510</td>\n",
       "      <td>4.269729</td>\n",
       "      <td>4.330415</td>\n",
       "      <td>4.340873</td>\n",
       "      <td>4.431344</td>\n",
       "    </tr>\n",
       "  </tbody>\n",
       "</table>\n",
       "</div>"
      ],
      "text/plain": [
       "<IPython.core.display.HTML object>"
      ]
     },
     "metadata": {},
     "output_type": "display_data"
    },
    {
     "data": {
      "image/png": "[encoded data removed]"
     },
     "metadata": {},
     "output_type": "display_data"
    },
    {
     "data": {
      "text/html": [
       "25h9 - 5m - 720"
      ],
      "text/plain": [
       "<IPython.core.display.HTML object>"
      ]
     },
     "metadata": {},
     "output_type": "display_data"
    },
    {
     "data": {
      "text/html": [
       "<div>\n",
       "<style scoped>\n",
       "    .dataframe tbody tr th:only-of-type {\n",
       "        vertical-align: middle;\n",
       "    }\n",
       "\n",
       "    .dataframe tbody tr th {\n",
       "        vertical-align: top;\n",
       "    }\n",
       "\n",
       "    .dataframe thead th {\n",
       "        text-align: right;\n",
       "    }\n",
       "</style>\n",
       "<table border=\"1\" class=\"dataframe\">\n",
       "  <thead>\n",
       "    <tr style=\"text-align: right;\">\n",
       "      <th></th>\n",
       "      <th>count</th>\n",
       "      <th>mean</th>\n",
       "      <th>std</th>\n",
       "      <th>min</th>\n",
       "      <th>25%</th>\n",
       "      <th>50%</th>\n",
       "      <th>75%</th>\n",
       "      <th>max</th>\n",
       "    </tr>\n",
       "    <tr>\n",
       "      <th>true_yaw</th>\n",
       "      <th></th>\n",
       "      <th></th>\n",
       "      <th></th>\n",
       "      <th></th>\n",
       "      <th></th>\n",
       "      <th></th>\n",
       "      <th></th>\n",
       "      <th></th>\n",
       "    </tr>\n",
       "  </thead>\n",
       "  <tbody>\n",
       "    <tr>\n",
       "      <th>0</th>\n",
       "      <td>60.0</td>\n",
       "      <td>-2.507749</td>\n",
       "      <td>4.132302</td>\n",
       "      <td>-10.386740</td>\n",
       "      <td>-3.744237</td>\n",
       "      <td>-3.281333</td>\n",
       "      <td>-2.849273</td>\n",
       "      <td>10.834382</td>\n",
       "    </tr>\n",
       "    <tr>\n",
       "      <th>15</th>\n",
       "      <td>115.0</td>\n",
       "      <td>2.843838</td>\n",
       "      <td>0.744830</td>\n",
       "      <td>0.641127</td>\n",
       "      <td>2.403053</td>\n",
       "      <td>2.949946</td>\n",
       "      <td>3.428508</td>\n",
       "      <td>4.399770</td>\n",
       "    </tr>\n",
       "    <tr>\n",
       "      <th>30</th>\n",
       "      <td>134.0</td>\n",
       "      <td>4.117828</td>\n",
       "      <td>1.517798</td>\n",
       "      <td>-2.687133</td>\n",
       "      <td>4.272965</td>\n",
       "      <td>4.609020</td>\n",
       "      <td>4.850634</td>\n",
       "      <td>5.494382</td>\n",
       "    </tr>\n",
       "    <tr>\n",
       "      <th>45</th>\n",
       "      <td>149.0</td>\n",
       "      <td>4.605615</td>\n",
       "      <td>0.641585</td>\n",
       "      <td>3.714726</td>\n",
       "      <td>4.345477</td>\n",
       "      <td>4.482466</td>\n",
       "      <td>4.754018</td>\n",
       "      <td>10.326171</td>\n",
       "    </tr>\n",
       "    <tr>\n",
       "      <th>60</th>\n",
       "      <td>159.0</td>\n",
       "      <td>3.668043</td>\n",
       "      <td>0.746704</td>\n",
       "      <td>-1.320791</td>\n",
       "      <td>3.522540</td>\n",
       "      <td>3.648359</td>\n",
       "      <td>3.768468</td>\n",
       "      <td>8.823672</td>\n",
       "    </tr>\n",
       "  </tbody>\n",
       "</table>\n",
       "</div>"
      ],
      "text/plain": [
       "<IPython.core.display.HTML object>"
      ]
     },
     "metadata": {},
     "output_type": "display_data"
    },
    {
     "data": {
      "image/png": "[encoded data removed]"
     },
     "metadata": {},
     "output_type": "display_data"
    },
    {
     "data": {
      "text/html": [
       "25h9 - 2m - 360"
      ],
      "text/plain": [
       "<IPython.core.display.HTML object>"
      ]
     },
     "metadata": {},
     "output_type": "display_data"
    },
    {
     "data": {
      "text/html": [
       "<div>\n",
       "<style scoped>\n",
       "    .dataframe tbody tr th:only-of-type {\n",
       "        vertical-align: middle;\n",
       "    }\n",
       "\n",
       "    .dataframe tbody tr th {\n",
       "        vertical-align: top;\n",
       "    }\n",
       "\n",
       "    .dataframe thead th {\n",
       "        text-align: right;\n",
       "    }\n",
       "</style>\n",
       "<table border=\"1\" class=\"dataframe\">\n",
       "  <thead>\n",
       "    <tr style=\"text-align: right;\">\n",
       "      <th></th>\n",
       "      <th>count</th>\n",
       "      <th>mean</th>\n",
       "      <th>std</th>\n",
       "      <th>min</th>\n",
       "      <th>25%</th>\n",
       "      <th>50%</th>\n",
       "      <th>75%</th>\n",
       "      <th>max</th>\n",
       "    </tr>\n",
       "    <tr>\n",
       "      <th>true_yaw</th>\n",
       "      <th></th>\n",
       "      <th></th>\n",
       "      <th></th>\n",
       "      <th></th>\n",
       "      <th></th>\n",
       "      <th></th>\n",
       "      <th></th>\n",
       "      <th></th>\n",
       "    </tr>\n",
       "  </thead>\n",
       "  <tbody>\n",
       "    <tr>\n",
       "      <th>45</th>\n",
       "      <td>9.0</td>\n",
       "      <td>6.623529</td>\n",
       "      <td>0.656742</td>\n",
       "      <td>5.439543</td>\n",
       "      <td>6.800695</td>\n",
       "      <td>6.858652</td>\n",
       "      <td>7.088806</td>\n",
       "      <td>7.102289</td>\n",
       "    </tr>\n",
       "    <tr>\n",
       "      <th>60</th>\n",
       "      <td>84.0</td>\n",
       "      <td>5.022113</td>\n",
       "      <td>0.272952</td>\n",
       "      <td>4.013969</td>\n",
       "      <td>4.953805</td>\n",
       "      <td>5.086745</td>\n",
       "      <td>5.185205</td>\n",
       "      <td>5.420396</td>\n",
       "    </tr>\n",
       "    <tr>\n",
       "      <th>75</th>\n",
       "      <td>82.0</td>\n",
       "      <td>4.112534</td>\n",
       "      <td>0.639772</td>\n",
       "      <td>2.118361</td>\n",
       "      <td>3.823088</td>\n",
       "      <td>4.132098</td>\n",
       "      <td>4.339616</td>\n",
       "      <td>6.718137</td>\n",
       "    </tr>\n",
       "  </tbody>\n",
       "</table>\n",
       "</div>"
      ],
      "text/plain": [
       "<IPython.core.display.HTML object>"
      ]
     },
     "metadata": {},
     "output_type": "display_data"
    },
    {
     "data": {
      "image/png": "[encoded data removed]"
     },
     "metadata": {},
     "output_type": "display_data"
    },
    {
     "data": {
      "text/html": [
       "25h9 - 5m - 360"
      ],
      "text/plain": [
       "<IPython.core.display.HTML object>"
      ]
     },
     "metadata": {},
     "output_type": "display_data"
    },
    {
     "data": {
      "text/html": [
       "<div>\n",
       "<style scoped>\n",
       "    .dataframe tbody tr th:only-of-type {\n",
       "        vertical-align: middle;\n",
       "    }\n",
       "\n",
       "    .dataframe tbody tr th {\n",
       "        vertical-align: top;\n",
       "    }\n",
       "\n",
       "    .dataframe thead th {\n",
       "        text-align: right;\n",
       "    }\n",
       "</style>\n",
       "<table border=\"1\" class=\"dataframe\">\n",
       "  <thead>\n",
       "    <tr style=\"text-align: right;\">\n",
       "      <th></th>\n",
       "      <th>count</th>\n",
       "      <th>mean</th>\n",
       "      <th>std</th>\n",
       "      <th>min</th>\n",
       "      <th>25%</th>\n",
       "      <th>50%</th>\n",
       "      <th>75%</th>\n",
       "      <th>max</th>\n",
       "    </tr>\n",
       "    <tr>\n",
       "      <th>true_yaw</th>\n",
       "      <th></th>\n",
       "      <th></th>\n",
       "      <th></th>\n",
       "      <th></th>\n",
       "      <th></th>\n",
       "      <th></th>\n",
       "      <th></th>\n",
       "      <th></th>\n",
       "    </tr>\n",
       "  </thead>\n",
       "  <tbody>\n",
       "    <tr>\n",
       "      <th>45</th>\n",
       "      <td>74.0</td>\n",
       "      <td>4.583261</td>\n",
       "      <td>0.578326</td>\n",
       "      <td>1.701269</td>\n",
       "      <td>4.226865</td>\n",
       "      <td>4.65575</td>\n",
       "      <td>4.985615</td>\n",
       "      <td>5.517174</td>\n",
       "    </tr>\n",
       "  </tbody>\n",
       "</table>\n",
       "</div>"
      ],
      "text/plain": [
       "<IPython.core.display.HTML object>"
      ]
     },
     "metadata": {},
     "output_type": "display_data"
    },
    {
     "data": {
      "image/png": "[encoded data removed]"
     },
     "metadata": {},
     "output_type": "display_data"
    },
    {
     "data": {
      "text/html": [
       "16h5 - 5m - 1080"
      ],
      "text/plain": [
       "<IPython.core.display.HTML object>"
      ]
     },
     "metadata": {},
     "output_type": "display_data"
    },
    {
     "data": {
      "text/html": [
       "<div>\n",
       "<style scoped>\n",
       "    .dataframe tbody tr th:only-of-type {\n",
       "        vertical-align: middle;\n",
       "    }\n",
       "\n",
       "    .dataframe tbody tr th {\n",
       "        vertical-align: top;\n",
       "    }\n",
       "\n",
       "    .dataframe thead th {\n",
       "        text-align: right;\n",
       "    }\n",
       "</style>\n",
       "<table border=\"1\" class=\"dataframe\">\n",
       "  <thead>\n",
       "    <tr style=\"text-align: right;\">\n",
       "      <th></th>\n",
       "      <th>count</th>\n",
       "      <th>mean</th>\n",
       "      <th>std</th>\n",
       "      <th>min</th>\n",
       "      <th>25%</th>\n",
       "      <th>50%</th>\n",
       "      <th>75%</th>\n",
       "      <th>max</th>\n",
       "    </tr>\n",
       "    <tr>\n",
       "      <th>true_yaw</th>\n",
       "      <th></th>\n",
       "      <th></th>\n",
       "      <th></th>\n",
       "      <th></th>\n",
       "      <th></th>\n",
       "      <th></th>\n",
       "      <th></th>\n",
       "      <th></th>\n",
       "    </tr>\n",
       "  </thead>\n",
       "  <tbody>\n",
       "    <tr>\n",
       "      <th>0</th>\n",
       "      <td>17.0</td>\n",
       "      <td>-5.680218</td>\n",
       "      <td>1.310285</td>\n",
       "      <td>-7.591615</td>\n",
       "      <td>-6.601743</td>\n",
       "      <td>-5.535231</td>\n",
       "      <td>-4.914087</td>\n",
       "      <td>-2.649060</td>\n",
       "    </tr>\n",
       "    <tr>\n",
       "      <th>15</th>\n",
       "      <td>21.0</td>\n",
       "      <td>1.743694</td>\n",
       "      <td>0.408623</td>\n",
       "      <td>0.907166</td>\n",
       "      <td>1.534916</td>\n",
       "      <td>1.781654</td>\n",
       "      <td>1.976719</td>\n",
       "      <td>2.342153</td>\n",
       "    </tr>\n",
       "    <tr>\n",
       "      <th>30</th>\n",
       "      <td>8.0</td>\n",
       "      <td>2.103836</td>\n",
       "      <td>0.843932</td>\n",
       "      <td>0.098007</td>\n",
       "      <td>2.215776</td>\n",
       "      <td>2.312944</td>\n",
       "      <td>2.414535</td>\n",
       "      <td>2.907597</td>\n",
       "    </tr>\n",
       "    <tr>\n",
       "      <th>45</th>\n",
       "      <td>8.0</td>\n",
       "      <td>1.402526</td>\n",
       "      <td>1.601893</td>\n",
       "      <td>-2.223988</td>\n",
       "      <td>1.475204</td>\n",
       "      <td>2.042729</td>\n",
       "      <td>2.293326</td>\n",
       "      <td>2.492631</td>\n",
       "    </tr>\n",
       "    <tr>\n",
       "      <th>60</th>\n",
       "      <td>13.0</td>\n",
       "      <td>1.940738</td>\n",
       "      <td>0.857099</td>\n",
       "      <td>0.081529</td>\n",
       "      <td>1.069511</td>\n",
       "      <td>2.263056</td>\n",
       "      <td>2.539408</td>\n",
       "      <td>2.736242</td>\n",
       "    </tr>\n",
       "    <tr>\n",
       "      <th>75</th>\n",
       "      <td>5.0</td>\n",
       "      <td>0.146688</td>\n",
       "      <td>0.359852</td>\n",
       "      <td>-0.479703</td>\n",
       "      <td>0.209205</td>\n",
       "      <td>0.245965</td>\n",
       "      <td>0.334726</td>\n",
       "      <td>0.423247</td>\n",
       "    </tr>\n",
       "  </tbody>\n",
       "</table>\n",
       "</div>"
      ],
      "text/plain": [
       "<IPython.core.display.HTML object>"
      ]
     },
     "metadata": {},
     "output_type": "display_data"
    },
    {
     "data": {
      "image/png": "[encoded data removed]"
     },
     "metadata": {},
     "output_type": "display_data"
    },
    {
     "data": {
      "text/html": [
       "16h5 - 2m - 1080"
      ],
      "text/plain": [
       "<IPython.core.display.HTML object>"
      ]
     },
     "metadata": {},
     "output_type": "display_data"
    },
    {
     "data": {
      "text/html": [
       "<div>\n",
       "<style scoped>\n",
       "    .dataframe tbody tr th:only-of-type {\n",
       "        vertical-align: middle;\n",
       "    }\n",
       "\n",
       "    .dataframe tbody tr th {\n",
       "        vertical-align: top;\n",
       "    }\n",
       "\n",
       "    .dataframe thead th {\n",
       "        text-align: right;\n",
       "    }\n",
       "</style>\n",
       "<table border=\"1\" class=\"dataframe\">\n",
       "  <thead>\n",
       "    <tr style=\"text-align: right;\">\n",
       "      <th></th>\n",
       "      <th>count</th>\n",
       "      <th>mean</th>\n",
       "      <th>std</th>\n",
       "      <th>min</th>\n",
       "      <th>25%</th>\n",
       "      <th>50%</th>\n",
       "      <th>75%</th>\n",
       "      <th>max</th>\n",
       "    </tr>\n",
       "    <tr>\n",
       "      <th>true_yaw</th>\n",
       "      <th></th>\n",
       "      <th></th>\n",
       "      <th></th>\n",
       "      <th></th>\n",
       "      <th></th>\n",
       "      <th></th>\n",
       "      <th></th>\n",
       "      <th></th>\n",
       "    </tr>\n",
       "  </thead>\n",
       "  <tbody>\n",
       "    <tr>\n",
       "      <th>0</th>\n",
       "      <td>13.0</td>\n",
       "      <td>-1.889963</td>\n",
       "      <td>0.509512</td>\n",
       "      <td>-2.994214</td>\n",
       "      <td>-2.304319</td>\n",
       "      <td>-1.750822</td>\n",
       "      <td>-1.540559</td>\n",
       "      <td>-1.248493</td>\n",
       "    </tr>\n",
       "    <tr>\n",
       "      <th>15</th>\n",
       "      <td>5.0</td>\n",
       "      <td>2.710729</td>\n",
       "      <td>0.091308</td>\n",
       "      <td>2.582876</td>\n",
       "      <td>2.676788</td>\n",
       "      <td>2.713379</td>\n",
       "      <td>2.750428</td>\n",
       "      <td>2.830175</td>\n",
       "    </tr>\n",
       "    <tr>\n",
       "      <th>30</th>\n",
       "      <td>6.0</td>\n",
       "      <td>3.265049</td>\n",
       "      <td>0.070802</td>\n",
       "      <td>3.164719</td>\n",
       "      <td>3.216974</td>\n",
       "      <td>3.276336</td>\n",
       "      <td>3.318160</td>\n",
       "      <td>3.343618</td>\n",
       "    </tr>\n",
       "    <tr>\n",
       "      <th>45</th>\n",
       "      <td>4.0</td>\n",
       "      <td>3.967653</td>\n",
       "      <td>3.483339</td>\n",
       "      <td>2.091666</td>\n",
       "      <td>2.155533</td>\n",
       "      <td>2.295138</td>\n",
       "      <td>4.107257</td>\n",
       "      <td>9.188669</td>\n",
       "    </tr>\n",
       "    <tr>\n",
       "      <th>60</th>\n",
       "      <td>4.0</td>\n",
       "      <td>1.542684</td>\n",
       "      <td>0.165160</td>\n",
       "      <td>1.397056</td>\n",
       "      <td>1.401016</td>\n",
       "      <td>1.541860</td>\n",
       "      <td>1.683529</td>\n",
       "      <td>1.689961</td>\n",
       "    </tr>\n",
       "    <tr>\n",
       "      <th>75</th>\n",
       "      <td>11.0</td>\n",
       "      <td>0.346392</td>\n",
       "      <td>0.218465</td>\n",
       "      <td>0.070507</td>\n",
       "      <td>0.245785</td>\n",
       "      <td>0.319678</td>\n",
       "      <td>0.365077</td>\n",
       "      <td>0.949141</td>\n",
       "    </tr>\n",
       "  </tbody>\n",
       "</table>\n",
       "</div>"
      ],
      "text/plain": [
       "<IPython.core.display.HTML object>"
      ]
     },
     "metadata": {},
     "output_type": "display_data"
    },
    {
     "data": {
      "image/png": "[encoded data removed]"
     },
     "metadata": {},
     "output_type": "display_data"
    },
    {
     "data": {
      "text/html": [
       "16h5 - 5m - 720"
      ],
      "text/plain": [
       "<IPython.core.display.HTML object>"
      ]
     },
     "metadata": {},
     "output_type": "display_data"
    },
    {
     "data": {
      "text/html": [
       "<div>\n",
       "<style scoped>\n",
       "    .dataframe tbody tr th:only-of-type {\n",
       "        vertical-align: middle;\n",
       "    }\n",
       "\n",
       "    .dataframe tbody tr th {\n",
       "        vertical-align: top;\n",
       "    }\n",
       "\n",
       "    .dataframe thead th {\n",
       "        text-align: right;\n",
       "    }\n",
       "</style>\n",
       "<table border=\"1\" class=\"dataframe\">\n",
       "  <thead>\n",
       "    <tr style=\"text-align: right;\">\n",
       "      <th></th>\n",
       "      <th>count</th>\n",
       "      <th>mean</th>\n",
       "      <th>std</th>\n",
       "      <th>min</th>\n",
       "      <th>25%</th>\n",
       "      <th>50%</th>\n",
       "      <th>75%</th>\n",
       "      <th>max</th>\n",
       "    </tr>\n",
       "    <tr>\n",
       "      <th>true_yaw</th>\n",
       "      <th></th>\n",
       "      <th></th>\n",
       "      <th></th>\n",
       "      <th></th>\n",
       "      <th></th>\n",
       "      <th></th>\n",
       "      <th></th>\n",
       "      <th></th>\n",
       "    </tr>\n",
       "  </thead>\n",
       "  <tbody>\n",
       "    <tr>\n",
       "      <th>0</th>\n",
       "      <td>22.0</td>\n",
       "      <td>-6.626210</td>\n",
       "      <td>1.322668</td>\n",
       "      <td>-8.482958</td>\n",
       "      <td>-7.672485</td>\n",
       "      <td>-7.086909</td>\n",
       "      <td>-5.415604</td>\n",
       "      <td>-3.862238</td>\n",
       "    </tr>\n",
       "    <tr>\n",
       "      <th>15</th>\n",
       "      <td>34.0</td>\n",
       "      <td>0.515186</td>\n",
       "      <td>0.186045</td>\n",
       "      <td>0.164804</td>\n",
       "      <td>0.405461</td>\n",
       "      <td>0.547418</td>\n",
       "      <td>0.624483</td>\n",
       "      <td>0.826966</td>\n",
       "    </tr>\n",
       "    <tr>\n",
       "      <th>30</th>\n",
       "      <td>24.0</td>\n",
       "      <td>2.288315</td>\n",
       "      <td>0.247059</td>\n",
       "      <td>1.997239</td>\n",
       "      <td>2.142257</td>\n",
       "      <td>2.214506</td>\n",
       "      <td>2.333140</td>\n",
       "      <td>2.920634</td>\n",
       "    </tr>\n",
       "    <tr>\n",
       "      <th>45</th>\n",
       "      <td>23.0</td>\n",
       "      <td>1.975242</td>\n",
       "      <td>0.379361</td>\n",
       "      <td>1.455486</td>\n",
       "      <td>1.682354</td>\n",
       "      <td>1.963318</td>\n",
       "      <td>2.230903</td>\n",
       "      <td>2.991976</td>\n",
       "    </tr>\n",
       "    <tr>\n",
       "      <th>60</th>\n",
       "      <td>28.0</td>\n",
       "      <td>1.313206</td>\n",
       "      <td>0.844919</td>\n",
       "      <td>-0.508111</td>\n",
       "      <td>1.131807</td>\n",
       "      <td>1.539871</td>\n",
       "      <td>1.905468</td>\n",
       "      <td>2.465156</td>\n",
       "    </tr>\n",
       "  </tbody>\n",
       "</table>\n",
       "</div>"
      ],
      "text/plain": [
       "<IPython.core.display.HTML object>"
      ]
     },
     "metadata": {},
     "output_type": "display_data"
    },
    {
     "data": {
      "image/png": "[encoded data removed]"
     },
     "metadata": {},
     "output_type": "display_data"
    },
    {
     "data": {
      "text/html": [
       "16h5 - 2m - 360"
      ],
      "text/plain": [
       "<IPython.core.display.HTML object>"
      ]
     },
     "metadata": {},
     "output_type": "display_data"
    },
    {
     "data": {
      "text/html": [
       "<div>\n",
       "<style scoped>\n",
       "    .dataframe tbody tr th:only-of-type {\n",
       "        vertical-align: middle;\n",
       "    }\n",
       "\n",
       "    .dataframe tbody tr th {\n",
       "        vertical-align: top;\n",
       "    }\n",
       "\n",
       "    .dataframe thead th {\n",
       "        text-align: right;\n",
       "    }\n",
       "</style>\n",
       "<table border=\"1\" class=\"dataframe\">\n",
       "  <thead>\n",
       "    <tr style=\"text-align: right;\">\n",
       "      <th></th>\n",
       "      <th>count</th>\n",
       "      <th>mean</th>\n",
       "      <th>std</th>\n",
       "      <th>min</th>\n",
       "      <th>25%</th>\n",
       "      <th>50%</th>\n",
       "      <th>75%</th>\n",
       "      <th>max</th>\n",
       "    </tr>\n",
       "    <tr>\n",
       "      <th>true_yaw</th>\n",
       "      <th></th>\n",
       "      <th></th>\n",
       "      <th></th>\n",
       "      <th></th>\n",
       "      <th></th>\n",
       "      <th></th>\n",
       "      <th></th>\n",
       "      <th></th>\n",
       "    </tr>\n",
       "  </thead>\n",
       "  <tbody>\n",
       "    <tr>\n",
       "      <th>0</th>\n",
       "      <td>46.0</td>\n",
       "      <td>-0.019837</td>\n",
       "      <td>4.122188</td>\n",
       "      <td>-6.744078</td>\n",
       "      <td>-4.322004</td>\n",
       "      <td>1.383371</td>\n",
       "      <td>3.396531</td>\n",
       "      <td>6.899756</td>\n",
       "    </tr>\n",
       "    <tr>\n",
       "      <th>15</th>\n",
       "      <td>100.0</td>\n",
       "      <td>1.163265</td>\n",
       "      <td>0.425571</td>\n",
       "      <td>-0.656612</td>\n",
       "      <td>0.984109</td>\n",
       "      <td>1.165022</td>\n",
       "      <td>1.439633</td>\n",
       "      <td>1.968733</td>\n",
       "    </tr>\n",
       "    <tr>\n",
       "      <th>30</th>\n",
       "      <td>111.0</td>\n",
       "      <td>2.269259</td>\n",
       "      <td>0.823436</td>\n",
       "      <td>-0.313730</td>\n",
       "      <td>2.129969</td>\n",
       "      <td>2.266252</td>\n",
       "      <td>2.388581</td>\n",
       "      <td>9.455858</td>\n",
       "    </tr>\n",
       "    <tr>\n",
       "      <th>45</th>\n",
       "      <td>112.0</td>\n",
       "      <td>1.433164</td>\n",
       "      <td>0.225719</td>\n",
       "      <td>0.888214</td>\n",
       "      <td>1.284479</td>\n",
       "      <td>1.379480</td>\n",
       "      <td>1.537535</td>\n",
       "      <td>2.533185</td>\n",
       "    </tr>\n",
       "    <tr>\n",
       "      <th>60</th>\n",
       "      <td>97.0</td>\n",
       "      <td>0.868206</td>\n",
       "      <td>0.376899</td>\n",
       "      <td>-1.019609</td>\n",
       "      <td>0.640869</td>\n",
       "      <td>0.798676</td>\n",
       "      <td>1.004411</td>\n",
       "      <td>2.048084</td>\n",
       "    </tr>\n",
       "    <tr>\n",
       "      <th>75</th>\n",
       "      <td>38.0</td>\n",
       "      <td>0.573566</td>\n",
       "      <td>0.318941</td>\n",
       "      <td>-0.168592</td>\n",
       "      <td>0.392153</td>\n",
       "      <td>0.642733</td>\n",
       "      <td>0.765587</td>\n",
       "      <td>1.131484</td>\n",
       "    </tr>\n",
       "  </tbody>\n",
       "</table>\n",
       "</div>"
      ],
      "text/plain": [
       "<IPython.core.display.HTML object>"
      ]
     },
     "metadata": {},
     "output_type": "display_data"
    },
    {
     "data": {
      "image/png": "[encoded data removed]"
     },
     "metadata": {},
     "output_type": "display_data"
    },
    {
     "data": {
      "text/html": [
       "16h5 - 5m - 360"
      ],
      "text/plain": [
       "<IPython.core.display.HTML object>"
      ]
     },
     "metadata": {},
     "output_type": "display_data"
    },
    {
     "data": {
      "text/html": [
       "<div>\n",
       "<style scoped>\n",
       "    .dataframe tbody tr th:only-of-type {\n",
       "        vertical-align: middle;\n",
       "    }\n",
       "\n",
       "    .dataframe tbody tr th {\n",
       "        vertical-align: top;\n",
       "    }\n",
       "\n",
       "    .dataframe thead th {\n",
       "        text-align: right;\n",
       "    }\n",
       "</style>\n",
       "<table border=\"1\" class=\"dataframe\">\n",
       "  <thead>\n",
       "    <tr style=\"text-align: right;\">\n",
       "      <th></th>\n",
       "      <th>count</th>\n",
       "      <th>mean</th>\n",
       "      <th>std</th>\n",
       "      <th>min</th>\n",
       "      <th>25%</th>\n",
       "      <th>50%</th>\n",
       "      <th>75%</th>\n",
       "      <th>max</th>\n",
       "    </tr>\n",
       "    <tr>\n",
       "      <th>true_yaw</th>\n",
       "      <th></th>\n",
       "      <th></th>\n",
       "      <th></th>\n",
       "      <th></th>\n",
       "      <th></th>\n",
       "      <th></th>\n",
       "      <th></th>\n",
       "      <th></th>\n",
       "    </tr>\n",
       "  </thead>\n",
       "  <tbody>\n",
       "    <tr>\n",
       "      <th>0</th>\n",
       "      <td>20.0</td>\n",
       "      <td>42.943019</td>\n",
       "      <td>6.813458</td>\n",
       "      <td>37.422053</td>\n",
       "      <td>38.656775</td>\n",
       "      <td>39.397288</td>\n",
       "      <td>43.943240</td>\n",
       "      <td>54.850811</td>\n",
       "    </tr>\n",
       "    <tr>\n",
       "      <th>15</th>\n",
       "      <td>212.0</td>\n",
       "      <td>42.396730</td>\n",
       "      <td>2.018437</td>\n",
       "      <td>36.888217</td>\n",
       "      <td>42.398552</td>\n",
       "      <td>43.079552</td>\n",
       "      <td>43.725452</td>\n",
       "      <td>45.859866</td>\n",
       "    </tr>\n",
       "    <tr>\n",
       "      <th>30</th>\n",
       "      <td>1.0</td>\n",
       "      <td>34.310269</td>\n",
       "      <td>NaN</td>\n",
       "      <td>34.310269</td>\n",
       "      <td>34.310269</td>\n",
       "      <td>34.310269</td>\n",
       "      <td>34.310269</td>\n",
       "      <td>34.310269</td>\n",
       "    </tr>\n",
       "    <tr>\n",
       "      <th>45</th>\n",
       "      <td>49.0</td>\n",
       "      <td>28.248660</td>\n",
       "      <td>1.246421</td>\n",
       "      <td>26.198301</td>\n",
       "      <td>27.294519</td>\n",
       "      <td>28.214833</td>\n",
       "      <td>28.624357</td>\n",
       "      <td>32.292156</td>\n",
       "    </tr>\n",
       "    <tr>\n",
       "      <th>60</th>\n",
       "      <td>41.0</td>\n",
       "      <td>27.123573</td>\n",
       "      <td>0.900545</td>\n",
       "      <td>25.586611</td>\n",
       "      <td>26.559057</td>\n",
       "      <td>27.159137</td>\n",
       "      <td>27.726293</td>\n",
       "      <td>28.875982</td>\n",
       "    </tr>\n",
       "    <tr>\n",
       "      <th>75</th>\n",
       "      <td>72.0</td>\n",
       "      <td>26.240270</td>\n",
       "      <td>2.083624</td>\n",
       "      <td>13.226960</td>\n",
       "      <td>26.075475</td>\n",
       "      <td>26.475611</td>\n",
       "      <td>27.031754</td>\n",
       "      <td>29.140443</td>\n",
       "    </tr>\n",
       "  </tbody>\n",
       "</table>\n",
       "</div>"
      ],
      "text/plain": [
       "<IPython.core.display.HTML object>"
      ]
     },
     "metadata": {},
     "output_type": "display_data"
    },
    {
     "data": {
      "image/png": "[encoded data removed]"
     },
     "metadata": {},
     "output_type": "display_data"
    },
    {
     "data": {
      "text/html": [
       "16h5 - 2m - 720"
      ],
      "text/plain": [
       "<IPython.core.display.HTML object>"
      ]
     },
     "metadata": {},
     "output_type": "display_data"
    },
    {
     "data": {
      "text/html": [
       "<div>\n",
       "<style scoped>\n",
       "    .dataframe tbody tr th:only-of-type {\n",
       "        vertical-align: middle;\n",
       "    }\n",
       "\n",
       "    .dataframe tbody tr th {\n",
       "        vertical-align: top;\n",
       "    }\n",
       "\n",
       "    .dataframe thead th {\n",
       "        text-align: right;\n",
       "    }\n",
       "</style>\n",
       "<table border=\"1\" class=\"dataframe\">\n",
       "  <thead>\n",
       "    <tr style=\"text-align: right;\">\n",
       "      <th></th>\n",
       "      <th>count</th>\n",
       "      <th>mean</th>\n",
       "      <th>std</th>\n",
       "      <th>min</th>\n",
       "      <th>25%</th>\n",
       "      <th>50%</th>\n",
       "      <th>75%</th>\n",
       "      <th>max</th>\n",
       "    </tr>\n",
       "    <tr>\n",
       "      <th>true_yaw</th>\n",
       "      <th></th>\n",
       "      <th></th>\n",
       "      <th></th>\n",
       "      <th></th>\n",
       "      <th></th>\n",
       "      <th></th>\n",
       "      <th></th>\n",
       "      <th></th>\n",
       "    </tr>\n",
       "  </thead>\n",
       "  <tbody>\n",
       "    <tr>\n",
       "      <th>0</th>\n",
       "      <td>12.0</td>\n",
       "      <td>-2.866578</td>\n",
       "      <td>1.657439</td>\n",
       "      <td>-5.223641</td>\n",
       "      <td>-4.061532</td>\n",
       "      <td>-3.586290</td>\n",
       "      <td>-1.314326</td>\n",
       "      <td>-0.527130</td>\n",
       "    </tr>\n",
       "    <tr>\n",
       "      <th>15</th>\n",
       "      <td>30.0</td>\n",
       "      <td>1.745446</td>\n",
       "      <td>0.150157</td>\n",
       "      <td>1.318058</td>\n",
       "      <td>1.644165</td>\n",
       "      <td>1.753896</td>\n",
       "      <td>1.866319</td>\n",
       "      <td>1.953856</td>\n",
       "    </tr>\n",
       "    <tr>\n",
       "      <th>30</th>\n",
       "      <td>32.0</td>\n",
       "      <td>2.579743</td>\n",
       "      <td>0.332781</td>\n",
       "      <td>1.594584</td>\n",
       "      <td>2.586353</td>\n",
       "      <td>2.682894</td>\n",
       "      <td>2.763539</td>\n",
       "      <td>2.889025</td>\n",
       "    </tr>\n",
       "    <tr>\n",
       "      <th>45</th>\n",
       "      <td>28.0</td>\n",
       "      <td>1.836682</td>\n",
       "      <td>0.333247</td>\n",
       "      <td>1.368927</td>\n",
       "      <td>1.639055</td>\n",
       "      <td>1.727530</td>\n",
       "      <td>2.020718</td>\n",
       "      <td>3.043948</td>\n",
       "    </tr>\n",
       "    <tr>\n",
       "      <th>60</th>\n",
       "      <td>32.0</td>\n",
       "      <td>1.427648</td>\n",
       "      <td>0.442962</td>\n",
       "      <td>-0.395775</td>\n",
       "      <td>1.240021</td>\n",
       "      <td>1.432650</td>\n",
       "      <td>1.666693</td>\n",
       "      <td>2.084129</td>\n",
       "    </tr>\n",
       "    <tr>\n",
       "      <th>75</th>\n",
       "      <td>32.0</td>\n",
       "      <td>0.187845</td>\n",
       "      <td>0.388756</td>\n",
       "      <td>-0.380210</td>\n",
       "      <td>0.060311</td>\n",
       "      <td>0.081352</td>\n",
       "      <td>0.116058</td>\n",
       "      <td>1.941177</td>\n",
       "    </tr>\n",
       "  </tbody>\n",
       "</table>\n",
       "</div>"
      ],
      "text/plain": [
       "<IPython.core.display.HTML object>"
      ]
     },
     "metadata": {},
     "output_type": "display_data"
    },
    {
     "data": {
      "image/png": "[encoded data removed]"
     },
     "metadata": {},
     "output_type": "display_data"
    },
    {
     "data": {
      "text/html": [
       "36h11 - 2m - 360"
      ],
      "text/plain": [
       "<IPython.core.display.HTML object>"
      ]
     },
     "metadata": {},
     "output_type": "display_data"
    },
    {
     "data": {
      "text/html": [
       "<div>\n",
       "<style scoped>\n",
       "    .dataframe tbody tr th:only-of-type {\n",
       "        vertical-align: middle;\n",
       "    }\n",
       "\n",
       "    .dataframe tbody tr th {\n",
       "        vertical-align: top;\n",
       "    }\n",
       "\n",
       "    .dataframe thead th {\n",
       "        text-align: right;\n",
       "    }\n",
       "</style>\n",
       "<table border=\"1\" class=\"dataframe\">\n",
       "  <thead>\n",
       "    <tr style=\"text-align: right;\">\n",
       "      <th></th>\n",
       "      <th>count</th>\n",
       "      <th>mean</th>\n",
       "      <th>std</th>\n",
       "      <th>min</th>\n",
       "      <th>25%</th>\n",
       "      <th>50%</th>\n",
       "      <th>75%</th>\n",
       "      <th>max</th>\n",
       "    </tr>\n",
       "    <tr>\n",
       "      <th>true_yaw</th>\n",
       "      <th></th>\n",
       "      <th></th>\n",
       "      <th></th>\n",
       "      <th></th>\n",
       "      <th></th>\n",
       "      <th></th>\n",
       "      <th></th>\n",
       "      <th></th>\n",
       "    </tr>\n",
       "  </thead>\n",
       "  <tbody>\n",
       "    <tr>\n",
       "      <th>0</th>\n",
       "      <td>61.0</td>\n",
       "      <td>14.051637</td>\n",
       "      <td>0.505496</td>\n",
       "      <td>12.963578</td>\n",
       "      <td>13.511449</td>\n",
       "      <td>14.229205</td>\n",
       "      <td>14.422466</td>\n",
       "      <td>14.815687</td>\n",
       "    </tr>\n",
       "    <tr>\n",
       "      <th>15</th>\n",
       "      <td>81.0</td>\n",
       "      <td>1.585849</td>\n",
       "      <td>0.681215</td>\n",
       "      <td>-0.158584</td>\n",
       "      <td>1.403883</td>\n",
       "      <td>1.610737</td>\n",
       "      <td>2.201709</td>\n",
       "      <td>2.850047</td>\n",
       "    </tr>\n",
       "    <tr>\n",
       "      <th>30</th>\n",
       "      <td>2.0</td>\n",
       "      <td>13.263193</td>\n",
       "      <td>0.058318</td>\n",
       "      <td>13.221956</td>\n",
       "      <td>13.242575</td>\n",
       "      <td>13.263193</td>\n",
       "      <td>13.283812</td>\n",
       "      <td>13.304430</td>\n",
       "    </tr>\n",
       "    <tr>\n",
       "      <th>45</th>\n",
       "      <td>3.0</td>\n",
       "      <td>13.638902</td>\n",
       "      <td>0.158556</td>\n",
       "      <td>13.503181</td>\n",
       "      <td>13.551762</td>\n",
       "      <td>13.600343</td>\n",
       "      <td>13.706762</td>\n",
       "      <td>13.813181</td>\n",
       "    </tr>\n",
       "    <tr>\n",
       "      <th>60</th>\n",
       "      <td>98.0</td>\n",
       "      <td>-0.007335</td>\n",
       "      <td>0.331959</td>\n",
       "      <td>-1.761572</td>\n",
       "      <td>-0.108408</td>\n",
       "      <td>0.005505</td>\n",
       "      <td>0.171740</td>\n",
       "      <td>0.928389</td>\n",
       "    </tr>\n",
       "  </tbody>\n",
       "</table>\n",
       "</div>"
      ],
      "text/plain": [
       "<IPython.core.display.HTML object>"
      ]
     },
     "metadata": {},
     "output_type": "display_data"
    },
    {
     "data": {
      "image/png": "[encoded data removed]"
     },
     "metadata": {},
     "output_type": "display_data"
    },
    {
     "data": {
      "text/html": [
       "36h11 - 5m - 360"
      ],
      "text/plain": [
       "<IPython.core.display.HTML object>"
      ]
     },
     "metadata": {},
     "output_type": "display_data"
    },
    {
     "data": {
      "text/html": [
       "<div>\n",
       "<style scoped>\n",
       "    .dataframe tbody tr th:only-of-type {\n",
       "        vertical-align: middle;\n",
       "    }\n",
       "\n",
       "    .dataframe tbody tr th {\n",
       "        vertical-align: top;\n",
       "    }\n",
       "\n",
       "    .dataframe thead th {\n",
       "        text-align: right;\n",
       "    }\n",
       "</style>\n",
       "<table border=\"1\" class=\"dataframe\">\n",
       "  <thead>\n",
       "    <tr style=\"text-align: right;\">\n",
       "      <th></th>\n",
       "      <th>count</th>\n",
       "      <th>mean</th>\n",
       "      <th>std</th>\n",
       "      <th>min</th>\n",
       "      <th>25%</th>\n",
       "      <th>50%</th>\n",
       "      <th>75%</th>\n",
       "      <th>max</th>\n",
       "    </tr>\n",
       "    <tr>\n",
       "      <th>true_yaw</th>\n",
       "      <th></th>\n",
       "      <th></th>\n",
       "      <th></th>\n",
       "      <th></th>\n",
       "      <th></th>\n",
       "      <th></th>\n",
       "      <th></th>\n",
       "      <th></th>\n",
       "    </tr>\n",
       "  </thead>\n",
       "  <tbody>\n",
       "    <tr>\n",
       "      <th>0</th>\n",
       "      <td>4.0</td>\n",
       "      <td>28.427901</td>\n",
       "      <td>5.312073</td>\n",
       "      <td>24.307616</td>\n",
       "      <td>25.063498</td>\n",
       "      <td>26.685051</td>\n",
       "      <td>30.049455</td>\n",
       "      <td>36.033884</td>\n",
       "    </tr>\n",
       "    <tr>\n",
       "      <th>15</th>\n",
       "      <td>0.0</td>\n",
       "      <td>NaN</td>\n",
       "      <td>NaN</td>\n",
       "      <td>NaN</td>\n",
       "      <td>NaN</td>\n",
       "      <td>NaN</td>\n",
       "      <td>NaN</td>\n",
       "      <td>NaN</td>\n",
       "    </tr>\n",
       "    <tr>\n",
       "      <th>30</th>\n",
       "      <td>0.0</td>\n",
       "      <td>NaN</td>\n",
       "      <td>NaN</td>\n",
       "      <td>NaN</td>\n",
       "      <td>NaN</td>\n",
       "      <td>NaN</td>\n",
       "      <td>NaN</td>\n",
       "      <td>NaN</td>\n",
       "    </tr>\n",
       "    <tr>\n",
       "      <th>45</th>\n",
       "      <td>0.0</td>\n",
       "      <td>NaN</td>\n",
       "      <td>NaN</td>\n",
       "      <td>NaN</td>\n",
       "      <td>NaN</td>\n",
       "      <td>NaN</td>\n",
       "      <td>NaN</td>\n",
       "      <td>NaN</td>\n",
       "    </tr>\n",
       "    <tr>\n",
       "      <th>60</th>\n",
       "      <td>105.0</td>\n",
       "      <td>36.856923</td>\n",
       "      <td>4.691914</td>\n",
       "      <td>30.185342</td>\n",
       "      <td>31.610466</td>\n",
       "      <td>37.869478</td>\n",
       "      <td>41.580822</td>\n",
       "      <td>43.031567</td>\n",
       "    </tr>\n",
       "    <tr>\n",
       "      <th>75</th>\n",
       "      <td>22.0</td>\n",
       "      <td>36.772172</td>\n",
       "      <td>5.681503</td>\n",
       "      <td>31.914036</td>\n",
       "      <td>32.579954</td>\n",
       "      <td>33.859283</td>\n",
       "      <td>44.730868</td>\n",
       "      <td>45.099654</td>\n",
       "    </tr>\n",
       "  </tbody>\n",
       "</table>\n",
       "</div>"
      ],
      "text/plain": [
       "<IPython.core.display.HTML object>"
      ]
     },
     "metadata": {},
     "output_type": "display_data"
    },
    {
     "data": {
      "image/png": "[encoded data removed]"
     },
     "metadata": {},
     "output_type": "display_data"
    },
    {
     "data": {
      "text/html": [
       "36h11 - 5m - 720"
      ],
      "text/plain": [
       "<IPython.core.display.HTML object>"
      ]
     },
     "metadata": {},
     "output_type": "display_data"
    },
    {
     "data": {
      "text/html": [
       "<div>\n",
       "<style scoped>\n",
       "    .dataframe tbody tr th:only-of-type {\n",
       "        vertical-align: middle;\n",
       "    }\n",
       "\n",
       "    .dataframe tbody tr th {\n",
       "        vertical-align: top;\n",
       "    }\n",
       "\n",
       "    .dataframe thead th {\n",
       "        text-align: right;\n",
       "    }\n",
       "</style>\n",
       "<table border=\"1\" class=\"dataframe\">\n",
       "  <thead>\n",
       "    <tr style=\"text-align: right;\">\n",
       "      <th></th>\n",
       "      <th>count</th>\n",
       "      <th>mean</th>\n",
       "      <th>std</th>\n",
       "      <th>min</th>\n",
       "      <th>25%</th>\n",
       "      <th>50%</th>\n",
       "      <th>75%</th>\n",
       "      <th>max</th>\n",
       "    </tr>\n",
       "    <tr>\n",
       "      <th>true_yaw</th>\n",
       "      <th></th>\n",
       "      <th></th>\n",
       "      <th></th>\n",
       "      <th></th>\n",
       "      <th></th>\n",
       "      <th></th>\n",
       "      <th></th>\n",
       "      <th></th>\n",
       "    </tr>\n",
       "  </thead>\n",
       "  <tbody>\n",
       "    <tr>\n",
       "      <th>0</th>\n",
       "      <td>22.0</td>\n",
       "      <td>-0.420700</td>\n",
       "      <td>7.351425</td>\n",
       "      <td>-8.911731</td>\n",
       "      <td>-5.404285</td>\n",
       "      <td>-4.848573</td>\n",
       "      <td>4.756134</td>\n",
       "      <td>12.864567</td>\n",
       "    </tr>\n",
       "    <tr>\n",
       "      <th>15</th>\n",
       "      <td>25.0</td>\n",
       "      <td>4.896664</td>\n",
       "      <td>1.104314</td>\n",
       "      <td>3.535386</td>\n",
       "      <td>3.996308</td>\n",
       "      <td>4.621423</td>\n",
       "      <td>6.028017</td>\n",
       "      <td>7.370091</td>\n",
       "    </tr>\n",
       "    <tr>\n",
       "      <th>30</th>\n",
       "      <td>24.0</td>\n",
       "      <td>6.163923</td>\n",
       "      <td>0.337374</td>\n",
       "      <td>5.266534</td>\n",
       "      <td>6.054710</td>\n",
       "      <td>6.104448</td>\n",
       "      <td>6.289016</td>\n",
       "      <td>7.219348</td>\n",
       "    </tr>\n",
       "    <tr>\n",
       "      <th>45</th>\n",
       "      <td>30.0</td>\n",
       "      <td>4.792201</td>\n",
       "      <td>0.268058</td>\n",
       "      <td>4.431278</td>\n",
       "      <td>4.569451</td>\n",
       "      <td>4.721084</td>\n",
       "      <td>5.070646</td>\n",
       "      <td>5.278360</td>\n",
       "    </tr>\n",
       "    <tr>\n",
       "      <th>60</th>\n",
       "      <td>25.0</td>\n",
       "      <td>1.858991</td>\n",
       "      <td>0.385790</td>\n",
       "      <td>0.666919</td>\n",
       "      <td>1.884892</td>\n",
       "      <td>1.989988</td>\n",
       "      <td>2.085046</td>\n",
       "      <td>2.226003</td>\n",
       "    </tr>\n",
       "  </tbody>\n",
       "</table>\n",
       "</div>"
      ],
      "text/plain": [
       "<IPython.core.display.HTML object>"
      ]
     },
     "metadata": {},
     "output_type": "display_data"
    },
    {
     "data": {
      "image/png": "[encoded data removed]"
     },
     "metadata": {},
     "output_type": "display_data"
    },
    {
     "data": {
      "text/html": [
       "36h11 - 5m - 1080"
      ],
      "text/plain": [
       "<IPython.core.display.HTML object>"
      ]
     },
     "metadata": {},
     "output_type": "display_data"
    },
    {
     "data": {
      "text/html": [
       "<div>\n",
       "<style scoped>\n",
       "    .dataframe tbody tr th:only-of-type {\n",
       "        vertical-align: middle;\n",
       "    }\n",
       "\n",
       "    .dataframe tbody tr th {\n",
       "        vertical-align: top;\n",
       "    }\n",
       "\n",
       "    .dataframe thead th {\n",
       "        text-align: right;\n",
       "    }\n",
       "</style>\n",
       "<table border=\"1\" class=\"dataframe\">\n",
       "  <thead>\n",
       "    <tr style=\"text-align: right;\">\n",
       "      <th></th>\n",
       "      <th>count</th>\n",
       "      <th>mean</th>\n",
       "      <th>std</th>\n",
       "      <th>min</th>\n",
       "      <th>25%</th>\n",
       "      <th>50%</th>\n",
       "      <th>75%</th>\n",
       "      <th>max</th>\n",
       "    </tr>\n",
       "    <tr>\n",
       "      <th>true_yaw</th>\n",
       "      <th></th>\n",
       "      <th></th>\n",
       "      <th></th>\n",
       "      <th></th>\n",
       "      <th></th>\n",
       "      <th></th>\n",
       "      <th></th>\n",
       "      <th></th>\n",
       "    </tr>\n",
       "  </thead>\n",
       "  <tbody>\n",
       "    <tr>\n",
       "      <th>0</th>\n",
       "      <td>13.0</td>\n",
       "      <td>1.502776</td>\n",
       "      <td>8.405010</td>\n",
       "      <td>-5.724624</td>\n",
       "      <td>-4.939474</td>\n",
       "      <td>-4.431213</td>\n",
       "      <td>11.349973</td>\n",
       "      <td>12.303687</td>\n",
       "    </tr>\n",
       "    <tr>\n",
       "      <th>15</th>\n",
       "      <td>12.0</td>\n",
       "      <td>3.206315</td>\n",
       "      <td>0.413665</td>\n",
       "      <td>2.706618</td>\n",
       "      <td>2.883441</td>\n",
       "      <td>3.088974</td>\n",
       "      <td>3.483670</td>\n",
       "      <td>3.961249</td>\n",
       "    </tr>\n",
       "    <tr>\n",
       "      <th>30</th>\n",
       "      <td>8.0</td>\n",
       "      <td>4.827642</td>\n",
       "      <td>0.416613</td>\n",
       "      <td>4.404218</td>\n",
       "      <td>4.585656</td>\n",
       "      <td>4.726836</td>\n",
       "      <td>4.904884</td>\n",
       "      <td>5.705854</td>\n",
       "    </tr>\n",
       "    <tr>\n",
       "      <th>45</th>\n",
       "      <td>11.0</td>\n",
       "      <td>4.486584</td>\n",
       "      <td>0.112017</td>\n",
       "      <td>4.286629</td>\n",
       "      <td>4.440298</td>\n",
       "      <td>4.535436</td>\n",
       "      <td>4.559160</td>\n",
       "      <td>4.636748</td>\n",
       "    </tr>\n",
       "    <tr>\n",
       "      <th>60</th>\n",
       "      <td>12.0</td>\n",
       "      <td>2.346400</td>\n",
       "      <td>0.226826</td>\n",
       "      <td>1.759957</td>\n",
       "      <td>2.337882</td>\n",
       "      <td>2.424799</td>\n",
       "      <td>2.468754</td>\n",
       "      <td>2.553909</td>\n",
       "    </tr>\n",
       "  </tbody>\n",
       "</table>\n",
       "</div>"
      ],
      "text/plain": [
       "<IPython.core.display.HTML object>"
      ]
     },
     "metadata": {},
     "output_type": "display_data"
    },
    {
     "data": {
      "image/png": "[encoded data removed]"
     },
     "metadata": {},
     "output_type": "display_data"
    },
    {
     "data": {
      "text/html": [
       "36h11 - 2m - 720"
      ],
      "text/plain": [
       "<IPython.core.display.HTML object>"
      ]
     },
     "metadata": {},
     "output_type": "display_data"
    },
    {
     "data": {
      "text/html": [
       "<div>\n",
       "<style scoped>\n",
       "    .dataframe tbody tr th:only-of-type {\n",
       "        vertical-align: middle;\n",
       "    }\n",
       "\n",
       "    .dataframe tbody tr th {\n",
       "        vertical-align: top;\n",
       "    }\n",
       "\n",
       "    .dataframe thead th {\n",
       "        text-align: right;\n",
       "    }\n",
       "</style>\n",
       "<table border=\"1\" class=\"dataframe\">\n",
       "  <thead>\n",
       "    <tr style=\"text-align: right;\">\n",
       "      <th></th>\n",
       "      <th>count</th>\n",
       "      <th>mean</th>\n",
       "      <th>std</th>\n",
       "      <th>min</th>\n",
       "      <th>25%</th>\n",
       "      <th>50%</th>\n",
       "      <th>75%</th>\n",
       "      <th>max</th>\n",
       "    </tr>\n",
       "    <tr>\n",
       "      <th>true_yaw</th>\n",
       "      <th></th>\n",
       "      <th></th>\n",
       "      <th></th>\n",
       "      <th></th>\n",
       "      <th></th>\n",
       "      <th></th>\n",
       "      <th></th>\n",
       "      <th></th>\n",
       "    </tr>\n",
       "  </thead>\n",
       "  <tbody>\n",
       "    <tr>\n",
       "      <th>0</th>\n",
       "      <td>20.0</td>\n",
       "      <td>-5.223694</td>\n",
       "      <td>1.085263</td>\n",
       "      <td>-6.809421</td>\n",
       "      <td>-6.184451</td>\n",
       "      <td>-5.221672</td>\n",
       "      <td>-4.203342</td>\n",
       "      <td>-3.814595</td>\n",
       "    </tr>\n",
       "    <tr>\n",
       "      <th>15</th>\n",
       "      <td>24.0</td>\n",
       "      <td>1.450514</td>\n",
       "      <td>0.415964</td>\n",
       "      <td>0.148736</td>\n",
       "      <td>1.319870</td>\n",
       "      <td>1.483941</td>\n",
       "      <td>1.596240</td>\n",
       "      <td>2.105025</td>\n",
       "    </tr>\n",
       "    <tr>\n",
       "      <th>30</th>\n",
       "      <td>30.0</td>\n",
       "      <td>1.933100</td>\n",
       "      <td>0.421482</td>\n",
       "      <td>0.737064</td>\n",
       "      <td>1.856409</td>\n",
       "      <td>2.058447</td>\n",
       "      <td>2.135714</td>\n",
       "      <td>2.368420</td>\n",
       "    </tr>\n",
       "    <tr>\n",
       "      <th>45</th>\n",
       "      <td>29.0</td>\n",
       "      <td>1.486129</td>\n",
       "      <td>0.292366</td>\n",
       "      <td>0.033468</td>\n",
       "      <td>1.485329</td>\n",
       "      <td>1.544775</td>\n",
       "      <td>1.605575</td>\n",
       "      <td>1.677239</td>\n",
       "    </tr>\n",
       "    <tr>\n",
       "      <th>60</th>\n",
       "      <td>30.0</td>\n",
       "      <td>0.654052</td>\n",
       "      <td>0.165743</td>\n",
       "      <td>0.028675</td>\n",
       "      <td>0.633668</td>\n",
       "      <td>0.681911</td>\n",
       "      <td>0.746553</td>\n",
       "      <td>0.860583</td>\n",
       "    </tr>\n",
       "    <tr>\n",
       "      <th>75</th>\n",
       "      <td>20.0</td>\n",
       "      <td>0.333445</td>\n",
       "      <td>0.433672</td>\n",
       "      <td>-0.609397</td>\n",
       "      <td>0.123995</td>\n",
       "      <td>0.262005</td>\n",
       "      <td>0.414517</td>\n",
       "      <td>1.376997</td>\n",
       "    </tr>\n",
       "  </tbody>\n",
       "</table>\n",
       "</div>"
      ],
      "text/plain": [
       "<IPython.core.display.HTML object>"
      ]
     },
     "metadata": {},
     "output_type": "display_data"
    },
    {
     "data": {
      "image/png": "[encoded data removed]"
     },
     "metadata": {},
     "output_type": "display_data"
    },
    {
     "data": {
      "text/html": [
       "36h11 - 2m - 1080"
      ],
      "text/plain": [
       "<IPython.core.display.HTML object>"
      ]
     },
     "metadata": {},
     "output_type": "display_data"
    },
    {
     "data": {
      "text/html": [
       "<div>\n",
       "<style scoped>\n",
       "    .dataframe tbody tr th:only-of-type {\n",
       "        vertical-align: middle;\n",
       "    }\n",
       "\n",
       "    .dataframe tbody tr th {\n",
       "        vertical-align: top;\n",
       "    }\n",
       "\n",
       "    .dataframe thead th {\n",
       "        text-align: right;\n",
       "    }\n",
       "</style>\n",
       "<table border=\"1\" class=\"dataframe\">\n",
       "  <thead>\n",
       "    <tr style=\"text-align: right;\">\n",
       "      <th></th>\n",
       "      <th>count</th>\n",
       "      <th>mean</th>\n",
       "      <th>std</th>\n",
       "      <th>min</th>\n",
       "      <th>25%</th>\n",
       "      <th>50%</th>\n",
       "      <th>75%</th>\n",
       "      <th>max</th>\n",
       "    </tr>\n",
       "    <tr>\n",
       "      <th>true_yaw</th>\n",
       "      <th></th>\n",
       "      <th></th>\n",
       "      <th></th>\n",
       "      <th></th>\n",
       "      <th></th>\n",
       "      <th></th>\n",
       "      <th></th>\n",
       "      <th></th>\n",
       "    </tr>\n",
       "  </thead>\n",
       "  <tbody>\n",
       "    <tr>\n",
       "      <th>0</th>\n",
       "      <td>15.0</td>\n",
       "      <td>-3.646047</td>\n",
       "      <td>1.784374</td>\n",
       "      <td>-5.740343</td>\n",
       "      <td>-4.226377</td>\n",
       "      <td>-3.938149</td>\n",
       "      <td>-3.439907</td>\n",
       "      <td>0.280723</td>\n",
       "    </tr>\n",
       "    <tr>\n",
       "      <th>15</th>\n",
       "      <td>12.0</td>\n",
       "      <td>1.766055</td>\n",
       "      <td>0.334352</td>\n",
       "      <td>0.994444</td>\n",
       "      <td>1.619768</td>\n",
       "      <td>1.840886</td>\n",
       "      <td>1.992481</td>\n",
       "      <td>2.188097</td>\n",
       "    </tr>\n",
       "    <tr>\n",
       "      <th>30</th>\n",
       "      <td>10.0</td>\n",
       "      <td>2.282782</td>\n",
       "      <td>0.537471</td>\n",
       "      <td>1.297859</td>\n",
       "      <td>2.060593</td>\n",
       "      <td>2.532797</td>\n",
       "      <td>2.592552</td>\n",
       "      <td>2.802576</td>\n",
       "    </tr>\n",
       "    <tr>\n",
       "      <th>45</th>\n",
       "      <td>8.0</td>\n",
       "      <td>1.785909</td>\n",
       "      <td>0.479557</td>\n",
       "      <td>0.602127</td>\n",
       "      <td>1.927002</td>\n",
       "      <td>1.954939</td>\n",
       "      <td>1.977675</td>\n",
       "      <td>1.996061</td>\n",
       "    </tr>\n",
       "    <tr>\n",
       "      <th>60</th>\n",
       "      <td>13.0</td>\n",
       "      <td>0.892897</td>\n",
       "      <td>0.198245</td>\n",
       "      <td>0.407509</td>\n",
       "      <td>0.906287</td>\n",
       "      <td>0.967060</td>\n",
       "      <td>1.016984</td>\n",
       "      <td>1.075743</td>\n",
       "    </tr>\n",
       "    <tr>\n",
       "      <th>75</th>\n",
       "      <td>12.0</td>\n",
       "      <td>0.460964</td>\n",
       "      <td>0.478702</td>\n",
       "      <td>-0.787742</td>\n",
       "      <td>0.351691</td>\n",
       "      <td>0.533437</td>\n",
       "      <td>0.656275</td>\n",
       "      <td>1.108358</td>\n",
       "    </tr>\n",
       "  </tbody>\n",
       "</table>\n",
       "</div>"
      ],
      "text/plain": [
       "<IPython.core.display.HTML object>"
      ]
     },
     "metadata": {},
     "output_type": "display_data"
    },
    {
     "data": {
      "image/png": "[encoded data removed]"
     },
     "metadata": {},
     "output_type": "display_data"
    }
   ],
   "source": [
    "notebooks = 'rotations'\n",
    "\n",
    "display_category(notebook_paths, notebooks)"
   ]
  },
  {
   "cell_type": "markdown",
   "metadata": {},
   "source": [
    "dynamic tests - ratios of being detected in the frames"
   ]
  },
  {
   "cell_type": "code",
   "execution_count": 4,
   "metadata": {},
   "outputs": [
    {
     "data": {
      "text/html": [
       "25h9 - 4.5m - 1080"
      ],
      "text/plain": [
       "<IPython.core.display.HTML object>"
      ]
     },
     "metadata": {},
     "output_type": "display_data"
    },
    {
     "data": {
      "text/html": [
       "1    100.0\n",
       "Name: is_detected, dtype: float64"
      ],
      "text/plain": [
       "<IPython.core.display.HTML object>"
      ]
     },
     "metadata": {},
     "output_type": "display_data"
    },
    {
     "data": {
      "image/png": "[encoded data removed]"
     },
     "metadata": {},
     "output_type": "display_data"
    },
    {
     "data": {
      "text/html": [
       "21h7 - 4.5m - 1080"
      ],
      "text/plain": [
       "<IPython.core.display.HTML object>"
      ]
     },
     "metadata": {},
     "output_type": "display_data"
    },
    {
     "data": {
      "text/html": [
       "1    96.923077\n",
       "0     3.076923\n",
       "Name: is_detected, dtype: float64"
      ],
      "text/plain": [
       "<IPython.core.display.HTML object>"
      ]
     },
     "metadata": {},
     "output_type": "display_data"
    },
    {
     "data": {
      "image/png": "[encoded data removed]"
     },
     "metadata": {},
     "output_type": "display_data"
    },
    {
     "data": {
      "text/html": [
       "36h11 - 4.5m - 1080"
      ],
      "text/plain": [
       "<IPython.core.display.HTML object>"
      ]
     },
     "metadata": {},
     "output_type": "display_data"
    },
    {
     "data": {
      "text/html": [
       "1    100.0\n",
       "Name: is_detected, dtype: float64"
      ],
      "text/plain": [
       "<IPython.core.display.HTML object>"
      ]
     },
     "metadata": {},
     "output_type": "display_data"
    },
    {
     "data": {
      "image/png": "[encoded data removed]"
     },
     "metadata": {},
     "output_type": "display_data"
    },
    {
     "data": {
      "text/html": [
       "16h5 - 4.5m - 720"
      ],
      "text/plain": [
       "<IPython.core.display.HTML object>"
      ]
     },
     "metadata": {},
     "output_type": "display_data"
    },
    {
     "data": {
      "text/html": [
       "1    89.90099\n",
       "0    10.09901\n",
       "Name: is_detected, dtype: float64"
      ],
      "text/plain": [
       "<IPython.core.display.HTML object>"
      ]
     },
     "metadata": {},
     "output_type": "display_data"
    },
    {
     "data": {
      "image/png": "[encoded data removed]"
     },
     "metadata": {},
     "output_type": "display_data"
    },
    {
     "data": {
      "text/html": [
       "25h9 - 2.5m - 720"
      ],
      "text/plain": [
       "<IPython.core.display.HTML object>"
      ]
     },
     "metadata": {},
     "output_type": "display_data"
    },
    {
     "data": {
      "text/html": [
       "1    100.0\n",
       "Name: is_detected, dtype: float64"
      ],
      "text/plain": [
       "<IPython.core.display.HTML object>"
      ]
     },
     "metadata": {},
     "output_type": "display_data"
    },
    {
     "data": {
      "image/png": "[encoded data removed]"
     },
     "metadata": {},
     "output_type": "display_data"
    },
    {
     "data": {
      "text/html": [
       "21h7 - 4.5m - 720"
      ],
      "text/plain": [
       "<IPython.core.display.HTML object>"
      ]
     },
     "metadata": {},
     "output_type": "display_data"
    },
    {
     "data": {
      "text/html": [
       "1    98.776758\n",
       "0     1.223242\n",
       "Name: is_detected, dtype: float64"
      ],
      "text/plain": [
       "<IPython.core.display.HTML object>"
      ]
     },
     "metadata": {},
     "output_type": "display_data"
    },
    {
     "data": {
      "image/png": "[encoded data removed]"
     },
     "metadata": {},
     "output_type": "display_data"
    },
    {
     "data": {
      "text/html": [
       "36h11 - 4.5m - 720"
      ],
      "text/plain": [
       "<IPython.core.display.HTML object>"
      ]
     },
     "metadata": {},
     "output_type": "display_data"
    },
    {
     "data": {
      "text/html": [
       "1    100.0\n",
       "Name: is_detected, dtype: float64"
      ],
      "text/plain": [
       "<IPython.core.display.HTML object>"
      ]
     },
     "metadata": {},
     "output_type": "display_data"
    },
    {
     "data": {
      "image/png": "[encoded data removed]"
     },
     "metadata": {},
     "output_type": "display_data"
    },
    {
     "data": {
      "text/html": [
       "36h11 - 2.5m - 1080"
      ],
      "text/plain": [
       "<IPython.core.display.HTML object>"
      ]
     },
     "metadata": {},
     "output_type": "display_data"
    },
    {
     "data": {
      "text/html": [
       "1    99.497487\n",
       "0     0.502513\n",
       "Name: is_detected, dtype: float64"
      ],
      "text/plain": [
       "<IPython.core.display.HTML object>"
      ]
     },
     "metadata": {},
     "output_type": "display_data"
    },
    {
     "data": {
      "image/png": "[encoded data removed]"
     },
     "metadata": {},
     "output_type": "display_data"
    },
    {
     "data": {
      "text/html": [
       "21h7 - 2.5m - 1080"
      ],
      "text/plain": [
       "<IPython.core.display.HTML object>"
      ]
     },
     "metadata": {},
     "output_type": "display_data"
    },
    {
     "data": {
      "text/html": [
       "0    59.821429\n",
       "1    40.178571\n",
       "Name: is_detected, dtype: float64"
      ],
      "text/plain": [
       "<IPython.core.display.HTML object>"
      ]
     },
     "metadata": {},
     "output_type": "display_data"
    },
    {
     "data": {
      "image/png": "[encoded data removed]"
     },
     "metadata": {},
     "output_type": "display_data"
    },
    {
     "data": {
      "text/html": [
       "25h9 - 2.5m - 1080"
      ],
      "text/plain": [
       "<IPython.core.display.HTML object>"
      ]
     },
     "metadata": {},
     "output_type": "display_data"
    },
    {
     "data": {
      "text/html": [
       "1    100.0\n",
       "Name: is_detected, dtype: float64"
      ],
      "text/plain": [
       "<IPython.core.display.HTML object>"
      ]
     },
     "metadata": {},
     "output_type": "display_data"
    },
    {
     "data": {
      "image/png": "[encoded data removed]"
     },
     "metadata": {},
     "output_type": "display_data"
    },
    {
     "data": {
      "text/html": [
       "16h5 - 4.5m - 1080"
      ],
      "text/plain": [
       "<IPython.core.display.HTML object>"
      ]
     },
     "metadata": {},
     "output_type": "display_data"
    },
    {
     "data": {
      "text/html": [
       "1    86.624204\n",
       "0    13.375796\n",
       "Name: is_detected, dtype: float64"
      ],
      "text/plain": [
       "<IPython.core.display.HTML object>"
      ]
     },
     "metadata": {},
     "output_type": "display_data"
    },
    {
     "data": {
      "image/png": "[encoded data removed]"
     },
     "metadata": {},
     "output_type": "display_data"
    },
    {
     "data": {
      "text/html": [
       "16h5 - 2.5m - 720"
      ],
      "text/plain": [
       "<IPython.core.display.HTML object>"
      ]
     },
     "metadata": {},
     "output_type": "display_data"
    },
    {
     "data": {
      "text/html": [
       "1    94.6875\n",
       "0     5.3125\n",
       "Name: is_detected, dtype: float64"
      ],
      "text/plain": [
       "<IPython.core.display.HTML object>"
      ]
     },
     "metadata": {},
     "output_type": "display_data"
    },
    {
     "data": {
      "image/png": "[encoded data removed]"
     },
     "metadata": {},
     "output_type": "display_data"
    },
    {
     "data": {
      "text/html": [
       "36h11 - 2.5m - 720"
      ],
      "text/plain": [
       "<IPython.core.display.HTML object>"
      ]
     },
     "metadata": {},
     "output_type": "display_data"
    },
    {
     "data": {
      "text/html": [
       "1    100.0\n",
       "Name: is_detected, dtype: float64"
      ],
      "text/plain": [
       "<IPython.core.display.HTML object>"
      ]
     },
     "metadata": {},
     "output_type": "display_data"
    },
    {
     "data": {
      "image/png": "[encoded data removed]"
     },
     "metadata": {},
     "output_type": "display_data"
    },
    {
     "data": {
      "text/html": [
       "25h9 - 4.5m - 720"
      ],
      "text/plain": [
       "<IPython.core.display.HTML object>"
      ]
     },
     "metadata": {},
     "output_type": "display_data"
    },
    {
     "data": {
      "text/html": [
       "1    100.0\n",
       "Name: is_detected, dtype: float64"
      ],
      "text/plain": [
       "<IPython.core.display.HTML object>"
      ]
     },
     "metadata": {},
     "output_type": "display_data"
    },
    {
     "data": {
      "image/png": "[encoded data removed]"
     },
     "metadata": {},
     "output_type": "display_data"
    },
    {
     "data": {
      "text/html": [
       "16h5 - 2.5m - 1080"
      ],
      "text/plain": [
       "<IPython.core.display.HTML object>"
      ]
     },
     "metadata": {},
     "output_type": "display_data"
    },
    {
     "data": {
      "text/html": [
       "1    90.116279\n",
       "0     9.883721\n",
       "Name: is_detected, dtype: float64"
      ],
      "text/plain": [
       "<IPython.core.display.HTML object>"
      ]
     },
     "metadata": {},
     "output_type": "display_data"
    },
    {
     "data": {
      "image/png": "[encoded data removed]"
     },
     "metadata": {},
     "output_type": "display_data"
    },
    {
     "data": {
      "text/html": [
       "21h7 - 2.5m - 720"
      ],
      "text/plain": [
       "<IPython.core.display.HTML object>"
      ]
     },
     "metadata": {},
     "output_type": "display_data"
    },
    {
     "data": {
      "text/html": [
       "1    79.032258\n",
       "0    20.967742\n",
       "Name: is_detected, dtype: float64"
      ],
      "text/plain": [
       "<IPython.core.display.HTML object>"
      ]
     },
     "metadata": {},
     "output_type": "display_data"
    },
    {
     "data": {
      "image/png": "[encoded data removed]"
     },
     "metadata": {},
     "output_type": "display_data"
    }
   ],
   "source": [
    "notebooks = 'linear_velocity'\n",
    "display_category(notebook_paths, notebooks)"
   ]
  },
  {
   "cell_type": "code",
   "execution_count": 5,
   "metadata": {},
   "outputs": [
    {
     "data": {
      "text/html": [
       "roll - 25h9 - 1m"
      ],
      "text/plain": [
       "<IPython.core.display.HTML object>"
      ]
     },
     "metadata": {},
     "output_type": "display_data"
    },
    {
     "data": {
      "text/html": [
       "1    100.0\n",
       "Name: is_detected, dtype: float64"
      ],
      "text/plain": [
       "<IPython.core.display.HTML object>"
      ]
     },
     "metadata": {},
     "output_type": "display_data"
    },
    {
     "data": {
      "image/png": "[encoded data removed]"
     },
     "metadata": {},
     "output_type": "display_data"
    },
    {
     "data": {
      "text/html": [
       "roll - 36h11 - 1m"
      ],
      "text/plain": [
       "<IPython.core.display.HTML object>"
      ]
     },
     "metadata": {},
     "output_type": "display_data"
    },
    {
     "data": {
      "text/html": [
       "1    100.0\n",
       "Name: is_detected, dtype: float64"
      ],
      "text/plain": [
       "<IPython.core.display.HTML object>"
      ]
     },
     "metadata": {},
     "output_type": "display_data"
    },
    {
     "data": {
      "image/png": "[encoded data removed]"
     },
     "metadata": {},
     "output_type": "display_data"
    },
    {
     "data": {
      "text/html": [
       "roll - 21h7 - 1m"
      ],
      "text/plain": [
       "<IPython.core.display.HTML object>"
      ]
     },
     "metadata": {},
     "output_type": "display_data"
    },
    {
     "data": {
      "text/html": [
       "1    99.259259\n",
       "0     0.740741\n",
       "Name: is_detected, dtype: float64"
      ],
      "text/plain": [
       "<IPython.core.display.HTML object>"
      ]
     },
     "metadata": {},
     "output_type": "display_data"
    },
    {
     "data": {
      "image/png": "[encoded data removed]"
     },
     "metadata": {},
     "output_type": "display_data"
    },
    {
     "data": {
      "text/html": [
       "roll - 16h5 - 1m"
      ],
      "text/plain": [
       "<IPython.core.display.HTML object>"
      ]
     },
     "metadata": {},
     "output_type": "display_data"
    },
    {
     "data": {
      "text/html": [
       "1    83.233533\n",
       "0    16.766467\n",
       "Name: is_detected, dtype: float64"
      ],
      "text/plain": [
       "<IPython.core.display.HTML object>"
      ]
     },
     "metadata": {},
     "output_type": "display_data"
    },
    {
     "data": {
      "image/png": "[encoded data removed]"
     },
     "metadata": {},
     "output_type": "display_data"
    },
    {
     "data": {
      "text/html": [
       "roll - 25h9 - 3m"
      ],
      "text/plain": [
       "<IPython.core.display.HTML object>"
      ]
     },
     "metadata": {},
     "output_type": "display_data"
    },
    {
     "data": {
      "text/html": [
       "1    100.0\n",
       "Name: is_detected, dtype: float64"
      ],
      "text/plain": [
       "<IPython.core.display.HTML object>"
      ]
     },
     "metadata": {},
     "output_type": "display_data"
    },
    {
     "data": {
      "image/png": "[encoded data removed]"
     },
     "metadata": {},
     "output_type": "display_data"
    },
    {
     "data": {
      "text/html": [
       "roll - 36h11 - 3m"
      ],
      "text/plain": [
       "<IPython.core.display.HTML object>"
      ]
     },
     "metadata": {},
     "output_type": "display_data"
    },
    {
     "data": {
      "text/html": [
       "1    100.0\n",
       "Name: is_detected, dtype: float64"
      ],
      "text/plain": [
       "<IPython.core.display.HTML object>"
      ]
     },
     "metadata": {},
     "output_type": "display_data"
    },
    {
     "data": {
      "image/png": "[encoded data removed]"
     },
     "metadata": {},
     "output_type": "display_data"
    },
    {
     "data": {
      "text/html": [
       "roll - 21h7 - 3m"
      ],
      "text/plain": [
       "<IPython.core.display.HTML object>"
      ]
     },
     "metadata": {},
     "output_type": "display_data"
    },
    {
     "data": {
      "text/html": [
       "1    100.0\n",
       "Name: is_detected, dtype: float64"
      ],
      "text/plain": [
       "<IPython.core.display.HTML object>"
      ]
     },
     "metadata": {},
     "output_type": "display_data"
    },
    {
     "data": {
      "image/png": "[encoded data removed]"
     },
     "metadata": {},
     "output_type": "display_data"
    },
    {
     "data": {
      "text/html": [
       "roll - 16h5 - 3m"
      ],
      "text/plain": [
       "<IPython.core.display.HTML object>"
      ]
     },
     "metadata": {},
     "output_type": "display_data"
    },
    {
     "data": {
      "text/html": [
       "1    82.608696\n",
       "0    17.391304\n",
       "Name: is_detected, dtype: float64"
      ],
      "text/plain": [
       "<IPython.core.display.HTML object>"
      ]
     },
     "metadata": {},
     "output_type": "display_data"
    },
    {
     "data": {
      "image/png": "[encoded data removed]"
     },
     "metadata": {},
     "output_type": "display_data"
    },
    {
     "data": {
      "text/html": [
       "yaw - 25h9 - 1m"
      ],
      "text/plain": [
       "<IPython.core.display.HTML object>"
      ]
     },
     "metadata": {},
     "output_type": "display_data"
    },
    {
     "data": {
      "text/html": [
       "1    100.0\n",
       "Name: is_detected, dtype: float64"
      ],
      "text/plain": [
       "<IPython.core.display.HTML object>"
      ]
     },
     "metadata": {},
     "output_type": "display_data"
    },
    {
     "data": {
      "image/png": "[encoded data removed]"
     },
     "metadata": {},
     "output_type": "display_data"
    },
    {
     "data": {
      "text/html": [
       "yaw - 36h11 - 1m"
      ],
      "text/plain": [
       "<IPython.core.display.HTML object>"
      ]
     },
     "metadata": {},
     "output_type": "display_data"
    },
    {
     "data": {
      "text/html": [
       "1    100.0\n",
       "Name: is_detected, dtype: float64"
      ],
      "text/plain": [
       "<IPython.core.display.HTML object>"
      ]
     },
     "metadata": {},
     "output_type": "display_data"
    },
    {
     "data": {
      "image/png": "[encoded data removed]"
     },
     "metadata": {},
     "output_type": "display_data"
    },
    {
     "data": {
      "text/html": [
       "yaw - 21h7 - 1m"
      ],
      "text/plain": [
       "<IPython.core.display.HTML object>"
      ]
     },
     "metadata": {},
     "output_type": "display_data"
    },
    {
     "data": {
      "text/html": [
       "1    97.752809\n",
       "0     2.247191\n",
       "Name: is_detected, dtype: float64"
      ],
      "text/plain": [
       "<IPython.core.display.HTML object>"
      ]
     },
     "metadata": {},
     "output_type": "display_data"
    },
    {
     "data": {
      "image/png": "[encoded data removed]"
     },
     "metadata": {},
     "output_type": "display_data"
    },
    {
     "data": {
      "text/html": [
       "yaw - 16h5 - 1m"
      ],
      "text/plain": [
       "<IPython.core.display.HTML object>"
      ]
     },
     "metadata": {},
     "output_type": "display_data"
    },
    {
     "data": {
      "text/html": [
       "1    84.810127\n",
       "0    15.189873\n",
       "Name: is_detected, dtype: float64"
      ],
      "text/plain": [
       "<IPython.core.display.HTML object>"
      ]
     },
     "metadata": {},
     "output_type": "display_data"
    },
    {
     "data": {
      "image/png": "[encoded data removed]"
     },
     "metadata": {},
     "output_type": "display_data"
    },
    {
     "data": {
      "text/html": [
       "yaw - 25h9 - 3m"
      ],
      "text/plain": [
       "<IPython.core.display.HTML object>"
      ]
     },
     "metadata": {},
     "output_type": "display_data"
    },
    {
     "data": {
      "text/html": [
       "1    100.0\n",
       "Name: is_detected, dtype: float64"
      ],
      "text/plain": [
       "<IPython.core.display.HTML object>"
      ]
     },
     "metadata": {},
     "output_type": "display_data"
    },
    {
     "data": {
      "image/png": "[encoded data removed]"
     },
     "metadata": {},
     "output_type": "display_data"
    },
    {
     "data": {
      "text/html": [
       "yaw - 36h11 - 3m"
      ],
      "text/plain": [
       "<IPython.core.display.HTML object>"
      ]
     },
     "metadata": {},
     "output_type": "display_data"
    },
    {
     "data": {
      "text/html": [
       "1    100.0\n",
       "Name: is_detected, dtype: float64"
      ],
      "text/plain": [
       "<IPython.core.display.HTML object>"
      ]
     },
     "metadata": {},
     "output_type": "display_data"
    },
    {
     "data": {
      "image/png": "[encoded data removed]"
     },
     "metadata": {},
     "output_type": "display_data"
    },
    {
     "data": {
      "text/html": [
       "yaw - 21h7 - 3m"
      ],
      "text/plain": [
       "<IPython.core.display.HTML object>"
      ]
     },
     "metadata": {},
     "output_type": "display_data"
    },
    {
     "data": {
      "text/html": [
       "1    96.899225\n",
       "0     3.100775\n",
       "Name: is_detected, dtype: float64"
      ],
      "text/plain": [
       "<IPython.core.display.HTML object>"
      ]
     },
     "metadata": {},
     "output_type": "display_data"
    },
    {
     "data": {
      "image/png": "[encoded data removed]"
     },
     "metadata": {},
     "output_type": "display_data"
    },
    {
     "data": {
      "text/html": [
       "yaw - 16h5 - 3m"
      ],
      "text/plain": [
       "<IPython.core.display.HTML object>"
      ]
     },
     "metadata": {},
     "output_type": "display_data"
    },
    {
     "data": {
      "text/html": [
       "1    83.064516\n",
       "0    16.935484\n",
       "Name: is_detected, dtype: float64"
      ],
      "text/plain": [
       "<IPython.core.display.HTML object>"
      ]
     },
     "metadata": {},
     "output_type": "display_data"
    },
    {
     "data": {
      "image/png": "[encoded data removed]"
     },
     "metadata": {},
     "output_type": "display_data"
    }
   ],
   "source": [
    "notebooks = 'angular_velocity'\n",
    "\n",
    "display_category(notebook_paths, notebooks)"
   ]
  }
 ],
 "metadata": {
  "interpreter": {
   "hash": "24f0cfc12892a07a47ebf2a99324d36ed3d1a4ed7429495bde90f0e766fef1b0"
  },
  "kernelspec": {
   "display_name": "Python 3.8.10 ('env': venv)",
   "language": "python",
   "name": "python3"
  },
  "language_info": {
   "codemirror_mode": {
    "name": "ipython",
    "version": 3
   },
   "file_extension": ".py",
   "mimetype": "text/x-python",
   "name": "python",
   "nbconvert_exporter": "python",
   "pygments_lexer": "ipython3",
   "version": "3.8.10"
  },
  "orig_nbformat": 4
 },
 "nbformat": 4,
 "nbformat_minor": 2
}
