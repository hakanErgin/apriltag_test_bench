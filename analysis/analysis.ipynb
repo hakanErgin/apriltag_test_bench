{
 "cells": [
  {
   "cell_type": "code",
   "execution_count": 122,
   "metadata": {},
   "outputs": [],
   "source": [
    "import glob\n",
    "\n",
    "path = '../test_pipeline/scripts'\n",
    "\n",
    "files = glob.glob(path + '/**/result/**/*.ipynb', recursive = True)\n",
    "\n",
    "test_results = {\n",
    "    'translations': [],\n",
    "    'rotations': [],\n",
    "    'linear_velocity': [],\n",
    "    'angular_velocity': [],\n",
    "}\n",
    "\n",
    "for file in files:\n",
    "    category = file.split('/')[file.split('/').index('result')-1]\n",
    "    test_results[category].append(file)"
   ]
  },
  {
   "cell_type": "code",
   "execution_count": 123,
   "metadata": {},
   "outputs": [],
   "source": [
    "import nbformat\n",
    "\n",
    "nb_name = test_results['translations'][1]\n",
    "\n",
    "nb = nbformat.read('/home/hakanergin/code/apriltag_test_bench/test_pipeline/scripts/static_tests/translations/result/36h11_s_z_2-4-6-8-10_1080_20.ipynb', as_version=4)\n"
   ]
  },
  {
   "cell_type": "code",
   "execution_count": 137,
   "metadata": {},
   "outputs": [
    {
     "data": {
      "text/html": [
       "<div>\n",
       "<style scoped>\n",
       "    .dataframe tbody tr th:only-of-type {\n",
       "        vertical-align: middle;\n",
       "    }\n",
       "\n",
       "    .dataframe tbody tr th {\n",
       "        vertical-align: top;\n",
       "    }\n",
       "\n",
       "    .dataframe thead th {\n",
       "        text-align: right;\n",
       "    }\n",
       "</style>\n",
       "<table border=\"1\" class=\"dataframe\">\n",
       "  <thead>\n",
       "    <tr style=\"text-align: right;\">\n",
       "      <th></th>\n",
       "      <th>count</th>\n",
       "      <th>mean</th>\n",
       "      <th>std</th>\n",
       "      <th>min</th>\n",
       "      <th>25%</th>\n",
       "      <th>50%</th>\n",
       "      <th>75%</th>\n",
       "      <th>max</th>\n",
       "    </tr>\n",
       "    <tr>\n",
       "      <th>true_distance</th>\n",
       "      <th></th>\n",
       "      <th></th>\n",
       "      <th></th>\n",
       "      <th></th>\n",
       "      <th></th>\n",
       "      <th></th>\n",
       "      <th></th>\n",
       "      <th></th>\n",
       "    </tr>\n",
       "  </thead>\n",
       "  <tbody>\n",
       "    <tr>\n",
       "      <th>2</th>\n",
       "      <td>20.0</td>\n",
       "      <td>-0.029198</td>\n",
       "      <td>0.002703</td>\n",
       "      <td>-0.038909</td>\n",
       "      <td>-0.029888</td>\n",
       "      <td>-0.029018</td>\n",
       "      <td>-0.027931</td>\n",
       "      <td>-0.025818</td>\n",
       "    </tr>\n",
       "    <tr>\n",
       "      <th>4</th>\n",
       "      <td>24.0</td>\n",
       "      <td>-0.003390</td>\n",
       "      <td>0.012833</td>\n",
       "      <td>-0.055768</td>\n",
       "      <td>-0.007372</td>\n",
       "      <td>-0.001218</td>\n",
       "      <td>0.003898</td>\n",
       "      <td>0.012301</td>\n",
       "    </tr>\n",
       "    <tr>\n",
       "      <th>6</th>\n",
       "      <td>18.0</td>\n",
       "      <td>-0.030017</td>\n",
       "      <td>0.008542</td>\n",
       "      <td>-0.043797</td>\n",
       "      <td>-0.036312</td>\n",
       "      <td>-0.028639</td>\n",
       "      <td>-0.025507</td>\n",
       "      <td>-0.013583</td>\n",
       "    </tr>\n",
       "    <tr>\n",
       "      <th>8</th>\n",
       "      <td>26.0</td>\n",
       "      <td>0.000238</td>\n",
       "      <td>0.041557</td>\n",
       "      <td>-0.109079</td>\n",
       "      <td>-0.010343</td>\n",
       "      <td>0.007116</td>\n",
       "      <td>0.031559</td>\n",
       "      <td>0.055637</td>\n",
       "    </tr>\n",
       "    <tr>\n",
       "      <th>10</th>\n",
       "      <td>17.0</td>\n",
       "      <td>-0.029684</td>\n",
       "      <td>0.028080</td>\n",
       "      <td>-0.077808</td>\n",
       "      <td>-0.043651</td>\n",
       "      <td>-0.034359</td>\n",
       "      <td>-0.009903</td>\n",
       "      <td>0.025391</td>\n",
       "    </tr>\n",
       "  </tbody>\n",
       "</table>\n",
       "</div>"
      ],
      "text/plain": [
       "<IPython.core.display.HTML object>"
      ]
     },
     "metadata": {},
     "output_type": "display_data"
    },
    {
     "data": {
      "image/png": "[encoded data removed]"
     },
     "metadata": {},
     "output_type": "display_data"
    },
    {
     "data": {
      "text/plain": [
       "(None, None)"
      ]
     },
     "execution_count": 137,
     "metadata": {},
     "output_type": "execute_result"
    }
   ],
   "source": [
    "from data_exporter import export_data\n",
    "export_data(nb)"
   ]
  },
  {
   "cell_type": "code",
   "execution_count": 127,
   "metadata": {},
   "outputs": [
    {
     "data": {
      "text/plain": [
       "'../test_pipeline/scripts/static_tests/translations/result/36h11_s_z_2-4-6-8-10_1080_20.ipynb'"
      ]
     },
     "execution_count": 127,
     "metadata": {},
     "output_type": "execute_result"
    }
   ],
   "source": [
    "nb_name"
   ]
  },
  {
   "cell_type": "code",
   "execution_count": 128,
   "metadata": {},
   "outputs": [],
   "source": [
    "from img_exporter import export_images\n",
    "\n",
    "export_images(nb_name, None)"
   ]
  }
 ],
 "metadata": {
  "interpreter": {
   "hash": "24f0cfc12892a07a47ebf2a99324d36ed3d1a4ed7429495bde90f0e766fef1b0"
  },
  "kernelspec": {
   "display_name": "Python 3.8.10 ('env': venv)",
   "language": "python",
   "name": "python3"
  },
  "language_info": {
   "codemirror_mode": {
    "name": "ipython",
    "version": 3
   },
   "file_extension": ".py",
   "mimetype": "text/x-python",
   "name": "python",
   "nbconvert_exporter": "python",
   "pygments_lexer": "ipython3",
   "version": "3.8.10"
  },
  "orig_nbformat": 4
 },
 "nbformat": 4,
 "nbformat_minor": 2
}
