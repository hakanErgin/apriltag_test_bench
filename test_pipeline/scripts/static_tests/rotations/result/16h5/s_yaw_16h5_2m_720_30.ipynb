{
    "cells": [
        {
            "cell_type": "code",
            "execution_count": 1,
            "metadata": {},
            "outputs": [],
            "source": [
                "import rosbag\n",
                "import pandas as pd\n",
                "import matplotlib.pyplot as plt\n",
                "import numpy as np\n",
                "import tf\n",
                "from scipy.signal import find_peaks"
            ]
        },
        {
            "cell_type": "code",
            "execution_count": 2,
            "metadata": {},
            "outputs": [],
            "source": [
                "bag = rosbag.Bag('/home/hakanergin/code/rosbags/static/rotation/16h5/s_yaw_16h5_2m_720_30.bag')\n",
                "\n",
                "# create variables\n",
                "target = 'yaw'\n",
                "true_value = 'true_yaw'\n",
                "\n",
                "# input values in degrees. the order matters, it will be used for binning \n",
                "input_vals = [0,15,30,45,60,75]"
            ]
        },
        {
            "cell_type": "code",
            "execution_count": 3,
            "metadata": {},
            "outputs": [],
            "source": [
                "topic = '/tf'\n",
                "\n",
                "rows = []\n",
                "\n",
                "for topic, msg, t in bag.read_messages(topics=topic):\n",
                "    \n",
                "    time = t\n",
                "\n",
                "    # conversion to euler\n",
                "    rotation_quat = msg.transforms[0].transform.rotation\n",
                "    pitch, yaw, roll = tf.transformations.euler_from_quaternion([rotation_quat.x,rotation_quat.y,rotation_quat.z,rotation_quat.w], axes='rxyz')\n",
                "\n",
                "    # all rotations\n",
                "    # rotation_euler = (np.degrees(pitch), np.degrees(yaw), np.degrees(roll))\n",
                "\n",
                "    # create row\n",
                "    row={'time': time.to_sec(), target: np.degrees(yaw)}\n",
                "    rows.append(row)\n",
                "\n",
                "df = pd.DataFrame.from_records(rows)"
            ]
        },
        {
            "cell_type": "code",
            "execution_count": 4,
            "metadata": {},
            "outputs": [
                {
                    "data": {
                        "text/html": [
                            "<div>\n",
                            "<style scoped>\n",
                            "    .dataframe tbody tr th:only-of-type {\n",
                            "        vertical-align: middle;\n",
                            "    }\n",
                            "\n",
                            "    .dataframe tbody tr th {\n",
                            "        vertical-align: top;\n",
                            "    }\n",
                            "\n",
                            "    .dataframe thead th {\n",
                            "        text-align: right;\n",
                            "    }\n",
                            "</style>\n",
                            "<table border=\"1\" class=\"dataframe\">\n",
                            "  <thead>\n",
                            "    <tr style=\"text-align: right;\">\n",
                            "      <th></th>\n",
                            "      <th>relative_time</th>\n",
                            "      <th>yaw</th>\n",
                            "    </tr>\n",
                            "  </thead>\n",
                            "  <tbody>\n",
                            "    <tr>\n",
                            "      <th>0</th>\n",
                            "      <td>0.000000</td>\n",
                            "      <td>30.397384</td>\n",
                            "    </tr>\n",
                            "    <tr>\n",
                            "      <th>1</th>\n",
                            "      <td>0.316534</td>\n",
                            "      <td>37.884915</td>\n",
                            "    </tr>\n",
                            "    <tr>\n",
                            "      <th>2</th>\n",
                            "      <td>0.982116</td>\n",
                            "      <td>11.845627</td>\n",
                            "    </tr>\n",
                            "    <tr>\n",
                            "      <th>3</th>\n",
                            "      <td>1.309343</td>\n",
                            "      <td>2.479181</td>\n",
                            "    </tr>\n",
                            "    <tr>\n",
                            "      <th>4</th>\n",
                            "      <td>1.939487</td>\n",
                            "      <td>3.511144</td>\n",
                            "    </tr>\n",
                            "    <tr>\n",
                            "      <th>...</th>\n",
                            "      <td>...</td>\n",
                            "      <td>...</td>\n",
                            "    </tr>\n",
                            "    <tr>\n",
                            "      <th>909</th>\n",
                            "      <td>101.317930</td>\n",
                            "      <td>74.223443</td>\n",
                            "    </tr>\n",
                            "    <tr>\n",
                            "      <th>910</th>\n",
                            "      <td>101.418097</td>\n",
                            "      <td>71.456404</td>\n",
                            "    </tr>\n",
                            "    <tr>\n",
                            "      <th>911</th>\n",
                            "      <td>101.515909</td>\n",
                            "      <td>72.368710</td>\n",
                            "    </tr>\n",
                            "    <tr>\n",
                            "      <th>912</th>\n",
                            "      <td>101.625006</td>\n",
                            "      <td>76.257898</td>\n",
                            "    </tr>\n",
                            "    <tr>\n",
                            "      <th>913</th>\n",
                            "      <td>102.225398</td>\n",
                            "      <td>-12.008276</td>\n",
                            "    </tr>\n",
                            "  </tbody>\n",
                            "</table>\n",
                            "<p>914 rows × 2 columns</p>\n",
                            "</div>"
                        ],
                        "text/plain": [
                            "     relative_time        yaw\n",
                            "0         0.000000  30.397384\n",
                            "1         0.316534  37.884915\n",
                            "2         0.982116  11.845627\n",
                            "3         1.309343   2.479181\n",
                            "4         1.939487   3.511144\n",
                            "..             ...        ...\n",
                            "909     101.317930  74.223443\n",
                            "910     101.418097  71.456404\n",
                            "911     101.515909  72.368710\n",
                            "912     101.625006  76.257898\n",
                            "913     102.225398 -12.008276\n",
                            "\n",
                            "[914 rows x 2 columns]"
                        ]
                    },
                    "execution_count": 4,
                    "metadata": {},
                    "output_type": "execute_result"
                }
            ],
            "source": [
                "# calculate relative time in seconds instead of absolute time\n",
                "df['relative_time'] =  df.loc[0:, 'time'] - df.at[0, 'time']\n",
                "df = df.drop(columns=['time'])\n",
                "df = df[['relative_time', target]]\n",
                "df"
            ]
        },
        {
            "cell_type": "code",
            "execution_count": 5,
            "metadata": {},
            "outputs": [
                {
                    "data": {
                        "text/plain": [
                            "<AxesSubplot:xlabel='relative_time'>"
                        ]
                    },
                    "execution_count": 5,
                    "metadata": {},
                    "output_type": "execute_result"
                },
                {
                    "data": {
                        "image/png": "[encoded data removed]",
                        "text/plain": [
                            "<Figure size 432x288 with 1 Axes>"
                        ]
                    },
                    "metadata": {
                        "needs_background": "light"
                    },
                    "output_type": "display_data"
                }
            ],
            "source": [
                "# initial graph\n",
                "df.plot(x='relative_time', y=target)"
            ]
        },
        {
            "cell_type": "code",
            "execution_count": 6,
            "metadata": {},
            "outputs": [],
            "source": [
                "# find plateaus\n",
                "x = df[target]\n",
                "peaks, _ = find_peaks(x, threshold=(0, 1)) # from find_peaks docs: Threshold: The first element is always interpreted as the minimal and the second, if supplied, as the maximal required threshold."
            ]
        },
        {
            "cell_type": "code",
            "execution_count": 7,
            "metadata": {},
            "outputs": [
                {
                    "data": {
                        "text/plain": [
                            "167"
                        ]
                    },
                    "execution_count": 7,
                    "metadata": {},
                    "output_type": "execute_result"
                }
            ],
            "source": [
                "# the amount of data points we are left with\n",
                "len(x[peaks])"
            ]
        },
        {
            "cell_type": "code",
            "execution_count": 8,
            "metadata": {},
            "outputs": [],
            "source": [
                "# create filtered data frame\n",
                "df_filtered_by_targets = df.loc[peaks]"
            ]
        },
        {
            "cell_type": "code",
            "execution_count": 9,
            "metadata": {},
            "outputs": [
                {
                    "data": {
                        "text/plain": [
                            "<AxesSubplot:xlabel='relative_time', ylabel='yaw'>"
                        ]
                    },
                    "execution_count": 9,
                    "metadata": {},
                    "output_type": "execute_result"
                },
                {
                    "data": {
                        "image/png": "[encoded data removed]",
                        "text/plain": [
                            "<Figure size 432x288 with 1 Axes>"
                        ]
                    },
                    "metadata": {
                        "needs_background": "light"
                    },
                    "output_type": "display_data"
                }
            ],
            "source": [
                "df_filtered_by_targets.plot.scatter(x='relative_time', y=target)"
            ]
        },
        {
            "cell_type": "code",
            "execution_count": 10,
            "metadata": {},
            "outputs": [],
            "source": [
                "# segmenting/binning by real value\n",
                "df_filtered_by_targets[true_value] = pd.cut(df_filtered_by_targets[target], bins=len(input_vals), labels=input_vals)"
            ]
        },
        {
            "cell_type": "code",
            "execution_count": 11,
            "metadata": {},
            "outputs": [],
            "source": [
                "# calculate the error\n",
                "df_filtered_by_targets['error'] =  df_filtered_by_targets.apply(lambda row: row[true_value] - row[target], axis=1)"
            ]
        },
        {
            "cell_type": "code",
            "execution_count": 12,
            "metadata": {},
            "outputs": [],
            "source": [
                "# remove huge errors because theyre actually wrongly binned\n",
                "df_filtered_by_targets = df_filtered_by_targets.drop(df_filtered_by_targets[df_filtered_by_targets['error'].abs()>10].index)"
            ]
        },
        {
            "cell_type": "code",
            "execution_count": 13,
            "metadata": {},
            "outputs": [],
            "source": [
                "grouped_df = df_filtered_by_targets.groupby(true_value)"
            ]
        },
        {
            "cell_type": "code",
            "execution_count": 14,
            "metadata": {},
            "outputs": [
                {
                    "data": {
                        "text/html": [
                            "<div>\n",
                            "<style scoped>\n",
                            "    .dataframe tbody tr th:only-of-type {\n",
                            "        vertical-align: middle;\n",
                            "    }\n",
                            "\n",
                            "    .dataframe tbody tr th {\n",
                            "        vertical-align: top;\n",
                            "    }\n",
                            "\n",
                            "    .dataframe thead th {\n",
                            "        text-align: right;\n",
                            "    }\n",
                            "</style>\n",
                            "<table border=\"1\" class=\"dataframe\">\n",
                            "  <thead>\n",
                            "    <tr style=\"text-align: right;\">\n",
                            "      <th></th>\n",
                            "      <th>relative_time</th>\n",
                            "      <th>yaw</th>\n",
                            "      <th>true_yaw</th>\n",
                            "      <th>error</th>\n",
                            "    </tr>\n",
                            "  </thead>\n",
                            "  <tbody>\n",
                            "    <tr>\n",
                            "      <th>100</th>\n",
                            "      <td>17.684919</td>\n",
                            "      <td>1.417482</td>\n",
                            "      <td>0</td>\n",
                            "      <td>-1.417482</td>\n",
                            "    </tr>\n",
                            "    <tr>\n",
                            "      <th>116</th>\n",
                            "      <td>19.263358</td>\n",
                            "      <td>1.216725</td>\n",
                            "      <td>0</td>\n",
                            "      <td>-1.216725</td>\n",
                            "    </tr>\n",
                            "    <tr>\n",
                            "      <th>270</th>\n",
                            "      <td>34.399703</td>\n",
                            "      <td>13.272193</td>\n",
                            "      <td>15</td>\n",
                            "      <td>1.727807</td>\n",
                            "    </tr>\n",
                            "    <tr>\n",
                            "      <th>282</th>\n",
                            "      <td>35.508279</td>\n",
                            "      <td>13.237695</td>\n",
                            "      <td>15</td>\n",
                            "      <td>1.762305</td>\n",
                            "    </tr>\n",
                            "    <tr>\n",
                            "      <th>435</th>\n",
                            "      <td>51.881130</td>\n",
                            "      <td>27.250691</td>\n",
                            "      <td>30</td>\n",
                            "      <td>2.749309</td>\n",
                            "    </tr>\n",
                            "    <tr>\n",
                            "      <th>439</th>\n",
                            "      <td>52.305299</td>\n",
                            "      <td>27.326145</td>\n",
                            "      <td>30</td>\n",
                            "      <td>2.673855</td>\n",
                            "    </tr>\n",
                            "    <tr>\n",
                            "      <th>591</th>\n",
                            "      <td>68.070622</td>\n",
                            "      <td>42.923475</td>\n",
                            "      <td>45</td>\n",
                            "      <td>2.076525</td>\n",
                            "    </tr>\n",
                            "    <tr>\n",
                            "      <th>593</th>\n",
                            "      <td>68.275640</td>\n",
                            "      <td>42.931411</td>\n",
                            "      <td>45</td>\n",
                            "      <td>2.068589</td>\n",
                            "    </tr>\n",
                            "    <tr>\n",
                            "      <th>753</th>\n",
                            "      <td>84.414460</td>\n",
                            "      <td>58.310781</td>\n",
                            "      <td>60</td>\n",
                            "      <td>1.689219</td>\n",
                            "    </tr>\n",
                            "    <tr>\n",
                            "      <th>756</th>\n",
                            "      <td>84.713648</td>\n",
                            "      <td>58.471917</td>\n",
                            "      <td>60</td>\n",
                            "      <td>1.528083</td>\n",
                            "    </tr>\n",
                            "    <tr>\n",
                            "      <th>899</th>\n",
                            "      <td>100.312023</td>\n",
                            "      <td>74.962749</td>\n",
                            "      <td>75</td>\n",
                            "      <td>0.037251</td>\n",
                            "    </tr>\n",
                            "    <tr>\n",
                            "      <th>902</th>\n",
                            "      <td>100.610736</td>\n",
                            "      <td>74.727970</td>\n",
                            "      <td>75</td>\n",
                            "      <td>0.272030</td>\n",
                            "    </tr>\n",
                            "  </tbody>\n",
                            "</table>\n",
                            "</div>"
                        ],
                        "text/plain": [
                            "     relative_time        yaw true_yaw     error\n",
                            "100      17.684919   1.417482        0 -1.417482\n",
                            "116      19.263358   1.216725        0 -1.216725\n",
                            "270      34.399703  13.272193       15  1.727807\n",
                            "282      35.508279  13.237695       15  1.762305\n",
                            "435      51.881130  27.250691       30  2.749309\n",
                            "439      52.305299  27.326145       30  2.673855\n",
                            "591      68.070622  42.923475       45  2.076525\n",
                            "593      68.275640  42.931411       45  2.068589\n",
                            "753      84.414460  58.310781       60  1.689219\n",
                            "756      84.713648  58.471917       60  1.528083\n",
                            "899     100.312023  74.962749       75  0.037251\n",
                            "902     100.610736  74.727970       75  0.272030"
                        ]
                    },
                    "execution_count": 14,
                    "metadata": {},
                    "output_type": "execute_result"
                }
            ],
            "source": [
                "# verify if the bins are in correct order, this is dictated by input_vals order\n",
                "grouped_df.tail(2)"
            ]
        },
        {
            "cell_type": "code",
            "execution_count": 15,
            "metadata": {},
            "outputs": [
                {
                    "data": {
                        "text/html": [
                            "<div>\n",
                            "<style scoped>\n",
                            "    .dataframe tbody tr th:only-of-type {\n",
                            "        vertical-align: middle;\n",
                            "    }\n",
                            "\n",
                            "    .dataframe tbody tr th {\n",
                            "        vertical-align: top;\n",
                            "    }\n",
                            "\n",
                            "    .dataframe thead th {\n",
                            "        text-align: right;\n",
                            "    }\n",
                            "</style>\n",
                            "<table border=\"1\" class=\"dataframe\">\n",
                            "  <thead>\n",
                            "    <tr style=\"text-align: right;\">\n",
                            "      <th></th>\n",
                            "      <th>count</th>\n",
                            "      <th>mean</th>\n",
                            "      <th>std</th>\n",
                            "      <th>min</th>\n",
                            "      <th>25%</th>\n",
                            "      <th>50%</th>\n",
                            "      <th>75%</th>\n",
                            "      <th>max</th>\n",
                            "    </tr>\n",
                            "    <tr>\n",
                            "      <th>true_yaw</th>\n",
                            "      <th></th>\n",
                            "      <th></th>\n",
                            "      <th></th>\n",
                            "      <th></th>\n",
                            "      <th></th>\n",
                            "      <th></th>\n",
                            "      <th></th>\n",
                            "      <th></th>\n",
                            "    </tr>\n",
                            "  </thead>\n",
                            "  <tbody>\n",
                            "    <tr>\n",
                            "      <th>0</th>\n",
                            "      <td>12.0</td>\n",
                            "      <td>-2.866578</td>\n",
                            "      <td>1.657439</td>\n",
                            "      <td>-5.223641</td>\n",
                            "      <td>-4.061532</td>\n",
                            "      <td>-3.586290</td>\n",
                            "      <td>-1.314326</td>\n",
                            "      <td>-0.527130</td>\n",
                            "    </tr>\n",
                            "    <tr>\n",
                            "      <th>15</th>\n",
                            "      <td>30.0</td>\n",
                            "      <td>1.745446</td>\n",
                            "      <td>0.150157</td>\n",
                            "      <td>1.318058</td>\n",
                            "      <td>1.644165</td>\n",
                            "      <td>1.753896</td>\n",
                            "      <td>1.866319</td>\n",
                            "      <td>1.953856</td>\n",
                            "    </tr>\n",
                            "    <tr>\n",
                            "      <th>30</th>\n",
                            "      <td>32.0</td>\n",
                            "      <td>2.579743</td>\n",
                            "      <td>0.332781</td>\n",
                            "      <td>1.594584</td>\n",
                            "      <td>2.586353</td>\n",
                            "      <td>2.682894</td>\n",
                            "      <td>2.763539</td>\n",
                            "      <td>2.889025</td>\n",
                            "    </tr>\n",
                            "    <tr>\n",
                            "      <th>45</th>\n",
                            "      <td>28.0</td>\n",
                            "      <td>1.836682</td>\n",
                            "      <td>0.333247</td>\n",
                            "      <td>1.368927</td>\n",
                            "      <td>1.639055</td>\n",
                            "      <td>1.727530</td>\n",
                            "      <td>2.020718</td>\n",
                            "      <td>3.043948</td>\n",
                            "    </tr>\n",
                            "    <tr>\n",
                            "      <th>60</th>\n",
                            "      <td>32.0</td>\n",
                            "      <td>1.427648</td>\n",
                            "      <td>0.442962</td>\n",
                            "      <td>-0.395775</td>\n",
                            "      <td>1.240021</td>\n",
                            "      <td>1.432650</td>\n",
                            "      <td>1.666693</td>\n",
                            "      <td>2.084129</td>\n",
                            "    </tr>\n",
                            "    <tr>\n",
                            "      <th>75</th>\n",
                            "      <td>32.0</td>\n",
                            "      <td>0.187845</td>\n",
                            "      <td>0.388756</td>\n",
                            "      <td>-0.380210</td>\n",
                            "      <td>0.060311</td>\n",
                            "      <td>0.081352</td>\n",
                            "      <td>0.116058</td>\n",
                            "      <td>1.941177</td>\n",
                            "    </tr>\n",
                            "  </tbody>\n",
                            "</table>\n",
                            "</div>"
                        ],
                        "text/plain": [
                            "          count      mean       std       min       25%       50%       75%  \\\n",
                            "true_yaw                                                                      \n",
                            "0          12.0 -2.866578  1.657439 -5.223641 -4.061532 -3.586290 -1.314326   \n",
                            "15         30.0  1.745446  0.150157  1.318058  1.644165  1.753896  1.866319   \n",
                            "30         32.0  2.579743  0.332781  1.594584  2.586353  2.682894  2.763539   \n",
                            "45         28.0  1.836682  0.333247  1.368927  1.639055  1.727530  2.020718   \n",
                            "60         32.0  1.427648  0.442962 -0.395775  1.240021  1.432650  1.666693   \n",
                            "75         32.0  0.187845  0.388756 -0.380210  0.060311  0.081352  0.116058   \n",
                            "\n",
                            "               max  \n",
                            "true_yaw            \n",
                            "0        -0.527130  \n",
                            "15        1.953856  \n",
                            "30        2.889025  \n",
                            "45        3.043948  \n",
                            "60        2.084129  \n",
                            "75        1.941177  "
                        ]
                    },
                    "execution_count": 15,
                    "metadata": {},
                    "output_type": "execute_result"
                }
            ],
            "source": [
                "grouped_df.error.describe()"
            ]
        },
        {
            "cell_type": "code",
            "execution_count": 16,
            "metadata": {},
            "outputs": [],
            "source": [
                "def box_plotter(column_name):\n",
                "    fig, axes = plt.subplots(1,len(input_vals))\n",
                "\n",
                "    for i, val in enumerate(input_vals):\n",
                "        grouped_df.get_group(val).boxplot(column=column_name, ax=axes.flatten()[i])\n",
                "        axes.flatten()[i].set_title(val)\n",
                "\n",
                "\n",
                "    plt.tight_layout()\n",
                "    plt.show()"
            ]
        },
        {
            "cell_type": "code",
            "execution_count": 17,
            "metadata": {},
            "outputs": [
                {
                    "data": {
                        "image/png": "[encoded data removed]",
                        "text/plain": [
                            "<Figure size 432x288 with 6 Axes>"
                        ]
                    },
                    "metadata": {
                        "needs_background": "light"
                    },
                    "output_type": "display_data"
                }
            ],
            "source": [
                "box_plotter(target)"
            ]
        },
        {
            "cell_type": "code",
            "execution_count": 18,
            "metadata": {},
            "outputs": [
                {
                    "data": {
                        "image/png": "[encoded data removed]",
                        "text/plain": [
                            "<Figure size 432x288 with 6 Axes>"
                        ]
                    },
                    "metadata": {
                        "needs_background": "light"
                    },
                    "output_type": "display_data"
                }
            ],
            "source": [
                "box_plotter('error')"
            ]
        },
        {
            "cell_type": "code",
            "execution_count": 19,
            "metadata": {},
            "outputs": [],
            "source": [
                "df_filtered_by_targets.to_csv('/home/hakanergin/code/apriltag_test_bench/test_pipeline/scripts/static_tests/rotations/result/csv/2m_16h5_720.csv')"
            ]
        }
    ],
    "metadata": {
        "kernelspec": {
            "display_name": "Python 3 (ipykernel)",
            "language": "python",
            "name": "python3"
        },
        "language_info": {
            "codemirror_mode": {
                "name": "ipython",
                "version": 3
            },
            "file_extension": ".py",
            "mimetype": "text/x-python",
            "name": "python",
            "nbconvert_exporter": "python",
            "pygments_lexer": "ipython3",
            "version": "3.8.10"
        },
        "orig_nbformat": 4
    },
    "nbformat": 4,
    "nbformat_minor": 2
}
