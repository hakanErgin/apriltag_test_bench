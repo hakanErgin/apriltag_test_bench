{
    "cells": [
        {
            "cell_type": "code",
            "execution_count": 2,
            "metadata": {},
            "outputs": [],
            "source": [
                "import rosbag\n",
                "import pandas as pd\n",
                "import matplotlib.pyplot as plt\n",
                "import numpy as np\n",
                "import tf\n",
                "from scipy.signal import find_peaks"
            ]
        },
        {
            "cell_type": "code",
            "execution_count": 3,
            "metadata": {},
            "outputs": [],
            "source": [
                "bag = rosbag.Bag('/home/hakanergin/code/rosbags/static/rotation/16h5/s_yaw_16h5_2m_1080_20.bag')\n",
                "\n",
                "# create variables\n",
                "target = 'yaw'\n",
                "true_value = 'true_yaw'\n",
                "\n",
                "# input values in degrees. the order matters, it will be used for binning \n",
                "input_vals = [0,15,30,45,60,75]"
            ]
        },
        {
            "cell_type": "code",
            "execution_count": 4,
            "metadata": {},
            "outputs": [],
            "source": [
                "topic = '/tf'\n",
                "\n",
                "rows = []\n",
                "\n",
                "for topic, msg, t in bag.read_messages(topics=topic):\n",
                "    \n",
                "    time = t\n",
                "\n",
                "    # conversion to euler\n",
                "    rotation_quat = msg.transforms[0].transform.rotation\n",
                "    pitch, yaw, roll = tf.transformations.euler_from_quaternion([rotation_quat.x,rotation_quat.y,rotation_quat.z,rotation_quat.w], axes='rxyz')\n",
                "\n",
                "    # all rotations\n",
                "    # rotation_euler = (np.degrees(pitch), np.degrees(yaw), np.degrees(roll))\n",
                "\n",
                "    # create row\n",
                "    row={'time': time.to_sec(), target: np.degrees(yaw)}\n",
                "    rows.append(row)\n",
                "\n",
                "df = pd.DataFrame.from_records(rows)"
            ]
        },
        {
            "cell_type": "code",
            "execution_count": 5,
            "metadata": {},
            "outputs": [
                {
                    "data": {
                        "text/html": [
                            "<div>\n",
                            "<style scoped>\n",
                            "    .dataframe tbody tr th:only-of-type {\n",
                            "        vertical-align: middle;\n",
                            "    }\n",
                            "\n",
                            "    .dataframe tbody tr th {\n",
                            "        vertical-align: top;\n",
                            "    }\n",
                            "\n",
                            "    .dataframe thead th {\n",
                            "        text-align: right;\n",
                            "    }\n",
                            "</style>\n",
                            "<table border=\"1\" class=\"dataframe\">\n",
                            "  <thead>\n",
                            "    <tr style=\"text-align: right;\">\n",
                            "      <th></th>\n",
                            "      <th>relative_time</th>\n",
                            "      <th>yaw</th>\n",
                            "    </tr>\n",
                            "  </thead>\n",
                            "  <tbody>\n",
                            "    <tr>\n",
                            "      <th>0</th>\n",
                            "      <td>0.000000</td>\n",
                            "      <td>25.541046</td>\n",
                            "    </tr>\n",
                            "    <tr>\n",
                            "      <th>1</th>\n",
                            "      <td>0.987709</td>\n",
                            "      <td>34.322809</td>\n",
                            "    </tr>\n",
                            "    <tr>\n",
                            "      <th>2</th>\n",
                            "      <td>0.987742</td>\n",
                            "      <td>14.342188</td>\n",
                            "    </tr>\n",
                            "    <tr>\n",
                            "      <th>3</th>\n",
                            "      <td>1.771374</td>\n",
                            "      <td>31.282950</td>\n",
                            "    </tr>\n",
                            "    <tr>\n",
                            "      <th>4</th>\n",
                            "      <td>2.623864</td>\n",
                            "      <td>14.364782</td>\n",
                            "    </tr>\n",
                            "    <tr>\n",
                            "      <th>...</th>\n",
                            "      <td>...</td>\n",
                            "      <td>...</td>\n",
                            "    </tr>\n",
                            "    <tr>\n",
                            "      <th>330</th>\n",
                            "      <td>112.167772</td>\n",
                            "      <td>74.517263</td>\n",
                            "    </tr>\n",
                            "    <tr>\n",
                            "      <th>331</th>\n",
                            "      <td>112.464301</td>\n",
                            "      <td>74.455190</td>\n",
                            "    </tr>\n",
                            "    <tr>\n",
                            "      <th>332</th>\n",
                            "      <td>112.895325</td>\n",
                            "      <td>74.755862</td>\n",
                            "    </tr>\n",
                            "    <tr>\n",
                            "      <th>333</th>\n",
                            "      <td>113.256053</td>\n",
                            "      <td>71.017223</td>\n",
                            "    </tr>\n",
                            "    <tr>\n",
                            "      <th>334</th>\n",
                            "      <td>113.816904</td>\n",
                            "      <td>-10.651800</td>\n",
                            "    </tr>\n",
                            "  </tbody>\n",
                            "</table>\n",
                            "<p>335 rows × 2 columns</p>\n",
                            "</div>"
                        ],
                        "text/plain": [
                            "     relative_time        yaw\n",
                            "0         0.000000  25.541046\n",
                            "1         0.987709  34.322809\n",
                            "2         0.987742  14.342188\n",
                            "3         1.771374  31.282950\n",
                            "4         2.623864  14.364782\n",
                            "..             ...        ...\n",
                            "330     112.167772  74.517263\n",
                            "331     112.464301  74.455190\n",
                            "332     112.895325  74.755862\n",
                            "333     113.256053  71.017223\n",
                            "334     113.816904 -10.651800\n",
                            "\n",
                            "[335 rows x 2 columns]"
                        ]
                    },
                    "execution_count": 5,
                    "metadata": {},
                    "output_type": "execute_result"
                }
            ],
            "source": [
                "# calculate relative time in seconds instead of absolute time\n",
                "df['relative_time'] =  df.loc[0:, 'time'] - df.at[0, 'time']\n",
                "df = df.drop(columns=['time'])\n",
                "df = df[['relative_time', target]]\n",
                "df"
            ]
        },
        {
            "cell_type": "code",
            "execution_count": 6,
            "metadata": {},
            "outputs": [
                {
                    "data": {
                        "text/plain": [
                            "<AxesSubplot:xlabel='relative_time'>"
                        ]
                    },
                    "execution_count": 6,
                    "metadata": {},
                    "output_type": "execute_result"
                },
                {
                    "data": {
                        "image/png": "[encoded data removed]",
                        "text/plain": [
                            "<Figure size 432x288 with 1 Axes>"
                        ]
                    },
                    "metadata": {
                        "needs_background": "light"
                    },
                    "output_type": "display_data"
                }
            ],
            "source": [
                "# initial graph\n",
                "df.plot(x='relative_time', y=target)"
            ]
        },
        {
            "cell_type": "code",
            "execution_count": 7,
            "metadata": {},
            "outputs": [],
            "source": [
                "# find plateaus\n",
                "x = df[target]\n",
                "peaks, _ = find_peaks(x, threshold=(0, 10)) # from find_peaks docs: Threshold: The first element is always interpreted as the minimal and the second, if supplied, as the maximal required threshold."
            ]
        },
        {
            "cell_type": "code",
            "execution_count": 8,
            "metadata": {},
            "outputs": [
                {
                    "data": {
                        "text/plain": [
                            "48"
                        ]
                    },
                    "execution_count": 8,
                    "metadata": {},
                    "output_type": "execute_result"
                }
            ],
            "source": [
                "# the amount of data points we are left with\n",
                "len(x[peaks])"
            ]
        },
        {
            "cell_type": "code",
            "execution_count": 9,
            "metadata": {},
            "outputs": [],
            "source": [
                "# create filtered data frame\n",
                "df_filtered_by_targets = df.loc[peaks]"
            ]
        },
        {
            "cell_type": "code",
            "execution_count": 10,
            "metadata": {},
            "outputs": [
                {
                    "data": {
                        "text/plain": [
                            "<AxesSubplot:xlabel='relative_time', ylabel='yaw'>"
                        ]
                    },
                    "execution_count": 10,
                    "metadata": {},
                    "output_type": "execute_result"
                },
                {
                    "data": {
                        "image/png": "[encoded data removed]",
                        "text/plain": [
                            "<Figure size 432x288 with 1 Axes>"
                        ]
                    },
                    "metadata": {
                        "needs_background": "light"
                    },
                    "output_type": "display_data"
                }
            ],
            "source": [
                "df_filtered_by_targets.plot.scatter(x='relative_time', y=target)"
            ]
        },
        {
            "cell_type": "code",
            "execution_count": 11,
            "metadata": {},
            "outputs": [],
            "source": [
                "# segmenting/binning by real value\n",
                "df_filtered_by_targets[true_value] = pd.qcut(np.fix(df_filtered_by_targets[target]), len(input_vals)+2, labels=input_vals, duplicates='drop')"
            ]
        },
        {
            "cell_type": "code",
            "execution_count": 12,
            "metadata": {},
            "outputs": [],
            "source": [
                "# calculate the error\n",
                "df_filtered_by_targets['error'] =  df_filtered_by_targets.apply(lambda row: row[true_value] - row[target], axis=1)"
            ]
        },
        {
            "cell_type": "code",
            "execution_count": 13,
            "metadata": {},
            "outputs": [],
            "source": [
                "# remove huge errors because theyre actually wrongly binned\n",
                "df_filtered_by_targets = df_filtered_by_targets.drop(df_filtered_by_targets[df_filtered_by_targets['error'].abs()>10].index)"
            ]
        },
        {
            "cell_type": "code",
            "execution_count": 14,
            "metadata": {},
            "outputs": [],
            "source": [
                "grouped_df = df_filtered_by_targets.groupby(true_value)"
            ]
        },
        {
            "cell_type": "code",
            "execution_count": 15,
            "metadata": {},
            "outputs": [
                {
                    "data": {
                        "text/html": [
                            "<div>\n",
                            "<style scoped>\n",
                            "    .dataframe tbody tr th:only-of-type {\n",
                            "        vertical-align: middle;\n",
                            "    }\n",
                            "\n",
                            "    .dataframe tbody tr th {\n",
                            "        vertical-align: top;\n",
                            "    }\n",
                            "\n",
                            "    .dataframe thead th {\n",
                            "        text-align: right;\n",
                            "    }\n",
                            "</style>\n",
                            "<table border=\"1\" class=\"dataframe\">\n",
                            "  <thead>\n",
                            "    <tr style=\"text-align: right;\">\n",
                            "      <th></th>\n",
                            "      <th>relative_time</th>\n",
                            "      <th>yaw</th>\n",
                            "      <th>true_yaw</th>\n",
                            "      <th>error</th>\n",
                            "    </tr>\n",
                            "  </thead>\n",
                            "  <tbody>\n",
                            "    <tr>\n",
                            "      <th>15</th>\n",
                            "      <td>8.227692</td>\n",
                            "      <td>1.248493</td>\n",
                            "      <td>0</td>\n",
                            "      <td>-1.248493</td>\n",
                            "    </tr>\n",
                            "    <tr>\n",
                            "      <th>17</th>\n",
                            "      <td>9.811062</td>\n",
                            "      <td>1.814782</td>\n",
                            "      <td>0</td>\n",
                            "      <td>-1.814782</td>\n",
                            "    </tr>\n",
                            "    <tr>\n",
                            "      <th>76</th>\n",
                            "      <td>28.641359</td>\n",
                            "      <td>12.169825</td>\n",
                            "      <td>15</td>\n",
                            "      <td>2.830175</td>\n",
                            "    </tr>\n",
                            "    <tr>\n",
                            "      <th>92</th>\n",
                            "      <td>33.520924</td>\n",
                            "      <td>12.323212</td>\n",
                            "      <td>15</td>\n",
                            "      <td>2.676788</td>\n",
                            "    </tr>\n",
                            "    <tr>\n",
                            "      <th>132</th>\n",
                            "      <td>47.252718</td>\n",
                            "      <td>26.800424</td>\n",
                            "      <td>30</td>\n",
                            "      <td>3.199576</td>\n",
                            "    </tr>\n",
                            "    <tr>\n",
                            "      <th>139</th>\n",
                            "      <td>49.597683</td>\n",
                            "      <td>26.656382</td>\n",
                            "      <td>30</td>\n",
                            "      <td>3.343618</td>\n",
                            "    </tr>\n",
                            "    <tr>\n",
                            "      <th>159</th>\n",
                            "      <td>56.206071</td>\n",
                            "      <td>35.811331</td>\n",
                            "      <td>45</td>\n",
                            "      <td>9.188669</td>\n",
                            "    </tr>\n",
                            "    <tr>\n",
                            "      <th>183</th>\n",
                            "      <td>62.717164</td>\n",
                            "      <td>42.908334</td>\n",
                            "      <td>45</td>\n",
                            "      <td>2.091666</td>\n",
                            "    </tr>\n",
                            "    <tr>\n",
                            "      <th>239</th>\n",
                            "      <td>81.666340</td>\n",
                            "      <td>58.597664</td>\n",
                            "      <td>60</td>\n",
                            "      <td>1.402336</td>\n",
                            "    </tr>\n",
                            "    <tr>\n",
                            "      <th>247</th>\n",
                            "      <td>84.307770</td>\n",
                            "      <td>58.602944</td>\n",
                            "      <td>60</td>\n",
                            "      <td>1.397056</td>\n",
                            "    </tr>\n",
                            "    <tr>\n",
                            "      <th>292</th>\n",
                            "      <td>96.560224</td>\n",
                            "      <td>74.050859</td>\n",
                            "      <td>75</td>\n",
                            "      <td>0.949141</td>\n",
                            "    </tr>\n",
                            "    <tr>\n",
                            "      <th>298</th>\n",
                            "      <td>98.956935</td>\n",
                            "      <td>74.929493</td>\n",
                            "      <td>75</td>\n",
                            "      <td>0.070507</td>\n",
                            "    </tr>\n",
                            "  </tbody>\n",
                            "</table>\n",
                            "</div>"
                        ],
                        "text/plain": [
                            "     relative_time        yaw true_yaw     error\n",
                            "15        8.227692   1.248493        0 -1.248493\n",
                            "17        9.811062   1.814782        0 -1.814782\n",
                            "76       28.641359  12.169825       15  2.830175\n",
                            "92       33.520924  12.323212       15  2.676788\n",
                            "132      47.252718  26.800424       30  3.199576\n",
                            "139      49.597683  26.656382       30  3.343618\n",
                            "159      56.206071  35.811331       45  9.188669\n",
                            "183      62.717164  42.908334       45  2.091666\n",
                            "239      81.666340  58.597664       60  1.402336\n",
                            "247      84.307770  58.602944       60  1.397056\n",
                            "292      96.560224  74.050859       75  0.949141\n",
                            "298      98.956935  74.929493       75  0.070507"
                        ]
                    },
                    "execution_count": 15,
                    "metadata": {},
                    "output_type": "execute_result"
                }
            ],
            "source": [
                "# verify if the bins are in correct order, this is dictated by input_vals order\n",
                "grouped_df.head(2)"
            ]
        },
        {
            "cell_type": "code",
            "execution_count": 16,
            "metadata": {},
            "outputs": [
                {
                    "data": {
                        "text/html": [
                            "<div>\n",
                            "<style scoped>\n",
                            "    .dataframe tbody tr th:only-of-type {\n",
                            "        vertical-align: middle;\n",
                            "    }\n",
                            "\n",
                            "    .dataframe tbody tr th {\n",
                            "        vertical-align: top;\n",
                            "    }\n",
                            "\n",
                            "    .dataframe thead th {\n",
                            "        text-align: right;\n",
                            "    }\n",
                            "</style>\n",
                            "<table border=\"1\" class=\"dataframe\">\n",
                            "  <thead>\n",
                            "    <tr style=\"text-align: right;\">\n",
                            "      <th></th>\n",
                            "      <th>count</th>\n",
                            "      <th>mean</th>\n",
                            "      <th>std</th>\n",
                            "      <th>min</th>\n",
                            "      <th>25%</th>\n",
                            "      <th>50%</th>\n",
                            "      <th>75%</th>\n",
                            "      <th>max</th>\n",
                            "    </tr>\n",
                            "    <tr>\n",
                            "      <th>true_yaw</th>\n",
                            "      <th></th>\n",
                            "      <th></th>\n",
                            "      <th></th>\n",
                            "      <th></th>\n",
                            "      <th></th>\n",
                            "      <th></th>\n",
                            "      <th></th>\n",
                            "      <th></th>\n",
                            "    </tr>\n",
                            "  </thead>\n",
                            "  <tbody>\n",
                            "    <tr>\n",
                            "      <th>0</th>\n",
                            "      <td>13.0</td>\n",
                            "      <td>-1.889963</td>\n",
                            "      <td>0.509512</td>\n",
                            "      <td>-2.994214</td>\n",
                            "      <td>-2.304319</td>\n",
                            "      <td>-1.750822</td>\n",
                            "      <td>-1.540559</td>\n",
                            "      <td>-1.248493</td>\n",
                            "    </tr>\n",
                            "    <tr>\n",
                            "      <th>15</th>\n",
                            "      <td>5.0</td>\n",
                            "      <td>2.710729</td>\n",
                            "      <td>0.091308</td>\n",
                            "      <td>2.582876</td>\n",
                            "      <td>2.676788</td>\n",
                            "      <td>2.713379</td>\n",
                            "      <td>2.750428</td>\n",
                            "      <td>2.830175</td>\n",
                            "    </tr>\n",
                            "    <tr>\n",
                            "      <th>30</th>\n",
                            "      <td>6.0</td>\n",
                            "      <td>3.265049</td>\n",
                            "      <td>0.070802</td>\n",
                            "      <td>3.164719</td>\n",
                            "      <td>3.216974</td>\n",
                            "      <td>3.276336</td>\n",
                            "      <td>3.318160</td>\n",
                            "      <td>3.343618</td>\n",
                            "    </tr>\n",
                            "    <tr>\n",
                            "      <th>45</th>\n",
                            "      <td>4.0</td>\n",
                            "      <td>3.967653</td>\n",
                            "      <td>3.483339</td>\n",
                            "      <td>2.091666</td>\n",
                            "      <td>2.155533</td>\n",
                            "      <td>2.295138</td>\n",
                            "      <td>4.107257</td>\n",
                            "      <td>9.188669</td>\n",
                            "    </tr>\n",
                            "    <tr>\n",
                            "      <th>60</th>\n",
                            "      <td>4.0</td>\n",
                            "      <td>1.542684</td>\n",
                            "      <td>0.165160</td>\n",
                            "      <td>1.397056</td>\n",
                            "      <td>1.401016</td>\n",
                            "      <td>1.541860</td>\n",
                            "      <td>1.683529</td>\n",
                            "      <td>1.689961</td>\n",
                            "    </tr>\n",
                            "    <tr>\n",
                            "      <th>75</th>\n",
                            "      <td>11.0</td>\n",
                            "      <td>0.346392</td>\n",
                            "      <td>0.218465</td>\n",
                            "      <td>0.070507</td>\n",
                            "      <td>0.245785</td>\n",
                            "      <td>0.319678</td>\n",
                            "      <td>0.365077</td>\n",
                            "      <td>0.949141</td>\n",
                            "    </tr>\n",
                            "  </tbody>\n",
                            "</table>\n",
                            "</div>"
                        ],
                        "text/plain": [
                            "          count      mean       std       min       25%       50%       75%  \\\n",
                            "true_yaw                                                                      \n",
                            "0          13.0 -1.889963  0.509512 -2.994214 -2.304319 -1.750822 -1.540559   \n",
                            "15          5.0  2.710729  0.091308  2.582876  2.676788  2.713379  2.750428   \n",
                            "30          6.0  3.265049  0.070802  3.164719  3.216974  3.276336  3.318160   \n",
                            "45          4.0  3.967653  3.483339  2.091666  2.155533  2.295138  4.107257   \n",
                            "60          4.0  1.542684  0.165160  1.397056  1.401016  1.541860  1.683529   \n",
                            "75         11.0  0.346392  0.218465  0.070507  0.245785  0.319678  0.365077   \n",
                            "\n",
                            "               max  \n",
                            "true_yaw            \n",
                            "0        -1.248493  \n",
                            "15        2.830175  \n",
                            "30        3.343618  \n",
                            "45        9.188669  \n",
                            "60        1.689961  \n",
                            "75        0.949141  "
                        ]
                    },
                    "execution_count": 16,
                    "metadata": {},
                    "output_type": "execute_result"
                }
            ],
            "source": [
                "grouped_df.error.describe()"
            ]
        },
        {
            "cell_type": "code",
            "execution_count": 17,
            "metadata": {},
            "outputs": [],
            "source": [
                "def box_plotter(column_name):\n",
                "    fig, axes = plt.subplots(1,len(input_vals))\n",
                "\n",
                "    for i, val in enumerate(input_vals):\n",
                "        grouped_df.get_group(val).boxplot(column=column_name, ax=axes.flatten()[i])\n",
                "        axes.flatten()[i].set_title(val)\n",
                "\n",
                "\n",
                "    plt.tight_layout()\n",
                "    plt.show()"
            ]
        },
        {
            "cell_type": "code",
            "execution_count": 18,
            "metadata": {},
            "outputs": [
                {
                    "data": {
                        "image/png": "[encoded data removed]",
                        "text/plain": [
                            "<Figure size 432x288 with 6 Axes>"
                        ]
                    },
                    "metadata": {
                        "needs_background": "light"
                    },
                    "output_type": "display_data"
                }
            ],
            "source": [
                "box_plotter(target)"
            ]
        },
        {
            "cell_type": "code",
            "execution_count": 19,
            "metadata": {},
            "outputs": [
                {
                    "data": {
                        "image/png": "[encoded data removed]",
                        "text/plain": [
                            "<Figure size 432x288 with 6 Axes>"
                        ]
                    },
                    "metadata": {
                        "needs_background": "light"
                    },
                    "output_type": "display_data"
                }
            ],
            "source": [
                "box_plotter('error')"
            ]
        },
        {
            "cell_type": "code",
            "execution_count": 20,
            "metadata": {},
            "outputs": [],
            "source": [
                "df_filtered_by_targets.to_csv('/home/hakanergin/code/apriltag_test_bench/test_pipeline/scripts/static_tests/rotations/result/csv/2m_16h5_1080.csv')"
            ]
        }
    ],
    "metadata": {
        "kernelspec": {
            "display_name": "Python 3 (ipykernel)",
            "language": "python",
            "name": "python3"
        },
        "language_info": {
            "codemirror_mode": {
                "name": "ipython",
                "version": 3
            },
            "file_extension": ".py",
            "mimetype": "text/x-python",
            "name": "python",
            "nbconvert_exporter": "python",
            "pygments_lexer": "ipython3",
            "version": "3.8.10"
        },
        "orig_nbformat": 4
    },
    "nbformat": 4,
    "nbformat_minor": 2
}
