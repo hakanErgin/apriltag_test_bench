{
    "cells": [
        {
            "cell_type": "code",
            "execution_count": 1,
            "metadata": {},
            "outputs": [],
            "source": [
                "import rosbag\n",
                "import pandas as pd\n",
                "import matplotlib.pyplot as plt\n",
                "import numpy as np\n",
                "import tf\n",
                "from scipy.signal import find_peaks"
            ]
        },
        {
            "cell_type": "code",
            "execution_count": 2,
            "metadata": {},
            "outputs": [],
            "source": [
                "bag = rosbag.Bag('/home/hakanergin/code/rosbags/static/rotation/16h5/s_yaw_16h5_5m_360_30.bag')\n",
                "\n",
                "# create variables\n",
                "target = 'yaw'\n",
                "true_value = 'true_yaw'\n",
                "\n",
                "# input values in degrees. the order matters, it will be used for binning \n",
                "input_vals = [0,15,30,45,60,75]"
            ]
        },
        {
            "cell_type": "code",
            "execution_count": 3,
            "metadata": {},
            "outputs": [],
            "source": [
                "topic = '/tf'\n",
                "\n",
                "rows = []\n",
                "\n",
                "for topic, msg, t in bag.read_messages(topics=topic):\n",
                "    \n",
                "    time = t\n",
                "\n",
                "    # conversion to euler\n",
                "    rotation_quat = msg.transforms[0].transform.rotation\n",
                "    pitch, yaw, roll = tf.transformations.euler_from_quaternion([rotation_quat.x,rotation_quat.y,rotation_quat.z,rotation_quat.w], axes='rxyz')\n",
                "\n",
                "    # all rotations\n",
                "    # rotation_euler = (np.degrees(pitch), np.degrees(yaw), np.degrees(roll))\n",
                "\n",
                "    # create row\n",
                "    row={'time': time.to_sec(), target: np.degrees(yaw)}\n",
                "    rows.append(row)\n",
                "\n",
                "df = pd.DataFrame.from_records(rows)"
            ]
        },
        {
            "cell_type": "code",
            "execution_count": 4,
            "metadata": {},
            "outputs": [
                {
                    "data": {
                        "text/html": [
                            "<div>\n",
                            "<style scoped>\n",
                            "    .dataframe tbody tr th:only-of-type {\n",
                            "        vertical-align: middle;\n",
                            "    }\n",
                            "\n",
                            "    .dataframe tbody tr th {\n",
                            "        vertical-align: top;\n",
                            "    }\n",
                            "\n",
                            "    .dataframe thead th {\n",
                            "        text-align: right;\n",
                            "    }\n",
                            "</style>\n",
                            "<table border=\"1\" class=\"dataframe\">\n",
                            "  <thead>\n",
                            "    <tr style=\"text-align: right;\">\n",
                            "      <th></th>\n",
                            "      <th>relative_time</th>\n",
                            "      <th>yaw</th>\n",
                            "    </tr>\n",
                            "  </thead>\n",
                            "  <tbody>\n",
                            "    <tr>\n",
                            "      <th>0</th>\n",
                            "      <td>0.000000</td>\n",
                            "      <td>16.274787</td>\n",
                            "    </tr>\n",
                            "    <tr>\n",
                            "      <th>1</th>\n",
                            "      <td>0.066075</td>\n",
                            "      <td>17.161502</td>\n",
                            "    </tr>\n",
                            "    <tr>\n",
                            "      <th>2</th>\n",
                            "      <td>0.131294</td>\n",
                            "      <td>16.684416</td>\n",
                            "    </tr>\n",
                            "    <tr>\n",
                            "      <th>3</th>\n",
                            "      <td>0.185900</td>\n",
                            "      <td>16.785167</td>\n",
                            "    </tr>\n",
                            "    <tr>\n",
                            "      <th>4</th>\n",
                            "      <td>0.241322</td>\n",
                            "      <td>16.309673</td>\n",
                            "    </tr>\n",
                            "    <tr>\n",
                            "      <th>...</th>\n",
                            "      <td>...</td>\n",
                            "      <td>...</td>\n",
                            "    </tr>\n",
                            "    <tr>\n",
                            "      <th>2614</th>\n",
                            "      <td>120.679974</td>\n",
                            "      <td>-41.899699</td>\n",
                            "    </tr>\n",
                            "    <tr>\n",
                            "      <th>2615</th>\n",
                            "      <td>121.679065</td>\n",
                            "      <td>-33.711519</td>\n",
                            "    </tr>\n",
                            "    <tr>\n",
                            "      <th>2616</th>\n",
                            "      <td>122.877935</td>\n",
                            "      <td>-1.498250</td>\n",
                            "    </tr>\n",
                            "    <tr>\n",
                            "      <th>2617</th>\n",
                            "      <td>124.378354</td>\n",
                            "      <td>11.646883</td>\n",
                            "    </tr>\n",
                            "    <tr>\n",
                            "      <th>2618</th>\n",
                            "      <td>125.777216</td>\n",
                            "      <td>12.820444</td>\n",
                            "    </tr>\n",
                            "  </tbody>\n",
                            "</table>\n",
                            "<p>2619 rows × 2 columns</p>\n",
                            "</div>"
                        ],
                        "text/plain": [
                            "      relative_time        yaw\n",
                            "0          0.000000  16.274787\n",
                            "1          0.066075  17.161502\n",
                            "2          0.131294  16.684416\n",
                            "3          0.185900  16.785167\n",
                            "4          0.241322  16.309673\n",
                            "...             ...        ...\n",
                            "2614     120.679974 -41.899699\n",
                            "2615     121.679065 -33.711519\n",
                            "2616     122.877935  -1.498250\n",
                            "2617     124.378354  11.646883\n",
                            "2618     125.777216  12.820444\n",
                            "\n",
                            "[2619 rows x 2 columns]"
                        ]
                    },
                    "execution_count": 4,
                    "metadata": {},
                    "output_type": "execute_result"
                }
            ],
            "source": [
                "# calculate relative time in seconds instead of absolute time\n",
                "df['relative_time'] =  df.loc[0:, 'time'] - df.at[0, 'time']\n",
                "df = df.drop(columns=['time'])\n",
                "df = df[['relative_time', target]]\n",
                "df"
            ]
        },
        {
            "cell_type": "code",
            "execution_count": 5,
            "metadata": {},
            "outputs": [
                {
                    "name": "stderr",
                    "output_type": "stream",
                    "text": [
                        "/tmp/ipykernel_19905/1001537679.py:2: FutureWarning: Boolean inputs to the `inclusive` argument are deprecated in favour of `both` or `neither`.\n",
                        "  df = df[~df.relative_time.between(66, 70, inclusive=True)].reset_index()\n"
                    ]
                }
            ],
            "source": [
                "# remove some rows due to a video error\n",
                "df = df[~df.relative_time.between(66, 70, inclusive=True)].reset_index()"
            ]
        },
        {
            "cell_type": "code",
            "execution_count": 6,
            "metadata": {},
            "outputs": [
                {
                    "data": {
                        "text/plain": [
                            "<AxesSubplot:xlabel='relative_time'>"
                        ]
                    },
                    "execution_count": 6,
                    "metadata": {},
                    "output_type": "execute_result"
                },
                {
                    "data": {
                        "image/png": "[encoded data removed]",
                        "text/plain": [
                            "<Figure size 432x288 with 1 Axes>"
                        ]
                    },
                    "metadata": {
                        "needs_background": "light"
                    },
                    "output_type": "display_data"
                }
            ],
            "source": [
                "# initial graph\n",
                "df.plot(x='relative_time', y=target)"
            ]
        },
        {
            "cell_type": "code",
            "execution_count": 7,
            "metadata": {},
            "outputs": [],
            "source": [
                "# find plateaus\n",
                "x = df[target]\n",
                "peaks, _ = find_peaks(x, threshold=(0, 1)) # from find_peaks docs: Threshold: The first element is always interpreted as the minimal and the second, if supplied, as the maximal required threshold."
            ]
        },
        {
            "cell_type": "code",
            "execution_count": 8,
            "metadata": {},
            "outputs": [
                {
                    "data": {
                        "text/plain": [
                            "395"
                        ]
                    },
                    "execution_count": 8,
                    "metadata": {},
                    "output_type": "execute_result"
                }
            ],
            "source": [
                "# the amount of data points we are left with\n",
                "len(x[peaks])"
            ]
        },
        {
            "cell_type": "code",
            "execution_count": 9,
            "metadata": {},
            "outputs": [],
            "source": [
                "# create filtered data frame\n",
                "df_filtered_by_targets = df.loc[peaks]"
            ]
        },
        {
            "cell_type": "code",
            "execution_count": 10,
            "metadata": {},
            "outputs": [
                {
                    "data": {
                        "text/plain": [
                            "<AxesSubplot:xlabel='relative_time', ylabel='yaw'>"
                        ]
                    },
                    "execution_count": 10,
                    "metadata": {},
                    "output_type": "execute_result"
                },
                {
                    "data": {
                        "image/png": "[encoded data removed]",
                        "text/plain": [
                            "<Figure size 432x288 with 1 Axes>"
                        ]
                    },
                    "metadata": {
                        "needs_background": "light"
                    },
                    "output_type": "display_data"
                }
            ],
            "source": [
                "df_filtered_by_targets.plot.scatter(x='relative_time', y=target)"
            ]
        },
        {
            "cell_type": "code",
            "execution_count": 11,
            "metadata": {},
            "outputs": [
                {
                    "data": {
                        "text/html": [
                            "<div>\n",
                            "<style scoped>\n",
                            "    .dataframe tbody tr th:only-of-type {\n",
                            "        vertical-align: middle;\n",
                            "    }\n",
                            "\n",
                            "    .dataframe tbody tr th {\n",
                            "        vertical-align: top;\n",
                            "    }\n",
                            "\n",
                            "    .dataframe thead th {\n",
                            "        text-align: right;\n",
                            "    }\n",
                            "</style>\n",
                            "<table border=\"1\" class=\"dataframe\">\n",
                            "  <thead>\n",
                            "    <tr style=\"text-align: right;\">\n",
                            "      <th></th>\n",
                            "      <th>index</th>\n",
                            "      <th>relative_time</th>\n",
                            "      <th>yaw</th>\n",
                            "      <th>true_yaw</th>\n",
                            "    </tr>\n",
                            "  </thead>\n",
                            "  <tbody>\n",
                            "    <tr>\n",
                            "      <th>1</th>\n",
                            "      <td>1</td>\n",
                            "      <td>0.066075</td>\n",
                            "      <td>17.161502</td>\n",
                            "      <td>45</td>\n",
                            "    </tr>\n",
                            "    <tr>\n",
                            "      <th>3</th>\n",
                            "      <td>3</td>\n",
                            "      <td>0.185900</td>\n",
                            "      <td>16.785167</td>\n",
                            "      <td>45</td>\n",
                            "    </tr>\n",
                            "    <tr>\n",
                            "      <th>10</th>\n",
                            "      <td>10</td>\n",
                            "      <td>0.580133</td>\n",
                            "      <td>16.709485</td>\n",
                            "      <td>45</td>\n",
                            "    </tr>\n",
                            "    <tr>\n",
                            "      <th>15</th>\n",
                            "      <td>15</td>\n",
                            "      <td>0.902321</td>\n",
                            "      <td>16.663585</td>\n",
                            "      <td>45</td>\n",
                            "    </tr>\n",
                            "    <tr>\n",
                            "      <th>18</th>\n",
                            "      <td>18</td>\n",
                            "      <td>1.092935</td>\n",
                            "      <td>16.697657</td>\n",
                            "      <td>45</td>\n",
                            "    </tr>\n",
                            "    <tr>\n",
                            "      <th>...</th>\n",
                            "      <td>...</td>\n",
                            "      <td>...</td>\n",
                            "      <td>...</td>\n",
                            "      <td>...</td>\n",
                            "    </tr>\n",
                            "    <tr>\n",
                            "      <th>2435</th>\n",
                            "      <td>2555</td>\n",
                            "      <td>93.545810</td>\n",
                            "      <td>48.649135</td>\n",
                            "      <td>75</td>\n",
                            "    </tr>\n",
                            "    <tr>\n",
                            "      <th>2438</th>\n",
                            "      <td>2558</td>\n",
                            "      <td>93.645546</td>\n",
                            "      <td>48.657698</td>\n",
                            "      <td>75</td>\n",
                            "    </tr>\n",
                            "    <tr>\n",
                            "      <th>2441</th>\n",
                            "      <td>2561</td>\n",
                            "      <td>93.744840</td>\n",
                            "      <td>48.940401</td>\n",
                            "      <td>75</td>\n",
                            "    </tr>\n",
                            "    <tr>\n",
                            "      <th>2455</th>\n",
                            "      <td>2575</td>\n",
                            "      <td>94.210551</td>\n",
                            "      <td>49.970686</td>\n",
                            "      <td>75</td>\n",
                            "    </tr>\n",
                            "    <tr>\n",
                            "      <th>2477</th>\n",
                            "      <td>2597</td>\n",
                            "      <td>105.811775</td>\n",
                            "      <td>61.773040</td>\n",
                            "      <td>75</td>\n",
                            "    </tr>\n",
                            "  </tbody>\n",
                            "</table>\n",
                            "<p>395 rows × 4 columns</p>\n",
                            "</div>"
                        ],
                        "text/plain": [
                            "      index  relative_time        yaw true_yaw\n",
                            "1         1       0.066075  17.161502       45\n",
                            "3         3       0.185900  16.785167       45\n",
                            "10       10       0.580133  16.709485       45\n",
                            "15       15       0.902321  16.663585       45\n",
                            "18       18       1.092935  16.697657       45\n",
                            "...     ...            ...        ...      ...\n",
                            "2435   2555      93.545810  48.649135       75\n",
                            "2438   2558      93.645546  48.657698       75\n",
                            "2441   2561      93.744840  48.940401       75\n",
                            "2455   2575      94.210551  49.970686       75\n",
                            "2477   2597     105.811775  61.773040       75\n",
                            "\n",
                            "[395 rows x 4 columns]"
                        ]
                    },
                    "execution_count": 11,
                    "metadata": {},
                    "output_type": "execute_result"
                }
            ],
            "source": [
                "# segmenting/binning by real value\n",
                "df_filtered_by_targets[true_value] = pd.cut(df_filtered_by_targets[target], bins=len(input_vals), labels=input_vals)\n",
                "df_filtered_by_targets"
            ]
        },
        {
            "cell_type": "code",
            "execution_count": 12,
            "metadata": {},
            "outputs": [],
            "source": [
                "# calculate the error\n",
                "df_filtered_by_targets['error'] =  df_filtered_by_targets.apply(lambda row: row[true_value] - row[target], axis=1)"
            ]
        },
        {
            "cell_type": "code",
            "execution_count": 13,
            "metadata": {},
            "outputs": [],
            "source": [
                "grouped_df = df_filtered_by_targets.groupby(true_value)"
            ]
        },
        {
            "cell_type": "code",
            "execution_count": 14,
            "metadata": {},
            "outputs": [
                {
                    "data": {
                        "text/html": [
                            "<div>\n",
                            "<style scoped>\n",
                            "    .dataframe tbody tr th:only-of-type {\n",
                            "        vertical-align: middle;\n",
                            "    }\n",
                            "\n",
                            "    .dataframe tbody tr th {\n",
                            "        vertical-align: top;\n",
                            "    }\n",
                            "\n",
                            "    .dataframe thead th {\n",
                            "        text-align: right;\n",
                            "    }\n",
                            "</style>\n",
                            "<table border=\"1\" class=\"dataframe\">\n",
                            "  <thead>\n",
                            "    <tr style=\"text-align: right;\">\n",
                            "      <th></th>\n",
                            "      <th>index</th>\n",
                            "      <th>relative_time</th>\n",
                            "      <th>yaw</th>\n",
                            "      <th>true_yaw</th>\n",
                            "      <th>error</th>\n",
                            "    </tr>\n",
                            "  </thead>\n",
                            "  <tbody>\n",
                            "    <tr>\n",
                            "      <th>1</th>\n",
                            "      <td>1</td>\n",
                            "      <td>0.066075</td>\n",
                            "      <td>17.161502</td>\n",
                            "      <td>45</td>\n",
                            "      <td>27.838498</td>\n",
                            "    </tr>\n",
                            "    <tr>\n",
                            "      <th>3</th>\n",
                            "      <td>3</td>\n",
                            "      <td>0.185900</td>\n",
                            "      <td>16.785167</td>\n",
                            "      <td>45</td>\n",
                            "      <td>28.214833</td>\n",
                            "    </tr>\n",
                            "    <tr>\n",
                            "      <th>142</th>\n",
                            "      <td>142</td>\n",
                            "      <td>8.961539</td>\n",
                            "      <td>-4.310269</td>\n",
                            "      <td>30</td>\n",
                            "      <td>34.310269</td>\n",
                            "    </tr>\n",
                            "    <tr>\n",
                            "      <th>154</th>\n",
                            "      <td>154</td>\n",
                            "      <td>9.677054</td>\n",
                            "      <td>-21.958784</td>\n",
                            "      <td>15</td>\n",
                            "      <td>36.958784</td>\n",
                            "    </tr>\n",
                            "    <tr>\n",
                            "      <th>160</th>\n",
                            "      <td>160</td>\n",
                            "      <td>10.075511</td>\n",
                            "      <td>-21.888217</td>\n",
                            "      <td>15</td>\n",
                            "      <td>36.888217</td>\n",
                            "    </tr>\n",
                            "    <tr>\n",
                            "      <th>1611</th>\n",
                            "      <td>1611</td>\n",
                            "      <td>60.544557</td>\n",
                            "      <td>-37.422053</td>\n",
                            "      <td>0</td>\n",
                            "      <td>37.422053</td>\n",
                            "    </tr>\n",
                            "    <tr>\n",
                            "      <th>1619</th>\n",
                            "      <td>1619</td>\n",
                            "      <td>60.810608</td>\n",
                            "      <td>32.434380</td>\n",
                            "      <td>60</td>\n",
                            "      <td>27.565620</td>\n",
                            "    </tr>\n",
                            "    <tr>\n",
                            "      <th>1624</th>\n",
                            "      <td>1624</td>\n",
                            "      <td>60.976989</td>\n",
                            "      <td>-39.055025</td>\n",
                            "      <td>0</td>\n",
                            "      <td>39.055025</td>\n",
                            "    </tr>\n",
                            "    <tr>\n",
                            "      <th>1631</th>\n",
                            "      <td>1631</td>\n",
                            "      <td>61.210300</td>\n",
                            "      <td>31.569248</td>\n",
                            "      <td>60</td>\n",
                            "      <td>28.430752</td>\n",
                            "    </tr>\n",
                            "    <tr>\n",
                            "      <th>2014</th>\n",
                            "      <td>2134</td>\n",
                            "      <td>78.377357</td>\n",
                            "      <td>54.851442</td>\n",
                            "      <td>75</td>\n",
                            "      <td>20.148558</td>\n",
                            "    </tr>\n",
                            "    <tr>\n",
                            "      <th>2023</th>\n",
                            "      <td>2143</td>\n",
                            "      <td>79.544457</td>\n",
                            "      <td>52.231347</td>\n",
                            "      <td>75</td>\n",
                            "      <td>22.768653</td>\n",
                            "    </tr>\n",
                            "  </tbody>\n",
                            "</table>\n",
                            "</div>"
                        ],
                        "text/plain": [
                            "      index  relative_time        yaw true_yaw      error\n",
                            "1         1       0.066075  17.161502       45  27.838498\n",
                            "3         3       0.185900  16.785167       45  28.214833\n",
                            "142     142       8.961539  -4.310269       30  34.310269\n",
                            "154     154       9.677054 -21.958784       15  36.958784\n",
                            "160     160      10.075511 -21.888217       15  36.888217\n",
                            "1611   1611      60.544557 -37.422053        0  37.422053\n",
                            "1619   1619      60.810608  32.434380       60  27.565620\n",
                            "1624   1624      60.976989 -39.055025        0  39.055025\n",
                            "1631   1631      61.210300  31.569248       60  28.430752\n",
                            "2014   2134      78.377357  54.851442       75  20.148558\n",
                            "2023   2143      79.544457  52.231347       75  22.768653"
                        ]
                    },
                    "execution_count": 14,
                    "metadata": {},
                    "output_type": "execute_result"
                }
            ],
            "source": [
                "# verify if the bins are in correct order, this is dictated by input_vals order\n",
                "grouped_df.head(2)"
            ]
        },
        {
            "cell_type": "code",
            "execution_count": 15,
            "metadata": {},
            "outputs": [
                {
                    "data": {
                        "text/html": [
                            "<div>\n",
                            "<style scoped>\n",
                            "    .dataframe tbody tr th:only-of-type {\n",
                            "        vertical-align: middle;\n",
                            "    }\n",
                            "\n",
                            "    .dataframe tbody tr th {\n",
                            "        vertical-align: top;\n",
                            "    }\n",
                            "\n",
                            "    .dataframe thead th {\n",
                            "        text-align: right;\n",
                            "    }\n",
                            "</style>\n",
                            "<table border=\"1\" class=\"dataframe\">\n",
                            "  <thead>\n",
                            "    <tr style=\"text-align: right;\">\n",
                            "      <th></th>\n",
                            "      <th>count</th>\n",
                            "      <th>mean</th>\n",
                            "      <th>std</th>\n",
                            "      <th>min</th>\n",
                            "      <th>25%</th>\n",
                            "      <th>50%</th>\n",
                            "      <th>75%</th>\n",
                            "      <th>max</th>\n",
                            "    </tr>\n",
                            "    <tr>\n",
                            "      <th>true_yaw</th>\n",
                            "      <th></th>\n",
                            "      <th></th>\n",
                            "      <th></th>\n",
                            "      <th></th>\n",
                            "      <th></th>\n",
                            "      <th></th>\n",
                            "      <th></th>\n",
                            "      <th></th>\n",
                            "    </tr>\n",
                            "  </thead>\n",
                            "  <tbody>\n",
                            "    <tr>\n",
                            "      <th>0</th>\n",
                            "      <td>20.0</td>\n",
                            "      <td>42.943019</td>\n",
                            "      <td>6.813458</td>\n",
                            "      <td>37.422053</td>\n",
                            "      <td>38.656775</td>\n",
                            "      <td>39.397288</td>\n",
                            "      <td>43.943240</td>\n",
                            "      <td>54.850811</td>\n",
                            "    </tr>\n",
                            "    <tr>\n",
                            "      <th>15</th>\n",
                            "      <td>212.0</td>\n",
                            "      <td>42.396730</td>\n",
                            "      <td>2.018437</td>\n",
                            "      <td>36.888217</td>\n",
                            "      <td>42.398552</td>\n",
                            "      <td>43.079552</td>\n",
                            "      <td>43.725452</td>\n",
                            "      <td>45.859866</td>\n",
                            "    </tr>\n",
                            "    <tr>\n",
                            "      <th>30</th>\n",
                            "      <td>1.0</td>\n",
                            "      <td>34.310269</td>\n",
                            "      <td>NaN</td>\n",
                            "      <td>34.310269</td>\n",
                            "      <td>34.310269</td>\n",
                            "      <td>34.310269</td>\n",
                            "      <td>34.310269</td>\n",
                            "      <td>34.310269</td>\n",
                            "    </tr>\n",
                            "    <tr>\n",
                            "      <th>45</th>\n",
                            "      <td>49.0</td>\n",
                            "      <td>28.248660</td>\n",
                            "      <td>1.246421</td>\n",
                            "      <td>26.198301</td>\n",
                            "      <td>27.294519</td>\n",
                            "      <td>28.214833</td>\n",
                            "      <td>28.624357</td>\n",
                            "      <td>32.292156</td>\n",
                            "    </tr>\n",
                            "    <tr>\n",
                            "      <th>60</th>\n",
                            "      <td>41.0</td>\n",
                            "      <td>27.123573</td>\n",
                            "      <td>0.900545</td>\n",
                            "      <td>25.586611</td>\n",
                            "      <td>26.559057</td>\n",
                            "      <td>27.159137</td>\n",
                            "      <td>27.726293</td>\n",
                            "      <td>28.875982</td>\n",
                            "    </tr>\n",
                            "    <tr>\n",
                            "      <th>75</th>\n",
                            "      <td>72.0</td>\n",
                            "      <td>26.240270</td>\n",
                            "      <td>2.083624</td>\n",
                            "      <td>13.226960</td>\n",
                            "      <td>26.075475</td>\n",
                            "      <td>26.475611</td>\n",
                            "      <td>27.031754</td>\n",
                            "      <td>29.140443</td>\n",
                            "    </tr>\n",
                            "  </tbody>\n",
                            "</table>\n",
                            "</div>"
                        ],
                        "text/plain": [
                            "          count       mean       std        min        25%        50%  \\\n",
                            "true_yaw                                                                \n",
                            "0          20.0  42.943019  6.813458  37.422053  38.656775  39.397288   \n",
                            "15        212.0  42.396730  2.018437  36.888217  42.398552  43.079552   \n",
                            "30          1.0  34.310269       NaN  34.310269  34.310269  34.310269   \n",
                            "45         49.0  28.248660  1.246421  26.198301  27.294519  28.214833   \n",
                            "60         41.0  27.123573  0.900545  25.586611  26.559057  27.159137   \n",
                            "75         72.0  26.240270  2.083624  13.226960  26.075475  26.475611   \n",
                            "\n",
                            "                75%        max  \n",
                            "true_yaw                        \n",
                            "0         43.943240  54.850811  \n",
                            "15        43.725452  45.859866  \n",
                            "30        34.310269  34.310269  \n",
                            "45        28.624357  32.292156  \n",
                            "60        27.726293  28.875982  \n",
                            "75        27.031754  29.140443  "
                        ]
                    },
                    "execution_count": 15,
                    "metadata": {},
                    "output_type": "execute_result"
                }
            ],
            "source": [
                "grouped_df.error.describe()"
            ]
        },
        {
            "cell_type": "code",
            "execution_count": 16,
            "metadata": {},
            "outputs": [],
            "source": [
                "def box_plotter(column_name):\n",
                "    fig, axes = plt.subplots(1,len(input_vals))\n",
                "\n",
                "    for i, val in enumerate(input_vals):\n",
                "        grouped_df.get_group(val).boxplot(column=column_name, ax=axes.flatten()[i])\n",
                "        axes.flatten()[i].set_title(val)\n",
                "\n",
                "\n",
                "    plt.tight_layout()\n",
                "    plt.show()"
            ]
        },
        {
            "cell_type": "code",
            "execution_count": 17,
            "metadata": {},
            "outputs": [
                {
                    "data": {
                        "image/png": "[encoded data removed]",
                        "text/plain": [
                            "<Figure size 432x288 with 6 Axes>"
                        ]
                    },
                    "metadata": {
                        "needs_background": "light"
                    },
                    "output_type": "display_data"
                }
            ],
            "source": [
                "box_plotter(target)"
            ]
        },
        {
            "cell_type": "code",
            "execution_count": 18,
            "metadata": {},
            "outputs": [
                {
                    "data": {
                        "image/png": "[encoded data removed]",
                        "text/plain": [
                            "<Figure size 432x288 with 6 Axes>"
                        ]
                    },
                    "metadata": {
                        "needs_background": "light"
                    },
                    "output_type": "display_data"
                }
            ],
            "source": [
                "box_plotter('error')"
            ]
        },
        {
            "cell_type": "code",
            "execution_count": 19,
            "metadata": {},
            "outputs": [],
            "source": [
                "df_filtered_by_targets.to_csv('/home/hakanergin/code/apriltag_test_bench/test_pipeline/scripts/static_tests/rotations/result/csv/5m_16h5_360.csv')"
            ]
        }
    ],
    "metadata": {
        "kernelspec": {
            "display_name": "Python 3 (ipykernel)",
            "language": "python",
            "name": "python3"
        },
        "language_info": {
            "codemirror_mode": {
                "name": "ipython",
                "version": 3
            },
            "file_extension": ".py",
            "mimetype": "text/x-python",
            "name": "python",
            "nbconvert_exporter": "python",
            "pygments_lexer": "ipython3",
            "version": "3.8.10"
        },
        "orig_nbformat": 4
    },
    "nbformat": 4,
    "nbformat_minor": 2
}
