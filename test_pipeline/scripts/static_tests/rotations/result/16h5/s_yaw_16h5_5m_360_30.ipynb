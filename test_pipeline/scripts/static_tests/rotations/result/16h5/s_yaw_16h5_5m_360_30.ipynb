{
 "cells": [
  {
   "cell_type": "code",
   "execution_count": 1,
   "metadata": {},
   "outputs": [],
   "source": [
    "import rosbag\n",
    "import pandas as pd\n",
    "import matplotlib.pyplot as plt\n",
    "import numpy as np\n",
    "import tf\n",
    "from scipy.signal import find_peaks"
   ]
  },
  {
   "cell_type": "code",
   "execution_count": 2,
   "metadata": {},
   "outputs": [],
   "source": [
    "bag = rosbag.Bag('/home/uware/rosbags/static/rotation/16h5/s_yaw_16h5_5m_360_30.bag')\n",
    "\n",
    "# create variables\n",
    "target = 'yaw'\n",
    "true_value = 'true_yaw'\n",
    "\n",
    "# input values in degrees. the order matters, it will be used for binning \n",
    "input_vals = [0,15,30,45,60,75]"
   ]
  },
  {
   "cell_type": "code",
   "execution_count": 3,
   "metadata": {},
   "outputs": [],
   "source": [
    "topic = '/tf'\n",
    "\n",
    "rows = []\n",
    "\n",
    "for topic, msg, t in bag.read_messages(topics=topic):\n",
    "    \n",
    "    time = t\n",
    "\n",
    "    # conversion to euler\n",
    "    rotation_quat = msg.transforms[0].transform.rotation\n",
    "    pitch, yaw, roll = tf.transformations.euler_from_quaternion([rotation_quat.x,rotation_quat.y,rotation_quat.z,rotation_quat.w], axes='rxyz')\n",
    "\n",
    "    # all rotations\n",
    "    # rotation_euler = (np.degrees(pitch), np.degrees(yaw), np.degrees(roll))\n",
    "\n",
    "    # create row\n",
    "    row={'time': time.to_sec(), target: np.degrees(yaw)}\n",
    "    rows.append(row)\n",
    "\n",
    "df = pd.DataFrame.from_records(rows)"
   ]
  },
  {
   "cell_type": "code",
   "execution_count": 4,
   "metadata": {},
   "outputs": [
    {
     "data": {
      "text/html": [
       "<div>\n",
       "<style scoped>\n",
       "    .dataframe tbody tr th:only-of-type {\n",
       "        vertical-align: middle;\n",
       "    }\n",
       "\n",
       "    .dataframe tbody tr th {\n",
       "        vertical-align: top;\n",
       "    }\n",
       "\n",
       "    .dataframe thead th {\n",
       "        text-align: right;\n",
       "    }\n",
       "</style>\n",
       "<table border=\"1\" class=\"dataframe\">\n",
       "  <thead>\n",
       "    <tr style=\"text-align: right;\">\n",
       "      <th></th>\n",
       "      <th>relative_time</th>\n",
       "      <th>yaw</th>\n",
       "    </tr>\n",
       "  </thead>\n",
       "  <tbody>\n",
       "    <tr>\n",
       "      <th>0</th>\n",
       "      <td>0.000000</td>\n",
       "      <td>-41.092977</td>\n",
       "    </tr>\n",
       "    <tr>\n",
       "      <th>1</th>\n",
       "      <td>0.872118</td>\n",
       "      <td>-18.993038</td>\n",
       "    </tr>\n",
       "    <tr>\n",
       "      <th>2</th>\n",
       "      <td>0.942230</td>\n",
       "      <td>17.051900</td>\n",
       "    </tr>\n",
       "    <tr>\n",
       "      <th>3</th>\n",
       "      <td>1.006769</td>\n",
       "      <td>12.351733</td>\n",
       "    </tr>\n",
       "    <tr>\n",
       "      <th>4</th>\n",
       "      <td>1.074148</td>\n",
       "      <td>-20.580346</td>\n",
       "    </tr>\n",
       "    <tr>\n",
       "      <th>...</th>\n",
       "      <td>...</td>\n",
       "      <td>...</td>\n",
       "    </tr>\n",
       "    <tr>\n",
       "      <th>1312</th>\n",
       "      <td>81.375832</td>\n",
       "      <td>51.009816</td>\n",
       "    </tr>\n",
       "    <tr>\n",
       "      <th>1313</th>\n",
       "      <td>81.410361</td>\n",
       "      <td>51.009816</td>\n",
       "    </tr>\n",
       "    <tr>\n",
       "      <th>1314</th>\n",
       "      <td>81.443139</td>\n",
       "      <td>51.009816</td>\n",
       "    </tr>\n",
       "    <tr>\n",
       "      <th>1315</th>\n",
       "      <td>82.043576</td>\n",
       "      <td>-11.602400</td>\n",
       "    </tr>\n",
       "    <tr>\n",
       "      <th>1316</th>\n",
       "      <td>82.376657</td>\n",
       "      <td>-62.514461</td>\n",
       "    </tr>\n",
       "  </tbody>\n",
       "</table>\n",
       "<p>1317 rows × 2 columns</p>\n",
       "</div>"
      ],
      "text/plain": [
       "      relative_time        yaw\n",
       "0          0.000000 -41.092977\n",
       "1          0.872118 -18.993038\n",
       "2          0.942230  17.051900\n",
       "3          1.006769  12.351733\n",
       "4          1.074148 -20.580346\n",
       "...             ...        ...\n",
       "1312      81.375832  51.009816\n",
       "1313      81.410361  51.009816\n",
       "1314      81.443139  51.009816\n",
       "1315      82.043576 -11.602400\n",
       "1316      82.376657 -62.514461\n",
       "\n",
       "[1317 rows x 2 columns]"
      ]
     },
     "execution_count": 4,
     "metadata": {},
     "output_type": "execute_result"
    }
   ],
   "source": [
    "# calculate relative time in seconds instead of absolute time\n",
    "df['relative_time'] =  df.loc[0:, 'time'] - df.at[0, 'time']\n",
    "df = df.drop(columns=['time'])\n",
    "df = df[['relative_time', target]]\n",
    "df"
   ]
  },
  {
   "cell_type": "code",
   "execution_count": 5,
   "metadata": {},
   "outputs": [
    {
     "data": {
      "text/plain": [
       "<AxesSubplot:xlabel='relative_time'>"
      ]
     },
     "execution_count": 5,
     "metadata": {},
     "output_type": "execute_result"
    },
    {
     "data": {
      "image/png": "[encoded data removed]",
      "text/plain": [
       "<Figure size 432x288 with 1 Axes>"
      ]
     },
     "metadata": {
      "needs_background": "light"
     },
     "output_type": "display_data"
    }
   ],
   "source": [
    "# initial graph\n",
    "df.plot(x='relative_time', y=target)"
   ]
  },
  {
   "cell_type": "code",
   "execution_count": 6,
   "metadata": {},
   "outputs": [],
   "source": [
    "# find plateaus\n",
    "x = df[target]\n",
    "peaks, _ = find_peaks(x, threshold=(0, 1)) # from find_peaks docs: Threshold: The first element is always interpreted as the minimal and the second, if supplied, as the maximal required threshold."
   ]
  },
  {
   "cell_type": "code",
   "execution_count": 7,
   "metadata": {},
   "outputs": [
    {
     "data": {
      "text/plain": [
       "170"
      ]
     },
     "execution_count": 7,
     "metadata": {},
     "output_type": "execute_result"
    }
   ],
   "source": [
    "# the amount of data points we are left with\n",
    "len(x[peaks])"
   ]
  },
  {
   "cell_type": "code",
   "execution_count": 8,
   "metadata": {},
   "outputs": [],
   "source": [
    "# create filtered data frame\n",
    "df_filtered_by_targets = df.loc[peaks]"
   ]
  },
  {
   "cell_type": "code",
   "execution_count": 9,
   "metadata": {},
   "outputs": [
    {
     "data": {
      "text/plain": [
       "<AxesSubplot:xlabel='relative_time', ylabel='yaw'>"
      ]
     },
     "execution_count": 9,
     "metadata": {},
     "output_type": "execute_result"
    },
    {
     "data": {
      "image/png": "[encoded data removed]",
      "text/plain": [
       "<Figure size 432x288 with 1 Axes>"
      ]
     },
     "metadata": {
      "needs_background": "light"
     },
     "output_type": "display_data"
    }
   ],
   "source": [
    "df_filtered_by_targets.plot.scatter(x='relative_time', y=target)"
   ]
  },
  {
   "cell_type": "code",
   "execution_count": 10,
   "metadata": {},
   "outputs": [
    {
     "data": {
      "text/html": [
       "<div>\n",
       "<style scoped>\n",
       "    .dataframe tbody tr th:only-of-type {\n",
       "        vertical-align: middle;\n",
       "    }\n",
       "\n",
       "    .dataframe tbody tr th {\n",
       "        vertical-align: top;\n",
       "    }\n",
       "\n",
       "    .dataframe thead th {\n",
       "        text-align: right;\n",
       "    }\n",
       "</style>\n",
       "<table border=\"1\" class=\"dataframe\">\n",
       "  <thead>\n",
       "    <tr style=\"text-align: right;\">\n",
       "      <th></th>\n",
       "      <th>relative_time</th>\n",
       "      <th>yaw</th>\n",
       "      <th>true_yaw</th>\n",
       "    </tr>\n",
       "  </thead>\n",
       "  <tbody>\n",
       "    <tr>\n",
       "      <th>30</th>\n",
       "      <td>3.009025</td>\n",
       "      <td>13.592287</td>\n",
       "      <td>45</td>\n",
       "    </tr>\n",
       "    <tr>\n",
       "      <th>32</th>\n",
       "      <td>3.142500</td>\n",
       "      <td>13.579817</td>\n",
       "      <td>45</td>\n",
       "    </tr>\n",
       "    <tr>\n",
       "      <th>38</th>\n",
       "      <td>3.555130</td>\n",
       "      <td>14.553826</td>\n",
       "      <td>45</td>\n",
       "    </tr>\n",
       "    <tr>\n",
       "      <th>40</th>\n",
       "      <td>3.688985</td>\n",
       "      <td>14.486086</td>\n",
       "      <td>45</td>\n",
       "    </tr>\n",
       "    <tr>\n",
       "      <th>45</th>\n",
       "      <td>4.024627</td>\n",
       "      <td>15.845328</td>\n",
       "      <td>60</td>\n",
       "    </tr>\n",
       "    <tr>\n",
       "      <th>...</th>\n",
       "      <td>...</td>\n",
       "      <td>...</td>\n",
       "      <td>...</td>\n",
       "    </tr>\n",
       "    <tr>\n",
       "      <th>1246</th>\n",
       "      <td>48.675626</td>\n",
       "      <td>48.462163</td>\n",
       "      <td>75</td>\n",
       "    </tr>\n",
       "    <tr>\n",
       "      <th>1255</th>\n",
       "      <td>48.976492</td>\n",
       "      <td>-55.476148</td>\n",
       "      <td>0</td>\n",
       "    </tr>\n",
       "    <tr>\n",
       "      <th>1257</th>\n",
       "      <td>49.046147</td>\n",
       "      <td>-55.455901</td>\n",
       "      <td>0</td>\n",
       "    </tr>\n",
       "    <tr>\n",
       "      <th>1278</th>\n",
       "      <td>55.110136</td>\n",
       "      <td>19.718555</td>\n",
       "      <td>60</td>\n",
       "    </tr>\n",
       "    <tr>\n",
       "      <th>1307</th>\n",
       "      <td>81.209517</td>\n",
       "      <td>51.029681</td>\n",
       "      <td>75</td>\n",
       "    </tr>\n",
       "  </tbody>\n",
       "</table>\n",
       "<p>170 rows × 3 columns</p>\n",
       "</div>"
      ],
      "text/plain": [
       "      relative_time        yaw true_yaw\n",
       "30         3.009025  13.592287       45\n",
       "32         3.142500  13.579817       45\n",
       "38         3.555130  14.553826       45\n",
       "40         3.688985  14.486086       45\n",
       "45         4.024627  15.845328       60\n",
       "...             ...        ...      ...\n",
       "1246      48.675626  48.462163       75\n",
       "1255      48.976492 -55.476148        0\n",
       "1257      49.046147 -55.455901        0\n",
       "1278      55.110136  19.718555       60\n",
       "1307      81.209517  51.029681       75\n",
       "\n",
       "[170 rows x 3 columns]"
      ]
     },
     "execution_count": 10,
     "metadata": {},
     "output_type": "execute_result"
    }
   ],
   "source": [
    "# segmenting/binning by real value\n",
    "df_filtered_by_targets[true_value] = pd.cut(df_filtered_by_targets[target], bins=len(input_vals), labels=input_vals)\n",
    "df_filtered_by_targets"
   ]
  },
  {
   "cell_type": "code",
   "execution_count": 11,
   "metadata": {},
   "outputs": [],
   "source": [
    "# calculate the error\n",
    "df_filtered_by_targets['error'] =  df_filtered_by_targets.apply(lambda row: row[true_value] - row[target], axis=1)"
   ]
  },
  {
   "cell_type": "code",
   "execution_count": 12,
   "metadata": {},
   "outputs": [],
   "source": [
    "grouped_df = df_filtered_by_targets.groupby(true_value)"
   ]
  },
  {
   "cell_type": "code",
   "execution_count": 13,
   "metadata": {},
   "outputs": [
    {
     "data": {
      "text/html": [
       "<div>\n",
       "<style scoped>\n",
       "    .dataframe tbody tr th:only-of-type {\n",
       "        vertical-align: middle;\n",
       "    }\n",
       "\n",
       "    .dataframe tbody tr th {\n",
       "        vertical-align: top;\n",
       "    }\n",
       "\n",
       "    .dataframe thead th {\n",
       "        text-align: right;\n",
       "    }\n",
       "</style>\n",
       "<table border=\"1\" class=\"dataframe\">\n",
       "  <thead>\n",
       "    <tr style=\"text-align: right;\">\n",
       "      <th></th>\n",
       "      <th>relative_time</th>\n",
       "      <th>yaw</th>\n",
       "      <th>true_yaw</th>\n",
       "      <th>error</th>\n",
       "    </tr>\n",
       "  </thead>\n",
       "  <tbody>\n",
       "    <tr>\n",
       "      <th>30</th>\n",
       "      <td>3.009025</td>\n",
       "      <td>13.592287</td>\n",
       "      <td>45</td>\n",
       "      <td>31.407713</td>\n",
       "    </tr>\n",
       "    <tr>\n",
       "      <th>32</th>\n",
       "      <td>3.142500</td>\n",
       "      <td>13.579817</td>\n",
       "      <td>45</td>\n",
       "      <td>31.420183</td>\n",
       "    </tr>\n",
       "    <tr>\n",
       "      <th>45</th>\n",
       "      <td>4.024627</td>\n",
       "      <td>15.845328</td>\n",
       "      <td>60</td>\n",
       "      <td>44.154672</td>\n",
       "    </tr>\n",
       "    <tr>\n",
       "      <th>57</th>\n",
       "      <td>4.864436</td>\n",
       "      <td>15.979990</td>\n",
       "      <td>60</td>\n",
       "      <td>44.020010</td>\n",
       "    </tr>\n",
       "    <tr>\n",
       "      <th>99</th>\n",
       "      <td>7.740304</td>\n",
       "      <td>-23.548932</td>\n",
       "      <td>15</td>\n",
       "      <td>38.548932</td>\n",
       "    </tr>\n",
       "    <tr>\n",
       "      <th>102</th>\n",
       "      <td>7.915005</td>\n",
       "      <td>-23.633410</td>\n",
       "      <td>15</td>\n",
       "      <td>38.633410</td>\n",
       "    </tr>\n",
       "    <tr>\n",
       "      <th>293</th>\n",
       "      <td>15.676604</td>\n",
       "      <td>-39.645262</td>\n",
       "      <td>0</td>\n",
       "      <td>39.645262</td>\n",
       "    </tr>\n",
       "    <tr>\n",
       "      <th>311</th>\n",
       "      <td>16.243590</td>\n",
       "      <td>-38.680885</td>\n",
       "      <td>0</td>\n",
       "      <td>38.680885</td>\n",
       "    </tr>\n",
       "    <tr>\n",
       "      <th>361</th>\n",
       "      <td>17.843506</td>\n",
       "      <td>34.067217</td>\n",
       "      <td>75</td>\n",
       "      <td>40.932783</td>\n",
       "    </tr>\n",
       "    <tr>\n",
       "      <th>364</th>\n",
       "      <td>17.943774</td>\n",
       "      <td>34.037041</td>\n",
       "      <td>75</td>\n",
       "      <td>40.962959</td>\n",
       "    </tr>\n",
       "  </tbody>\n",
       "</table>\n",
       "</div>"
      ],
      "text/plain": [
       "     relative_time        yaw true_yaw      error\n",
       "30        3.009025  13.592287       45  31.407713\n",
       "32        3.142500  13.579817       45  31.420183\n",
       "45        4.024627  15.845328       60  44.154672\n",
       "57        4.864436  15.979990       60  44.020010\n",
       "99        7.740304 -23.548932       15  38.548932\n",
       "102       7.915005 -23.633410       15  38.633410\n",
       "293      15.676604 -39.645262        0  39.645262\n",
       "311      16.243590 -38.680885        0  38.680885\n",
       "361      17.843506  34.067217       75  40.932783\n",
       "364      17.943774  34.037041       75  40.962959"
      ]
     },
     "execution_count": 13,
     "metadata": {},
     "output_type": "execute_result"
    }
   ],
   "source": [
    "# verify if the bins are in correct order, this is dictated by input_vals order\n",
    "grouped_df.head(2)"
   ]
  },
  {
   "cell_type": "code",
   "execution_count": 14,
   "metadata": {},
   "outputs": [
    {
     "data": {
      "text/html": [
       "<div>\n",
       "<style scoped>\n",
       "    .dataframe tbody tr th:only-of-type {\n",
       "        vertical-align: middle;\n",
       "    }\n",
       "\n",
       "    .dataframe tbody tr th {\n",
       "        vertical-align: top;\n",
       "    }\n",
       "\n",
       "    .dataframe thead th {\n",
       "        text-align: right;\n",
       "    }\n",
       "</style>\n",
       "<table border=\"1\" class=\"dataframe\">\n",
       "  <thead>\n",
       "    <tr style=\"text-align: right;\">\n",
       "      <th></th>\n",
       "      <th>count</th>\n",
       "      <th>mean</th>\n",
       "      <th>std</th>\n",
       "      <th>min</th>\n",
       "      <th>25%</th>\n",
       "      <th>50%</th>\n",
       "      <th>75%</th>\n",
       "      <th>max</th>\n",
       "    </tr>\n",
       "    <tr>\n",
       "      <th>true_yaw</th>\n",
       "      <th></th>\n",
       "      <th></th>\n",
       "      <th></th>\n",
       "      <th></th>\n",
       "      <th></th>\n",
       "      <th></th>\n",
       "      <th></th>\n",
       "      <th></th>\n",
       "    </tr>\n",
       "  </thead>\n",
       "  <tbody>\n",
       "    <tr>\n",
       "      <th>0</th>\n",
       "      <td>30.0</td>\n",
       "      <td>42.244398</td>\n",
       "      <td>5.700434</td>\n",
       "      <td>37.963734</td>\n",
       "      <td>38.994470</td>\n",
       "      <td>40.163235</td>\n",
       "      <td>40.947372</td>\n",
       "      <td>55.476148</td>\n",
       "    </tr>\n",
       "    <tr>\n",
       "      <th>15</th>\n",
       "      <td>9.0</td>\n",
       "      <td>39.282912</td>\n",
       "      <td>2.716085</td>\n",
       "      <td>37.969676</td>\n",
       "      <td>38.023114</td>\n",
       "      <td>38.621596</td>\n",
       "      <td>38.644479</td>\n",
       "      <td>46.479547</td>\n",
       "    </tr>\n",
       "    <tr>\n",
       "      <th>30</th>\n",
       "      <td>0.0</td>\n",
       "      <td>NaN</td>\n",
       "      <td>NaN</td>\n",
       "      <td>NaN</td>\n",
       "      <td>NaN</td>\n",
       "      <td>NaN</td>\n",
       "      <td>NaN</td>\n",
       "      <td>NaN</td>\n",
       "    </tr>\n",
       "    <tr>\n",
       "      <th>45</th>\n",
       "      <td>4.0</td>\n",
       "      <td>30.946996</td>\n",
       "      <td>0.539922</td>\n",
       "      <td>30.446174</td>\n",
       "      <td>30.496979</td>\n",
       "      <td>30.960813</td>\n",
       "      <td>31.410830</td>\n",
       "      <td>31.420183</td>\n",
       "    </tr>\n",
       "    <tr>\n",
       "      <th>60</th>\n",
       "      <td>50.0</td>\n",
       "      <td>37.071834</td>\n",
       "      <td>8.130576</td>\n",
       "      <td>26.721696</td>\n",
       "      <td>27.780130</td>\n",
       "      <td>43.461906</td>\n",
       "      <td>44.074719</td>\n",
       "      <td>44.322253</td>\n",
       "    </tr>\n",
       "    <tr>\n",
       "      <th>75</th>\n",
       "      <td>77.0</td>\n",
       "      <td>31.794995</td>\n",
       "      <td>6.796852</td>\n",
       "      <td>23.970319</td>\n",
       "      <td>26.540350</td>\n",
       "      <td>27.025139</td>\n",
       "      <td>40.605822</td>\n",
       "      <td>41.700067</td>\n",
       "    </tr>\n",
       "  </tbody>\n",
       "</table>\n",
       "</div>"
      ],
      "text/plain": [
       "          count       mean       std        min        25%        50%  \\\n",
       "true_yaw                                                                \n",
       "0          30.0  42.244398  5.700434  37.963734  38.994470  40.163235   \n",
       "15          9.0  39.282912  2.716085  37.969676  38.023114  38.621596   \n",
       "30          0.0        NaN       NaN        NaN        NaN        NaN   \n",
       "45          4.0  30.946996  0.539922  30.446174  30.496979  30.960813   \n",
       "60         50.0  37.071834  8.130576  26.721696  27.780130  43.461906   \n",
       "75         77.0  31.794995  6.796852  23.970319  26.540350  27.025139   \n",
       "\n",
       "                75%        max  \n",
       "true_yaw                        \n",
       "0         40.947372  55.476148  \n",
       "15        38.644479  46.479547  \n",
       "30              NaN        NaN  \n",
       "45        31.410830  31.420183  \n",
       "60        44.074719  44.322253  \n",
       "75        40.605822  41.700067  "
      ]
     },
     "execution_count": 14,
     "metadata": {},
     "output_type": "execute_result"
    }
   ],
   "source": [
    "grouped_df.error.describe()"
   ]
  },
  {
   "cell_type": "code",
   "execution_count": 15,
   "metadata": {},
   "outputs": [],
   "source": [
    "def box_plotter(column_name):\n",
    "    fig, axes = plt.subplots(1,len(input_vals))\n",
    "\n",
    "    for i, val in enumerate(input_vals):\n",
    "        grouped_df.get_group(val).boxplot(column=column_name, ax=axes.flatten()[i])\n",
    "        axes.flatten()[i].set_title(val)\n",
    "\n",
    "\n",
    "    plt.tight_layout()\n",
    "    plt.show()"
   ]
  },
  {
   "cell_type": "code",
   "execution_count": 16,
   "metadata": {},
   "outputs": [
    {
     "ename": "KeyError",
     "evalue": "30",
     "output_type": "error",
     "traceback": [
      "\u001b[0;31m---------------------------------------------------------------------------\u001b[0m",
      "\u001b[0;31mKeyError\u001b[0m                                  Traceback (most recent call last)",
      "\u001b[1;32m/home/uware/projects/apriltags_ws/src/test_pipeline/scripts/static_tests/rotations/result/16h5/s_yaw_16h5_5m_360_30.ipynb Cell 16'\u001b[0m in \u001b[0;36m<module>\u001b[0;34m\u001b[0m\n\u001b[0;32m----> <a href='vscode-notebook-cell://ssh-remote%2B192.168.1.35/home/uware/projects/apriltags_ws/src/test_pipeline/scripts/static_tests/rotations/result/16h5/s_yaw_16h5_5m_360_30.ipynb#ch0000015vscode-remote?line=0'>1</a>\u001b[0m box_plotter(target)\n",
      "\u001b[1;32m/home/uware/projects/apriltags_ws/src/test_pipeline/scripts/static_tests/rotations/result/16h5/s_yaw_16h5_5m_360_30.ipynb Cell 15'\u001b[0m in \u001b[0;36mbox_plotter\u001b[0;34m(column_name)\u001b[0m\n\u001b[1;32m      <a href='vscode-notebook-cell://ssh-remote%2B192.168.1.35/home/uware/projects/apriltags_ws/src/test_pipeline/scripts/static_tests/rotations/result/16h5/s_yaw_16h5_5m_360_30.ipynb#ch0000014vscode-remote?line=1'>2</a>\u001b[0m fig, axes \u001b[39m=\u001b[39m plt\u001b[39m.\u001b[39msubplots(\u001b[39m1\u001b[39m,\u001b[39mlen\u001b[39m(input_vals))\n\u001b[1;32m      <a href='vscode-notebook-cell://ssh-remote%2B192.168.1.35/home/uware/projects/apriltags_ws/src/test_pipeline/scripts/static_tests/rotations/result/16h5/s_yaw_16h5_5m_360_30.ipynb#ch0000014vscode-remote?line=3'>4</a>\u001b[0m \u001b[39mfor\u001b[39;00m i, val \u001b[39min\u001b[39;00m \u001b[39menumerate\u001b[39m(input_vals):\n\u001b[0;32m----> <a href='vscode-notebook-cell://ssh-remote%2B192.168.1.35/home/uware/projects/apriltags_ws/src/test_pipeline/scripts/static_tests/rotations/result/16h5/s_yaw_16h5_5m_360_30.ipynb#ch0000014vscode-remote?line=4'>5</a>\u001b[0m     grouped_df\u001b[39m.\u001b[39;49mget_group(val)\u001b[39m.\u001b[39mboxplot(column\u001b[39m=\u001b[39mcolumn_name, ax\u001b[39m=\u001b[39maxes\u001b[39m.\u001b[39mflatten()[i])\n\u001b[1;32m      <a href='vscode-notebook-cell://ssh-remote%2B192.168.1.35/home/uware/projects/apriltags_ws/src/test_pipeline/scripts/static_tests/rotations/result/16h5/s_yaw_16h5_5m_360_30.ipynb#ch0000014vscode-remote?line=5'>6</a>\u001b[0m     axes\u001b[39m.\u001b[39mflatten()[i]\u001b[39m.\u001b[39mset_title(val)\n\u001b[1;32m      <a href='vscode-notebook-cell://ssh-remote%2B192.168.1.35/home/uware/projects/apriltags_ws/src/test_pipeline/scripts/static_tests/rotations/result/16h5/s_yaw_16h5_5m_360_30.ipynb#ch0000014vscode-remote?line=8'>9</a>\u001b[0m plt\u001b[39m.\u001b[39mtight_layout()\n",
      "File \u001b[0;32m~/projects/apriltags_ws/src/test_pipeline/env/lib/python3.8/site-packages/pandas/core/groupby/groupby.py:747\u001b[0m, in \u001b[0;36mBaseGroupBy.get_group\u001b[0;34m(self, name, obj)\u001b[0m\n\u001b[1;32m    <a href='file:///home/uware/projects/apriltags_ws/src/test_pipeline/env/lib/python3.8/site-packages/pandas/core/groupby/groupby.py?line=744'>745</a>\u001b[0m inds \u001b[39m=\u001b[39m \u001b[39mself\u001b[39m\u001b[39m.\u001b[39m_get_index(name)\n\u001b[1;32m    <a href='file:///home/uware/projects/apriltags_ws/src/test_pipeline/env/lib/python3.8/site-packages/pandas/core/groupby/groupby.py?line=745'>746</a>\u001b[0m \u001b[39mif\u001b[39;00m \u001b[39mnot\u001b[39;00m \u001b[39mlen\u001b[39m(inds):\n\u001b[0;32m--> <a href='file:///home/uware/projects/apriltags_ws/src/test_pipeline/env/lib/python3.8/site-packages/pandas/core/groupby/groupby.py?line=746'>747</a>\u001b[0m     \u001b[39mraise\u001b[39;00m \u001b[39mKeyError\u001b[39;00m(name)\n\u001b[1;32m    <a href='file:///home/uware/projects/apriltags_ws/src/test_pipeline/env/lib/python3.8/site-packages/pandas/core/groupby/groupby.py?line=748'>749</a>\u001b[0m \u001b[39mreturn\u001b[39;00m obj\u001b[39m.\u001b[39m_take_with_is_copy(inds, axis\u001b[39m=\u001b[39m\u001b[39mself\u001b[39m\u001b[39m.\u001b[39maxis)\n",
      "\u001b[0;31mKeyError\u001b[0m: 30"
     ]
    },
    {
     "data": {
      "image/png": "[encoded data removed]",
      "text/plain": [
       "<Figure size 432x288 with 6 Axes>"
      ]
     },
     "metadata": {
      "needs_background": "light"
     },
     "output_type": "display_data"
    }
   ],
   "source": [
    "box_plotter(target)"
   ]
  },
  {
   "cell_type": "code",
   "execution_count": null,
   "metadata": {},
   "outputs": [
    {
     "data": {
      "image/png": "[encoded data removed]",
      "text/plain": [
       "<Figure size 432x288 with 6 Axes>"
      ]
     },
     "metadata": {
      "needs_background": "light"
     },
     "output_type": "display_data"
    }
   ],
   "source": [
    "box_plotter('error')"
   ]
  }
 ],
 "metadata": {
  "kernelspec": {
   "display_name": "Python 3 (ipykernel)",
   "language": "python",
   "name": "python3"
  },
  "language_info": {
   "codemirror_mode": {
    "name": "ipython",
    "version": 3
   },
   "file_extension": ".py",
   "mimetype": "text/x-python",
   "name": "python",
   "nbconvert_exporter": "python",
   "pygments_lexer": "ipython3",
   "version": "3.8.10"
  },
  "orig_nbformat": 4
 },
 "nbformat": 4,
 "nbformat_minor": 2
}
