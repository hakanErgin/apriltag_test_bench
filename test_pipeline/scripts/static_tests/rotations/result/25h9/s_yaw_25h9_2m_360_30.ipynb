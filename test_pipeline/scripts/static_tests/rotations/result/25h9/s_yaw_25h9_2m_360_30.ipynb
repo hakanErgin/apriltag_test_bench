{
    "cells": [
        {
            "cell_type": "code",
            "execution_count": 1,
            "metadata": {},
            "outputs": [],
            "source": [
                "import rosbag\n",
                "import pandas as pd\n",
                "import matplotlib.pyplot as plt\n",
                "import numpy as np\n",
                "import tf\n",
                "from scipy.signal import find_peaks"
            ]
        },
        {
            "cell_type": "code",
            "execution_count": 2,
            "metadata": {},
            "outputs": [],
            "source": [
                "bag = rosbag.Bag('/home/hakanergin/code/rosbags/static/rotation/25h9/s_yaw_25h9_2m_360_30.bag')\n",
                "\n",
                "# create variables\n",
                "target = 'yaw'\n",
                "true_value = 'true_yaw'\n",
                "\n",
                "# input values in degrees. the order matters, it will be used for binning \n",
                "input_vals = [45,60,75]"
            ]
        },
        {
            "cell_type": "code",
            "execution_count": 3,
            "metadata": {},
            "outputs": [],
            "source": [
                "topic = '/tf'\n",
                "\n",
                "rows = []\n",
                "\n",
                "for topic, msg, t in bag.read_messages(topics=topic):\n",
                "    \n",
                "    time = t\n",
                "\n",
                "    # conversion to euler\n",
                "    rotation_quat = msg.transforms[0].transform.rotation\n",
                "    pitch, yaw, roll = tf.transformations.euler_from_quaternion([rotation_quat.x,rotation_quat.y,rotation_quat.z,rotation_quat.w], axes='rxyz')\n",
                "\n",
                "    # all rotations\n",
                "    # rotation_euler = (np.degrees(pitch), np.degrees(yaw), np.degrees(roll))\n",
                "\n",
                "    # create row\n",
                "    row={'time': time.to_sec(), target: np.degrees(yaw)}\n",
                "    rows.append(row)\n",
                "\n",
                "df = pd.DataFrame.from_records(rows)"
            ]
        },
        {
            "cell_type": "code",
            "execution_count": 4,
            "metadata": {},
            "outputs": [
                {
                    "data": {
                        "text/html": [
                            "<div>\n",
                            "<style scoped>\n",
                            "    .dataframe tbody tr th:only-of-type {\n",
                            "        vertical-align: middle;\n",
                            "    }\n",
                            "\n",
                            "    .dataframe tbody tr th {\n",
                            "        vertical-align: top;\n",
                            "    }\n",
                            "\n",
                            "    .dataframe thead th {\n",
                            "        text-align: right;\n",
                            "    }\n",
                            "</style>\n",
                            "<table border=\"1\" class=\"dataframe\">\n",
                            "  <thead>\n",
                            "    <tr style=\"text-align: right;\">\n",
                            "      <th></th>\n",
                            "      <th>relative_time</th>\n",
                            "      <th>yaw</th>\n",
                            "    </tr>\n",
                            "  </thead>\n",
                            "  <tbody>\n",
                            "    <tr>\n",
                            "      <th>0</th>\n",
                            "      <td>0.000000</td>\n",
                            "      <td>38.027843</td>\n",
                            "    </tr>\n",
                            "    <tr>\n",
                            "      <th>1</th>\n",
                            "      <td>0.029865</td>\n",
                            "      <td>38.519961</td>\n",
                            "    </tr>\n",
                            "    <tr>\n",
                            "      <th>2</th>\n",
                            "      <td>0.065807</td>\n",
                            "      <td>38.534397</td>\n",
                            "    </tr>\n",
                            "    <tr>\n",
                            "      <th>3</th>\n",
                            "      <td>0.097561</td>\n",
                            "      <td>39.115495</td>\n",
                            "    </tr>\n",
                            "    <tr>\n",
                            "      <th>4</th>\n",
                            "      <td>0.163651</td>\n",
                            "      <td>39.467871</td>\n",
                            "    </tr>\n",
                            "    <tr>\n",
                            "      <th>...</th>\n",
                            "      <td>...</td>\n",
                            "      <td>...</td>\n",
                            "    </tr>\n",
                            "    <tr>\n",
                            "      <th>854</th>\n",
                            "      <td>43.897625</td>\n",
                            "      <td>-8.603749</td>\n",
                            "    </tr>\n",
                            "    <tr>\n",
                            "      <th>855</th>\n",
                            "      <td>43.931738</td>\n",
                            "      <td>-8.530712</td>\n",
                            "    </tr>\n",
                            "    <tr>\n",
                            "      <th>856</th>\n",
                            "      <td>43.963962</td>\n",
                            "      <td>-6.277467</td>\n",
                            "    </tr>\n",
                            "    <tr>\n",
                            "      <th>857</th>\n",
                            "      <td>43.997243</td>\n",
                            "      <td>-5.140006</td>\n",
                            "    </tr>\n",
                            "    <tr>\n",
                            "      <th>858</th>\n",
                            "      <td>44.031009</td>\n",
                            "      <td>-5.150939</td>\n",
                            "    </tr>\n",
                            "  </tbody>\n",
                            "</table>\n",
                            "<p>859 rows × 2 columns</p>\n",
                            "</div>"
                        ],
                        "text/plain": [
                            "     relative_time        yaw\n",
                            "0         0.000000  38.027843\n",
                            "1         0.029865  38.519961\n",
                            "2         0.065807  38.534397\n",
                            "3         0.097561  39.115495\n",
                            "4         0.163651  39.467871\n",
                            "..             ...        ...\n",
                            "854      43.897625  -8.603749\n",
                            "855      43.931738  -8.530712\n",
                            "856      43.963962  -6.277467\n",
                            "857      43.997243  -5.140006\n",
                            "858      44.031009  -5.150939\n",
                            "\n",
                            "[859 rows x 2 columns]"
                        ]
                    },
                    "execution_count": 4,
                    "metadata": {},
                    "output_type": "execute_result"
                }
            ],
            "source": [
                "# calculate relative time in seconds instead of absolute time\n",
                "df['relative_time'] =  df.loc[0:, 'time'] - df.at[0, 'time']\n",
                "df = df.drop(columns=['time'])\n",
                "df = df[['relative_time', target]]\n",
                "df"
            ]
        },
        {
            "cell_type": "code",
            "execution_count": 5,
            "metadata": {},
            "outputs": [
                {
                    "data": {
                        "text/plain": [
                            "<AxesSubplot:xlabel='relative_time'>"
                        ]
                    },
                    "execution_count": 5,
                    "metadata": {},
                    "output_type": "execute_result"
                },
                {
                    "data": {
                        "image/png": "[encoded data removed]",
                        "text/plain": [
                            "<Figure size 432x288 with 1 Axes>"
                        ]
                    },
                    "metadata": {
                        "needs_background": "light"
                    },
                    "output_type": "display_data"
                }
            ],
            "source": [
                "# initial graph\n",
                "df.plot(x='relative_time', y=target)"
            ]
        },
        {
            "cell_type": "code",
            "execution_count": 6,
            "metadata": {},
            "outputs": [],
            "source": [
                "# find plateaus\n",
                "x = df[target]\n",
                "peaks, _ = find_peaks(x, threshold=(0, 1)) # from find_peaks docs: Threshold: The first element is always interpreted as the minimal and the second, if supplied, as the maximal required threshold."
            ]
        },
        {
            "cell_type": "code",
            "execution_count": 7,
            "metadata": {},
            "outputs": [
                {
                    "data": {
                        "text/plain": [
                            "175"
                        ]
                    },
                    "execution_count": 7,
                    "metadata": {},
                    "output_type": "execute_result"
                }
            ],
            "source": [
                "# the amount of data points we are left with\n",
                "len(x[peaks])"
            ]
        },
        {
            "cell_type": "code",
            "execution_count": 8,
            "metadata": {},
            "outputs": [],
            "source": [
                "# create filtered data frame\n",
                "df_filtered_by_targets = df.loc[peaks]"
            ]
        },
        {
            "cell_type": "code",
            "execution_count": 9,
            "metadata": {},
            "outputs": [
                {
                    "data": {
                        "text/plain": [
                            "<AxesSubplot:xlabel='relative_time', ylabel='yaw'>"
                        ]
                    },
                    "execution_count": 9,
                    "metadata": {},
                    "output_type": "execute_result"
                },
                {
                    "data": {
                        "image/png": "[encoded data removed]",
                        "text/plain": [
                            "<Figure size 432x288 with 1 Axes>"
                        ]
                    },
                    "metadata": {
                        "needs_background": "light"
                    },
                    "output_type": "display_data"
                }
            ],
            "source": [
                "df_filtered_by_targets.plot.scatter(x='relative_time', y=target)"
            ]
        },
        {
            "cell_type": "code",
            "execution_count": 10,
            "metadata": {},
            "outputs": [],
            "source": [
                "# segmenting/binning by real value\n",
                "df_filtered_by_targets[true_value] = pd.cut(df_filtered_by_targets[target], bins=len(input_vals), labels=input_vals)"
            ]
        },
        {
            "cell_type": "code",
            "execution_count": 11,
            "metadata": {},
            "outputs": [],
            "source": [
                "# calculate the error\n",
                "df_filtered_by_targets['error'] =  df_filtered_by_targets.apply(lambda row: row[true_value] - row[target], axis=1)"
            ]
        },
        {
            "cell_type": "code",
            "execution_count": 12,
            "metadata": {},
            "outputs": [],
            "source": [
                "grouped_df = df_filtered_by_targets.groupby(true_value)"
            ]
        },
        {
            "cell_type": "code",
            "execution_count": 13,
            "metadata": {},
            "outputs": [
                {
                    "data": {
                        "text/html": [
                            "<div>\n",
                            "<style scoped>\n",
                            "    .dataframe tbody tr th:only-of-type {\n",
                            "        vertical-align: middle;\n",
                            "    }\n",
                            "\n",
                            "    .dataframe tbody tr th {\n",
                            "        vertical-align: top;\n",
                            "    }\n",
                            "\n",
                            "    .dataframe thead th {\n",
                            "        text-align: right;\n",
                            "    }\n",
                            "</style>\n",
                            "<table border=\"1\" class=\"dataframe\">\n",
                            "  <thead>\n",
                            "    <tr style=\"text-align: right;\">\n",
                            "      <th></th>\n",
                            "      <th>relative_time</th>\n",
                            "      <th>yaw</th>\n",
                            "      <th>true_yaw</th>\n",
                            "      <th>error</th>\n",
                            "    </tr>\n",
                            "  </thead>\n",
                            "  <tbody>\n",
                            "    <tr>\n",
                            "      <th>4</th>\n",
                            "      <td>0.163651</td>\n",
                            "      <td>39.467871</td>\n",
                            "      <td>45</td>\n",
                            "      <td>5.532129</td>\n",
                            "    </tr>\n",
                            "    <tr>\n",
                            "      <th>7</th>\n",
                            "      <td>0.265630</td>\n",
                            "      <td>39.560457</td>\n",
                            "      <td>45</td>\n",
                            "      <td>5.439543</td>\n",
                            "    </tr>\n",
                            "    <tr>\n",
                            "      <th>58</th>\n",
                            "      <td>15.796652</td>\n",
                            "      <td>55.986031</td>\n",
                            "      <td>60</td>\n",
                            "      <td>4.013969</td>\n",
                            "    </tr>\n",
                            "    <tr>\n",
                            "      <th>61</th>\n",
                            "      <td>15.897733</td>\n",
                            "      <td>55.797869</td>\n",
                            "      <td>60</td>\n",
                            "      <td>4.202131</td>\n",
                            "    </tr>\n",
                            "    <tr>\n",
                            "      <th>424</th>\n",
                            "      <td>28.230030</td>\n",
                            "      <td>68.292311</td>\n",
                            "      <td>75</td>\n",
                            "      <td>6.707689</td>\n",
                            "    </tr>\n",
                            "    <tr>\n",
                            "      <th>426</th>\n",
                            "      <td>28.295641</td>\n",
                            "      <td>68.281863</td>\n",
                            "      <td>75</td>\n",
                            "      <td>6.718137</td>\n",
                            "    </tr>\n",
                            "  </tbody>\n",
                            "</table>\n",
                            "</div>"
                        ],
                        "text/plain": [
                            "     relative_time        yaw true_yaw     error\n",
                            "4         0.163651  39.467871       45  5.532129\n",
                            "7         0.265630  39.560457       45  5.439543\n",
                            "58       15.796652  55.986031       60  4.013969\n",
                            "61       15.897733  55.797869       60  4.202131\n",
                            "424      28.230030  68.292311       75  6.707689\n",
                            "426      28.295641  68.281863       75  6.718137"
                        ]
                    },
                    "execution_count": 13,
                    "metadata": {},
                    "output_type": "execute_result"
                }
            ],
            "source": [
                "# verify if the bins are in correct order, this is dictated by input_vals order\n",
                "grouped_df.head(2)"
            ]
        },
        {
            "cell_type": "code",
            "execution_count": 14,
            "metadata": {},
            "outputs": [
                {
                    "data": {
                        "text/html": [
                            "<div>\n",
                            "<style scoped>\n",
                            "    .dataframe tbody tr th:only-of-type {\n",
                            "        vertical-align: middle;\n",
                            "    }\n",
                            "\n",
                            "    .dataframe tbody tr th {\n",
                            "        vertical-align: top;\n",
                            "    }\n",
                            "\n",
                            "    .dataframe thead th {\n",
                            "        text-align: right;\n",
                            "    }\n",
                            "</style>\n",
                            "<table border=\"1\" class=\"dataframe\">\n",
                            "  <thead>\n",
                            "    <tr style=\"text-align: right;\">\n",
                            "      <th></th>\n",
                            "      <th>count</th>\n",
                            "      <th>mean</th>\n",
                            "      <th>std</th>\n",
                            "      <th>min</th>\n",
                            "      <th>25%</th>\n",
                            "      <th>50%</th>\n",
                            "      <th>75%</th>\n",
                            "      <th>max</th>\n",
                            "    </tr>\n",
                            "    <tr>\n",
                            "      <th>true_yaw</th>\n",
                            "      <th></th>\n",
                            "      <th></th>\n",
                            "      <th></th>\n",
                            "      <th></th>\n",
                            "      <th></th>\n",
                            "      <th></th>\n",
                            "      <th></th>\n",
                            "      <th></th>\n",
                            "    </tr>\n",
                            "  </thead>\n",
                            "  <tbody>\n",
                            "    <tr>\n",
                            "      <th>45</th>\n",
                            "      <td>9.0</td>\n",
                            "      <td>6.623529</td>\n",
                            "      <td>0.656742</td>\n",
                            "      <td>5.439543</td>\n",
                            "      <td>6.800695</td>\n",
                            "      <td>6.858652</td>\n",
                            "      <td>7.088806</td>\n",
                            "      <td>7.102289</td>\n",
                            "    </tr>\n",
                            "    <tr>\n",
                            "      <th>60</th>\n",
                            "      <td>84.0</td>\n",
                            "      <td>5.022113</td>\n",
                            "      <td>0.272952</td>\n",
                            "      <td>4.013969</td>\n",
                            "      <td>4.953805</td>\n",
                            "      <td>5.086745</td>\n",
                            "      <td>5.185205</td>\n",
                            "      <td>5.420396</td>\n",
                            "    </tr>\n",
                            "    <tr>\n",
                            "      <th>75</th>\n",
                            "      <td>82.0</td>\n",
                            "      <td>4.112534</td>\n",
                            "      <td>0.639772</td>\n",
                            "      <td>2.118361</td>\n",
                            "      <td>3.823088</td>\n",
                            "      <td>4.132098</td>\n",
                            "      <td>4.339616</td>\n",
                            "      <td>6.718137</td>\n",
                            "    </tr>\n",
                            "  </tbody>\n",
                            "</table>\n",
                            "</div>"
                        ],
                        "text/plain": [
                            "          count      mean       std       min       25%       50%       75%  \\\n",
                            "true_yaw                                                                      \n",
                            "45          9.0  6.623529  0.656742  5.439543  6.800695  6.858652  7.088806   \n",
                            "60         84.0  5.022113  0.272952  4.013969  4.953805  5.086745  5.185205   \n",
                            "75         82.0  4.112534  0.639772  2.118361  3.823088  4.132098  4.339616   \n",
                            "\n",
                            "               max  \n",
                            "true_yaw            \n",
                            "45        7.102289  \n",
                            "60        5.420396  \n",
                            "75        6.718137  "
                        ]
                    },
                    "execution_count": 14,
                    "metadata": {},
                    "output_type": "execute_result"
                }
            ],
            "source": [
                "grouped_df.error.describe()"
            ]
        },
        {
            "cell_type": "code",
            "execution_count": 15,
            "metadata": {},
            "outputs": [],
            "source": [
                "def box_plotter(column_name):\n",
                "    fig, axes = plt.subplots(1,len(input_vals))\n",
                "\n",
                "    for i, val in enumerate(input_vals):\n",
                "        grouped_df.get_group(val).boxplot(column=column_name, ax=axes.flatten()[i])\n",
                "        axes.flatten()[i].set_title(val)\n",
                "\n",
                "\n",
                "    plt.tight_layout()\n",
                "    plt.show()"
            ]
        },
        {
            "cell_type": "code",
            "execution_count": 16,
            "metadata": {},
            "outputs": [
                {
                    "data": {
                        "image/png": "[encoded data removed]",
                        "text/plain": [
                            "<Figure size 432x288 with 3 Axes>"
                        ]
                    },
                    "metadata": {
                        "needs_background": "light"
                    },
                    "output_type": "display_data"
                }
            ],
            "source": [
                "box_plotter(target)"
            ]
        },
        {
            "cell_type": "code",
            "execution_count": 17,
            "metadata": {},
            "outputs": [
                {
                    "data": {
                        "image/png": "[encoded data removed]",
                        "text/plain": [
                            "<Figure size 432x288 with 3 Axes>"
                        ]
                    },
                    "metadata": {
                        "needs_background": "light"
                    },
                    "output_type": "display_data"
                }
            ],
            "source": [
                "box_plotter('error')"
            ]
        },
        {
            "cell_type": "code",
            "execution_count": 18,
            "metadata": {},
            "outputs": [],
            "source": [
                "df_filtered_by_targets.to_csv('/home/hakanergin/code/apriltag_test_bench/test_pipeline/scripts/static_tests/rotations/result/csv/2m_25h9_360.csv')"
            ]
        }
    ],
    "metadata": {
        "kernelspec": {
            "display_name": "Python 3 (ipykernel)",
            "language": "python",
            "name": "python3"
        },
        "language_info": {
            "codemirror_mode": {
                "name": "ipython",
                "version": 3
            },
            "file_extension": ".py",
            "mimetype": "text/x-python",
            "name": "python",
            "nbconvert_exporter": "python",
            "pygments_lexer": "ipython3",
            "version": "3.8.10"
        },
        "orig_nbformat": 4
    },
    "nbformat": 4,
    "nbformat_minor": 2
}
