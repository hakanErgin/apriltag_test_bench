{
    "cells": [
        {
            "cell_type": "code",
            "execution_count": 1,
            "metadata": {},
            "outputs": [],
            "source": [
                "import rosbag\n",
                "import pandas as pd\n",
                "import matplotlib.pyplot as plt\n",
                "import numpy as np\n",
                "import tf\n",
                "from scipy.signal import find_peaks"
            ]
        },
        {
            "cell_type": "code",
            "execution_count": 2,
            "metadata": {},
            "outputs": [],
            "source": [
                "bag = rosbag.Bag('/home/hakanergin/code/rosbags/static/rotation/25h9/s_yaw_25h9_2m_1080_20.bag')\n",
                "\n",
                "# create variables\n",
                "target = 'yaw'\n",
                "true_value = 'true_yaw'\n",
                "\n",
                "# input values in degrees. the order matters, it will be used for binning \n",
                "input_vals = [0,15,30,45,60,75]"
            ]
        },
        {
            "cell_type": "code",
            "execution_count": 3,
            "metadata": {},
            "outputs": [],
            "source": [
                "topic = '/tf'\n",
                "\n",
                "rows = []\n",
                "\n",
                "for topic, msg, t in bag.read_messages(topics=topic):\n",
                "    \n",
                "    time = t\n",
                "\n",
                "    # conversion to euler\n",
                "    rotation_quat = msg.transforms[0].transform.rotation\n",
                "    pitch, yaw, roll = tf.transformations.euler_from_quaternion([rotation_quat.x,rotation_quat.y,rotation_quat.z,rotation_quat.w], axes='rxyz')\n",
                "\n",
                "    # all rotations\n",
                "    # rotation_euler = (np.degrees(pitch), np.degrees(yaw), np.degrees(roll))\n",
                "\n",
                "    # create row\n",
                "    row={'time': time.to_sec(), target: np.degrees(yaw)}\n",
                "    rows.append(row)\n",
                "\n",
                "df = pd.DataFrame.from_records(rows)"
            ]
        },
        {
            "cell_type": "code",
            "execution_count": 4,
            "metadata": {},
            "outputs": [
                {
                    "data": {
                        "text/html": [
                            "<div>\n",
                            "<style scoped>\n",
                            "    .dataframe tbody tr th:only-of-type {\n",
                            "        vertical-align: middle;\n",
                            "    }\n",
                            "\n",
                            "    .dataframe tbody tr th {\n",
                            "        vertical-align: top;\n",
                            "    }\n",
                            "\n",
                            "    .dataframe thead th {\n",
                            "        text-align: right;\n",
                            "    }\n",
                            "</style>\n",
                            "<table border=\"1\" class=\"dataframe\">\n",
                            "  <thead>\n",
                            "    <tr style=\"text-align: right;\">\n",
                            "      <th></th>\n",
                            "      <th>relative_time</th>\n",
                            "      <th>yaw</th>\n",
                            "    </tr>\n",
                            "  </thead>\n",
                            "  <tbody>\n",
                            "    <tr>\n",
                            "      <th>0</th>\n",
                            "      <td>0.000000</td>\n",
                            "      <td>6.243782</td>\n",
                            "    </tr>\n",
                            "    <tr>\n",
                            "      <th>1</th>\n",
                            "      <td>1.602319</td>\n",
                            "      <td>26.098292</td>\n",
                            "    </tr>\n",
                            "    <tr>\n",
                            "      <th>2</th>\n",
                            "      <td>2.563932</td>\n",
                            "      <td>24.184360</td>\n",
                            "    </tr>\n",
                            "    <tr>\n",
                            "      <th>3</th>\n",
                            "      <td>3.930854</td>\n",
                            "      <td>-9.181095</td>\n",
                            "    </tr>\n",
                            "    <tr>\n",
                            "      <th>4</th>\n",
                            "      <td>4.855295</td>\n",
                            "      <td>2.884018</td>\n",
                            "    </tr>\n",
                            "    <tr>\n",
                            "      <th>...</th>\n",
                            "      <td>...</td>\n",
                            "      <td>...</td>\n",
                            "    </tr>\n",
                            "    <tr>\n",
                            "      <th>288</th>\n",
                            "      <td>104.261327</td>\n",
                            "      <td>1.021224</td>\n",
                            "    </tr>\n",
                            "    <tr>\n",
                            "      <th>289</th>\n",
                            "      <td>104.603617</td>\n",
                            "      <td>1.041435</td>\n",
                            "    </tr>\n",
                            "    <tr>\n",
                            "      <th>290</th>\n",
                            "      <td>105.002062</td>\n",
                            "      <td>1.036191</td>\n",
                            "    </tr>\n",
                            "    <tr>\n",
                            "      <th>291</th>\n",
                            "      <td>105.198667</td>\n",
                            "      <td>0.992223</td>\n",
                            "    </tr>\n",
                            "    <tr>\n",
                            "      <th>292</th>\n",
                            "      <td>105.389316</td>\n",
                            "      <td>0.872982</td>\n",
                            "    </tr>\n",
                            "  </tbody>\n",
                            "</table>\n",
                            "<p>293 rows × 2 columns</p>\n",
                            "</div>"
                        ],
                        "text/plain": [
                            "     relative_time        yaw\n",
                            "0         0.000000   6.243782\n",
                            "1         1.602319  26.098292\n",
                            "2         2.563932  24.184360\n",
                            "3         3.930854  -9.181095\n",
                            "4         4.855295   2.884018\n",
                            "..             ...        ...\n",
                            "288     104.261327   1.021224\n",
                            "289     104.603617   1.041435\n",
                            "290     105.002062   1.036191\n",
                            "291     105.198667   0.992223\n",
                            "292     105.389316   0.872982\n",
                            "\n",
                            "[293 rows x 2 columns]"
                        ]
                    },
                    "execution_count": 4,
                    "metadata": {},
                    "output_type": "execute_result"
                }
            ],
            "source": [
                "# calculate relative time in seconds instead of absolute time\n",
                "df['relative_time'] =  df.loc[0:, 'time'] - df.at[0, 'time']\n",
                "df = df.drop(columns=['time'])\n",
                "df = df[['relative_time', target]]\n",
                "df"
            ]
        },
        {
            "cell_type": "code",
            "execution_count": 5,
            "metadata": {},
            "outputs": [
                {
                    "data": {
                        "text/plain": [
                            "<AxesSubplot:xlabel='relative_time'>"
                        ]
                    },
                    "execution_count": 5,
                    "metadata": {},
                    "output_type": "execute_result"
                },
                {
                    "data": {
                        "image/png": "[encoded data removed]",
                        "text/plain": [
                            "<Figure size 432x288 with 1 Axes>"
                        ]
                    },
                    "metadata": {
                        "needs_background": "light"
                    },
                    "output_type": "display_data"
                }
            ],
            "source": [
                "# initial graph\n",
                "df.plot(x='relative_time', y=target)"
            ]
        },
        {
            "cell_type": "code",
            "execution_count": 6,
            "metadata": {},
            "outputs": [],
            "source": [
                "# find plateaus\n",
                "x = df[target]\n",
                "peaks, _ = find_peaks(x, threshold=(0, 3)) # from find_peaks docs: Threshold: The first element is always interpreted as the minimal and the second, if supplied, as the maximal required threshold."
            ]
        },
        {
            "cell_type": "code",
            "execution_count": 7,
            "metadata": {},
            "outputs": [
                {
                    "data": {
                        "text/plain": [
                            "70"
                        ]
                    },
                    "execution_count": 7,
                    "metadata": {},
                    "output_type": "execute_result"
                }
            ],
            "source": [
                "# the amount of data points we are left with\n",
                "len(x[peaks])"
            ]
        },
        {
            "cell_type": "code",
            "execution_count": 8,
            "metadata": {},
            "outputs": [],
            "source": [
                "# create filtered data frame\n",
                "df_filtered_by_targets = df.loc[peaks]"
            ]
        },
        {
            "cell_type": "code",
            "execution_count": 9,
            "metadata": {},
            "outputs": [
                {
                    "data": {
                        "text/plain": [
                            "<AxesSubplot:xlabel='relative_time', ylabel='yaw'>"
                        ]
                    },
                    "execution_count": 9,
                    "metadata": {},
                    "output_type": "execute_result"
                },
                {
                    "data": {
                        "image/png": "[encoded data removed]",
                        "text/plain": [
                            "<Figure size 432x288 with 1 Axes>"
                        ]
                    },
                    "metadata": {
                        "needs_background": "light"
                    },
                    "output_type": "display_data"
                }
            ],
            "source": [
                "df_filtered_by_targets.plot.scatter(x='relative_time', y=target)"
            ]
        },
        {
            "cell_type": "code",
            "execution_count": 10,
            "metadata": {},
            "outputs": [],
            "source": [
                "# segmenting/binning by real value\n",
                "df_filtered_by_targets[true_value] = pd.qcut(df_filtered_by_targets[target], len(input_vals), labels=input_vals, duplicates='drop')"
            ]
        },
        {
            "cell_type": "code",
            "execution_count": 11,
            "metadata": {},
            "outputs": [],
            "source": [
                "# calculate the error\n",
                "df_filtered_by_targets['error'] =  df_filtered_by_targets.apply(lambda row: row[true_value] - row[target], axis=1)"
            ]
        },
        {
            "cell_type": "code",
            "execution_count": 12,
            "metadata": {},
            "outputs": [],
            "source": [
                "# remove huge errors because theyre actually wrongly binned\n",
                "df_filtered_by_targets = df_filtered_by_targets.drop(df_filtered_by_targets[df_filtered_by_targets['error'].abs()>10].index)"
            ]
        },
        {
            "cell_type": "code",
            "execution_count": 13,
            "metadata": {},
            "outputs": [],
            "source": [
                "grouped_df = df_filtered_by_targets.groupby(true_value)"
            ]
        },
        {
            "cell_type": "code",
            "execution_count": 14,
            "metadata": {},
            "outputs": [
                {
                    "data": {
                        "text/html": [
                            "<div>\n",
                            "<style scoped>\n",
                            "    .dataframe tbody tr th:only-of-type {\n",
                            "        vertical-align: middle;\n",
                            "    }\n",
                            "\n",
                            "    .dataframe tbody tr th {\n",
                            "        vertical-align: top;\n",
                            "    }\n",
                            "\n",
                            "    .dataframe thead th {\n",
                            "        text-align: right;\n",
                            "    }\n",
                            "</style>\n",
                            "<table border=\"1\" class=\"dataframe\">\n",
                            "  <thead>\n",
                            "    <tr style=\"text-align: right;\">\n",
                            "      <th></th>\n",
                            "      <th>relative_time</th>\n",
                            "      <th>yaw</th>\n",
                            "      <th>true_yaw</th>\n",
                            "      <th>error</th>\n",
                            "    </tr>\n",
                            "  </thead>\n",
                            "  <tbody>\n",
                            "    <tr>\n",
                            "      <th>13</th>\n",
                            "      <td>11.052532</td>\n",
                            "      <td>-0.727810</td>\n",
                            "      <td>0</td>\n",
                            "      <td>0.727810</td>\n",
                            "    </tr>\n",
                            "    <tr>\n",
                            "      <th>15</th>\n",
                            "      <td>11.727385</td>\n",
                            "      <td>-0.629094</td>\n",
                            "      <td>0</td>\n",
                            "      <td>0.629094</td>\n",
                            "    </tr>\n",
                            "    <tr>\n",
                            "      <th>54</th>\n",
                            "      <td>25.072009</td>\n",
                            "      <td>11.176175</td>\n",
                            "      <td>15</td>\n",
                            "      <td>3.823825</td>\n",
                            "    </tr>\n",
                            "    <tr>\n",
                            "      <th>61</th>\n",
                            "      <td>27.304808</td>\n",
                            "      <td>10.503555</td>\n",
                            "      <td>15</td>\n",
                            "      <td>4.496445</td>\n",
                            "    </tr>\n",
                            "    <tr>\n",
                            "      <th>111</th>\n",
                            "      <td>44.149123</td>\n",
                            "      <td>20.525177</td>\n",
                            "      <td>30</td>\n",
                            "      <td>9.474823</td>\n",
                            "    </tr>\n",
                            "    <tr>\n",
                            "      <th>116</th>\n",
                            "      <td>45.691530</td>\n",
                            "      <td>21.865504</td>\n",
                            "      <td>30</td>\n",
                            "      <td>8.134496</td>\n",
                            "    </tr>\n",
                            "    <tr>\n",
                            "      <th>147</th>\n",
                            "      <td>56.069861</td>\n",
                            "      <td>37.938834</td>\n",
                            "      <td>45</td>\n",
                            "      <td>7.061166</td>\n",
                            "    </tr>\n",
                            "    <tr>\n",
                            "      <th>149</th>\n",
                            "      <td>56.804265</td>\n",
                            "      <td>37.739656</td>\n",
                            "      <td>45</td>\n",
                            "      <td>7.260344</td>\n",
                            "    </tr>\n",
                            "    <tr>\n",
                            "      <th>195</th>\n",
                            "      <td>72.344061</td>\n",
                            "      <td>55.288907</td>\n",
                            "      <td>60</td>\n",
                            "      <td>4.711093</td>\n",
                            "    </tr>\n",
                            "    <tr>\n",
                            "      <th>199</th>\n",
                            "      <td>73.663709</td>\n",
                            "      <td>54.672871</td>\n",
                            "      <td>60</td>\n",
                            "      <td>5.327129</td>\n",
                            "    </tr>\n",
                            "    <tr>\n",
                            "      <th>235</th>\n",
                            "      <td>85.921998</td>\n",
                            "      <td>71.155701</td>\n",
                            "      <td>75</td>\n",
                            "      <td>3.844299</td>\n",
                            "    </tr>\n",
                            "    <tr>\n",
                            "      <th>237</th>\n",
                            "      <td>86.499179</td>\n",
                            "      <td>69.811485</td>\n",
                            "      <td>75</td>\n",
                            "      <td>5.188515</td>\n",
                            "    </tr>\n",
                            "  </tbody>\n",
                            "</table>\n",
                            "</div>"
                        ],
                        "text/plain": [
                            "     relative_time        yaw true_yaw     error\n",
                            "13       11.052532  -0.727810        0  0.727810\n",
                            "15       11.727385  -0.629094        0  0.629094\n",
                            "54       25.072009  11.176175       15  3.823825\n",
                            "61       27.304808  10.503555       15  4.496445\n",
                            "111      44.149123  20.525177       30  9.474823\n",
                            "116      45.691530  21.865504       30  8.134496\n",
                            "147      56.069861  37.938834       45  7.061166\n",
                            "149      56.804265  37.739656       45  7.260344\n",
                            "195      72.344061  55.288907       60  4.711093\n",
                            "199      73.663709  54.672871       60  5.327129\n",
                            "235      85.921998  71.155701       75  3.844299\n",
                            "237      86.499179  69.811485       75  5.188515"
                        ]
                    },
                    "execution_count": 14,
                    "metadata": {},
                    "output_type": "execute_result"
                }
            ],
            "source": [
                "# verify if the bins are in correct order, this is dictated by input_vals order\n",
                "grouped_df.head(2)"
            ]
        },
        {
            "cell_type": "code",
            "execution_count": 15,
            "metadata": {},
            "outputs": [
                {
                    "data": {
                        "text/html": [
                            "<div>\n",
                            "<style scoped>\n",
                            "    .dataframe tbody tr th:only-of-type {\n",
                            "        vertical-align: middle;\n",
                            "    }\n",
                            "\n",
                            "    .dataframe tbody tr th {\n",
                            "        vertical-align: top;\n",
                            "    }\n",
                            "\n",
                            "    .dataframe thead th {\n",
                            "        text-align: right;\n",
                            "    }\n",
                            "</style>\n",
                            "<table border=\"1\" class=\"dataframe\">\n",
                            "  <thead>\n",
                            "    <tr style=\"text-align: right;\">\n",
                            "      <th></th>\n",
                            "      <th>count</th>\n",
                            "      <th>mean</th>\n",
                            "      <th>std</th>\n",
                            "      <th>min</th>\n",
                            "      <th>25%</th>\n",
                            "      <th>50%</th>\n",
                            "      <th>75%</th>\n",
                            "      <th>max</th>\n",
                            "    </tr>\n",
                            "    <tr>\n",
                            "      <th>true_yaw</th>\n",
                            "      <th></th>\n",
                            "      <th></th>\n",
                            "      <th></th>\n",
                            "      <th></th>\n",
                            "      <th></th>\n",
                            "      <th></th>\n",
                            "      <th></th>\n",
                            "      <th></th>\n",
                            "    </tr>\n",
                            "  </thead>\n",
                            "  <tbody>\n",
                            "    <tr>\n",
                            "      <th>0</th>\n",
                            "      <td>12.0</td>\n",
                            "      <td>0.823705</td>\n",
                            "      <td>0.408963</td>\n",
                            "      <td>0.250067</td>\n",
                            "      <td>0.576889</td>\n",
                            "      <td>0.717641</td>\n",
                            "      <td>1.140243</td>\n",
                            "      <td>1.600634</td>\n",
                            "    </tr>\n",
                            "    <tr>\n",
                            "      <th>15</th>\n",
                            "      <td>10.0</td>\n",
                            "      <td>5.771181</td>\n",
                            "      <td>0.964450</td>\n",
                            "      <td>3.823825</td>\n",
                            "      <td>5.405853</td>\n",
                            "      <td>6.055282</td>\n",
                            "      <td>6.504790</td>\n",
                            "      <td>6.737571</td>\n",
                            "    </tr>\n",
                            "    <tr>\n",
                            "      <th>30</th>\n",
                            "      <td>10.0</td>\n",
                            "      <td>6.775100</td>\n",
                            "      <td>5.033937</td>\n",
                            "      <td>-7.501365</td>\n",
                            "      <td>8.134114</td>\n",
                            "      <td>8.306899</td>\n",
                            "      <td>8.340596</td>\n",
                            "      <td>9.474823</td>\n",
                            "    </tr>\n",
                            "    <tr>\n",
                            "      <th>45</th>\n",
                            "      <td>12.0</td>\n",
                            "      <td>7.305926</td>\n",
                            "      <td>0.131613</td>\n",
                            "      <td>7.061166</td>\n",
                            "      <td>7.244773</td>\n",
                            "      <td>7.336692</td>\n",
                            "      <td>7.398910</td>\n",
                            "      <td>7.490606</td>\n",
                            "    </tr>\n",
                            "    <tr>\n",
                            "      <th>60</th>\n",
                            "      <td>10.0</td>\n",
                            "      <td>5.187783</td>\n",
                            "      <td>0.176939</td>\n",
                            "      <td>4.711093</td>\n",
                            "      <td>5.186452</td>\n",
                            "      <td>5.243017</td>\n",
                            "      <td>5.245978</td>\n",
                            "      <td>5.327129</td>\n",
                            "    </tr>\n",
                            "    <tr>\n",
                            "      <th>75</th>\n",
                            "      <td>12.0</td>\n",
                            "      <td>4.625229</td>\n",
                            "      <td>0.302363</td>\n",
                            "      <td>3.844299</td>\n",
                            "      <td>4.579372</td>\n",
                            "      <td>4.629152</td>\n",
                            "      <td>4.746396</td>\n",
                            "      <td>5.188515</td>\n",
                            "    </tr>\n",
                            "  </tbody>\n",
                            "</table>\n",
                            "</div>"
                        ],
                        "text/plain": [
                            "          count      mean       std       min       25%       50%       75%  \\\n",
                            "true_yaw                                                                      \n",
                            "0          12.0  0.823705  0.408963  0.250067  0.576889  0.717641  1.140243   \n",
                            "15         10.0  5.771181  0.964450  3.823825  5.405853  6.055282  6.504790   \n",
                            "30         10.0  6.775100  5.033937 -7.501365  8.134114  8.306899  8.340596   \n",
                            "45         12.0  7.305926  0.131613  7.061166  7.244773  7.336692  7.398910   \n",
                            "60         10.0  5.187783  0.176939  4.711093  5.186452  5.243017  5.245978   \n",
                            "75         12.0  4.625229  0.302363  3.844299  4.579372  4.629152  4.746396   \n",
                            "\n",
                            "               max  \n",
                            "true_yaw            \n",
                            "0         1.600634  \n",
                            "15        6.737571  \n",
                            "30        9.474823  \n",
                            "45        7.490606  \n",
                            "60        5.327129  \n",
                            "75        5.188515  "
                        ]
                    },
                    "execution_count": 15,
                    "metadata": {},
                    "output_type": "execute_result"
                }
            ],
            "source": [
                "grouped_df.error.describe()"
            ]
        },
        {
            "cell_type": "code",
            "execution_count": 16,
            "metadata": {},
            "outputs": [],
            "source": [
                "def box_plotter(column_name):\n",
                "    fig, axes = plt.subplots(1,len(input_vals))\n",
                "\n",
                "    for i, val in enumerate(input_vals):\n",
                "        grouped_df.get_group(val).boxplot(column=column_name, ax=axes.flatten()[i])\n",
                "        axes.flatten()[i].set_title(val)\n",
                "\n",
                "\n",
                "    plt.tight_layout()\n",
                "    plt.show()"
            ]
        },
        {
            "cell_type": "code",
            "execution_count": 17,
            "metadata": {},
            "outputs": [
                {
                    "data": {
                        "image/png": "[encoded data removed]",
                        "text/plain": [
                            "<Figure size 432x288 with 6 Axes>"
                        ]
                    },
                    "metadata": {
                        "needs_background": "light"
                    },
                    "output_type": "display_data"
                }
            ],
            "source": [
                "box_plotter(target)"
            ]
        },
        {
            "cell_type": "code",
            "execution_count": 18,
            "metadata": {},
            "outputs": [
                {
                    "data": {
                        "image/png": "[encoded data removed]",
                        "text/plain": [
                            "<Figure size 432x288 with 6 Axes>"
                        ]
                    },
                    "metadata": {
                        "needs_background": "light"
                    },
                    "output_type": "display_data"
                }
            ],
            "source": [
                "box_plotter('error')"
            ]
        },
        {
            "cell_type": "code",
            "execution_count": 19,
            "metadata": {},
            "outputs": [],
            "source": [
                "df_filtered_by_targets.to_csv('/home/hakanergin/code/apriltag_test_bench/test_pipeline/scripts/static_tests/rotations/result/csv/2m_25h9_1080.csv')"
            ]
        }
    ],
    "metadata": {
        "kernelspec": {
            "display_name": "Python 3 (ipykernel)",
            "language": "python",
            "name": "python3"
        },
        "language_info": {
            "codemirror_mode": {
                "name": "ipython",
                "version": 3
            },
            "file_extension": ".py",
            "mimetype": "text/x-python",
            "name": "python",
            "nbconvert_exporter": "python",
            "pygments_lexer": "ipython3",
            "version": "3.8.10"
        },
        "orig_nbformat": 4
    },
    "nbformat": 4,
    "nbformat_minor": 2
}
