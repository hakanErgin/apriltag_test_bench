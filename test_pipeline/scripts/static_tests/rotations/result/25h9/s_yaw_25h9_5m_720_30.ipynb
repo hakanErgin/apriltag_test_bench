{
    "cells": [
        {
            "cell_type": "code",
            "execution_count": 1,
            "metadata": {},
            "outputs": [],
            "source": [
                "import rosbag\n",
                "import pandas as pd\n",
                "import matplotlib.pyplot as plt\n",
                "import numpy as np\n",
                "import tf\n",
                "from scipy.signal import find_peaks"
            ]
        },
        {
            "cell_type": "code",
            "execution_count": 2,
            "metadata": {},
            "outputs": [],
            "source": [
                "bag = rosbag.Bag('/home/hakanergin/code/rosbags/static/rotation/25h9/s_yaw_25h9_5m_720_30.bag')\n",
                "\n",
                "# create variables\n",
                "target = 'yaw'\n",
                "true_value = 'true_yaw'\n",
                "\n",
                "# input values in degrees. the order matters, it will be used for binning \n",
                "input_vals = [0,15,30,45,60]"
            ]
        },
        {
            "cell_type": "code",
            "execution_count": 3,
            "metadata": {},
            "outputs": [],
            "source": [
                "topic = '/tf'\n",
                "\n",
                "rows = []\n",
                "\n",
                "for topic, msg, t in bag.read_messages(topics=topic):\n",
                "    \n",
                "    time = t\n",
                "\n",
                "    # conversion to euler\n",
                "    rotation_quat = msg.transforms[0].transform.rotation\n",
                "    pitch, yaw, roll = tf.transformations.euler_from_quaternion([rotation_quat.x,rotation_quat.y,rotation_quat.z,rotation_quat.w], axes='rxyz')\n",
                "\n",
                "    # all rotations\n",
                "    # rotation_euler = (np.degrees(pitch), np.degrees(yaw), np.degrees(roll))\n",
                "\n",
                "    # create row\n",
                "    row={'time': time.to_sec(), target: np.degrees(yaw)}\n",
                "    rows.append(row)\n",
                "\n",
                "df = pd.DataFrame.from_records(rows)"
            ]
        },
        {
            "cell_type": "code",
            "execution_count": 4,
            "metadata": {},
            "outputs": [
                {
                    "data": {
                        "text/html": [
                            "<div>\n",
                            "<style scoped>\n",
                            "    .dataframe tbody tr th:only-of-type {\n",
                            "        vertical-align: middle;\n",
                            "    }\n",
                            "\n",
                            "    .dataframe tbody tr th {\n",
                            "        vertical-align: top;\n",
                            "    }\n",
                            "\n",
                            "    .dataframe thead th {\n",
                            "        text-align: right;\n",
                            "    }\n",
                            "</style>\n",
                            "<table border=\"1\" class=\"dataframe\">\n",
                            "  <thead>\n",
                            "    <tr style=\"text-align: right;\">\n",
                            "      <th></th>\n",
                            "      <th>relative_time</th>\n",
                            "      <th>yaw</th>\n",
                            "    </tr>\n",
                            "  </thead>\n",
                            "  <tbody>\n",
                            "    <tr>\n",
                            "      <th>0</th>\n",
                            "      <td>0.000000</td>\n",
                            "      <td>19.184147</td>\n",
                            "    </tr>\n",
                            "    <tr>\n",
                            "      <th>1</th>\n",
                            "      <td>0.314762</td>\n",
                            "      <td>9.728676</td>\n",
                            "    </tr>\n",
                            "    <tr>\n",
                            "      <th>2</th>\n",
                            "      <td>0.646649</td>\n",
                            "      <td>2.299237</td>\n",
                            "    </tr>\n",
                            "    <tr>\n",
                            "      <th>3</th>\n",
                            "      <td>1.004957</td>\n",
                            "      <td>4.661084</td>\n",
                            "    </tr>\n",
                            "    <tr>\n",
                            "      <th>4</th>\n",
                            "      <td>1.367453</td>\n",
                            "      <td>5.171209</td>\n",
                            "    </tr>\n",
                            "    <tr>\n",
                            "      <th>...</th>\n",
                            "      <td>...</td>\n",
                            "      <td>...</td>\n",
                            "    </tr>\n",
                            "    <tr>\n",
                            "      <th>634</th>\n",
                            "      <td>73.828207</td>\n",
                            "      <td>56.307009</td>\n",
                            "    </tr>\n",
                            "    <tr>\n",
                            "      <th>635</th>\n",
                            "      <td>73.936139</td>\n",
                            "      <td>56.278071</td>\n",
                            "    </tr>\n",
                            "    <tr>\n",
                            "      <th>636</th>\n",
                            "      <td>74.036772</td>\n",
                            "      <td>56.514312</td>\n",
                            "    </tr>\n",
                            "    <tr>\n",
                            "      <th>637</th>\n",
                            "      <td>74.148811</td>\n",
                            "      <td>57.617451</td>\n",
                            "    </tr>\n",
                            "    <tr>\n",
                            "      <th>638</th>\n",
                            "      <td>74.250611</td>\n",
                            "      <td>61.320791</td>\n",
                            "    </tr>\n",
                            "  </tbody>\n",
                            "</table>\n",
                            "<p>639 rows × 2 columns</p>\n",
                            "</div>"
                        ],
                        "text/plain": [
                            "     relative_time        yaw\n",
                            "0         0.000000  19.184147\n",
                            "1         0.314762   9.728676\n",
                            "2         0.646649   2.299237\n",
                            "3         1.004957   4.661084\n",
                            "4         1.367453   5.171209\n",
                            "..             ...        ...\n",
                            "634      73.828207  56.307009\n",
                            "635      73.936139  56.278071\n",
                            "636      74.036772  56.514312\n",
                            "637      74.148811  57.617451\n",
                            "638      74.250611  61.320791\n",
                            "\n",
                            "[639 rows x 2 columns]"
                        ]
                    },
                    "execution_count": 4,
                    "metadata": {},
                    "output_type": "execute_result"
                }
            ],
            "source": [
                "# calculate relative time in seconds instead of absolute time\n",
                "df['relative_time'] =  df.loc[0:, 'time'] - df.at[0, 'time']\n",
                "df = df.drop(columns=['time'])\n",
                "df = df[['relative_time', target]]\n",
                "df"
            ]
        },
        {
            "cell_type": "code",
            "execution_count": 5,
            "metadata": {},
            "outputs": [
                {
                    "data": {
                        "text/plain": [
                            "<AxesSubplot:xlabel='relative_time'>"
                        ]
                    },
                    "execution_count": 5,
                    "metadata": {},
                    "output_type": "execute_result"
                },
                {
                    "data": {
                        "image/png": "[encoded data removed]",
                        "text/plain": [
                            "<Figure size 432x288 with 1 Axes>"
                        ]
                    },
                    "metadata": {
                        "needs_background": "light"
                    },
                    "output_type": "display_data"
                }
            ],
            "source": [
                "# initial graph\n",
                "df.plot(x='relative_time', y=target)"
            ]
        },
        {
            "cell_type": "code",
            "execution_count": 6,
            "metadata": {},
            "outputs": [],
            "source": [
                "df_filtered_by_targets = df"
            ]
        },
        {
            "cell_type": "code",
            "execution_count": 7,
            "metadata": {},
            "outputs": [
                {
                    "data": {
                        "text/plain": [
                            "<AxesSubplot:xlabel='relative_time', ylabel='yaw'>"
                        ]
                    },
                    "execution_count": 7,
                    "metadata": {},
                    "output_type": "execute_result"
                },
                {
                    "data": {
                        "image/png": "[encoded data removed]",
                        "text/plain": [
                            "<Figure size 432x288 with 1 Axes>"
                        ]
                    },
                    "metadata": {
                        "needs_background": "light"
                    },
                    "output_type": "display_data"
                }
            ],
            "source": [
                "df.plot.scatter(x='relative_time', y=target)"
            ]
        },
        {
            "cell_type": "code",
            "execution_count": 8,
            "metadata": {},
            "outputs": [],
            "source": [
                "# segmenting/binning by real value\n",
                "df_filtered_by_targets[true_value] = pd.cut(df_filtered_by_targets['relative_time'], bins=[1,15,27,41,57,75], labels=input_vals)"
            ]
        },
        {
            "cell_type": "code",
            "execution_count": 9,
            "metadata": {},
            "outputs": [],
            "source": [
                "# calculate the error\n",
                "df_filtered_by_targets['error'] =  df_filtered_by_targets.apply(lambda row: row[true_value] - row[target], axis=1)"
            ]
        },
        {
            "cell_type": "code",
            "execution_count": 10,
            "metadata": {},
            "outputs": [],
            "source": [
                "# remove huge errors because theyre actually wrongly binned\n",
                "df_filtered_by_targets = df_filtered_by_targets.drop(df_filtered_by_targets[df_filtered_by_targets['error'].abs()>11].index)"
            ]
        },
        {
            "cell_type": "code",
            "execution_count": 11,
            "metadata": {},
            "outputs": [],
            "source": [
                "grouped_df = df_filtered_by_targets.groupby(true_value)"
            ]
        },
        {
            "cell_type": "code",
            "execution_count": 12,
            "metadata": {},
            "outputs": [
                {
                    "data": {
                        "text/html": [
                            "<div>\n",
                            "<style scoped>\n",
                            "    .dataframe tbody tr th:only-of-type {\n",
                            "        vertical-align: middle;\n",
                            "    }\n",
                            "\n",
                            "    .dataframe tbody tr th {\n",
                            "        vertical-align: top;\n",
                            "    }\n",
                            "\n",
                            "    .dataframe thead th {\n",
                            "        text-align: right;\n",
                            "    }\n",
                            "</style>\n",
                            "<table border=\"1\" class=\"dataframe\">\n",
                            "  <thead>\n",
                            "    <tr style=\"text-align: right;\">\n",
                            "      <th></th>\n",
                            "      <th>relative_time</th>\n",
                            "      <th>yaw</th>\n",
                            "      <th>true_yaw</th>\n",
                            "      <th>error</th>\n",
                            "    </tr>\n",
                            "  </thead>\n",
                            "  <tbody>\n",
                            "    <tr>\n",
                            "      <th>62</th>\n",
                            "      <td>14.347066</td>\n",
                            "      <td>8.461852</td>\n",
                            "      <td>0</td>\n",
                            "      <td>-8.461852</td>\n",
                            "    </tr>\n",
                            "    <tr>\n",
                            "      <th>63</th>\n",
                            "      <td>14.448272</td>\n",
                            "      <td>10.386740</td>\n",
                            "      <td>0</td>\n",
                            "      <td>-10.386740</td>\n",
                            "    </tr>\n",
                            "    <tr>\n",
                            "      <th>182</th>\n",
                            "      <td>26.780466</td>\n",
                            "      <td>12.708142</td>\n",
                            "      <td>15</td>\n",
                            "      <td>2.291858</td>\n",
                            "    </tr>\n",
                            "    <tr>\n",
                            "      <th>183</th>\n",
                            "      <td>26.888347</td>\n",
                            "      <td>13.603502</td>\n",
                            "      <td>15</td>\n",
                            "      <td>1.396498</td>\n",
                            "    </tr>\n",
                            "    <tr>\n",
                            "      <th>317</th>\n",
                            "      <td>40.816967</td>\n",
                            "      <td>24.987991</td>\n",
                            "      <td>30</td>\n",
                            "      <td>5.012009</td>\n",
                            "    </tr>\n",
                            "    <tr>\n",
                            "      <th>318</th>\n",
                            "      <td>40.928252</td>\n",
                            "      <td>24.972274</td>\n",
                            "      <td>30</td>\n",
                            "      <td>5.027726</td>\n",
                            "    </tr>\n",
                            "    <tr>\n",
                            "      <th>470</th>\n",
                            "      <td>56.845965</td>\n",
                            "      <td>40.769670</td>\n",
                            "      <td>45</td>\n",
                            "      <td>4.230330</td>\n",
                            "    </tr>\n",
                            "    <tr>\n",
                            "      <th>471</th>\n",
                            "      <td>56.949618</td>\n",
                            "      <td>40.801504</td>\n",
                            "      <td>45</td>\n",
                            "      <td>4.198496</td>\n",
                            "    </tr>\n",
                            "    <tr>\n",
                            "      <th>637</th>\n",
                            "      <td>74.148811</td>\n",
                            "      <td>57.617451</td>\n",
                            "      <td>60</td>\n",
                            "      <td>2.382549</td>\n",
                            "    </tr>\n",
                            "    <tr>\n",
                            "      <th>638</th>\n",
                            "      <td>74.250611</td>\n",
                            "      <td>61.320791</td>\n",
                            "      <td>60</td>\n",
                            "      <td>-1.320791</td>\n",
                            "    </tr>\n",
                            "  </tbody>\n",
                            "</table>\n",
                            "</div>"
                        ],
                        "text/plain": [
                            "     relative_time        yaw true_yaw      error\n",
                            "62       14.347066   8.461852        0  -8.461852\n",
                            "63       14.448272  10.386740        0 -10.386740\n",
                            "182      26.780466  12.708142       15   2.291858\n",
                            "183      26.888347  13.603502       15   1.396498\n",
                            "317      40.816967  24.987991       30   5.012009\n",
                            "318      40.928252  24.972274       30   5.027726\n",
                            "470      56.845965  40.769670       45   4.230330\n",
                            "471      56.949618  40.801504       45   4.198496\n",
                            "637      74.148811  57.617451       60   2.382549\n",
                            "638      74.250611  61.320791       60  -1.320791"
                        ]
                    },
                    "execution_count": 12,
                    "metadata": {},
                    "output_type": "execute_result"
                }
            ],
            "source": [
                "# verify if the bins are in correct order, this is dictated by input_vals order\n",
                "grouped_df.tail(2)"
            ]
        },
        {
            "cell_type": "code",
            "execution_count": 13,
            "metadata": {},
            "outputs": [
                {
                    "data": {
                        "text/html": [
                            "<div>\n",
                            "<style scoped>\n",
                            "    .dataframe tbody tr th:only-of-type {\n",
                            "        vertical-align: middle;\n",
                            "    }\n",
                            "\n",
                            "    .dataframe tbody tr th {\n",
                            "        vertical-align: top;\n",
                            "    }\n",
                            "\n",
                            "    .dataframe thead th {\n",
                            "        text-align: right;\n",
                            "    }\n",
                            "</style>\n",
                            "<table border=\"1\" class=\"dataframe\">\n",
                            "  <thead>\n",
                            "    <tr style=\"text-align: right;\">\n",
                            "      <th></th>\n",
                            "      <th>count</th>\n",
                            "      <th>mean</th>\n",
                            "      <th>std</th>\n",
                            "      <th>min</th>\n",
                            "      <th>25%</th>\n",
                            "      <th>50%</th>\n",
                            "      <th>75%</th>\n",
                            "      <th>max</th>\n",
                            "    </tr>\n",
                            "    <tr>\n",
                            "      <th>true_yaw</th>\n",
                            "      <th></th>\n",
                            "      <th></th>\n",
                            "      <th></th>\n",
                            "      <th></th>\n",
                            "      <th></th>\n",
                            "      <th></th>\n",
                            "      <th></th>\n",
                            "      <th></th>\n",
                            "    </tr>\n",
                            "  </thead>\n",
                            "  <tbody>\n",
                            "    <tr>\n",
                            "      <th>0</th>\n",
                            "      <td>60.0</td>\n",
                            "      <td>-2.507749</td>\n",
                            "      <td>4.132302</td>\n",
                            "      <td>-10.386740</td>\n",
                            "      <td>-3.744237</td>\n",
                            "      <td>-3.281333</td>\n",
                            "      <td>-2.849273</td>\n",
                            "      <td>10.834382</td>\n",
                            "    </tr>\n",
                            "    <tr>\n",
                            "      <th>15</th>\n",
                            "      <td>115.0</td>\n",
                            "      <td>2.843838</td>\n",
                            "      <td>0.744830</td>\n",
                            "      <td>0.641127</td>\n",
                            "      <td>2.403053</td>\n",
                            "      <td>2.949946</td>\n",
                            "      <td>3.428508</td>\n",
                            "      <td>4.399770</td>\n",
                            "    </tr>\n",
                            "    <tr>\n",
                            "      <th>30</th>\n",
                            "      <td>134.0</td>\n",
                            "      <td>4.117828</td>\n",
                            "      <td>1.517798</td>\n",
                            "      <td>-2.687133</td>\n",
                            "      <td>4.272965</td>\n",
                            "      <td>4.609020</td>\n",
                            "      <td>4.850634</td>\n",
                            "      <td>5.494382</td>\n",
                            "    </tr>\n",
                            "    <tr>\n",
                            "      <th>45</th>\n",
                            "      <td>149.0</td>\n",
                            "      <td>4.605615</td>\n",
                            "      <td>0.641585</td>\n",
                            "      <td>3.714726</td>\n",
                            "      <td>4.345477</td>\n",
                            "      <td>4.482466</td>\n",
                            "      <td>4.754018</td>\n",
                            "      <td>10.326171</td>\n",
                            "    </tr>\n",
                            "    <tr>\n",
                            "      <th>60</th>\n",
                            "      <td>159.0</td>\n",
                            "      <td>3.668043</td>\n",
                            "      <td>0.746704</td>\n",
                            "      <td>-1.320791</td>\n",
                            "      <td>3.522540</td>\n",
                            "      <td>3.648359</td>\n",
                            "      <td>3.768468</td>\n",
                            "      <td>8.823672</td>\n",
                            "    </tr>\n",
                            "  </tbody>\n",
                            "</table>\n",
                            "</div>"
                        ],
                        "text/plain": [
                            "          count      mean       std        min       25%       50%       75%  \\\n",
                            "true_yaw                                                                       \n",
                            "0          60.0 -2.507749  4.132302 -10.386740 -3.744237 -3.281333 -2.849273   \n",
                            "15        115.0  2.843838  0.744830   0.641127  2.403053  2.949946  3.428508   \n",
                            "30        134.0  4.117828  1.517798  -2.687133  4.272965  4.609020  4.850634   \n",
                            "45        149.0  4.605615  0.641585   3.714726  4.345477  4.482466  4.754018   \n",
                            "60        159.0  3.668043  0.746704  -1.320791  3.522540  3.648359  3.768468   \n",
                            "\n",
                            "                max  \n",
                            "true_yaw             \n",
                            "0         10.834382  \n",
                            "15         4.399770  \n",
                            "30         5.494382  \n",
                            "45        10.326171  \n",
                            "60         8.823672  "
                        ]
                    },
                    "execution_count": 13,
                    "metadata": {},
                    "output_type": "execute_result"
                }
            ],
            "source": [
                "grouped_df.error.describe()"
            ]
        },
        {
            "cell_type": "code",
            "execution_count": 14,
            "metadata": {},
            "outputs": [],
            "source": [
                "def box_plotter(column_name):\n",
                "    fig, axes = plt.subplots(1,len(input_vals))\n",
                "\n",
                "    for i, val in enumerate(input_vals):\n",
                "        grouped_df.get_group(val).boxplot(column=column_name, ax=axes.flatten()[i])\n",
                "        axes.flatten()[i].set_title(val)\n",
                "\n",
                "\n",
                "    plt.tight_layout()\n",
                "    plt.show()"
            ]
        },
        {
            "cell_type": "code",
            "execution_count": 15,
            "metadata": {},
            "outputs": [
                {
                    "data": {
                        "image/png": "[encoded data removed]",
                        "text/plain": [
                            "<Figure size 432x288 with 5 Axes>"
                        ]
                    },
                    "metadata": {
                        "needs_background": "light"
                    },
                    "output_type": "display_data"
                }
            ],
            "source": [
                "box_plotter(target)"
            ]
        },
        {
            "cell_type": "code",
            "execution_count": 16,
            "metadata": {},
            "outputs": [
                {
                    "data": {
                        "image/png": "[encoded data removed]",
                        "text/plain": [
                            "<Figure size 432x288 with 5 Axes>"
                        ]
                    },
                    "metadata": {
                        "needs_background": "light"
                    },
                    "output_type": "display_data"
                }
            ],
            "source": [
                "box_plotter('error')"
            ]
        },
        {
            "cell_type": "code",
            "execution_count": 17,
            "metadata": {},
            "outputs": [],
            "source": [
                "df_filtered_by_targets.to_csv('/home/hakanergin/code/apriltag_test_bench/test_pipeline/scripts/static_tests/rotations/result/csv/5m_25h9_720.csv')"
            ]
        }
    ],
    "metadata": {
        "kernelspec": {
            "display_name": "Python 3 (ipykernel)",
            "language": "python",
            "name": "python3"
        },
        "language_info": {
            "codemirror_mode": {
                "name": "ipython",
                "version": 3
            },
            "file_extension": ".py",
            "mimetype": "text/x-python",
            "name": "python",
            "nbconvert_exporter": "python",
            "pygments_lexer": "ipython3",
            "version": "3.8.10"
        },
        "orig_nbformat": 4
    },
    "nbformat": 4,
    "nbformat_minor": 2
}
