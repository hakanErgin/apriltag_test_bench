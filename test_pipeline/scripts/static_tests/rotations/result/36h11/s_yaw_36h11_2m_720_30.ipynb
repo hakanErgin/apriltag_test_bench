{
    "cells": [
        {
            "cell_type": "code",
            "execution_count": 1,
            "metadata": {},
            "outputs": [],
            "source": [
                "import rosbag\n",
                "import pandas as pd\n",
                "import matplotlib.pyplot as plt\n",
                "import numpy as np\n",
                "import tf\n",
                "from scipy.signal import find_peaks"
            ]
        },
        {
            "cell_type": "code",
            "execution_count": 2,
            "metadata": {},
            "outputs": [],
            "source": [
                "bag = rosbag.Bag('/home/hakanergin/code/rosbags/static/rotation/36h11/s_yaw_36h11_2m_720_30.bag')\n",
                "\n",
                "# create variables\n",
                "target = 'yaw'\n",
                "true_value = 'true_yaw'\n",
                "\n",
                "# input values in degrees. the order matters, it will be used for binning \n",
                "input_vals = [0,15,30,45,60,75]"
            ]
        },
        {
            "cell_type": "code",
            "execution_count": 3,
            "metadata": {},
            "outputs": [],
            "source": [
                "topic = '/tf'\n",
                "\n",
                "rows = []\n",
                "\n",
                "for topic, msg, t in bag.read_messages(topics=topic):\n",
                "    \n",
                "    time = t\n",
                "\n",
                "    # conversion to euler\n",
                "    rotation_quat = msg.transforms[0].transform.rotation\n",
                "    pitch, yaw, roll = tf.transformations.euler_from_quaternion([rotation_quat.x,rotation_quat.y,rotation_quat.z,rotation_quat.w], axes='rxyz')\n",
                "\n",
                "    # all rotations\n",
                "    # rotation_euler = (np.degrees(pitch), np.degrees(yaw), np.degrees(roll))\n",
                "\n",
                "    # create row\n",
                "    row={'time': time.to_sec(), target: np.degrees(yaw)}\n",
                "    rows.append(row)\n",
                "\n",
                "df = pd.DataFrame.from_records(rows)"
            ]
        },
        {
            "cell_type": "code",
            "execution_count": 4,
            "metadata": {},
            "outputs": [
                {
                    "data": {
                        "text/html": [
                            "<div>\n",
                            "<style scoped>\n",
                            "    .dataframe tbody tr th:only-of-type {\n",
                            "        vertical-align: middle;\n",
                            "    }\n",
                            "\n",
                            "    .dataframe tbody tr th {\n",
                            "        vertical-align: top;\n",
                            "    }\n",
                            "\n",
                            "    .dataframe thead th {\n",
                            "        text-align: right;\n",
                            "    }\n",
                            "</style>\n",
                            "<table border=\"1\" class=\"dataframe\">\n",
                            "  <thead>\n",
                            "    <tr style=\"text-align: right;\">\n",
                            "      <th></th>\n",
                            "      <th>relative_time</th>\n",
                            "      <th>yaw</th>\n",
                            "    </tr>\n",
                            "  </thead>\n",
                            "  <tbody>\n",
                            "    <tr>\n",
                            "      <th>0</th>\n",
                            "      <td>0.000000</td>\n",
                            "      <td>36.353335</td>\n",
                            "    </tr>\n",
                            "    <tr>\n",
                            "      <th>1</th>\n",
                            "      <td>0.341430</td>\n",
                            "      <td>23.241653</td>\n",
                            "    </tr>\n",
                            "    <tr>\n",
                            "      <th>2</th>\n",
                            "      <td>1.063632</td>\n",
                            "      <td>0.920764</td>\n",
                            "    </tr>\n",
                            "    <tr>\n",
                            "      <th>3</th>\n",
                            "      <td>1.465142</td>\n",
                            "      <td>0.350840</td>\n",
                            "    </tr>\n",
                            "    <tr>\n",
                            "      <th>4</th>\n",
                            "      <td>1.831679</td>\n",
                            "      <td>2.277590</td>\n",
                            "    </tr>\n",
                            "    <tr>\n",
                            "      <th>...</th>\n",
                            "      <td>...</td>\n",
                            "      <td>...</td>\n",
                            "    </tr>\n",
                            "    <tr>\n",
                            "      <th>770</th>\n",
                            "      <td>94.847994</td>\n",
                            "      <td>-0.303225</td>\n",
                            "    </tr>\n",
                            "    <tr>\n",
                            "      <th>771</th>\n",
                            "      <td>94.949836</td>\n",
                            "      <td>-0.280187</td>\n",
                            "    </tr>\n",
                            "    <tr>\n",
                            "      <th>772</th>\n",
                            "      <td>96.056673</td>\n",
                            "      <td>-0.204726</td>\n",
                            "    </tr>\n",
                            "    <tr>\n",
                            "      <th>773</th>\n",
                            "      <td>96.175978</td>\n",
                            "      <td>-0.286676</td>\n",
                            "    </tr>\n",
                            "    <tr>\n",
                            "      <th>774</th>\n",
                            "      <td>96.269409</td>\n",
                            "      <td>-0.255586</td>\n",
                            "    </tr>\n",
                            "  </tbody>\n",
                            "</table>\n",
                            "<p>775 rows × 2 columns</p>\n",
                            "</div>"
                        ],
                        "text/plain": [
                            "     relative_time        yaw\n",
                            "0         0.000000  36.353335\n",
                            "1         0.341430  23.241653\n",
                            "2         1.063632   0.920764\n",
                            "3         1.465142   0.350840\n",
                            "4         1.831679   2.277590\n",
                            "..             ...        ...\n",
                            "770      94.847994  -0.303225\n",
                            "771      94.949836  -0.280187\n",
                            "772      96.056673  -0.204726\n",
                            "773      96.175978  -0.286676\n",
                            "774      96.269409  -0.255586\n",
                            "\n",
                            "[775 rows x 2 columns]"
                        ]
                    },
                    "execution_count": 4,
                    "metadata": {},
                    "output_type": "execute_result"
                }
            ],
            "source": [
                "# calculate relative time in seconds instead of absolute time\n",
                "df['relative_time'] =  df.loc[0:, 'time'] - df.at[0, 'time']\n",
                "df = df.drop(columns=['time'])\n",
                "df = df[['relative_time', target]]\n",
                "df"
            ]
        },
        {
            "cell_type": "code",
            "execution_count": 5,
            "metadata": {},
            "outputs": [
                {
                    "data": {
                        "text/plain": [
                            "<AxesSubplot:xlabel='relative_time'>"
                        ]
                    },
                    "execution_count": 5,
                    "metadata": {},
                    "output_type": "execute_result"
                },
                {
                    "data": {
                        "image/png": "[encoded data removed]",
                        "text/plain": [
                            "<Figure size 432x288 with 1 Axes>"
                        ]
                    },
                    "metadata": {
                        "needs_background": "light"
                    },
                    "output_type": "display_data"
                }
            ],
            "source": [
                "# initial graph\n",
                "df.plot(x='relative_time', y=target)"
            ]
        },
        {
            "cell_type": "code",
            "execution_count": 6,
            "metadata": {},
            "outputs": [],
            "source": [
                "# find plateaus\n",
                "x = df[target]\n",
                "peaks, _ = find_peaks(x, threshold=(0, 1)) # from find_peaks docs: Threshold: The first element is always interpreted as the minimal and the second, if supplied, as the maximal required threshold."
            ]
        },
        {
            "cell_type": "code",
            "execution_count": 7,
            "metadata": {},
            "outputs": [
                {
                    "data": {
                        "text/plain": [
                            "160"
                        ]
                    },
                    "execution_count": 7,
                    "metadata": {},
                    "output_type": "execute_result"
                }
            ],
            "source": [
                "# the amount of data points we are left with\n",
                "len(x[peaks])"
            ]
        },
        {
            "cell_type": "code",
            "execution_count": 8,
            "metadata": {},
            "outputs": [],
            "source": [
                "# create filtered data frame\n",
                "df_filtered_by_targets = df.loc[peaks]"
            ]
        },
        {
            "cell_type": "code",
            "execution_count": 9,
            "metadata": {},
            "outputs": [
                {
                    "data": {
                        "text/plain": [
                            "<AxesSubplot:xlabel='relative_time', ylabel='yaw'>"
                        ]
                    },
                    "execution_count": 9,
                    "metadata": {},
                    "output_type": "execute_result"
                },
                {
                    "data": {
                        "image/png": "[encoded data removed]",
                        "text/plain": [
                            "<Figure size 432x288 with 1 Axes>"
                        ]
                    },
                    "metadata": {
                        "needs_background": "light"
                    },
                    "output_type": "display_data"
                }
            ],
            "source": [
                "df_filtered_by_targets.plot.scatter(x='relative_time', y=target)"
            ]
        },
        {
            "cell_type": "code",
            "execution_count": 10,
            "metadata": {},
            "outputs": [
                {
                    "data": {
                        "text/html": [
                            "<div>\n",
                            "<style scoped>\n",
                            "    .dataframe tbody tr th:only-of-type {\n",
                            "        vertical-align: middle;\n",
                            "    }\n",
                            "\n",
                            "    .dataframe tbody tr th {\n",
                            "        vertical-align: top;\n",
                            "    }\n",
                            "\n",
                            "    .dataframe thead th {\n",
                            "        text-align: right;\n",
                            "    }\n",
                            "</style>\n",
                            "<table border=\"1\" class=\"dataframe\">\n",
                            "  <thead>\n",
                            "    <tr style=\"text-align: right;\">\n",
                            "      <th></th>\n",
                            "      <th>relative_time</th>\n",
                            "      <th>yaw</th>\n",
                            "      <th>true_yaw</th>\n",
                            "    </tr>\n",
                            "  </thead>\n",
                            "  <tbody>\n",
                            "    <tr>\n",
                            "      <th>6</th>\n",
                            "      <td>2.632546</td>\n",
                            "      <td>4.534337</td>\n",
                            "      <td>0</td>\n",
                            "    </tr>\n",
                            "    <tr>\n",
                            "      <th>10</th>\n",
                            "      <td>4.491226</td>\n",
                            "      <td>4.483583</td>\n",
                            "      <td>0</td>\n",
                            "    </tr>\n",
                            "    <tr>\n",
                            "      <th>14</th>\n",
                            "      <td>5.955687</td>\n",
                            "      <td>4.233954</td>\n",
                            "      <td>0</td>\n",
                            "    </tr>\n",
                            "    <tr>\n",
                            "      <th>18</th>\n",
                            "      <td>7.583418</td>\n",
                            "      <td>4.411913</td>\n",
                            "      <td>0</td>\n",
                            "    </tr>\n",
                            "    <tr>\n",
                            "      <th>24</th>\n",
                            "      <td>9.560922</td>\n",
                            "      <td>5.819714</td>\n",
                            "      <td>0</td>\n",
                            "    </tr>\n",
                            "    <tr>\n",
                            "      <th>...</th>\n",
                            "      <td>...</td>\n",
                            "      <td>...</td>\n",
                            "      <td>...</td>\n",
                            "    </tr>\n",
                            "    <tr>\n",
                            "      <th>752</th>\n",
                            "      <td>88.886383</td>\n",
                            "      <td>74.622371</td>\n",
                            "      <td>75</td>\n",
                            "    </tr>\n",
                            "    <tr>\n",
                            "      <th>763</th>\n",
                            "      <td>94.116472</td>\n",
                            "      <td>-0.319508</td>\n",
                            "      <td>0</td>\n",
                            "    </tr>\n",
                            "    <tr>\n",
                            "      <th>766</th>\n",
                            "      <td>94.428112</td>\n",
                            "      <td>-0.326641</td>\n",
                            "      <td>0</td>\n",
                            "    </tr>\n",
                            "    <tr>\n",
                            "      <th>768</th>\n",
                            "      <td>94.627957</td>\n",
                            "      <td>-0.297383</td>\n",
                            "      <td>0</td>\n",
                            "    </tr>\n",
                            "    <tr>\n",
                            "      <th>772</th>\n",
                            "      <td>96.056673</td>\n",
                            "      <td>-0.204726</td>\n",
                            "      <td>0</td>\n",
                            "    </tr>\n",
                            "  </tbody>\n",
                            "</table>\n",
                            "<p>160 rows × 3 columns</p>\n",
                            "</div>"
                        ],
                        "text/plain": [
                            "     relative_time        yaw true_yaw\n",
                            "6         2.632546   4.534337        0\n",
                            "10        4.491226   4.483583        0\n",
                            "14        5.955687   4.233954        0\n",
                            "18        7.583418   4.411913        0\n",
                            "24        9.560922   5.819714        0\n",
                            "..             ...        ...      ...\n",
                            "752      88.886383  74.622371       75\n",
                            "763      94.116472  -0.319508        0\n",
                            "766      94.428112  -0.326641        0\n",
                            "768      94.627957  -0.297383        0\n",
                            "772      96.056673  -0.204726        0\n",
                            "\n",
                            "[160 rows x 3 columns]"
                        ]
                    },
                    "execution_count": 10,
                    "metadata": {},
                    "output_type": "execute_result"
                }
            ],
            "source": [
                "# segmenting/binning by real value\n",
                "df_filtered_by_targets[true_value] = pd.cut(df_filtered_by_targets[target], bins=len(input_vals), labels=input_vals)\n",
                "df_filtered_by_targets"
            ]
        },
        {
            "cell_type": "code",
            "execution_count": 11,
            "metadata": {},
            "outputs": [],
            "source": [
                "# calculate the error\n",
                "df_filtered_by_targets['error'] =  df_filtered_by_targets.apply(lambda row: row[true_value] - row[target], axis=1)"
            ]
        },
        {
            "cell_type": "code",
            "execution_count": 12,
            "metadata": {},
            "outputs": [],
            "source": [
                "# remove huge errors because theyre actually wrongly binned\n",
                "df_filtered_by_targets = df_filtered_by_targets.drop(df_filtered_by_targets[df_filtered_by_targets['error'].abs()>10].index)"
            ]
        },
        {
            "cell_type": "code",
            "execution_count": 13,
            "metadata": {},
            "outputs": [],
            "source": [
                "# drop rows at the end\n",
                "df_filtered_by_targets = df_filtered_by_targets.drop(df_filtered_by_targets[df_filtered_by_targets.relative_time > 89].index).reset_index()"
            ]
        },
        {
            "cell_type": "code",
            "execution_count": 14,
            "metadata": {},
            "outputs": [],
            "source": [
                "grouped_df = df_filtered_by_targets.groupby(true_value)"
            ]
        },
        {
            "cell_type": "code",
            "execution_count": 15,
            "metadata": {},
            "outputs": [
                {
                    "data": {
                        "text/html": [
                            "<div>\n",
                            "<style scoped>\n",
                            "    .dataframe tbody tr th:only-of-type {\n",
                            "        vertical-align: middle;\n",
                            "    }\n",
                            "\n",
                            "    .dataframe tbody tr th {\n",
                            "        vertical-align: top;\n",
                            "    }\n",
                            "\n",
                            "    .dataframe thead th {\n",
                            "        text-align: right;\n",
                            "    }\n",
                            "</style>\n",
                            "<table border=\"1\" class=\"dataframe\">\n",
                            "  <thead>\n",
                            "    <tr style=\"text-align: right;\">\n",
                            "      <th></th>\n",
                            "      <th>index</th>\n",
                            "      <th>relative_time</th>\n",
                            "      <th>yaw</th>\n",
                            "      <th>true_yaw</th>\n",
                            "      <th>error</th>\n",
                            "    </tr>\n",
                            "  </thead>\n",
                            "  <tbody>\n",
                            "    <tr>\n",
                            "      <th>18</th>\n",
                            "      <td>91</td>\n",
                            "      <td>17.506239</td>\n",
                            "      <td>4.104439</td>\n",
                            "      <td>0</td>\n",
                            "      <td>-4.104439</td>\n",
                            "    </tr>\n",
                            "    <tr>\n",
                            "      <th>19</th>\n",
                            "      <td>93</td>\n",
                            "      <td>17.715459</td>\n",
                            "      <td>4.111508</td>\n",
                            "      <td>0</td>\n",
                            "      <td>-4.111508</td>\n",
                            "    </tr>\n",
                            "    <tr>\n",
                            "      <th>42</th>\n",
                            "      <td>221</td>\n",
                            "      <td>31.106229</td>\n",
                            "      <td>13.440572</td>\n",
                            "      <td>15</td>\n",
                            "      <td>1.559428</td>\n",
                            "    </tr>\n",
                            "    <tr>\n",
                            "      <th>43</th>\n",
                            "      <td>232</td>\n",
                            "      <td>32.211945</td>\n",
                            "      <td>13.648127</td>\n",
                            "      <td>15</td>\n",
                            "      <td>1.351873</td>\n",
                            "    </tr>\n",
                            "    <tr>\n",
                            "      <th>72</th>\n",
                            "      <td>364</td>\n",
                            "      <td>45.953869</td>\n",
                            "      <td>28.370597</td>\n",
                            "      <td>30</td>\n",
                            "      <td>1.629403</td>\n",
                            "    </tr>\n",
                            "    <tr>\n",
                            "      <th>73</th>\n",
                            "      <td>367</td>\n",
                            "      <td>46.257668</td>\n",
                            "      <td>28.277313</td>\n",
                            "      <td>30</td>\n",
                            "      <td>1.722687</td>\n",
                            "    </tr>\n",
                            "    <tr>\n",
                            "      <th>101</th>\n",
                            "      <td>497</td>\n",
                            "      <td>59.724215</td>\n",
                            "      <td>43.553743</td>\n",
                            "      <td>45</td>\n",
                            "      <td>1.446257</td>\n",
                            "    </tr>\n",
                            "    <tr>\n",
                            "      <th>102</th>\n",
                            "      <td>500</td>\n",
                            "      <td>60.039529</td>\n",
                            "      <td>43.624194</td>\n",
                            "      <td>45</td>\n",
                            "      <td>1.375806</td>\n",
                            "    </tr>\n",
                            "    <tr>\n",
                            "      <th>131</th>\n",
                            "      <td>644</td>\n",
                            "      <td>74.893098</td>\n",
                            "      <td>59.428036</td>\n",
                            "      <td>60</td>\n",
                            "      <td>0.571964</td>\n",
                            "    </tr>\n",
                            "    <tr>\n",
                            "      <th>132</th>\n",
                            "      <td>646</td>\n",
                            "      <td>75.108099</td>\n",
                            "      <td>59.396254</td>\n",
                            "      <td>60</td>\n",
                            "      <td>0.603746</td>\n",
                            "    </tr>\n",
                            "    <tr>\n",
                            "      <th>151</th>\n",
                            "      <td>745</td>\n",
                            "      <td>87.861815</td>\n",
                            "      <td>74.474818</td>\n",
                            "      <td>75</td>\n",
                            "      <td>0.525182</td>\n",
                            "    </tr>\n",
                            "    <tr>\n",
                            "      <th>152</th>\n",
                            "      <td>752</td>\n",
                            "      <td>88.886383</td>\n",
                            "      <td>74.622371</td>\n",
                            "      <td>75</td>\n",
                            "      <td>0.377629</td>\n",
                            "    </tr>\n",
                            "  </tbody>\n",
                            "</table>\n",
                            "</div>"
                        ],
                        "text/plain": [
                            "     index  relative_time        yaw true_yaw     error\n",
                            "18      91      17.506239   4.104439        0 -4.104439\n",
                            "19      93      17.715459   4.111508        0 -4.111508\n",
                            "42     221      31.106229  13.440572       15  1.559428\n",
                            "43     232      32.211945  13.648127       15  1.351873\n",
                            "72     364      45.953869  28.370597       30  1.629403\n",
                            "73     367      46.257668  28.277313       30  1.722687\n",
                            "101    497      59.724215  43.553743       45  1.446257\n",
                            "102    500      60.039529  43.624194       45  1.375806\n",
                            "131    644      74.893098  59.428036       60  0.571964\n",
                            "132    646      75.108099  59.396254       60  0.603746\n",
                            "151    745      87.861815  74.474818       75  0.525182\n",
                            "152    752      88.886383  74.622371       75  0.377629"
                        ]
                    },
                    "execution_count": 15,
                    "metadata": {},
                    "output_type": "execute_result"
                }
            ],
            "source": [
                "# verify if the bins are in correct order, this is dictated by input_vals order\n",
                "grouped_df.tail(2)"
            ]
        },
        {
            "cell_type": "code",
            "execution_count": 16,
            "metadata": {},
            "outputs": [
                {
                    "data": {
                        "text/html": [
                            "<div>\n",
                            "<style scoped>\n",
                            "    .dataframe tbody tr th:only-of-type {\n",
                            "        vertical-align: middle;\n",
                            "    }\n",
                            "\n",
                            "    .dataframe tbody tr th {\n",
                            "        vertical-align: top;\n",
                            "    }\n",
                            "\n",
                            "    .dataframe thead th {\n",
                            "        text-align: right;\n",
                            "    }\n",
                            "</style>\n",
                            "<table border=\"1\" class=\"dataframe\">\n",
                            "  <thead>\n",
                            "    <tr style=\"text-align: right;\">\n",
                            "      <th></th>\n",
                            "      <th>count</th>\n",
                            "      <th>mean</th>\n",
                            "      <th>std</th>\n",
                            "      <th>min</th>\n",
                            "      <th>25%</th>\n",
                            "      <th>50%</th>\n",
                            "      <th>75%</th>\n",
                            "      <th>max</th>\n",
                            "    </tr>\n",
                            "    <tr>\n",
                            "      <th>true_yaw</th>\n",
                            "      <th></th>\n",
                            "      <th></th>\n",
                            "      <th></th>\n",
                            "      <th></th>\n",
                            "      <th></th>\n",
                            "      <th></th>\n",
                            "      <th></th>\n",
                            "      <th></th>\n",
                            "    </tr>\n",
                            "  </thead>\n",
                            "  <tbody>\n",
                            "    <tr>\n",
                            "      <th>0</th>\n",
                            "      <td>20.0</td>\n",
                            "      <td>-5.223694</td>\n",
                            "      <td>1.085263</td>\n",
                            "      <td>-6.809421</td>\n",
                            "      <td>-6.184451</td>\n",
                            "      <td>-5.221672</td>\n",
                            "      <td>-4.203342</td>\n",
                            "      <td>-3.814595</td>\n",
                            "    </tr>\n",
                            "    <tr>\n",
                            "      <th>15</th>\n",
                            "      <td>24.0</td>\n",
                            "      <td>1.450514</td>\n",
                            "      <td>0.415964</td>\n",
                            "      <td>0.148736</td>\n",
                            "      <td>1.319870</td>\n",
                            "      <td>1.483941</td>\n",
                            "      <td>1.596240</td>\n",
                            "      <td>2.105025</td>\n",
                            "    </tr>\n",
                            "    <tr>\n",
                            "      <th>30</th>\n",
                            "      <td>30.0</td>\n",
                            "      <td>1.933100</td>\n",
                            "      <td>0.421482</td>\n",
                            "      <td>0.737064</td>\n",
                            "      <td>1.856409</td>\n",
                            "      <td>2.058447</td>\n",
                            "      <td>2.135714</td>\n",
                            "      <td>2.368420</td>\n",
                            "    </tr>\n",
                            "    <tr>\n",
                            "      <th>45</th>\n",
                            "      <td>29.0</td>\n",
                            "      <td>1.486129</td>\n",
                            "      <td>0.292366</td>\n",
                            "      <td>0.033468</td>\n",
                            "      <td>1.485329</td>\n",
                            "      <td>1.544775</td>\n",
                            "      <td>1.605575</td>\n",
                            "      <td>1.677239</td>\n",
                            "    </tr>\n",
                            "    <tr>\n",
                            "      <th>60</th>\n",
                            "      <td>30.0</td>\n",
                            "      <td>0.654052</td>\n",
                            "      <td>0.165743</td>\n",
                            "      <td>0.028675</td>\n",
                            "      <td>0.633668</td>\n",
                            "      <td>0.681911</td>\n",
                            "      <td>0.746553</td>\n",
                            "      <td>0.860583</td>\n",
                            "    </tr>\n",
                            "    <tr>\n",
                            "      <th>75</th>\n",
                            "      <td>20.0</td>\n",
                            "      <td>0.333445</td>\n",
                            "      <td>0.433672</td>\n",
                            "      <td>-0.609397</td>\n",
                            "      <td>0.123995</td>\n",
                            "      <td>0.262005</td>\n",
                            "      <td>0.414517</td>\n",
                            "      <td>1.376997</td>\n",
                            "    </tr>\n",
                            "  </tbody>\n",
                            "</table>\n",
                            "</div>"
                        ],
                        "text/plain": [
                            "          count      mean       std       min       25%       50%       75%  \\\n",
                            "true_yaw                                                                      \n",
                            "0          20.0 -5.223694  1.085263 -6.809421 -6.184451 -5.221672 -4.203342   \n",
                            "15         24.0  1.450514  0.415964  0.148736  1.319870  1.483941  1.596240   \n",
                            "30         30.0  1.933100  0.421482  0.737064  1.856409  2.058447  2.135714   \n",
                            "45         29.0  1.486129  0.292366  0.033468  1.485329  1.544775  1.605575   \n",
                            "60         30.0  0.654052  0.165743  0.028675  0.633668  0.681911  0.746553   \n",
                            "75         20.0  0.333445  0.433672 -0.609397  0.123995  0.262005  0.414517   \n",
                            "\n",
                            "               max  \n",
                            "true_yaw            \n",
                            "0        -3.814595  \n",
                            "15        2.105025  \n",
                            "30        2.368420  \n",
                            "45        1.677239  \n",
                            "60        0.860583  \n",
                            "75        1.376997  "
                        ]
                    },
                    "execution_count": 16,
                    "metadata": {},
                    "output_type": "execute_result"
                }
            ],
            "source": [
                "grouped_df.error.describe()"
            ]
        },
        {
            "cell_type": "code",
            "execution_count": 17,
            "metadata": {},
            "outputs": [],
            "source": [
                "def box_plotter(column_name):\n",
                "    fig, axes = plt.subplots(1,len(input_vals))\n",
                "\n",
                "    for i, val in enumerate(input_vals):\n",
                "        grouped_df.get_group(val).boxplot(column=column_name, ax=axes.flatten()[i])\n",
                "        axes.flatten()[i].set_title(val)\n",
                "\n",
                "\n",
                "    plt.tight_layout()\n",
                "    plt.show()"
            ]
        },
        {
            "cell_type": "code",
            "execution_count": 18,
            "metadata": {},
            "outputs": [
                {
                    "data": {
                        "image/png": "[encoded data removed]",
                        "text/plain": [
                            "<Figure size 432x288 with 6 Axes>"
                        ]
                    },
                    "metadata": {
                        "needs_background": "light"
                    },
                    "output_type": "display_data"
                }
            ],
            "source": [
                "box_plotter(target)"
            ]
        },
        {
            "cell_type": "code",
            "execution_count": 19,
            "metadata": {},
            "outputs": [
                {
                    "data": {
                        "image/png": "[encoded data removed]",
                        "text/plain": [
                            "<Figure size 432x288 with 6 Axes>"
                        ]
                    },
                    "metadata": {
                        "needs_background": "light"
                    },
                    "output_type": "display_data"
                }
            ],
            "source": [
                "box_plotter('error')"
            ]
        },
        {
            "cell_type": "code",
            "execution_count": 20,
            "metadata": {},
            "outputs": [],
            "source": [
                "df_filtered_by_targets.to_csv('/home/hakanergin/code/apriltag_test_bench/test_pipeline/scripts/static_tests/rotations/result/csv/2m_36h11_720.csv')"
            ]
        }
    ],
    "metadata": {
        "kernelspec": {
            "display_name": "Python 3 (ipykernel)",
            "language": "python",
            "name": "python3"
        },
        "language_info": {
            "codemirror_mode": {
                "name": "ipython",
                "version": 3
            },
            "file_extension": ".py",
            "mimetype": "text/x-python",
            "name": "python",
            "nbconvert_exporter": "python",
            "pygments_lexer": "ipython3",
            "version": "3.8.10"
        },
        "orig_nbformat": 4
    },
    "nbformat": 4,
    "nbformat_minor": 2
}
