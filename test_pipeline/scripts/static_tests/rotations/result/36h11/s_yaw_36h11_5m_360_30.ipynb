{
    "cells": [
        {
            "cell_type": "code",
            "execution_count": 1,
            "metadata": {},
            "outputs": [],
            "source": [
                "import rosbag\n",
                "import pandas as pd\n",
                "import matplotlib.pyplot as plt\n",
                "import numpy as np\n",
                "import tf\n",
                "from scipy.signal import find_peaks"
            ]
        },
        {
            "cell_type": "code",
            "execution_count": 2,
            "metadata": {},
            "outputs": [],
            "source": [
                "bag = rosbag.Bag('/home/hakanergin/code/rosbags/static/rotation/36h11/s_yaw_36h11_5m_360_30.bag')\n",
                "\n",
                "# create variables\n",
                "target = 'yaw'\n",
                "true_value = 'true_yaw'\n",
                "\n",
                "# input values in degrees. the order matters, it will be used for binning \n",
                "input_vals = [0,15,30,45,60,75]"
            ]
        },
        {
            "cell_type": "code",
            "execution_count": 3,
            "metadata": {},
            "outputs": [],
            "source": [
                "topic = '/tf'\n",
                "\n",
                "rows = []\n",
                "\n",
                "for topic, msg, t in bag.read_messages(topics=topic):\n",
                "    \n",
                "    time = t\n",
                "\n",
                "    # conversion to euler\n",
                "    rotation_quat = msg.transforms[0].transform.rotation\n",
                "    pitch, yaw, roll = tf.transformations.euler_from_quaternion([rotation_quat.x,rotation_quat.y,rotation_quat.z,rotation_quat.w], axes='rxyz')\n",
                "\n",
                "    # all rotations\n",
                "    # rotation_euler = (np.degrees(pitch), np.degrees(yaw), np.degrees(roll))\n",
                "\n",
                "    # create row\n",
                "    row={'time': time.to_sec(), target: np.degrees(yaw)}\n",
                "    rows.append(row)\n",
                "\n",
                "df = pd.DataFrame.from_records(rows)"
            ]
        },
        {
            "cell_type": "code",
            "execution_count": 4,
            "metadata": {},
            "outputs": [
                {
                    "data": {
                        "text/html": [
                            "<div>\n",
                            "<style scoped>\n",
                            "    .dataframe tbody tr th:only-of-type {\n",
                            "        vertical-align: middle;\n",
                            "    }\n",
                            "\n",
                            "    .dataframe tbody tr th {\n",
                            "        vertical-align: top;\n",
                            "    }\n",
                            "\n",
                            "    .dataframe thead th {\n",
                            "        text-align: right;\n",
                            "    }\n",
                            "</style>\n",
                            "<table border=\"1\" class=\"dataframe\">\n",
                            "  <thead>\n",
                            "    <tr style=\"text-align: right;\">\n",
                            "      <th></th>\n",
                            "      <th>relative_time</th>\n",
                            "      <th>yaw</th>\n",
                            "    </tr>\n",
                            "  </thead>\n",
                            "  <tbody>\n",
                            "    <tr>\n",
                            "      <th>0</th>\n",
                            "      <td>0.000000</td>\n",
                            "      <td>-41.138668</td>\n",
                            "    </tr>\n",
                            "    <tr>\n",
                            "      <th>1</th>\n",
                            "      <td>0.130924</td>\n",
                            "      <td>-29.666135</td>\n",
                            "    </tr>\n",
                            "    <tr>\n",
                            "      <th>2</th>\n",
                            "      <td>2.091976</td>\n",
                            "      <td>23.169581</td>\n",
                            "    </tr>\n",
                            "    <tr>\n",
                            "      <th>3</th>\n",
                            "      <td>2.153847</td>\n",
                            "      <td>22.964827</td>\n",
                            "    </tr>\n",
                            "    <tr>\n",
                            "      <th>4</th>\n",
                            "      <td>2.212260</td>\n",
                            "      <td>23.558189</td>\n",
                            "    </tr>\n",
                            "    <tr>\n",
                            "      <th>...</th>\n",
                            "      <td>...</td>\n",
                            "      <td>...</td>\n",
                            "    </tr>\n",
                            "    <tr>\n",
                            "      <th>888</th>\n",
                            "      <td>52.810196</td>\n",
                            "      <td>39.664680</td>\n",
                            "    </tr>\n",
                            "    <tr>\n",
                            "      <th>889</th>\n",
                            "      <td>52.843999</td>\n",
                            "      <td>39.664680</td>\n",
                            "    </tr>\n",
                            "    <tr>\n",
                            "      <th>890</th>\n",
                            "      <td>53.045042</td>\n",
                            "      <td>39.692505</td>\n",
                            "    </tr>\n",
                            "    <tr>\n",
                            "      <th>891</th>\n",
                            "      <td>53.076869</td>\n",
                            "      <td>40.884475</td>\n",
                            "    </tr>\n",
                            "    <tr>\n",
                            "      <th>892</th>\n",
                            "      <td>53.177246</td>\n",
                            "      <td>42.880681</td>\n",
                            "    </tr>\n",
                            "  </tbody>\n",
                            "</table>\n",
                            "<p>893 rows × 2 columns</p>\n",
                            "</div>"
                        ],
                        "text/plain": [
                            "     relative_time        yaw\n",
                            "0         0.000000 -41.138668\n",
                            "1         0.130924 -29.666135\n",
                            "2         2.091976  23.169581\n",
                            "3         2.153847  22.964827\n",
                            "4         2.212260  23.558189\n",
                            "..             ...        ...\n",
                            "888      52.810196  39.664680\n",
                            "889      52.843999  39.664680\n",
                            "890      53.045042  39.692505\n",
                            "891      53.076869  40.884475\n",
                            "892      53.177246  42.880681\n",
                            "\n",
                            "[893 rows x 2 columns]"
                        ]
                    },
                    "execution_count": 4,
                    "metadata": {},
                    "output_type": "execute_result"
                }
            ],
            "source": [
                "# calculate relative time in seconds instead of absolute time\n",
                "df['relative_time'] =  df.loc[0:, 'time'] - df.at[0, 'time']\n",
                "df = df.drop(columns=['time'])\n",
                "df = df[['relative_time', target]]\n",
                "df"
            ]
        },
        {
            "cell_type": "code",
            "execution_count": 5,
            "metadata": {},
            "outputs": [
                {
                    "data": {
                        "text/plain": [
                            "<AxesSubplot:xlabel='relative_time'>"
                        ]
                    },
                    "execution_count": 5,
                    "metadata": {},
                    "output_type": "execute_result"
                },
                {
                    "data": {
                        "image/png": "[encoded data removed]",
                        "text/plain": [
                            "<Figure size 432x288 with 1 Axes>"
                        ]
                    },
                    "metadata": {
                        "needs_background": "light"
                    },
                    "output_type": "display_data"
                }
            ],
            "source": [
                "# initial graph\n",
                "df.plot(x='relative_time', y=target)"
            ]
        },
        {
            "cell_type": "code",
            "execution_count": 6,
            "metadata": {},
            "outputs": [],
            "source": [
                "# find plateaus\n",
                "x = df[target]\n",
                "peaks, _ = find_peaks(x, threshold=(0, 1)) # from find_peaks docs: Threshold: The first element is always interpreted as the minimal and the second, if supplied, as the maximal required threshold."
            ]
        },
        {
            "cell_type": "code",
            "execution_count": 7,
            "metadata": {},
            "outputs": [
                {
                    "data": {
                        "text/plain": [
                            "131"
                        ]
                    },
                    "execution_count": 7,
                    "metadata": {},
                    "output_type": "execute_result"
                }
            ],
            "source": [
                "# the amount of data points we are left with\n",
                "len(x[peaks])"
            ]
        },
        {
            "cell_type": "code",
            "execution_count": 8,
            "metadata": {},
            "outputs": [],
            "source": [
                "# create filtered data frame\n",
                "df_filtered_by_targets = df.loc[peaks]"
            ]
        },
        {
            "cell_type": "code",
            "execution_count": 9,
            "metadata": {},
            "outputs": [
                {
                    "data": {
                        "text/plain": [
                            "<AxesSubplot:xlabel='relative_time', ylabel='yaw'>"
                        ]
                    },
                    "execution_count": 9,
                    "metadata": {},
                    "output_type": "execute_result"
                },
                {
                    "data": {
                        "image/png": "[encoded data removed]",
                        "text/plain": [
                            "<Figure size 432x288 with 1 Axes>"
                        ]
                    },
                    "metadata": {
                        "needs_background": "light"
                    },
                    "output_type": "display_data"
                }
            ],
            "source": [
                "df_filtered_by_targets.plot.scatter(x='relative_time', y=target)"
            ]
        },
        {
            "cell_type": "code",
            "execution_count": 10,
            "metadata": {},
            "outputs": [
                {
                    "data": {
                        "text/html": [
                            "<div>\n",
                            "<style scoped>\n",
                            "    .dataframe tbody tr th:only-of-type {\n",
                            "        vertical-align: middle;\n",
                            "    }\n",
                            "\n",
                            "    .dataframe tbody tr th {\n",
                            "        vertical-align: top;\n",
                            "    }\n",
                            "\n",
                            "    .dataframe thead th {\n",
                            "        text-align: right;\n",
                            "    }\n",
                            "</style>\n",
                            "<table border=\"1\" class=\"dataframe\">\n",
                            "  <thead>\n",
                            "    <tr style=\"text-align: right;\">\n",
                            "      <th></th>\n",
                            "      <th>relative_time</th>\n",
                            "      <th>yaw</th>\n",
                            "      <th>true_yaw</th>\n",
                            "    </tr>\n",
                            "  </thead>\n",
                            "  <tbody>\n",
                            "    <tr>\n",
                            "      <th>5</th>\n",
                            "      <td>2.276478</td>\n",
                            "      <td>24.006980</td>\n",
                            "      <td>60</td>\n",
                            "    </tr>\n",
                            "    <tr>\n",
                            "      <th>9</th>\n",
                            "      <td>2.542638</td>\n",
                            "      <td>22.130522</td>\n",
                            "      <td>60</td>\n",
                            "    </tr>\n",
                            "    <tr>\n",
                            "      <th>14</th>\n",
                            "      <td>3.006721</td>\n",
                            "      <td>21.993357</td>\n",
                            "      <td>60</td>\n",
                            "    </tr>\n",
                            "    <tr>\n",
                            "      <th>16</th>\n",
                            "      <td>3.135642</td>\n",
                            "      <td>22.075098</td>\n",
                            "      <td>60</td>\n",
                            "    </tr>\n",
                            "    <tr>\n",
                            "      <th>22</th>\n",
                            "      <td>3.717092</td>\n",
                            "      <td>21.662161</td>\n",
                            "      <td>60</td>\n",
                            "    </tr>\n",
                            "    <tr>\n",
                            "      <th>...</th>\n",
                            "      <td>...</td>\n",
                            "      <td>...</td>\n",
                            "      <td>...</td>\n",
                            "    </tr>\n",
                            "    <tr>\n",
                            "      <th>856</th>\n",
                            "      <td>44.845094</td>\n",
                            "      <td>40.722334</td>\n",
                            "      <td>75</td>\n",
                            "    </tr>\n",
                            "    <tr>\n",
                            "      <th>861</th>\n",
                            "      <td>45.177658</td>\n",
                            "      <td>42.773350</td>\n",
                            "      <td>75</td>\n",
                            "    </tr>\n",
                            "    <tr>\n",
                            "      <th>873</th>\n",
                            "      <td>47.076272</td>\n",
                            "      <td>40.964505</td>\n",
                            "      <td>75</td>\n",
                            "    </tr>\n",
                            "    <tr>\n",
                            "      <th>878</th>\n",
                            "      <td>47.443670</td>\n",
                            "      <td>40.919113</td>\n",
                            "      <td>75</td>\n",
                            "    </tr>\n",
                            "    <tr>\n",
                            "      <th>883</th>\n",
                            "      <td>47.610390</td>\n",
                            "      <td>40.939675</td>\n",
                            "      <td>75</td>\n",
                            "    </tr>\n",
                            "  </tbody>\n",
                            "</table>\n",
                            "<p>131 rows × 3 columns</p>\n",
                            "</div>"
                        ],
                        "text/plain": [
                            "     relative_time        yaw true_yaw\n",
                            "5         2.276478  24.006980       60\n",
                            "9         2.542638  22.130522       60\n",
                            "14        3.006721  21.993357       60\n",
                            "16        3.135642  22.075098       60\n",
                            "22        3.717092  21.662161       60\n",
                            "..             ...        ...      ...\n",
                            "856      44.845094  40.722334       75\n",
                            "861      45.177658  42.773350       75\n",
                            "873      47.076272  40.964505       75\n",
                            "878      47.443670  40.919113       75\n",
                            "883      47.610390  40.939675       75\n",
                            "\n",
                            "[131 rows x 3 columns]"
                        ]
                    },
                    "execution_count": 10,
                    "metadata": {},
                    "output_type": "execute_result"
                }
            ],
            "source": [
                "# segmenting/binning by real value\n",
                "df_filtered_by_targets[true_value] = pd.cut(df_filtered_by_targets[target], bins=len(input_vals), labels=input_vals)\n",
                "df_filtered_by_targets"
            ]
        },
        {
            "cell_type": "code",
            "execution_count": 11,
            "metadata": {},
            "outputs": [],
            "source": [
                "# calculate the error\n",
                "df_filtered_by_targets['error'] =  df_filtered_by_targets.apply(lambda row: row[true_value] - row[target], axis=1)"
            ]
        },
        {
            "cell_type": "code",
            "execution_count": 12,
            "metadata": {},
            "outputs": [],
            "source": [
                "grouped_df = df_filtered_by_targets.groupby(true_value)"
            ]
        },
        {
            "cell_type": "code",
            "execution_count": 13,
            "metadata": {},
            "outputs": [
                {
                    "data": {
                        "text/html": [
                            "<div>\n",
                            "<style scoped>\n",
                            "    .dataframe tbody tr th:only-of-type {\n",
                            "        vertical-align: middle;\n",
                            "    }\n",
                            "\n",
                            "    .dataframe tbody tr th {\n",
                            "        vertical-align: top;\n",
                            "    }\n",
                            "\n",
                            "    .dataframe thead th {\n",
                            "        text-align: right;\n",
                            "    }\n",
                            "</style>\n",
                            "<table border=\"1\" class=\"dataframe\">\n",
                            "  <thead>\n",
                            "    <tr style=\"text-align: right;\">\n",
                            "      <th></th>\n",
                            "      <th>relative_time</th>\n",
                            "      <th>yaw</th>\n",
                            "      <th>true_yaw</th>\n",
                            "      <th>error</th>\n",
                            "    </tr>\n",
                            "  </thead>\n",
                            "  <tbody>\n",
                            "    <tr>\n",
                            "      <th>5</th>\n",
                            "      <td>2.276478</td>\n",
                            "      <td>24.006980</td>\n",
                            "      <td>60</td>\n",
                            "      <td>35.993020</td>\n",
                            "    </tr>\n",
                            "    <tr>\n",
                            "      <th>9</th>\n",
                            "      <td>2.542638</td>\n",
                            "      <td>22.130522</td>\n",
                            "      <td>60</td>\n",
                            "      <td>37.869478</td>\n",
                            "    </tr>\n",
                            "    <tr>\n",
                            "      <th>180</th>\n",
                            "      <td>17.211153</td>\n",
                            "      <td>-28.054645</td>\n",
                            "      <td>0</td>\n",
                            "      <td>28.054645</td>\n",
                            "    </tr>\n",
                            "    <tr>\n",
                            "      <th>237</th>\n",
                            "      <td>20.110735</td>\n",
                            "      <td>-25.315458</td>\n",
                            "      <td>0</td>\n",
                            "      <td>25.315458</td>\n",
                            "    </tr>\n",
                            "    <tr>\n",
                            "      <th>587</th>\n",
                            "      <td>32.281546</td>\n",
                            "      <td>30.303911</td>\n",
                            "      <td>75</td>\n",
                            "      <td>44.696089</td>\n",
                            "    </tr>\n",
                            "    <tr>\n",
                            "      <th>598</th>\n",
                            "      <td>32.648080</td>\n",
                            "      <td>30.201388</td>\n",
                            "      <td>75</td>\n",
                            "      <td>44.798612</td>\n",
                            "    </tr>\n",
                            "  </tbody>\n",
                            "</table>\n",
                            "</div>"
                        ],
                        "text/plain": [
                            "     relative_time        yaw true_yaw      error\n",
                            "5         2.276478  24.006980       60  35.993020\n",
                            "9         2.542638  22.130522       60  37.869478\n",
                            "180      17.211153 -28.054645        0  28.054645\n",
                            "237      20.110735 -25.315458        0  25.315458\n",
                            "587      32.281546  30.303911       75  44.696089\n",
                            "598      32.648080  30.201388       75  44.798612"
                        ]
                    },
                    "execution_count": 13,
                    "metadata": {},
                    "output_type": "execute_result"
                }
            ],
            "source": [
                "# verify if the bins are in correct order, this is dictated by input_vals order\n",
                "grouped_df.head(2)"
            ]
        },
        {
            "cell_type": "code",
            "execution_count": 14,
            "metadata": {},
            "outputs": [
                {
                    "data": {
                        "text/html": [
                            "<div>\n",
                            "<style scoped>\n",
                            "    .dataframe tbody tr th:only-of-type {\n",
                            "        vertical-align: middle;\n",
                            "    }\n",
                            "\n",
                            "    .dataframe tbody tr th {\n",
                            "        vertical-align: top;\n",
                            "    }\n",
                            "\n",
                            "    .dataframe thead th {\n",
                            "        text-align: right;\n",
                            "    }\n",
                            "</style>\n",
                            "<table border=\"1\" class=\"dataframe\">\n",
                            "  <thead>\n",
                            "    <tr style=\"text-align: right;\">\n",
                            "      <th></th>\n",
                            "      <th>count</th>\n",
                            "      <th>mean</th>\n",
                            "      <th>std</th>\n",
                            "      <th>min</th>\n",
                            "      <th>25%</th>\n",
                            "      <th>50%</th>\n",
                            "      <th>75%</th>\n",
                            "      <th>max</th>\n",
                            "    </tr>\n",
                            "    <tr>\n",
                            "      <th>true_yaw</th>\n",
                            "      <th></th>\n",
                            "      <th></th>\n",
                            "      <th></th>\n",
                            "      <th></th>\n",
                            "      <th></th>\n",
                            "      <th></th>\n",
                            "      <th></th>\n",
                            "      <th></th>\n",
                            "    </tr>\n",
                            "  </thead>\n",
                            "  <tbody>\n",
                            "    <tr>\n",
                            "      <th>0</th>\n",
                            "      <td>4.0</td>\n",
                            "      <td>28.427901</td>\n",
                            "      <td>5.312073</td>\n",
                            "      <td>24.307616</td>\n",
                            "      <td>25.063498</td>\n",
                            "      <td>26.685051</td>\n",
                            "      <td>30.049455</td>\n",
                            "      <td>36.033884</td>\n",
                            "    </tr>\n",
                            "    <tr>\n",
                            "      <th>15</th>\n",
                            "      <td>0.0</td>\n",
                            "      <td>NaN</td>\n",
                            "      <td>NaN</td>\n",
                            "      <td>NaN</td>\n",
                            "      <td>NaN</td>\n",
                            "      <td>NaN</td>\n",
                            "      <td>NaN</td>\n",
                            "      <td>NaN</td>\n",
                            "    </tr>\n",
                            "    <tr>\n",
                            "      <th>30</th>\n",
                            "      <td>0.0</td>\n",
                            "      <td>NaN</td>\n",
                            "      <td>NaN</td>\n",
                            "      <td>NaN</td>\n",
                            "      <td>NaN</td>\n",
                            "      <td>NaN</td>\n",
                            "      <td>NaN</td>\n",
                            "      <td>NaN</td>\n",
                            "    </tr>\n",
                            "    <tr>\n",
                            "      <th>45</th>\n",
                            "      <td>0.0</td>\n",
                            "      <td>NaN</td>\n",
                            "      <td>NaN</td>\n",
                            "      <td>NaN</td>\n",
                            "      <td>NaN</td>\n",
                            "      <td>NaN</td>\n",
                            "      <td>NaN</td>\n",
                            "      <td>NaN</td>\n",
                            "    </tr>\n",
                            "    <tr>\n",
                            "      <th>60</th>\n",
                            "      <td>105.0</td>\n",
                            "      <td>36.856923</td>\n",
                            "      <td>4.691914</td>\n",
                            "      <td>30.185342</td>\n",
                            "      <td>31.610466</td>\n",
                            "      <td>37.869478</td>\n",
                            "      <td>41.580822</td>\n",
                            "      <td>43.031567</td>\n",
                            "    </tr>\n",
                            "    <tr>\n",
                            "      <th>75</th>\n",
                            "      <td>22.0</td>\n",
                            "      <td>36.772172</td>\n",
                            "      <td>5.681503</td>\n",
                            "      <td>31.914036</td>\n",
                            "      <td>32.579954</td>\n",
                            "      <td>33.859283</td>\n",
                            "      <td>44.730868</td>\n",
                            "      <td>45.099654</td>\n",
                            "    </tr>\n",
                            "  </tbody>\n",
                            "</table>\n",
                            "</div>"
                        ],
                        "text/plain": [
                            "          count       mean       std        min        25%        50%  \\\n",
                            "true_yaw                                                                \n",
                            "0           4.0  28.427901  5.312073  24.307616  25.063498  26.685051   \n",
                            "15          0.0        NaN       NaN        NaN        NaN        NaN   \n",
                            "30          0.0        NaN       NaN        NaN        NaN        NaN   \n",
                            "45          0.0        NaN       NaN        NaN        NaN        NaN   \n",
                            "60        105.0  36.856923  4.691914  30.185342  31.610466  37.869478   \n",
                            "75         22.0  36.772172  5.681503  31.914036  32.579954  33.859283   \n",
                            "\n",
                            "                75%        max  \n",
                            "true_yaw                        \n",
                            "0         30.049455  36.033884  \n",
                            "15              NaN        NaN  \n",
                            "30              NaN        NaN  \n",
                            "45              NaN        NaN  \n",
                            "60        41.580822  43.031567  \n",
                            "75        44.730868  45.099654  "
                        ]
                    },
                    "execution_count": 14,
                    "metadata": {},
                    "output_type": "execute_result"
                }
            ],
            "source": [
                "grouped_df.error.describe()"
            ]
        },
        {
            "cell_type": "code",
            "execution_count": 15,
            "metadata": {},
            "outputs": [],
            "source": [
                "def box_plotter(column_name):\n",
                "    fig, axes = plt.subplots(1,len(input_vals))\n",
                "\n",
                "    for i, val in enumerate(input_vals):\n",
                "        grouped_df.get_group(val).boxplot(column=column_name, ax=axes.flatten()[i])\n",
                "        axes.flatten()[i].set_title(val)\n",
                "\n",
                "\n",
                "    plt.tight_layout()\n",
                "    plt.show()"
            ]
        },
        {
            "cell_type": "code",
            "execution_count": 16,
            "metadata": {},
            "outputs": [
                {
                    "ename": "KeyError",
                    "evalue": "15",
                    "output_type": "error",
                    "traceback": [
                        "\u001b[0;31m---------------------------------------------------------------------------\u001b[0m",
                        "\u001b[0;31mKeyError\u001b[0m                                  Traceback (most recent call last)",
                        "\u001b[1;32m/home/uware/projects/apriltags_ws/src/test_pipeline/scripts/static_tests/rotations/result/36h11/s_yaw_36h11_5m_360_30.ipynb Cell 16'\u001b[0m in \u001b[0;36m<module>\u001b[0;34m\u001b[0m\n\u001b[0;32m----> <a href='vscode-notebook-cell://ssh-remote%2B192.168.1.35/home/uware/projects/apriltags_ws/src/test_pipeline/scripts/static_tests/rotations/result/36h11/s_yaw_36h11_5m_360_30.ipynb#ch0000015vscode-remote?line=0'>1</a>\u001b[0m box_plotter(target)\n",
                        "\u001b[1;32m/home/uware/projects/apriltags_ws/src/test_pipeline/scripts/static_tests/rotations/result/36h11/s_yaw_36h11_5m_360_30.ipynb Cell 15'\u001b[0m in \u001b[0;36mbox_plotter\u001b[0;34m(column_name)\u001b[0m\n\u001b[1;32m      <a href='vscode-notebook-cell://ssh-remote%2B192.168.1.35/home/uware/projects/apriltags_ws/src/test_pipeline/scripts/static_tests/rotations/result/36h11/s_yaw_36h11_5m_360_30.ipynb#ch0000014vscode-remote?line=1'>2</a>\u001b[0m fig, axes \u001b[39m=\u001b[39m plt\u001b[39m.\u001b[39msubplots(\u001b[39m1\u001b[39m,\u001b[39mlen\u001b[39m(input_vals))\n\u001b[1;32m      <a href='vscode-notebook-cell://ssh-remote%2B192.168.1.35/home/uware/projects/apriltags_ws/src/test_pipeline/scripts/static_tests/rotations/result/36h11/s_yaw_36h11_5m_360_30.ipynb#ch0000014vscode-remote?line=3'>4</a>\u001b[0m \u001b[39mfor\u001b[39;00m i, val \u001b[39min\u001b[39;00m \u001b[39menumerate\u001b[39m(input_vals):\n\u001b[0;32m----> <a href='vscode-notebook-cell://ssh-remote%2B192.168.1.35/home/uware/projects/apriltags_ws/src/test_pipeline/scripts/static_tests/rotations/result/36h11/s_yaw_36h11_5m_360_30.ipynb#ch0000014vscode-remote?line=4'>5</a>\u001b[0m     grouped_df\u001b[39m.\u001b[39;49mget_group(val)\u001b[39m.\u001b[39mboxplot(column\u001b[39m=\u001b[39mcolumn_name, ax\u001b[39m=\u001b[39maxes\u001b[39m.\u001b[39mflatten()[i])\n\u001b[1;32m      <a href='vscode-notebook-cell://ssh-remote%2B192.168.1.35/home/uware/projects/apriltags_ws/src/test_pipeline/scripts/static_tests/rotations/result/36h11/s_yaw_36h11_5m_360_30.ipynb#ch0000014vscode-remote?line=5'>6</a>\u001b[0m     axes\u001b[39m.\u001b[39mflatten()[i]\u001b[39m.\u001b[39mset_title(val)\n\u001b[1;32m      <a href='vscode-notebook-cell://ssh-remote%2B192.168.1.35/home/uware/projects/apriltags_ws/src/test_pipeline/scripts/static_tests/rotations/result/36h11/s_yaw_36h11_5m_360_30.ipynb#ch0000014vscode-remote?line=8'>9</a>\u001b[0m plt\u001b[39m.\u001b[39mtight_layout()\n",
                        "File \u001b[0;32m~/projects/apriltags_ws/src/test_pipeline/env/lib/python3.8/site-packages/pandas/core/groupby/groupby.py:747\u001b[0m, in \u001b[0;36mBaseGroupBy.get_group\u001b[0;34m(self, name, obj)\u001b[0m\n\u001b[1;32m    <a href='file:///home/uware/projects/apriltags_ws/src/test_pipeline/env/lib/python3.8/site-packages/pandas/core/groupby/groupby.py?line=744'>745</a>\u001b[0m inds \u001b[39m=\u001b[39m \u001b[39mself\u001b[39m\u001b[39m.\u001b[39m_get_index(name)\n\u001b[1;32m    <a href='file:///home/uware/projects/apriltags_ws/src/test_pipeline/env/lib/python3.8/site-packages/pandas/core/groupby/groupby.py?line=745'>746</a>\u001b[0m \u001b[39mif\u001b[39;00m \u001b[39mnot\u001b[39;00m \u001b[39mlen\u001b[39m(inds):\n\u001b[0;32m--> <a href='file:///home/uware/projects/apriltags_ws/src/test_pipeline/env/lib/python3.8/site-packages/pandas/core/groupby/groupby.py?line=746'>747</a>\u001b[0m     \u001b[39mraise\u001b[39;00m \u001b[39mKeyError\u001b[39;00m(name)\n\u001b[1;32m    <a href='file:///home/uware/projects/apriltags_ws/src/test_pipeline/env/lib/python3.8/site-packages/pandas/core/groupby/groupby.py?line=748'>749</a>\u001b[0m \u001b[39mreturn\u001b[39;00m obj\u001b[39m.\u001b[39m_take_with_is_copy(inds, axis\u001b[39m=\u001b[39m\u001b[39mself\u001b[39m\u001b[39m.\u001b[39maxis)\n",
                        "\u001b[0;31mKeyError\u001b[0m: 15"
                    ]
                },
                {
                    "data": {
                        "image/png": "[encoded data removed]",
                        "text/plain": [
                            "<Figure size 432x288 with 6 Axes>"
                        ]
                    },
                    "metadata": {
                        "needs_background": "light"
                    },
                    "output_type": "display_data"
                }
            ],
            "source": [
                "box_plotter(target)"
            ]
        },
        {
            "cell_type": "code",
            "execution_count": null,
            "metadata": {},
            "outputs": [
                {
                    "data": {
                        "image/png": "[encoded data removed]",
                        "text/plain": [
                            "<Figure size 432x288 with 6 Axes>"
                        ]
                    },
                    "metadata": {
                        "needs_background": "light"
                    },
                    "output_type": "display_data"
                }
            ],
            "source": [
                "box_plotter('error')"
            ]
        }
    ],
    "metadata": {
        "kernelspec": {
            "display_name": "Python 3 (ipykernel)",
            "language": "python",
            "name": "python3"
        },
        "language_info": {
            "codemirror_mode": {
                "name": "ipython",
                "version": 3
            },
            "file_extension": ".py",
            "mimetype": "text/x-python",
            "name": "python",
            "nbconvert_exporter": "python",
            "pygments_lexer": "ipython3",
            "version": "3.8.10"
        },
        "orig_nbformat": 4
    },
    "nbformat": 4,
    "nbformat_minor": 2
}