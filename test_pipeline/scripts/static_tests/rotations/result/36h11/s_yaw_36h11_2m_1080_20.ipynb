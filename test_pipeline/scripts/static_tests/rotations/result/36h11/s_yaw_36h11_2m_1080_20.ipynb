{
    "cells": [
        {
            "cell_type": "code",
            "execution_count": 1,
            "metadata": {},
            "outputs": [],
            "source": [
                "import rosbag\n",
                "import pandas as pd\n",
                "import matplotlib.pyplot as plt\n",
                "import numpy as np\n",
                "import tf\n",
                "from scipy.signal import find_peaks"
            ]
        },
        {
            "cell_type": "code",
            "execution_count": 2,
            "metadata": {},
            "outputs": [],
            "source": [
                "bag = rosbag.Bag('/home/hakanergin/code/rosbags/static/rotation/36h11/s_yaw_36h11_2m_1080_20.bag')\n",
                "\n",
                "# create variables\n",
                "target = 'yaw'\n",
                "true_value = 'true_yaw'\n",
                "\n",
                "# input values in degrees. the order matters, it will be used for binning \n",
                "input_vals = [0,15,30,45,60,75]"
            ]
        },
        {
            "cell_type": "code",
            "execution_count": 3,
            "metadata": {},
            "outputs": [],
            "source": [
                "topic = '/tf'\n",
                "\n",
                "rows = []\n",
                "\n",
                "for topic, msg, t in bag.read_messages(topics=topic):\n",
                "    \n",
                "    time = t\n",
                "\n",
                "    # conversion to euler\n",
                "    rotation_quat = msg.transforms[0].transform.rotation\n",
                "    pitch, yaw, roll = tf.transformations.euler_from_quaternion([rotation_quat.x,rotation_quat.y,rotation_quat.z,rotation_quat.w], axes='rxyz')\n",
                "\n",
                "    # all rotations\n",
                "    # rotation_euler = (np.degrees(pitch), np.degrees(yaw), np.degrees(roll))\n",
                "\n",
                "    # create row\n",
                "    row={'time': time.to_sec(), target: np.degrees(yaw)}\n",
                "    rows.append(row)\n",
                "\n",
                "df = pd.DataFrame.from_records(rows)"
            ]
        },
        {
            "cell_type": "code",
            "execution_count": 4,
            "metadata": {},
            "outputs": [
                {
                    "data": {
                        "text/html": [
                            "<div>\n",
                            "<style scoped>\n",
                            "    .dataframe tbody tr th:only-of-type {\n",
                            "        vertical-align: middle;\n",
                            "    }\n",
                            "\n",
                            "    .dataframe tbody tr th {\n",
                            "        vertical-align: top;\n",
                            "    }\n",
                            "\n",
                            "    .dataframe thead th {\n",
                            "        text-align: right;\n",
                            "    }\n",
                            "</style>\n",
                            "<table border=\"1\" class=\"dataframe\">\n",
                            "  <thead>\n",
                            "    <tr style=\"text-align: right;\">\n",
                            "      <th></th>\n",
                            "      <th>relative_time</th>\n",
                            "      <th>yaw</th>\n",
                            "    </tr>\n",
                            "  </thead>\n",
                            "  <tbody>\n",
                            "    <tr>\n",
                            "      <th>0</th>\n",
                            "      <td>0.000000</td>\n",
                            "      <td>31.195044</td>\n",
                            "    </tr>\n",
                            "    <tr>\n",
                            "      <th>1</th>\n",
                            "      <td>1.638606</td>\n",
                            "      <td>7.525761</td>\n",
                            "    </tr>\n",
                            "    <tr>\n",
                            "      <th>2</th>\n",
                            "      <td>2.520315</td>\n",
                            "      <td>-0.306474</td>\n",
                            "    </tr>\n",
                            "    <tr>\n",
                            "      <th>3</th>\n",
                            "      <td>3.401566</td>\n",
                            "      <td>1.730796</td>\n",
                            "    </tr>\n",
                            "    <tr>\n",
                            "      <th>4</th>\n",
                            "      <td>4.111644</td>\n",
                            "      <td>3.668143</td>\n",
                            "    </tr>\n",
                            "    <tr>\n",
                            "      <th>...</th>\n",
                            "      <td>...</td>\n",
                            "      <td>...</td>\n",
                            "    </tr>\n",
                            "    <tr>\n",
                            "      <th>295</th>\n",
                            "      <td>101.914027</td>\n",
                            "      <td>-0.292694</td>\n",
                            "    </tr>\n",
                            "    <tr>\n",
                            "      <th>296</th>\n",
                            "      <td>102.255752</td>\n",
                            "      <td>-0.288678</td>\n",
                            "    </tr>\n",
                            "    <tr>\n",
                            "      <th>297</th>\n",
                            "      <td>102.626892</td>\n",
                            "      <td>-0.237157</td>\n",
                            "    </tr>\n",
                            "    <tr>\n",
                            "      <th>298</th>\n",
                            "      <td>102.948920</td>\n",
                            "      <td>-0.352735</td>\n",
                            "    </tr>\n",
                            "    <tr>\n",
                            "      <th>299</th>\n",
                            "      <td>103.984026</td>\n",
                            "      <td>-0.303073</td>\n",
                            "    </tr>\n",
                            "  </tbody>\n",
                            "</table>\n",
                            "<p>300 rows × 2 columns</p>\n",
                            "</div>"
                        ],
                        "text/plain": [
                            "     relative_time        yaw\n",
                            "0         0.000000  31.195044\n",
                            "1         1.638606   7.525761\n",
                            "2         2.520315  -0.306474\n",
                            "3         3.401566   1.730796\n",
                            "4         4.111644   3.668143\n",
                            "..             ...        ...\n",
                            "295     101.914027  -0.292694\n",
                            "296     102.255752  -0.288678\n",
                            "297     102.626892  -0.237157\n",
                            "298     102.948920  -0.352735\n",
                            "299     103.984026  -0.303073\n",
                            "\n",
                            "[300 rows x 2 columns]"
                        ]
                    },
                    "execution_count": 4,
                    "metadata": {},
                    "output_type": "execute_result"
                }
            ],
            "source": [
                "# calculate relative time in seconds instead of absolute time\n",
                "df['relative_time'] =  df.loc[0:, 'time'] - df.at[0, 'time']\n",
                "df = df.drop(columns=['time'])\n",
                "df = df[['relative_time', target]]\n",
                "df"
            ]
        },
        {
            "cell_type": "code",
            "execution_count": 5,
            "metadata": {},
            "outputs": [
                {
                    "data": {
                        "text/plain": [
                            "<AxesSubplot:xlabel='relative_time'>"
                        ]
                    },
                    "execution_count": 5,
                    "metadata": {},
                    "output_type": "execute_result"
                },
                {
                    "data": {
                        "image/png": "[encoded data removed]",
                        "text/plain": [
                            "<Figure size 432x288 with 1 Axes>"
                        ]
                    },
                    "metadata": {
                        "needs_background": "light"
                    },
                    "output_type": "display_data"
                }
            ],
            "source": [
                "# initial graph\n",
                "df.plot(x='relative_time', y=target)"
            ]
        },
        {
            "cell_type": "code",
            "execution_count": 6,
            "metadata": {},
            "outputs": [],
            "source": [
                "# find plateaus\n",
                "x = df[target]\n",
                "peaks, _ = find_peaks(x, threshold=(0, 5)) # from find_peaks docs: Threshold: The first element is always interpreted as the minimal and the second, if supplied, as the maximal required threshold."
            ]
        },
        {
            "cell_type": "code",
            "execution_count": 7,
            "metadata": {},
            "outputs": [
                {
                    "data": {
                        "text/plain": [
                            "70"
                        ]
                    },
                    "execution_count": 7,
                    "metadata": {},
                    "output_type": "execute_result"
                }
            ],
            "source": [
                "# the amount of data points we are left with\n",
                "len(x[peaks])"
            ]
        },
        {
            "cell_type": "code",
            "execution_count": 8,
            "metadata": {},
            "outputs": [],
            "source": [
                "# create filtered data frame\n",
                "df_filtered_by_targets = df.loc[peaks]"
            ]
        },
        {
            "cell_type": "code",
            "execution_count": 9,
            "metadata": {},
            "outputs": [
                {
                    "data": {
                        "text/plain": [
                            "<AxesSubplot:xlabel='relative_time', ylabel='yaw'>"
                        ]
                    },
                    "execution_count": 9,
                    "metadata": {},
                    "output_type": "execute_result"
                },
                {
                    "data": {
                        "image/png": "[encoded data removed]",
                        "text/plain": [
                            "<Figure size 432x288 with 1 Axes>"
                        ]
                    },
                    "metadata": {
                        "needs_background": "light"
                    },
                    "output_type": "display_data"
                }
            ],
            "source": [
                "df_filtered_by_targets.plot.scatter(x='relative_time', y=target)"
            ]
        },
        {
            "cell_type": "code",
            "execution_count": 10,
            "metadata": {},
            "outputs": [
                {
                    "data": {
                        "text/html": [
                            "<div>\n",
                            "<style scoped>\n",
                            "    .dataframe tbody tr th:only-of-type {\n",
                            "        vertical-align: middle;\n",
                            "    }\n",
                            "\n",
                            "    .dataframe tbody tr th {\n",
                            "        vertical-align: top;\n",
                            "    }\n",
                            "\n",
                            "    .dataframe thead th {\n",
                            "        text-align: right;\n",
                            "    }\n",
                            "</style>\n",
                            "<table border=\"1\" class=\"dataframe\">\n",
                            "  <thead>\n",
                            "    <tr style=\"text-align: right;\">\n",
                            "      <th></th>\n",
                            "      <th>relative_time</th>\n",
                            "      <th>yaw</th>\n",
                            "      <th>true_yaw</th>\n",
                            "    </tr>\n",
                            "  </thead>\n",
                            "  <tbody>\n",
                            "    <tr>\n",
                            "      <th>4</th>\n",
                            "      <td>4.111644</td>\n",
                            "      <td>3.668143</td>\n",
                            "      <td>0</td>\n",
                            "    </tr>\n",
                            "    <tr>\n",
                            "      <th>9</th>\n",
                            "      <td>8.483940</td>\n",
                            "      <td>3.822332</td>\n",
                            "      <td>0</td>\n",
                            "    </tr>\n",
                            "    <tr>\n",
                            "      <th>11</th>\n",
                            "      <td>9.990057</td>\n",
                            "      <td>3.120352</td>\n",
                            "      <td>0</td>\n",
                            "    </tr>\n",
                            "    <tr>\n",
                            "      <th>15</th>\n",
                            "      <td>11.232440</td>\n",
                            "      <td>3.211670</td>\n",
                            "      <td>0</td>\n",
                            "    </tr>\n",
                            "    <tr>\n",
                            "      <th>21</th>\n",
                            "      <td>13.158677</td>\n",
                            "      <td>5.714487</td>\n",
                            "      <td>0</td>\n",
                            "    </tr>\n",
                            "    <tr>\n",
                            "      <th>...</th>\n",
                            "      <td>...</td>\n",
                            "      <td>...</td>\n",
                            "      <td>...</td>\n",
                            "    </tr>\n",
                            "    <tr>\n",
                            "      <th>279</th>\n",
                            "      <td>95.817714</td>\n",
                            "      <td>74.292141</td>\n",
                            "      <td>75</td>\n",
                            "    </tr>\n",
                            "    <tr>\n",
                            "      <th>286</th>\n",
                            "      <td>98.049526</td>\n",
                            "      <td>73.891642</td>\n",
                            "      <td>75</td>\n",
                            "    </tr>\n",
                            "    <tr>\n",
                            "      <th>289</th>\n",
                            "      <td>99.116843</td>\n",
                            "      <td>74.032750</td>\n",
                            "      <td>75</td>\n",
                            "    </tr>\n",
                            "    <tr>\n",
                            "      <th>294</th>\n",
                            "      <td>101.590859</td>\n",
                            "      <td>-0.280723</td>\n",
                            "      <td>0</td>\n",
                            "    </tr>\n",
                            "    <tr>\n",
                            "      <th>297</th>\n",
                            "      <td>102.626892</td>\n",
                            "      <td>-0.237157</td>\n",
                            "      <td>0</td>\n",
                            "    </tr>\n",
                            "  </tbody>\n",
                            "</table>\n",
                            "<p>70 rows × 3 columns</p>\n",
                            "</div>"
                        ],
                        "text/plain": [
                            "     relative_time        yaw true_yaw\n",
                            "4         4.111644   3.668143        0\n",
                            "9         8.483940   3.822332        0\n",
                            "11        9.990057   3.120352        0\n",
                            "15       11.232440   3.211670        0\n",
                            "21       13.158677   5.714487        0\n",
                            "..             ...        ...      ...\n",
                            "279      95.817714  74.292141       75\n",
                            "286      98.049526  73.891642       75\n",
                            "289      99.116843  74.032750       75\n",
                            "294     101.590859  -0.280723        0\n",
                            "297     102.626892  -0.237157        0\n",
                            "\n",
                            "[70 rows x 3 columns]"
                        ]
                    },
                    "execution_count": 10,
                    "metadata": {},
                    "output_type": "execute_result"
                }
            ],
            "source": [
                "# segmenting/binning by real value\n",
                "df_filtered_by_targets[true_value] = pd.cut(df_filtered_by_targets[target], bins=len(input_vals), labels=input_vals)\n",
                "df_filtered_by_targets"
            ]
        },
        {
            "cell_type": "code",
            "execution_count": 11,
            "metadata": {},
            "outputs": [],
            "source": [
                "# calculate the error\n",
                "df_filtered_by_targets['error'] =  df_filtered_by_targets.apply(lambda row: row[true_value] - row[target], axis=1)"
            ]
        },
        {
            "cell_type": "code",
            "execution_count": 12,
            "metadata": {},
            "outputs": [],
            "source": [
                "grouped_df = df_filtered_by_targets.groupby(true_value)"
            ]
        },
        {
            "cell_type": "code",
            "execution_count": 13,
            "metadata": {},
            "outputs": [
                {
                    "data": {
                        "text/html": [
                            "<div>\n",
                            "<style scoped>\n",
                            "    .dataframe tbody tr th:only-of-type {\n",
                            "        vertical-align: middle;\n",
                            "    }\n",
                            "\n",
                            "    .dataframe tbody tr th {\n",
                            "        vertical-align: top;\n",
                            "    }\n",
                            "\n",
                            "    .dataframe thead th {\n",
                            "        text-align: right;\n",
                            "    }\n",
                            "</style>\n",
                            "<table border=\"1\" class=\"dataframe\">\n",
                            "  <thead>\n",
                            "    <tr style=\"text-align: right;\">\n",
                            "      <th></th>\n",
                            "      <th>relative_time</th>\n",
                            "      <th>yaw</th>\n",
                            "      <th>true_yaw</th>\n",
                            "      <th>error</th>\n",
                            "    </tr>\n",
                            "  </thead>\n",
                            "  <tbody>\n",
                            "    <tr>\n",
                            "      <th>4</th>\n",
                            "      <td>4.111644</td>\n",
                            "      <td>3.668143</td>\n",
                            "      <td>0</td>\n",
                            "      <td>-3.668143</td>\n",
                            "    </tr>\n",
                            "    <tr>\n",
                            "      <th>9</th>\n",
                            "      <td>8.483940</td>\n",
                            "      <td>3.822332</td>\n",
                            "      <td>0</td>\n",
                            "      <td>-3.822332</td>\n",
                            "    </tr>\n",
                            "    <tr>\n",
                            "      <th>55</th>\n",
                            "      <td>23.831177</td>\n",
                            "      <td>14.005556</td>\n",
                            "      <td>15</td>\n",
                            "      <td>0.994444</td>\n",
                            "    </tr>\n",
                            "    <tr>\n",
                            "      <th>59</th>\n",
                            "      <td>25.030119</td>\n",
                            "      <td>13.535263</td>\n",
                            "      <td>15</td>\n",
                            "      <td>1.464737</td>\n",
                            "    </tr>\n",
                            "    <tr>\n",
                            "      <th>101</th>\n",
                            "      <td>38.588365</td>\n",
                            "      <td>28.702141</td>\n",
                            "      <td>30</td>\n",
                            "      <td>1.297859</td>\n",
                            "    </tr>\n",
                            "    <tr>\n",
                            "      <th>103</th>\n",
                            "      <td>39.238060</td>\n",
                            "      <td>28.575802</td>\n",
                            "      <td>30</td>\n",
                            "      <td>1.424198</td>\n",
                            "    </tr>\n",
                            "    <tr>\n",
                            "      <th>150</th>\n",
                            "      <td>53.776127</td>\n",
                            "      <td>44.397873</td>\n",
                            "      <td>45</td>\n",
                            "      <td>0.602127</td>\n",
                            "    </tr>\n",
                            "    <tr>\n",
                            "      <th>154</th>\n",
                            "      <td>55.131247</td>\n",
                            "      <td>43.046059</td>\n",
                            "      <td>45</td>\n",
                            "      <td>1.953941</td>\n",
                            "    </tr>\n",
                            "    <tr>\n",
                            "      <th>198</th>\n",
                            "      <td>69.238403</td>\n",
                            "      <td>59.592491</td>\n",
                            "      <td>60</td>\n",
                            "      <td>0.407509</td>\n",
                            "    </tr>\n",
                            "    <tr>\n",
                            "      <th>200</th>\n",
                            "      <td>69.923179</td>\n",
                            "      <td>59.449309</td>\n",
                            "      <td>60</td>\n",
                            "      <td>0.550691</td>\n",
                            "    </tr>\n",
                            "    <tr>\n",
                            "      <th>243</th>\n",
                            "      <td>83.665983</td>\n",
                            "      <td>75.787742</td>\n",
                            "      <td>75</td>\n",
                            "      <td>-0.787742</td>\n",
                            "    </tr>\n",
                            "    <tr>\n",
                            "      <th>253</th>\n",
                            "      <td>86.730355</td>\n",
                            "      <td>74.632348</td>\n",
                            "      <td>75</td>\n",
                            "      <td>0.367652</td>\n",
                            "    </tr>\n",
                            "  </tbody>\n",
                            "</table>\n",
                            "</div>"
                        ],
                        "text/plain": [
                            "     relative_time        yaw true_yaw     error\n",
                            "4         4.111644   3.668143        0 -3.668143\n",
                            "9         8.483940   3.822332        0 -3.822332\n",
                            "55       23.831177  14.005556       15  0.994444\n",
                            "59       25.030119  13.535263       15  1.464737\n",
                            "101      38.588365  28.702141       30  1.297859\n",
                            "103      39.238060  28.575802       30  1.424198\n",
                            "150      53.776127  44.397873       45  0.602127\n",
                            "154      55.131247  43.046059       45  1.953941\n",
                            "198      69.238403  59.592491       60  0.407509\n",
                            "200      69.923179  59.449309       60  0.550691\n",
                            "243      83.665983  75.787742       75 -0.787742\n",
                            "253      86.730355  74.632348       75  0.367652"
                        ]
                    },
                    "execution_count": 13,
                    "metadata": {},
                    "output_type": "execute_result"
                }
            ],
            "source": [
                "# verify if the bins are in correct order, this is dictated by input_vals order\n",
                "grouped_df.head(2)"
            ]
        },
        {
            "cell_type": "code",
            "execution_count": 14,
            "metadata": {},
            "outputs": [
                {
                    "data": {
                        "text/html": [
                            "<div>\n",
                            "<style scoped>\n",
                            "    .dataframe tbody tr th:only-of-type {\n",
                            "        vertical-align: middle;\n",
                            "    }\n",
                            "\n",
                            "    .dataframe tbody tr th {\n",
                            "        vertical-align: top;\n",
                            "    }\n",
                            "\n",
                            "    .dataframe thead th {\n",
                            "        text-align: right;\n",
                            "    }\n",
                            "</style>\n",
                            "<table border=\"1\" class=\"dataframe\">\n",
                            "  <thead>\n",
                            "    <tr style=\"text-align: right;\">\n",
                            "      <th></th>\n",
                            "      <th>count</th>\n",
                            "      <th>mean</th>\n",
                            "      <th>std</th>\n",
                            "      <th>min</th>\n",
                            "      <th>25%</th>\n",
                            "      <th>50%</th>\n",
                            "      <th>75%</th>\n",
                            "      <th>max</th>\n",
                            "    </tr>\n",
                            "    <tr>\n",
                            "      <th>true_yaw</th>\n",
                            "      <th></th>\n",
                            "      <th></th>\n",
                            "      <th></th>\n",
                            "      <th></th>\n",
                            "      <th></th>\n",
                            "      <th></th>\n",
                            "      <th></th>\n",
                            "      <th></th>\n",
                            "    </tr>\n",
                            "  </thead>\n",
                            "  <tbody>\n",
                            "    <tr>\n",
                            "      <th>0</th>\n",
                            "      <td>15.0</td>\n",
                            "      <td>-3.646047</td>\n",
                            "      <td>1.784374</td>\n",
                            "      <td>-5.740343</td>\n",
                            "      <td>-4.226377</td>\n",
                            "      <td>-3.938149</td>\n",
                            "      <td>-3.439907</td>\n",
                            "      <td>0.280723</td>\n",
                            "    </tr>\n",
                            "    <tr>\n",
                            "      <th>15</th>\n",
                            "      <td>12.0</td>\n",
                            "      <td>1.766055</td>\n",
                            "      <td>0.334352</td>\n",
                            "      <td>0.994444</td>\n",
                            "      <td>1.619768</td>\n",
                            "      <td>1.840886</td>\n",
                            "      <td>1.992481</td>\n",
                            "      <td>2.188097</td>\n",
                            "    </tr>\n",
                            "    <tr>\n",
                            "      <th>30</th>\n",
                            "      <td>10.0</td>\n",
                            "      <td>2.282782</td>\n",
                            "      <td>0.537471</td>\n",
                            "      <td>1.297859</td>\n",
                            "      <td>2.060593</td>\n",
                            "      <td>2.532797</td>\n",
                            "      <td>2.592552</td>\n",
                            "      <td>2.802576</td>\n",
                            "    </tr>\n",
                            "    <tr>\n",
                            "      <th>45</th>\n",
                            "      <td>8.0</td>\n",
                            "      <td>1.785909</td>\n",
                            "      <td>0.479557</td>\n",
                            "      <td>0.602127</td>\n",
                            "      <td>1.927002</td>\n",
                            "      <td>1.954939</td>\n",
                            "      <td>1.977675</td>\n",
                            "      <td>1.996061</td>\n",
                            "    </tr>\n",
                            "    <tr>\n",
                            "      <th>60</th>\n",
                            "      <td>13.0</td>\n",
                            "      <td>0.892897</td>\n",
                            "      <td>0.198245</td>\n",
                            "      <td>0.407509</td>\n",
                            "      <td>0.906287</td>\n",
                            "      <td>0.967060</td>\n",
                            "      <td>1.016984</td>\n",
                            "      <td>1.075743</td>\n",
                            "    </tr>\n",
                            "    <tr>\n",
                            "      <th>75</th>\n",
                            "      <td>12.0</td>\n",
                            "      <td>0.460964</td>\n",
                            "      <td>0.478702</td>\n",
                            "      <td>-0.787742</td>\n",
                            "      <td>0.351691</td>\n",
                            "      <td>0.533437</td>\n",
                            "      <td>0.656275</td>\n",
                            "      <td>1.108358</td>\n",
                            "    </tr>\n",
                            "  </tbody>\n",
                            "</table>\n",
                            "</div>"
                        ],
                        "text/plain": [
                            "          count      mean       std       min       25%       50%       75%  \\\n",
                            "true_yaw                                                                      \n",
                            "0          15.0 -3.646047  1.784374 -5.740343 -4.226377 -3.938149 -3.439907   \n",
                            "15         12.0  1.766055  0.334352  0.994444  1.619768  1.840886  1.992481   \n",
                            "30         10.0  2.282782  0.537471  1.297859  2.060593  2.532797  2.592552   \n",
                            "45          8.0  1.785909  0.479557  0.602127  1.927002  1.954939  1.977675   \n",
                            "60         13.0  0.892897  0.198245  0.407509  0.906287  0.967060  1.016984   \n",
                            "75         12.0  0.460964  0.478702 -0.787742  0.351691  0.533437  0.656275   \n",
                            "\n",
                            "               max  \n",
                            "true_yaw            \n",
                            "0         0.280723  \n",
                            "15        2.188097  \n",
                            "30        2.802576  \n",
                            "45        1.996061  \n",
                            "60        1.075743  \n",
                            "75        1.108358  "
                        ]
                    },
                    "execution_count": 14,
                    "metadata": {},
                    "output_type": "execute_result"
                }
            ],
            "source": [
                "grouped_df.error.describe()"
            ]
        },
        {
            "cell_type": "code",
            "execution_count": 15,
            "metadata": {},
            "outputs": [],
            "source": [
                "def box_plotter(column_name):\n",
                "    fig, axes = plt.subplots(1,len(input_vals))\n",
                "\n",
                "    for i, val in enumerate(input_vals):\n",
                "        grouped_df.get_group(val).boxplot(column=column_name, ax=axes.flatten()[i])\n",
                "        axes.flatten()[i].set_title(val)\n",
                "\n",
                "\n",
                "    plt.tight_layout()\n",
                "    plt.show()"
            ]
        },
        {
            "cell_type": "code",
            "execution_count": 16,
            "metadata": {},
            "outputs": [
                {
                    "data": {
                        "image/png": "[encoded data removed]",
                        "text/plain": [
                            "<Figure size 432x288 with 6 Axes>"
                        ]
                    },
                    "metadata": {
                        "needs_background": "light"
                    },
                    "output_type": "display_data"
                }
            ],
            "source": [
                "box_plotter(target)"
            ]
        },
        {
            "cell_type": "code",
            "execution_count": 17,
            "metadata": {},
            "outputs": [
                {
                    "data": {
                        "image/png": "[encoded data removed]",
                        "text/plain": [
                            "<Figure size 432x288 with 6 Axes>"
                        ]
                    },
                    "metadata": {
                        "needs_background": "light"
                    },
                    "output_type": "display_data"
                }
            ],
            "source": [
                "box_plotter('error')"
            ]
        },
        {
            "cell_type": "code",
            "execution_count": 18,
            "metadata": {},
            "outputs": [],
            "source": [
                "df_filtered_by_targets.to_csv('/home/hakanergin/code/apriltag_test_bench/test_pipeline/scripts/static_tests/rotations/result/csv/2m_36h11_1080.csv')"
            ]
        }
    ],
    "metadata": {
        "kernelspec": {
            "display_name": "Python 3 (ipykernel)",
            "language": "python",
            "name": "python3"
        },
        "language_info": {
            "codemirror_mode": {
                "name": "ipython",
                "version": 3
            },
            "file_extension": ".py",
            "mimetype": "text/x-python",
            "name": "python",
            "nbconvert_exporter": "python",
            "pygments_lexer": "ipython3",
            "version": "3.8.10"
        },
        "orig_nbformat": 4
    },
    "nbformat": 4,
    "nbformat_minor": 2
}
