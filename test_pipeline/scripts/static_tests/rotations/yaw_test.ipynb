{
 "cells": [
  {
   "cell_type": "code",
   "execution_count": 1,
   "metadata": {},
   "outputs": [],
   "source": [
    "import rosbag\n",
    "import pandas as pd\n",
    "import matplotlib.pyplot as plt\n",
    "import numpy as np\n",
    "import tf\n",
    "from scipy.signal import find_peaks"
   ]
  },
  {
   "cell_type": "code",
   "execution_count": 2,
   "metadata": {},
   "outputs": [],
   "source": [
    "bag = rosbag.Bag('/home/uware/rosbags/_2022-02-23-16-13-20.bag')\n",
    "\n",
    "# create variables\n",
    "target = 'yaw'\n",
    "true_value = 'true_yaw'\n",
    "\n",
    "# input values in degrees. the order matters, it will be used for binning \n",
    "input_vals = [0,10,30,45,60,75]"
   ]
  },
  {
   "cell_type": "code",
   "execution_count": 3,
   "metadata": {},
   "outputs": [],
   "source": [
    "topic = '/tf'\n",
    "\n",
    "rows = []\n",
    "\n",
    "for topic, msg, t in bag.read_messages(topics=topic):\n",
    "    \n",
    "    time = t\n",
    "\n",
    "    # conversion to euler\n",
    "    rotation_quat = msg.transforms[0].transform.rotation\n",
    "    pitch, yaw, roll = tf.transformations.euler_from_quaternion([rotation_quat.x,rotation_quat.y,rotation_quat.z,rotation_quat.w], axes='rxyz')\n",
    "\n",
    "    # all rotations\n",
    "    # rotation_euler = (np.degrees(pitch), np.degrees(yaw), np.degrees(roll))\n",
    "\n",
    "    # create row\n",
    "    row={'time': time.to_sec(), target: np.degrees(yaw)}\n",
    "    rows.append(row)\n",
    "\n",
    "df = pd.DataFrame.from_records(rows)"
   ]
  },
  {
   "cell_type": "code",
   "execution_count": 4,
   "metadata": {},
   "outputs": [
    {
     "data": {
      "text/html": [
       "<div>\n",
       "<style scoped>\n",
       "    .dataframe tbody tr th:only-of-type {\n",
       "        vertical-align: middle;\n",
       "    }\n",
       "\n",
       "    .dataframe tbody tr th {\n",
       "        vertical-align: top;\n",
       "    }\n",
       "\n",
       "    .dataframe thead th {\n",
       "        text-align: right;\n",
       "    }\n",
       "</style>\n",
       "<table border=\"1\" class=\"dataframe\">\n",
       "  <thead>\n",
       "    <tr style=\"text-align: right;\">\n",
       "      <th></th>\n",
       "      <th>relative_time</th>\n",
       "      <th>yaw</th>\n",
       "    </tr>\n",
       "  </thead>\n",
       "  <tbody>\n",
       "    <tr>\n",
       "      <th>0</th>\n",
       "      <td>0.000000</td>\n",
       "      <td>-39.974795</td>\n",
       "    </tr>\n",
       "    <tr>\n",
       "      <th>1</th>\n",
       "      <td>0.113535</td>\n",
       "      <td>-33.068873</td>\n",
       "    </tr>\n",
       "    <tr>\n",
       "      <th>2</th>\n",
       "      <td>0.243042</td>\n",
       "      <td>-31.489528</td>\n",
       "    </tr>\n",
       "    <tr>\n",
       "      <th>3</th>\n",
       "      <td>0.367034</td>\n",
       "      <td>-21.946535</td>\n",
       "    </tr>\n",
       "    <tr>\n",
       "      <th>4</th>\n",
       "      <td>0.500799</td>\n",
       "      <td>-13.647088</td>\n",
       "    </tr>\n",
       "    <tr>\n",
       "      <th>...</th>\n",
       "      <td>...</td>\n",
       "      <td>...</td>\n",
       "    </tr>\n",
       "    <tr>\n",
       "      <th>1550</th>\n",
       "      <td>81.704319</td>\n",
       "      <td>73.232091</td>\n",
       "    </tr>\n",
       "    <tr>\n",
       "      <th>1551</th>\n",
       "      <td>81.759797</td>\n",
       "      <td>73.409454</td>\n",
       "    </tr>\n",
       "    <tr>\n",
       "      <th>1552</th>\n",
       "      <td>81.808066</td>\n",
       "      <td>73.362492</td>\n",
       "    </tr>\n",
       "    <tr>\n",
       "      <th>1553</th>\n",
       "      <td>81.857710</td>\n",
       "      <td>73.266277</td>\n",
       "    </tr>\n",
       "    <tr>\n",
       "      <th>1554</th>\n",
       "      <td>81.907362</td>\n",
       "      <td>73.269014</td>\n",
       "    </tr>\n",
       "  </tbody>\n",
       "</table>\n",
       "<p>1555 rows × 2 columns</p>\n",
       "</div>"
      ],
      "text/plain": [
       "      relative_time        yaw\n",
       "0          0.000000 -39.974795\n",
       "1          0.113535 -33.068873\n",
       "2          0.243042 -31.489528\n",
       "3          0.367034 -21.946535\n",
       "4          0.500799 -13.647088\n",
       "...             ...        ...\n",
       "1550      81.704319  73.232091\n",
       "1551      81.759797  73.409454\n",
       "1552      81.808066  73.362492\n",
       "1553      81.857710  73.266277\n",
       "1554      81.907362  73.269014\n",
       "\n",
       "[1555 rows x 2 columns]"
      ]
     },
     "execution_count": 4,
     "metadata": {},
     "output_type": "execute_result"
    }
   ],
   "source": [
    "# calculate relative time in seconds instead of absolute time\n",
    "df['relative_time'] =  df.loc[0:, 'time'] - df.at[0, 'time']\n",
    "df = df.drop(columns=['time'])\n",
    "df = df[['relative_time', target]]\n",
    "df"
   ]
  },
  {
   "cell_type": "code",
   "execution_count": 5,
   "metadata": {},
   "outputs": [
    {
     "data": {
      "text/plain": [
       "<AxesSubplot:xlabel='relative_time'>"
      ]
     },
     "execution_count": 5,
     "metadata": {},
     "output_type": "execute_result"
    },
    {
     "data": {
      "image/png": "[encoded data removed]",
      "text/plain": [
       "<Figure size 432x288 with 1 Axes>"
      ]
     },
     "metadata": {
      "needs_background": "light"
     },
     "output_type": "display_data"
    }
   ],
   "source": [
    "# initial graph\n",
    "df.plot(x='relative_time', y=target)"
   ]
  },
  {
   "cell_type": "code",
   "execution_count": 6,
   "metadata": {},
   "outputs": [],
   "source": [
    "# find plateaus\n",
    "x = df[target]\n",
    "peaks, _ = find_peaks(x, threshold=(0, 1)) # from find_peaks docs: Threshold: The first element is always interpreted as the minimal and the second, if supplied, as the maximal required threshold."
   ]
  },
  {
   "cell_type": "code",
   "execution_count": 7,
   "metadata": {},
   "outputs": [
    {
     "data": {
      "text/plain": [
       "361"
      ]
     },
     "execution_count": 7,
     "metadata": {},
     "output_type": "execute_result"
    }
   ],
   "source": [
    "# the amount of data points we are left with\n",
    "len(x[peaks])"
   ]
  },
  {
   "cell_type": "code",
   "execution_count": 8,
   "metadata": {},
   "outputs": [],
   "source": [
    "# create filtered data frame\n",
    "df_filtered_by_targets = df.loc[peaks]"
   ]
  },
  {
   "cell_type": "code",
   "execution_count": 9,
   "metadata": {},
   "outputs": [
    {
     "data": {
      "text/plain": [
       "<AxesSubplot:xlabel='relative_time', ylabel='yaw'>"
      ]
     },
     "execution_count": 9,
     "metadata": {},
     "output_type": "execute_result"
    },
    {
     "data": {
      "image/png": "[encoded data removed]",
      "text/plain": [
       "<Figure size 432x288 with 1 Axes>"
      ]
     },
     "metadata": {
      "needs_background": "light"
     },
     "output_type": "display_data"
    }
   ],
   "source": [
    "df_filtered_by_targets.plot.scatter(x='relative_time', y=target)"
   ]
  },
  {
   "cell_type": "code",
   "execution_count": 10,
   "metadata": {},
   "outputs": [
    {
     "data": {
      "text/html": [
       "<div>\n",
       "<style scoped>\n",
       "    .dataframe tbody tr th:only-of-type {\n",
       "        vertical-align: middle;\n",
       "    }\n",
       "\n",
       "    .dataframe tbody tr th {\n",
       "        vertical-align: top;\n",
       "    }\n",
       "\n",
       "    .dataframe thead th {\n",
       "        text-align: right;\n",
       "    }\n",
       "</style>\n",
       "<table border=\"1\" class=\"dataframe\">\n",
       "  <thead>\n",
       "    <tr style=\"text-align: right;\">\n",
       "      <th></th>\n",
       "      <th>relative_time</th>\n",
       "      <th>yaw</th>\n",
       "      <th>true_yaw</th>\n",
       "    </tr>\n",
       "  </thead>\n",
       "  <tbody>\n",
       "    <tr>\n",
       "      <th>17</th>\n",
       "      <td>2.104857</td>\n",
       "      <td>0.571735</td>\n",
       "      <td>0</td>\n",
       "    </tr>\n",
       "    <tr>\n",
       "      <th>24</th>\n",
       "      <td>3.124393</td>\n",
       "      <td>2.802484</td>\n",
       "      <td>0</td>\n",
       "    </tr>\n",
       "    <tr>\n",
       "      <th>28</th>\n",
       "      <td>3.668520</td>\n",
       "      <td>1.533002</td>\n",
       "      <td>0</td>\n",
       "    </tr>\n",
       "    <tr>\n",
       "      <th>37</th>\n",
       "      <td>4.887732</td>\n",
       "      <td>1.908941</td>\n",
       "      <td>0</td>\n",
       "    </tr>\n",
       "    <tr>\n",
       "      <th>40</th>\n",
       "      <td>5.322673</td>\n",
       "      <td>2.099436</td>\n",
       "      <td>0</td>\n",
       "    </tr>\n",
       "    <tr>\n",
       "      <th>...</th>\n",
       "      <td>...</td>\n",
       "      <td>...</td>\n",
       "      <td>...</td>\n",
       "    </tr>\n",
       "    <tr>\n",
       "      <th>1522</th>\n",
       "      <td>80.291246</td>\n",
       "      <td>73.612929</td>\n",
       "      <td>75</td>\n",
       "    </tr>\n",
       "    <tr>\n",
       "      <th>1527</th>\n",
       "      <td>80.499120</td>\n",
       "      <td>73.579677</td>\n",
       "      <td>75</td>\n",
       "    </tr>\n",
       "    <tr>\n",
       "      <th>1529</th>\n",
       "      <td>80.588542</td>\n",
       "      <td>73.625570</td>\n",
       "      <td>75</td>\n",
       "    </tr>\n",
       "    <tr>\n",
       "      <th>1537</th>\n",
       "      <td>80.930930</td>\n",
       "      <td>73.549402</td>\n",
       "      <td>75</td>\n",
       "    </tr>\n",
       "    <tr>\n",
       "      <th>1551</th>\n",
       "      <td>81.759797</td>\n",
       "      <td>73.409454</td>\n",
       "      <td>75</td>\n",
       "    </tr>\n",
       "  </tbody>\n",
       "</table>\n",
       "<p>361 rows × 3 columns</p>\n",
       "</div>"
      ],
      "text/plain": [
       "      relative_time        yaw true_yaw\n",
       "17         2.104857   0.571735        0\n",
       "24         3.124393   2.802484        0\n",
       "28         3.668520   1.533002        0\n",
       "37         4.887732   1.908941        0\n",
       "40         5.322673   2.099436        0\n",
       "...             ...        ...      ...\n",
       "1522      80.291246  73.612929       75\n",
       "1527      80.499120  73.579677       75\n",
       "1529      80.588542  73.625570       75\n",
       "1537      80.930930  73.549402       75\n",
       "1551      81.759797  73.409454       75\n",
       "\n",
       "[361 rows x 3 columns]"
      ]
     },
     "execution_count": 10,
     "metadata": {},
     "output_type": "execute_result"
    }
   ],
   "source": [
    "# segmenting/binning by real value\n",
    "df_filtered_by_targets[true_value] = pd.cut(df_filtered_by_targets[target], bins=len(input_vals), labels=input_vals)\n",
    "df_filtered_by_targets"
   ]
  },
  {
   "cell_type": "code",
   "execution_count": 11,
   "metadata": {},
   "outputs": [],
   "source": [
    "# calculate the error\n",
    "df_filtered_by_targets['error'] =  df_filtered_by_targets.apply(lambda row: row[true_value] - row[target], axis=1)"
   ]
  },
  {
   "cell_type": "code",
   "execution_count": 12,
   "metadata": {},
   "outputs": [],
   "source": [
    "grouped_df = df_filtered_by_targets.groupby(true_value)"
   ]
  },
  {
   "cell_type": "code",
   "execution_count": 13,
   "metadata": {},
   "outputs": [
    {
     "data": {
      "text/html": [
       "<div>\n",
       "<style scoped>\n",
       "    .dataframe tbody tr th:only-of-type {\n",
       "        vertical-align: middle;\n",
       "    }\n",
       "\n",
       "    .dataframe tbody tr th {\n",
       "        vertical-align: top;\n",
       "    }\n",
       "\n",
       "    .dataframe thead th {\n",
       "        text-align: right;\n",
       "    }\n",
       "</style>\n",
       "<table border=\"1\" class=\"dataframe\">\n",
       "  <thead>\n",
       "    <tr style=\"text-align: right;\">\n",
       "      <th></th>\n",
       "      <th>relative_time</th>\n",
       "      <th>yaw</th>\n",
       "      <th>true_yaw</th>\n",
       "      <th>error</th>\n",
       "    </tr>\n",
       "  </thead>\n",
       "  <tbody>\n",
       "    <tr>\n",
       "      <th>17</th>\n",
       "      <td>2.104857</td>\n",
       "      <td>0.571735</td>\n",
       "      <td>0</td>\n",
       "      <td>-0.571735</td>\n",
       "    </tr>\n",
       "    <tr>\n",
       "      <th>24</th>\n",
       "      <td>3.124393</td>\n",
       "      <td>2.802484</td>\n",
       "      <td>0</td>\n",
       "      <td>-2.802484</td>\n",
       "    </tr>\n",
       "    <tr>\n",
       "      <th>131</th>\n",
       "      <td>13.186135</td>\n",
       "      <td>13.552831</td>\n",
       "      <td>10</td>\n",
       "      <td>-3.552831</td>\n",
       "    </tr>\n",
       "    <tr>\n",
       "      <th>134</th>\n",
       "      <td>13.316461</td>\n",
       "      <td>13.860798</td>\n",
       "      <td>10</td>\n",
       "      <td>-3.860798</td>\n",
       "    </tr>\n",
       "    <tr>\n",
       "      <th>410</th>\n",
       "      <td>25.940951</td>\n",
       "      <td>31.741412</td>\n",
       "      <td>30</td>\n",
       "      <td>-1.741412</td>\n",
       "    </tr>\n",
       "    <tr>\n",
       "      <th>413</th>\n",
       "      <td>26.097061</td>\n",
       "      <td>31.226275</td>\n",
       "      <td>30</td>\n",
       "      <td>-1.226275</td>\n",
       "    </tr>\n",
       "    <tr>\n",
       "      <th>724</th>\n",
       "      <td>42.775545</td>\n",
       "      <td>43.622212</td>\n",
       "      <td>45</td>\n",
       "      <td>1.377788</td>\n",
       "    </tr>\n",
       "    <tr>\n",
       "      <th>729</th>\n",
       "      <td>43.018738</td>\n",
       "      <td>43.992768</td>\n",
       "      <td>45</td>\n",
       "      <td>1.007232</td>\n",
       "    </tr>\n",
       "    <tr>\n",
       "      <th>959</th>\n",
       "      <td>55.055358</td>\n",
       "      <td>60.027091</td>\n",
       "      <td>60</td>\n",
       "      <td>-0.027091</td>\n",
       "    </tr>\n",
       "    <tr>\n",
       "      <th>966</th>\n",
       "      <td>55.417892</td>\n",
       "      <td>60.165602</td>\n",
       "      <td>60</td>\n",
       "      <td>-0.165602</td>\n",
       "    </tr>\n",
       "    <tr>\n",
       "      <th>1234</th>\n",
       "      <td>67.555266</td>\n",
       "      <td>72.064527</td>\n",
       "      <td>75</td>\n",
       "      <td>2.935473</td>\n",
       "    </tr>\n",
       "    <tr>\n",
       "      <th>1245</th>\n",
       "      <td>68.050057</td>\n",
       "      <td>72.543123</td>\n",
       "      <td>75</td>\n",
       "      <td>2.456877</td>\n",
       "    </tr>\n",
       "  </tbody>\n",
       "</table>\n",
       "</div>"
      ],
      "text/plain": [
       "      relative_time        yaw true_yaw     error\n",
       "17         2.104857   0.571735        0 -0.571735\n",
       "24         3.124393   2.802484        0 -2.802484\n",
       "131       13.186135  13.552831       10 -3.552831\n",
       "134       13.316461  13.860798       10 -3.860798\n",
       "410       25.940951  31.741412       30 -1.741412\n",
       "413       26.097061  31.226275       30 -1.226275\n",
       "724       42.775545  43.622212       45  1.377788\n",
       "729       43.018738  43.992768       45  1.007232\n",
       "959       55.055358  60.027091       60 -0.027091\n",
       "966       55.417892  60.165602       60 -0.165602\n",
       "1234      67.555266  72.064527       75  2.935473\n",
       "1245      68.050057  72.543123       75  2.456877"
      ]
     },
     "execution_count": 13,
     "metadata": {},
     "output_type": "execute_result"
    }
   ],
   "source": [
    "# verify if the bins are in correct order, this is dictated by input_vals order\n",
    "grouped_df.head(2)"
   ]
  },
  {
   "cell_type": "code",
   "execution_count": 14,
   "metadata": {},
   "outputs": [
    {
     "data": {
      "text/html": [
       "<div>\n",
       "<style scoped>\n",
       "    .dataframe tbody tr th:only-of-type {\n",
       "        vertical-align: middle;\n",
       "    }\n",
       "\n",
       "    .dataframe tbody tr th {\n",
       "        vertical-align: top;\n",
       "    }\n",
       "\n",
       "    .dataframe thead th {\n",
       "        text-align: right;\n",
       "    }\n",
       "</style>\n",
       "<table border=\"1\" class=\"dataframe\">\n",
       "  <thead>\n",
       "    <tr style=\"text-align: right;\">\n",
       "      <th></th>\n",
       "      <th>count</th>\n",
       "      <th>mean</th>\n",
       "      <th>std</th>\n",
       "      <th>min</th>\n",
       "      <th>25%</th>\n",
       "      <th>50%</th>\n",
       "      <th>75%</th>\n",
       "      <th>max</th>\n",
       "    </tr>\n",
       "    <tr>\n",
       "      <th>true_yaw</th>\n",
       "      <th></th>\n",
       "      <th></th>\n",
       "      <th></th>\n",
       "      <th></th>\n",
       "      <th></th>\n",
       "      <th></th>\n",
       "      <th></th>\n",
       "      <th></th>\n",
       "    </tr>\n",
       "  </thead>\n",
       "  <tbody>\n",
       "    <tr>\n",
       "      <th>0</th>\n",
       "      <td>25.0</td>\n",
       "      <td>-2.542612</td>\n",
       "      <td>0.600477</td>\n",
       "      <td>-3.368735</td>\n",
       "      <td>-2.879072</td>\n",
       "      <td>-2.679309</td>\n",
       "      <td>-2.284866</td>\n",
       "      <td>-0.571735</td>\n",
       "    </tr>\n",
       "    <tr>\n",
       "      <th>10</th>\n",
       "      <td>70.0</td>\n",
       "      <td>-4.666387</td>\n",
       "      <td>0.297029</td>\n",
       "      <td>-5.508989</td>\n",
       "      <td>-4.715612</td>\n",
       "      <td>-4.649007</td>\n",
       "      <td>-4.528730</td>\n",
       "      <td>-3.552831</td>\n",
       "    </tr>\n",
       "    <tr>\n",
       "      <th>30</th>\n",
       "      <td>77.0</td>\n",
       "      <td>-1.916499</td>\n",
       "      <td>0.437517</td>\n",
       "      <td>-3.249492</td>\n",
       "      <td>-1.886539</td>\n",
       "      <td>-1.762159</td>\n",
       "      <td>-1.714070</td>\n",
       "      <td>-1.019112</td>\n",
       "    </tr>\n",
       "    <tr>\n",
       "      <th>45</th>\n",
       "      <td>50.0</td>\n",
       "      <td>-0.599401</td>\n",
       "      <td>0.384474</td>\n",
       "      <td>-1.144377</td>\n",
       "      <td>-0.732132</td>\n",
       "      <td>-0.641507</td>\n",
       "      <td>-0.616787</td>\n",
       "      <td>1.377788</td>\n",
       "    </tr>\n",
       "    <tr>\n",
       "      <th>60</th>\n",
       "      <td>63.0</td>\n",
       "      <td>0.623320</td>\n",
       "      <td>0.256418</td>\n",
       "      <td>-0.165602</td>\n",
       "      <td>0.662953</td>\n",
       "      <td>0.698370</td>\n",
       "      <td>0.733558</td>\n",
       "      <td>0.860587</td>\n",
       "    </tr>\n",
       "    <tr>\n",
       "      <th>75</th>\n",
       "      <td>76.0</td>\n",
       "      <td>1.682612</td>\n",
       "      <td>0.300493</td>\n",
       "      <td>1.355481</td>\n",
       "      <td>1.476421</td>\n",
       "      <td>1.562790</td>\n",
       "      <td>1.848578</td>\n",
       "      <td>2.935473</td>\n",
       "    </tr>\n",
       "  </tbody>\n",
       "</table>\n",
       "</div>"
      ],
      "text/plain": [
       "          count      mean       std       min       25%       50%       75%  \\\n",
       "true_yaw                                                                      \n",
       "0          25.0 -2.542612  0.600477 -3.368735 -2.879072 -2.679309 -2.284866   \n",
       "10         70.0 -4.666387  0.297029 -5.508989 -4.715612 -4.649007 -4.528730   \n",
       "30         77.0 -1.916499  0.437517 -3.249492 -1.886539 -1.762159 -1.714070   \n",
       "45         50.0 -0.599401  0.384474 -1.144377 -0.732132 -0.641507 -0.616787   \n",
       "60         63.0  0.623320  0.256418 -0.165602  0.662953  0.698370  0.733558   \n",
       "75         76.0  1.682612  0.300493  1.355481  1.476421  1.562790  1.848578   \n",
       "\n",
       "               max  \n",
       "true_yaw            \n",
       "0        -0.571735  \n",
       "10       -3.552831  \n",
       "30       -1.019112  \n",
       "45        1.377788  \n",
       "60        0.860587  \n",
       "75        2.935473  "
      ]
     },
     "execution_count": 14,
     "metadata": {},
     "output_type": "execute_result"
    }
   ],
   "source": [
    "grouped_df.error.describe()"
   ]
  },
  {
   "cell_type": "code",
   "execution_count": 15,
   "metadata": {},
   "outputs": [],
   "source": [
    "def box_plotter(column_name):\n",
    "    fig, axes = plt.subplots(1,len(input_vals))\n",
    "\n",
    "    for i, val in enumerate(input_vals):\n",
    "        grouped_df.get_group(val).boxplot(column=column_name, ax=axes.flatten()[i])\n",
    "        axes.flatten()[i].set_title(val)\n",
    "\n",
    "\n",
    "    plt.tight_layout()\n",
    "    plt.show()"
   ]
  },
  {
   "cell_type": "code",
   "execution_count": 16,
   "metadata": {},
   "outputs": [
    {
     "data": {
      "image/png": "[encoded data removed]",
      "text/plain": [
       "<Figure size 432x288 with 6 Axes>"
      ]
     },
     "metadata": {
      "needs_background": "light"
     },
     "output_type": "display_data"
    }
   ],
   "source": [
    "box_plotter(target)"
   ]
  },
  {
   "cell_type": "code",
   "execution_count": 17,
   "metadata": {},
   "outputs": [
    {
     "data": {
      "image/png": "[encoded data removed]",
      "text/plain": [
       "<Figure size 432x288 with 6 Axes>"
      ]
     },
     "metadata": {
      "needs_background": "light"
     },
     "output_type": "display_data"
    }
   ],
   "source": [
    "box_plotter('error')"
   ]
  }
 ],
 "metadata": {
  "kernelspec": {
   "display_name": "Python 3 (ipykernel)",
   "language": "python",
   "name": "python3"
  },
  "language_info": {
   "codemirror_mode": {
    "name": "ipython",
    "version": 3
   },
   "file_extension": ".py",
   "mimetype": "text/x-python",
   "name": "python",
   "nbconvert_exporter": "python",
   "pygments_lexer": "ipython3",
   "version": "3.8.10"
  },
  "orig_nbformat": 4
 },
 "nbformat": 4,
 "nbformat_minor": 2
}
