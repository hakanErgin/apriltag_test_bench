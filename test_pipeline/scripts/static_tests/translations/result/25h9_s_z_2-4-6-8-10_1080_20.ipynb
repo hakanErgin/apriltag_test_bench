{
    "cells": [
        {
            "cell_type": "code",
            "execution_count": 1,
            "metadata": {},
            "outputs": [],
            "source": [
                "import rosbag\n",
                "import pandas as pd\n",
                "import matplotlib.pyplot as plt\n",
                "import numpy as np\n",
                "import tf\n",
                "from scipy.signal import find_peaks"
            ]
        },
        {
            "cell_type": "code",
            "execution_count": 2,
            "metadata": {},
            "outputs": [],
            "source": [
                "\n",
                "bag = rosbag.Bag('/home/hakanergin/code/rosbags/static/translation/25h9_s_z_2-4-6-8-10_1080_20.bag')\n",
                "\n",
                "# create variables\n",
                "target = 'distance - z'\n",
                "true_value = 'true_distance'\n",
                "\n",
                "# input values in meters. the order matters, it will be used for binning \n",
                "input_vals = [2,4,6,8,10]"
            ]
        },
        {
            "cell_type": "code",
            "execution_count": 3,
            "metadata": {},
            "outputs": [],
            "source": [
                "topic = '/tf'\n",
                "\n",
                "rows = []\n",
                "\n",
                "for topic, msg, t in bag.read_messages(topics=topic):\n",
                "    \n",
                "    time = t\n",
                "    distance = msg.transforms[0].transform.translation.z\n",
                "\n",
                "    # print(msg.transforms[0].header.stamp.secs, msg.transforms[0].header.stamp.nsecs)\n",
                "    \n",
                "    # create row\n",
                "    row={'time': time.to_sec(), target: distance}\n",
                "    rows.append(row)\n",
                "\n",
                "df = pd.DataFrame.from_records(rows)"
            ]
        },
        {
            "cell_type": "code",
            "execution_count": 4,
            "metadata": {},
            "outputs": [
                {
                    "data": {
                        "text/html": [
                            "<div>\n",
                            "<style scoped>\n",
                            "    .dataframe tbody tr th:only-of-type {\n",
                            "        vertical-align: middle;\n",
                            "    }\n",
                            "\n",
                            "    .dataframe tbody tr th {\n",
                            "        vertical-align: top;\n",
                            "    }\n",
                            "\n",
                            "    .dataframe thead th {\n",
                            "        text-align: right;\n",
                            "    }\n",
                            "</style>\n",
                            "<table border=\"1\" class=\"dataframe\">\n",
                            "  <thead>\n",
                            "    <tr style=\"text-align: right;\">\n",
                            "      <th></th>\n",
                            "      <th>relative_time</th>\n",
                            "      <th>distance - z</th>\n",
                            "    </tr>\n",
                            "  </thead>\n",
                            "  <tbody>\n",
                            "    <tr>\n",
                            "      <th>0</th>\n",
                            "      <td>0.000000</td>\n",
                            "      <td>1.931783</td>\n",
                            "    </tr>\n",
                            "    <tr>\n",
                            "      <th>1</th>\n",
                            "      <td>0.976528</td>\n",
                            "      <td>2.001271</td>\n",
                            "    </tr>\n",
                            "    <tr>\n",
                            "      <th>2</th>\n",
                            "      <td>1.258881</td>\n",
                            "      <td>1.996881</td>\n",
                            "    </tr>\n",
                            "    <tr>\n",
                            "      <th>3</th>\n",
                            "      <td>1.548243</td>\n",
                            "      <td>1.994261</td>\n",
                            "    </tr>\n",
                            "    <tr>\n",
                            "      <th>4</th>\n",
                            "      <td>1.857116</td>\n",
                            "      <td>2.000899</td>\n",
                            "    </tr>\n",
                            "    <tr>\n",
                            "      <th>...</th>\n",
                            "      <td>...</td>\n",
                            "      <td>...</td>\n",
                            "    </tr>\n",
                            "    <tr>\n",
                            "      <th>412</th>\n",
                            "      <td>119.841149</td>\n",
                            "      <td>9.935479</td>\n",
                            "    </tr>\n",
                            "    <tr>\n",
                            "      <th>413</th>\n",
                            "      <td>120.118625</td>\n",
                            "      <td>9.942376</td>\n",
                            "    </tr>\n",
                            "    <tr>\n",
                            "      <th>414</th>\n",
                            "      <td>120.726099</td>\n",
                            "      <td>9.726252</td>\n",
                            "    </tr>\n",
                            "    <tr>\n",
                            "      <th>415</th>\n",
                            "      <td>126.503969</td>\n",
                            "      <td>1.890518</td>\n",
                            "    </tr>\n",
                            "    <tr>\n",
                            "      <th>416</th>\n",
                            "      <td>126.784881</td>\n",
                            "      <td>1.564859</td>\n",
                            "    </tr>\n",
                            "  </tbody>\n",
                            "</table>\n",
                            "<p>417 rows × 2 columns</p>\n",
                            "</div>"
                        ],
                        "text/plain": [
                            "     relative_time  distance - z\n",
                            "0         0.000000      1.931783\n",
                            "1         0.976528      2.001271\n",
                            "2         1.258881      1.996881\n",
                            "3         1.548243      1.994261\n",
                            "4         1.857116      2.000899\n",
                            "..             ...           ...\n",
                            "412     119.841149      9.935479\n",
                            "413     120.118625      9.942376\n",
                            "414     120.726099      9.726252\n",
                            "415     126.503969      1.890518\n",
                            "416     126.784881      1.564859\n",
                            "\n",
                            "[417 rows x 2 columns]"
                        ]
                    },
                    "execution_count": 4,
                    "metadata": {},
                    "output_type": "execute_result"
                }
            ],
            "source": [
                "# calculate relative time in seconds instead of absolute time\n",
                "df['relative_time'] =  df.loc[0:, 'time'] - df.at[0, 'time']\n",
                "df = df.drop(columns=['time'])\n",
                "df = df[['relative_time', target]]\n",
                "df"
            ]
        },
        {
            "cell_type": "code",
            "execution_count": 5,
            "metadata": {},
            "outputs": [
                {
                    "data": {
                        "text/plain": [
                            "<AxesSubplot:xlabel='relative_time'>"
                        ]
                    },
                    "execution_count": 5,
                    "metadata": {},
                    "output_type": "execute_result"
                },
                {
                    "data": {
                        "image/png": "[encoded data removed]",
                        "text/plain": [
                            "<Figure size 432x288 with 1 Axes>"
                        ]
                    },
                    "metadata": {
                        "needs_background": "light"
                    },
                    "output_type": "display_data"
                }
            ],
            "source": [
                "# initial graph\n",
                "df.plot(x='relative_time', y=target)"
            ]
        },
        {
            "cell_type": "code",
            "execution_count": 6,
            "metadata": {},
            "outputs": [],
            "source": [
                "# find plateaus\n",
                "x = df[target]\n",
                "peaks, _ = find_peaks(x, threshold=(0, 1)) # from find_peaks docs: Threshold: The first element is always interpreted as the minimal and the second, if supplied, as the maximal required threshold."
            ]
        },
        {
            "cell_type": "code",
            "execution_count": 7,
            "metadata": {},
            "outputs": [
                {
                    "data": {
                        "text/plain": [
                            "124"
                        ]
                    },
                    "execution_count": 7,
                    "metadata": {},
                    "output_type": "execute_result"
                }
            ],
            "source": [
                "# the amount of data points we are left with\n",
                "len(x[peaks])"
            ]
        },
        {
            "cell_type": "code",
            "execution_count": 8,
            "metadata": {},
            "outputs": [],
            "source": [
                "# create filtered data frame\n",
                "df_filtered_by_targets = df.loc[peaks]"
            ]
        },
        {
            "cell_type": "code",
            "execution_count": 9,
            "metadata": {},
            "outputs": [
                {
                    "data": {
                        "text/plain": [
                            "<AxesSubplot:xlabel='relative_time', ylabel='distance - z'>"
                        ]
                    },
                    "execution_count": 9,
                    "metadata": {},
                    "output_type": "execute_result"
                },
                {
                    "data": {
                        "image/png": "[encoded data removed]",
                        "text/plain": [
                            "<Figure size 432x288 with 1 Axes>"
                        ]
                    },
                    "metadata": {
                        "needs_background": "light"
                    },
                    "output_type": "display_data"
                }
            ],
            "source": [
                "df_filtered_by_targets.plot.scatter(x='relative_time', y=target)"
            ]
        },
        {
            "cell_type": "code",
            "execution_count": 10,
            "metadata": {},
            "outputs": [
                {
                    "data": {
                        "text/plain": [
                            "124"
                        ]
                    },
                    "execution_count": 10,
                    "metadata": {},
                    "output_type": "execute_result"
                }
            ],
            "source": [
                "# segmenting/binning by real value\n",
                "df_filtered_by_targets[true_value] = pd.cut(df_filtered_by_targets[target], bins=len(input_vals), labels=input_vals)\n",
                "len(df_filtered_by_targets)"
            ]
        },
        {
            "cell_type": "code",
            "execution_count": 11,
            "metadata": {},
            "outputs": [],
            "source": [
                "# calculate the error\n",
                "df_filtered_by_targets['error'] =  df_filtered_by_targets.apply(lambda row: row[true_value] - row[target], axis=1)"
            ]
        },
        {
            "cell_type": "code",
            "execution_count": 12,
            "metadata": {},
            "outputs": [],
            "source": [
                "grouped_df = df_filtered_by_targets.groupby(true_value)"
            ]
        },
        {
            "cell_type": "code",
            "execution_count": 13,
            "metadata": {},
            "outputs": [
                {
                    "data": {
                        "text/html": [
                            "<div>\n",
                            "<style scoped>\n",
                            "    .dataframe tbody tr th:only-of-type {\n",
                            "        vertical-align: middle;\n",
                            "    }\n",
                            "\n",
                            "    .dataframe tbody tr th {\n",
                            "        vertical-align: top;\n",
                            "    }\n",
                            "\n",
                            "    .dataframe thead th {\n",
                            "        text-align: right;\n",
                            "    }\n",
                            "</style>\n",
                            "<table border=\"1\" class=\"dataframe\">\n",
                            "  <thead>\n",
                            "    <tr style=\"text-align: right;\">\n",
                            "      <th></th>\n",
                            "      <th>relative_time</th>\n",
                            "      <th>distance - z</th>\n",
                            "      <th>true_distance</th>\n",
                            "      <th>error</th>\n",
                            "    </tr>\n",
                            "  </thead>\n",
                            "  <tbody>\n",
                            "    <tr>\n",
                            "      <th>1</th>\n",
                            "      <td>0.976528</td>\n",
                            "      <td>2.001271</td>\n",
                            "      <td>2</td>\n",
                            "      <td>-0.001271</td>\n",
                            "    </tr>\n",
                            "    <tr>\n",
                            "      <th>4</th>\n",
                            "      <td>1.857116</td>\n",
                            "      <td>2.000899</td>\n",
                            "      <td>2</td>\n",
                            "      <td>-0.000899</td>\n",
                            "    </tr>\n",
                            "    <tr>\n",
                            "      <th>83</th>\n",
                            "      <td>24.915954</td>\n",
                            "      <td>3.983166</td>\n",
                            "      <td>4</td>\n",
                            "      <td>0.016834</td>\n",
                            "    </tr>\n",
                            "    <tr>\n",
                            "      <th>89</th>\n",
                            "      <td>26.660823</td>\n",
                            "      <td>3.962232</td>\n",
                            "      <td>4</td>\n",
                            "      <td>0.037768</td>\n",
                            "    </tr>\n",
                            "    <tr>\n",
                            "      <th>162</th>\n",
                            "      <td>47.416793</td>\n",
                            "      <td>6.005608</td>\n",
                            "      <td>6</td>\n",
                            "      <td>-0.005608</td>\n",
                            "    </tr>\n",
                            "    <tr>\n",
                            "      <th>169</th>\n",
                            "      <td>49.373429</td>\n",
                            "      <td>5.958435</td>\n",
                            "      <td>6</td>\n",
                            "      <td>0.041565</td>\n",
                            "    </tr>\n",
                            "    <tr>\n",
                            "      <th>246</th>\n",
                            "      <td>72.064209</td>\n",
                            "      <td>8.107470</td>\n",
                            "      <td>8</td>\n",
                            "      <td>-0.107470</td>\n",
                            "    </tr>\n",
                            "    <tr>\n",
                            "      <th>250</th>\n",
                            "      <td>73.220358</td>\n",
                            "      <td>7.990229</td>\n",
                            "      <td>8</td>\n",
                            "      <td>0.009771</td>\n",
                            "    </tr>\n",
                            "    <tr>\n",
                            "      <th>325</th>\n",
                            "      <td>95.100669</td>\n",
                            "      <td>9.792057</td>\n",
                            "      <td>10</td>\n",
                            "      <td>0.207943</td>\n",
                            "    </tr>\n",
                            "    <tr>\n",
                            "      <th>328</th>\n",
                            "      <td>95.960676</td>\n",
                            "      <td>10.056193</td>\n",
                            "      <td>10</td>\n",
                            "      <td>-0.056193</td>\n",
                            "    </tr>\n",
                            "  </tbody>\n",
                            "</table>\n",
                            "</div>"
                        ],
                        "text/plain": [
                            "     relative_time  distance - z true_distance     error\n",
                            "1         0.976528      2.001271             2 -0.001271\n",
                            "4         1.857116      2.000899             2 -0.000899\n",
                            "83       24.915954      3.983166             4  0.016834\n",
                            "89       26.660823      3.962232             4  0.037768\n",
                            "162      47.416793      6.005608             6 -0.005608\n",
                            "169      49.373429      5.958435             6  0.041565\n",
                            "246      72.064209      8.107470             8 -0.107470\n",
                            "250      73.220358      7.990229             8  0.009771\n",
                            "325      95.100669      9.792057            10  0.207943\n",
                            "328      95.960676     10.056193            10 -0.056193"
                        ]
                    },
                    "execution_count": 13,
                    "metadata": {},
                    "output_type": "execute_result"
                }
            ],
            "source": [
                "# verify if the bins are in correct order, this is dictated by input_vals order\n",
                "grouped_df.head(2)"
            ]
        },
        {
            "cell_type": "code",
            "execution_count": 14,
            "metadata": {},
            "outputs": [
                {
                    "data": {
                        "text/html": [
                            "<div>\n",
                            "<style scoped>\n",
                            "    .dataframe tbody tr th:only-of-type {\n",
                            "        vertical-align: middle;\n",
                            "    }\n",
                            "\n",
                            "    .dataframe tbody tr th {\n",
                            "        vertical-align: top;\n",
                            "    }\n",
                            "\n",
                            "    .dataframe thead th {\n",
                            "        text-align: right;\n",
                            "    }\n",
                            "</style>\n",
                            "<table border=\"1\" class=\"dataframe\">\n",
                            "  <thead>\n",
                            "    <tr style=\"text-align: right;\">\n",
                            "      <th></th>\n",
                            "      <th>count</th>\n",
                            "      <th>mean</th>\n",
                            "      <th>std</th>\n",
                            "      <th>min</th>\n",
                            "      <th>25%</th>\n",
                            "      <th>50%</th>\n",
                            "      <th>75%</th>\n",
                            "      <th>max</th>\n",
                            "    </tr>\n",
                            "    <tr>\n",
                            "      <th>true_distance</th>\n",
                            "      <th></th>\n",
                            "      <th></th>\n",
                            "      <th></th>\n",
                            "      <th></th>\n",
                            "      <th></th>\n",
                            "      <th></th>\n",
                            "      <th></th>\n",
                            "      <th></th>\n",
                            "    </tr>\n",
                            "  </thead>\n",
                            "  <tbody>\n",
                            "    <tr>\n",
                            "      <th>2</th>\n",
                            "      <td>23.0</td>\n",
                            "      <td>0.007065</td>\n",
                            "      <td>0.003327</td>\n",
                            "      <td>-0.001271</td>\n",
                            "      <td>0.005578</td>\n",
                            "      <td>0.007301</td>\n",
                            "      <td>0.009167</td>\n",
                            "      <td>0.012242</td>\n",
                            "    </tr>\n",
                            "    <tr>\n",
                            "      <th>4</th>\n",
                            "      <td>20.0</td>\n",
                            "      <td>0.036259</td>\n",
                            "      <td>0.015831</td>\n",
                            "      <td>-0.022169</td>\n",
                            "      <td>0.034574</td>\n",
                            "      <td>0.040827</td>\n",
                            "      <td>0.043960</td>\n",
                            "      <td>0.049616</td>\n",
                            "    </tr>\n",
                            "    <tr>\n",
                            "      <th>6</th>\n",
                            "      <td>29.0</td>\n",
                            "      <td>0.052886</td>\n",
                            "      <td>0.013390</td>\n",
                            "      <td>-0.005608</td>\n",
                            "      <td>0.050444</td>\n",
                            "      <td>0.056175</td>\n",
                            "      <td>0.059276</td>\n",
                            "      <td>0.064769</td>\n",
                            "    </tr>\n",
                            "    <tr>\n",
                            "      <th>8</th>\n",
                            "      <td>22.0</td>\n",
                            "      <td>0.012147</td>\n",
                            "      <td>0.029429</td>\n",
                            "      <td>-0.107470</td>\n",
                            "      <td>0.007480</td>\n",
                            "      <td>0.016651</td>\n",
                            "      <td>0.023960</td>\n",
                            "      <td>0.043766</td>\n",
                            "    </tr>\n",
                            "    <tr>\n",
                            "      <th>10</th>\n",
                            "      <td>30.0</td>\n",
                            "      <td>0.044781</td>\n",
                            "      <td>0.060361</td>\n",
                            "      <td>-0.114698</td>\n",
                            "      <td>0.031793</td>\n",
                            "      <td>0.056459</td>\n",
                            "      <td>0.074693</td>\n",
                            "      <td>0.207943</td>\n",
                            "    </tr>\n",
                            "  </tbody>\n",
                            "</table>\n",
                            "</div>"
                        ],
                        "text/plain": [
                            "               count      mean       std       min       25%       50%  \\\n",
                            "true_distance                                                            \n",
                            "2               23.0  0.007065  0.003327 -0.001271  0.005578  0.007301   \n",
                            "4               20.0  0.036259  0.015831 -0.022169  0.034574  0.040827   \n",
                            "6               29.0  0.052886  0.013390 -0.005608  0.050444  0.056175   \n",
                            "8               22.0  0.012147  0.029429 -0.107470  0.007480  0.016651   \n",
                            "10              30.0  0.044781  0.060361 -0.114698  0.031793  0.056459   \n",
                            "\n",
                            "                    75%       max  \n",
                            "true_distance                      \n",
                            "2              0.009167  0.012242  \n",
                            "4              0.043960  0.049616  \n",
                            "6              0.059276  0.064769  \n",
                            "8              0.023960  0.043766  \n",
                            "10             0.074693  0.207943  "
                        ]
                    },
                    "execution_count": 14,
                    "metadata": {},
                    "output_type": "execute_result"
                }
            ],
            "source": [
                "grouped_df.error.describe()"
            ]
        },
        {
            "cell_type": "code",
            "execution_count": 15,
            "metadata": {},
            "outputs": [],
            "source": [
                "def box_plotter(column_name):\n",
                "    fig, axes = plt.subplots(1,len(input_vals))\n",
                "\n",
                "    for i, val in enumerate(input_vals):\n",
                "        grouped_df.get_group(val).boxplot(column=column_name, ax=axes.flatten()[i])\n",
                "        axes.flatten()[i].set_title(val)\n",
                "\n",
                "\n",
                "    plt.tight_layout()\n",
                "    plt.show()"
            ]
        },
        {
            "cell_type": "code",
            "execution_count": 16,
            "metadata": {},
            "outputs": [
                {
                    "data": {
                        "image/png": "[encoded data removed]",
                        "text/plain": [
                            "<Figure size 432x288 with 5 Axes>"
                        ]
                    },
                    "metadata": {
                        "needs_background": "light"
                    },
                    "output_type": "display_data"
                }
            ],
            "source": [
                "box_plotter(target)"
            ]
        },
        {
            "cell_type": "code",
            "execution_count": 17,
            "metadata": {},
            "outputs": [
                {
                    "data": {
                        "image/png": "[encoded data removed]",
                        "text/plain": [
                            "<Figure size 432x288 with 5 Axes>"
                        ]
                    },
                    "metadata": {
                        "needs_background": "light"
                    },
                    "output_type": "display_data"
                }
            ],
            "source": [
                "box_plotter('error')"
            ]
        },
        {
            "cell_type": "code",
            "execution_count": 18,
            "metadata": {},
            "outputs": [],
            "source": [
                "df_filtered_by_targets.to_csv('/home/hakanergin/code/apriltag_test_bench/test_pipeline/scripts/static_tests/translations/result/csv/25h9_1080.csv')"
            ]
        }
    ],
    "metadata": {
        "kernelspec": {
            "display_name": "Python 3 (ipykernel)",
            "language": "python",
            "name": "python3"
        },
        "language_info": {
            "codemirror_mode": {
                "name": "ipython",
                "version": 3
            },
            "file_extension": ".py",
            "mimetype": "text/x-python",
            "name": "python",
            "nbconvert_exporter": "python",
            "pygments_lexer": "ipython3",
            "version": "3.8.10"
        },
        "orig_nbformat": 4
    },
    "nbformat": 4,
    "nbformat_minor": 2
}
