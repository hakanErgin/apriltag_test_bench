{
    "cells": [
        {
            "cell_type": "code",
            "execution_count": 35,
            "metadata": {},
            "outputs": [],
            "source": [
                "import rosbag\n",
                "import pandas as pd\n",
                "import matplotlib.pyplot as plt\n",
                "import numpy as np\n",
                "import tf\n",
                "from scipy.signal import find_peaks"
            ]
        },
        {
            "cell_type": "code",
            "execution_count": 36,
            "metadata": {},
            "outputs": [],
            "source": [
                "\n",
                "bag = rosbag.Bag('/home/hakanergin/code/rosbags/static/translation/36h11_s_z_2-4-6-8-10_720_30.bag')\n",
                "\n",
                "# create variables\n",
                "target = 'distance - z'\n",
                "true_value = 'true_distance'\n",
                "\n",
                "# input values in meters. the order matters, it will be used for binning \n",
                "input_vals = [2,4,6,8,10]"
            ]
        },
        {
            "cell_type": "code",
            "execution_count": 37,
            "metadata": {},
            "outputs": [],
            "source": [
                "topic = '/tf'\n",
                "\n",
                "rows = []\n",
                "\n",
                "for topic, msg, t in bag.read_messages(topics=topic):\n",
                "    \n",
                "    time = t\n",
                "    distance = msg.transforms[0].transform.translation.z\n",
                "\n",
                "    # print(msg.transforms[0].header.stamp.secs, msg.transforms[0].header.stamp.nsecs)\n",
                "    \n",
                "    # create row\n",
                "    row={'time': time.to_sec(), target: distance}\n",
                "    rows.append(row)\n",
                "\n",
                "df = pd.DataFrame.from_records(rows)"
            ]
        },
        {
            "cell_type": "code",
            "execution_count": 38,
            "metadata": {},
            "outputs": [
                {
                    "data": {
                        "text/html": [
                            "<div>\n",
                            "<style scoped>\n",
                            "    .dataframe tbody tr th:only-of-type {\n",
                            "        vertical-align: middle;\n",
                            "    }\n",
                            "\n",
                            "    .dataframe tbody tr th {\n",
                            "        vertical-align: top;\n",
                            "    }\n",
                            "\n",
                            "    .dataframe thead th {\n",
                            "        text-align: right;\n",
                            "    }\n",
                            "</style>\n",
                            "<table border=\"1\" class=\"dataframe\">\n",
                            "  <thead>\n",
                            "    <tr style=\"text-align: right;\">\n",
                            "      <th></th>\n",
                            "      <th>relative_time</th>\n",
                            "      <th>distance - z</th>\n",
                            "    </tr>\n",
                            "  </thead>\n",
                            "  <tbody>\n",
                            "    <tr>\n",
                            "      <th>0</th>\n",
                            "      <td>0.000000</td>\n",
                            "      <td>2.426484</td>\n",
                            "    </tr>\n",
                            "    <tr>\n",
                            "      <th>1</th>\n",
                            "      <td>0.283847</td>\n",
                            "      <td>2.318610</td>\n",
                            "    </tr>\n",
                            "    <tr>\n",
                            "      <th>2</th>\n",
                            "      <td>0.606253</td>\n",
                            "      <td>2.262506</td>\n",
                            "    </tr>\n",
                            "    <tr>\n",
                            "      <th>3</th>\n",
                            "      <td>0.941831</td>\n",
                            "      <td>2.170920</td>\n",
                            "    </tr>\n",
                            "    <tr>\n",
                            "      <th>4</th>\n",
                            "      <td>1.228456</td>\n",
                            "      <td>2.109296</td>\n",
                            "    </tr>\n",
                            "    <tr>\n",
                            "      <th>...</th>\n",
                            "      <td>...</td>\n",
                            "      <td>...</td>\n",
                            "    </tr>\n",
                            "    <tr>\n",
                            "      <th>1007</th>\n",
                            "      <td>124.911616</td>\n",
                            "      <td>9.775998</td>\n",
                            "    </tr>\n",
                            "    <tr>\n",
                            "      <th>1008</th>\n",
                            "      <td>125.013853</td>\n",
                            "      <td>9.720895</td>\n",
                            "    </tr>\n",
                            "    <tr>\n",
                            "      <th>1009</th>\n",
                            "      <td>125.109162</td>\n",
                            "      <td>9.668972</td>\n",
                            "    </tr>\n",
                            "    <tr>\n",
                            "      <th>1010</th>\n",
                            "      <td>125.202655</td>\n",
                            "      <td>9.705562</td>\n",
                            "    </tr>\n",
                            "    <tr>\n",
                            "      <th>1011</th>\n",
                            "      <td>125.299378</td>\n",
                            "      <td>9.718051</td>\n",
                            "    </tr>\n",
                            "  </tbody>\n",
                            "</table>\n",
                            "<p>1012 rows × 2 columns</p>\n",
                            "</div>"
                        ],
                        "text/plain": [
                            "      relative_time  distance - z\n",
                            "0          0.000000      2.426484\n",
                            "1          0.283847      2.318610\n",
                            "2          0.606253      2.262506\n",
                            "3          0.941831      2.170920\n",
                            "4          1.228456      2.109296\n",
                            "...             ...           ...\n",
                            "1007     124.911616      9.775998\n",
                            "1008     125.013853      9.720895\n",
                            "1009     125.109162      9.668972\n",
                            "1010     125.202655      9.705562\n",
                            "1011     125.299378      9.718051\n",
                            "\n",
                            "[1012 rows x 2 columns]"
                        ]
                    },
                    "execution_count": 38,
                    "metadata": {},
                    "output_type": "execute_result"
                }
            ],
            "source": [
                "# calculate relative time in seconds instead of absolute time\n",
                "df['relative_time'] =  df.loc[0:, 'time'] - df.at[0, 'time']\n",
                "df = df.drop(columns=['time'])\n",
                "df = df[['relative_time', target]]\n",
                "df"
            ]
        },
        {
            "cell_type": "code",
            "execution_count": 39,
            "metadata": {},
            "outputs": [
                {
                    "data": {
                        "text/plain": [
                            "<AxesSubplot:xlabel='relative_time'>"
                        ]
                    },
                    "execution_count": 39,
                    "metadata": {},
                    "output_type": "execute_result"
                },
                {
                    "data": {
                        "image/png": "[encoded data removed]",
                        "text/plain": [
                            "<Figure size 432x288 with 1 Axes>"
                        ]
                    },
                    "metadata": {
                        "needs_background": "light"
                    },
                    "output_type": "display_data"
                }
            ],
            "source": [
                "# initial graph\n",
                "df.plot(x='relative_time', y=target)"
            ]
        },
        {
            "cell_type": "code",
            "execution_count": 40,
            "metadata": {},
            "outputs": [],
            "source": [
                "# find plateaus\n",
                "x = df[target]\n",
                "peaks, _ = find_peaks(x, threshold=(0, 1)) # from find_peaks docs: Threshold: The first element is always interpreted as the minimal and the second, if supplied, as the maximal required threshold."
            ]
        },
        {
            "cell_type": "code",
            "execution_count": 41,
            "metadata": {},
            "outputs": [
                {
                    "data": {
                        "text/plain": [
                            "251"
                        ]
                    },
                    "execution_count": 41,
                    "metadata": {},
                    "output_type": "execute_result"
                }
            ],
            "source": [
                "# the amount of data points we are left with\n",
                "len(x[peaks])"
            ]
        },
        {
            "cell_type": "code",
            "execution_count": 42,
            "metadata": {},
            "outputs": [],
            "source": [
                "# create filtered data frame\n",
                "df_filtered_by_targets = df.loc[peaks]"
            ]
        },
        {
            "cell_type": "code",
            "execution_count": 43,
            "metadata": {},
            "outputs": [
                {
                    "data": {
                        "text/plain": [
                            "<AxesSubplot:xlabel='relative_time', ylabel='distance - z'>"
                        ]
                    },
                    "execution_count": 43,
                    "metadata": {},
                    "output_type": "execute_result"
                },
                {
                    "data": {
                        "image/png": "[encoded data removed]",
                        "text/plain": [
                            "<Figure size 432x288 with 1 Axes>"
                        ]
                    },
                    "metadata": {
                        "needs_background": "light"
                    },
                    "output_type": "display_data"
                }
            ],
            "source": [
                "df_filtered_by_targets.plot.scatter(x='relative_time', y=target)"
            ]
        },
        {
            "cell_type": "code",
            "execution_count": 44,
            "metadata": {},
            "outputs": [
                {
                    "data": {
                        "text/html": [
                            "<div>\n",
                            "<style scoped>\n",
                            "    .dataframe tbody tr th:only-of-type {\n",
                            "        vertical-align: middle;\n",
                            "    }\n",
                            "\n",
                            "    .dataframe tbody tr th {\n",
                            "        vertical-align: top;\n",
                            "    }\n",
                            "\n",
                            "    .dataframe thead th {\n",
                            "        text-align: right;\n",
                            "    }\n",
                            "</style>\n",
                            "<table border=\"1\" class=\"dataframe\">\n",
                            "  <thead>\n",
                            "    <tr style=\"text-align: right;\">\n",
                            "      <th></th>\n",
                            "      <th>relative_time</th>\n",
                            "      <th>distance - z</th>\n",
                            "      <th>true_distance</th>\n",
                            "    </tr>\n",
                            "  </thead>\n",
                            "  <tbody>\n",
                            "    <tr>\n",
                            "      <th>13</th>\n",
                            "      <td>4.736596</td>\n",
                            "      <td>2.040831</td>\n",
                            "      <td>2</td>\n",
                            "    </tr>\n",
                            "    <tr>\n",
                            "      <th>20</th>\n",
                            "      <td>7.485761</td>\n",
                            "      <td>2.032069</td>\n",
                            "      <td>2</td>\n",
                            "    </tr>\n",
                            "    <tr>\n",
                            "      <th>24</th>\n",
                            "      <td>8.135888</td>\n",
                            "      <td>2.032154</td>\n",
                            "      <td>2</td>\n",
                            "    </tr>\n",
                            "    <tr>\n",
                            "      <th>28</th>\n",
                            "      <td>8.549247</td>\n",
                            "      <td>2.031362</td>\n",
                            "      <td>2</td>\n",
                            "    </tr>\n",
                            "    <tr>\n",
                            "      <th>32</th>\n",
                            "      <td>8.941250</td>\n",
                            "      <td>2.031279</td>\n",
                            "      <td>2</td>\n",
                            "    </tr>\n",
                            "    <tr>\n",
                            "      <th>...</th>\n",
                            "      <td>...</td>\n",
                            "      <td>...</td>\n",
                            "      <td>...</td>\n",
                            "    </tr>\n",
                            "    <tr>\n",
                            "      <th>993</th>\n",
                            "      <td>123.286459</td>\n",
                            "      <td>9.738000</td>\n",
                            "      <td>10</td>\n",
                            "    </tr>\n",
                            "    <tr>\n",
                            "      <th>997</th>\n",
                            "      <td>123.683215</td>\n",
                            "      <td>9.727849</td>\n",
                            "      <td>10</td>\n",
                            "    </tr>\n",
                            "    <tr>\n",
                            "      <th>1001</th>\n",
                            "      <td>124.321414</td>\n",
                            "      <td>9.839072</td>\n",
                            "      <td>10</td>\n",
                            "    </tr>\n",
                            "    <tr>\n",
                            "      <th>1004</th>\n",
                            "      <td>124.619870</td>\n",
                            "      <td>9.845352</td>\n",
                            "      <td>10</td>\n",
                            "    </tr>\n",
                            "    <tr>\n",
                            "      <th>1007</th>\n",
                            "      <td>124.911616</td>\n",
                            "      <td>9.775998</td>\n",
                            "      <td>10</td>\n",
                            "    </tr>\n",
                            "  </tbody>\n",
                            "</table>\n",
                            "<p>251 rows × 3 columns</p>\n",
                            "</div>"
                        ],
                        "text/plain": [
                            "      relative_time  distance - z true_distance\n",
                            "13         4.736596      2.040831             2\n",
                            "20         7.485761      2.032069             2\n",
                            "24         8.135888      2.032154             2\n",
                            "28         8.549247      2.031362             2\n",
                            "32         8.941250      2.031279             2\n",
                            "...             ...           ...           ...\n",
                            "993      123.286459      9.738000            10\n",
                            "997      123.683215      9.727849            10\n",
                            "1001     124.321414      9.839072            10\n",
                            "1004     124.619870      9.845352            10\n",
                            "1007     124.911616      9.775998            10\n",
                            "\n",
                            "[251 rows x 3 columns]"
                        ]
                    },
                    "execution_count": 44,
                    "metadata": {},
                    "output_type": "execute_result"
                }
            ],
            "source": [
                "# segmenting/binning by real value\n",
                "df_filtered_by_targets[true_value] = pd.cut(df_filtered_by_targets[target], bins=len(input_vals), labels=input_vals)\n",
                "df_filtered_by_targets"
            ]
        },
        {
            "cell_type": "code",
            "execution_count": 45,
            "metadata": {},
            "outputs": [],
            "source": [
                "# calculate the error\n",
                "df_filtered_by_targets['error'] =  df_filtered_by_targets.apply(lambda row: row[true_value] - row[target], axis=1)"
            ]
        },
        {
            "cell_type": "code",
            "execution_count": 46,
            "metadata": {},
            "outputs": [],
            "source": [
                "grouped_df = df_filtered_by_targets.groupby(true_value)"
            ]
        },
        {
            "cell_type": "code",
            "execution_count": 47,
            "metadata": {},
            "outputs": [
                {
                    "data": {
                        "text/html": [
                            "<div>\n",
                            "<style scoped>\n",
                            "    .dataframe tbody tr th:only-of-type {\n",
                            "        vertical-align: middle;\n",
                            "    }\n",
                            "\n",
                            "    .dataframe tbody tr th {\n",
                            "        vertical-align: top;\n",
                            "    }\n",
                            "\n",
                            "    .dataframe thead th {\n",
                            "        text-align: right;\n",
                            "    }\n",
                            "</style>\n",
                            "<table border=\"1\" class=\"dataframe\">\n",
                            "  <thead>\n",
                            "    <tr style=\"text-align: right;\">\n",
                            "      <th></th>\n",
                            "      <th>relative_time</th>\n",
                            "      <th>distance - z</th>\n",
                            "      <th>true_distance</th>\n",
                            "      <th>error</th>\n",
                            "    </tr>\n",
                            "  </thead>\n",
                            "  <tbody>\n",
                            "    <tr>\n",
                            "      <th>13</th>\n",
                            "      <td>4.736596</td>\n",
                            "      <td>2.040831</td>\n",
                            "      <td>2</td>\n",
                            "      <td>-0.040831</td>\n",
                            "    </tr>\n",
                            "    <tr>\n",
                            "      <th>20</th>\n",
                            "      <td>7.485761</td>\n",
                            "      <td>2.032069</td>\n",
                            "      <td>2</td>\n",
                            "      <td>-0.032069</td>\n",
                            "    </tr>\n",
                            "    <tr>\n",
                            "      <th>194</th>\n",
                            "      <td>24.974355</td>\n",
                            "      <td>4.002572</td>\n",
                            "      <td>4</td>\n",
                            "      <td>-0.002572</td>\n",
                            "    </tr>\n",
                            "    <tr>\n",
                            "      <th>199</th>\n",
                            "      <td>25.473922</td>\n",
                            "      <td>4.034208</td>\n",
                            "      <td>4</td>\n",
                            "      <td>-0.034208</td>\n",
                            "    </tr>\n",
                            "    <tr>\n",
                            "      <th>457</th>\n",
                            "      <td>50.877203</td>\n",
                            "      <td>5.962749</td>\n",
                            "      <td>6</td>\n",
                            "      <td>0.037251</td>\n",
                            "    </tr>\n",
                            "    <tr>\n",
                            "      <th>460</th>\n",
                            "      <td>51.182069</td>\n",
                            "      <td>5.988813</td>\n",
                            "      <td>6</td>\n",
                            "      <td>0.011187</td>\n",
                            "    </tr>\n",
                            "    <tr>\n",
                            "      <th>668</th>\n",
                            "      <td>71.912634</td>\n",
                            "      <td>7.887055</td>\n",
                            "      <td>8</td>\n",
                            "      <td>0.112945</td>\n",
                            "    </tr>\n",
                            "    <tr>\n",
                            "      <th>670</th>\n",
                            "      <td>72.114876</td>\n",
                            "      <td>7.919775</td>\n",
                            "      <td>8</td>\n",
                            "      <td>0.080225</td>\n",
                            "    </tr>\n",
                            "    <tr>\n",
                            "      <th>912</th>\n",
                            "      <td>108.284683</td>\n",
                            "      <td>10.026467</td>\n",
                            "      <td>10</td>\n",
                            "      <td>-0.026467</td>\n",
                            "    </tr>\n",
                            "    <tr>\n",
                            "      <th>918</th>\n",
                            "      <td>109.212483</td>\n",
                            "      <td>9.823044</td>\n",
                            "      <td>10</td>\n",
                            "      <td>0.176956</td>\n",
                            "    </tr>\n",
                            "  </tbody>\n",
                            "</table>\n",
                            "</div>"
                        ],
                        "text/plain": [
                            "     relative_time  distance - z true_distance     error\n",
                            "13        4.736596      2.040831             2 -0.040831\n",
                            "20        7.485761      2.032069             2 -0.032069\n",
                            "194      24.974355      4.002572             4 -0.002572\n",
                            "199      25.473922      4.034208             4 -0.034208\n",
                            "457      50.877203      5.962749             6  0.037251\n",
                            "460      51.182069      5.988813             6  0.011187\n",
                            "668      71.912634      7.887055             8  0.112945\n",
                            "670      72.114876      7.919775             8  0.080225\n",
                            "912     108.284683     10.026467            10 -0.026467\n",
                            "918     109.212483      9.823044            10  0.176956"
                        ]
                    },
                    "execution_count": 47,
                    "metadata": {},
                    "output_type": "execute_result"
                }
            ],
            "source": [
                "# verify if the bins are in correct order, this is dictated by input_vals order\n",
                "grouped_df.head(2)"
            ]
        },
        {
            "cell_type": "code",
            "execution_count": 48,
            "metadata": {},
            "outputs": [
                {
                    "data": {
                        "text/html": [
                            "<div>\n",
                            "<style scoped>\n",
                            "    .dataframe tbody tr th:only-of-type {\n",
                            "        vertical-align: middle;\n",
                            "    }\n",
                            "\n",
                            "    .dataframe tbody tr th {\n",
                            "        vertical-align: top;\n",
                            "    }\n",
                            "\n",
                            "    .dataframe thead th {\n",
                            "        text-align: right;\n",
                            "    }\n",
                            "</style>\n",
                            "<table border=\"1\" class=\"dataframe\">\n",
                            "  <thead>\n",
                            "    <tr style=\"text-align: right;\">\n",
                            "      <th></th>\n",
                            "      <th>count</th>\n",
                            "      <th>mean</th>\n",
                            "      <th>std</th>\n",
                            "      <th>min</th>\n",
                            "      <th>25%</th>\n",
                            "      <th>50%</th>\n",
                            "      <th>75%</th>\n",
                            "      <th>max</th>\n",
                            "    </tr>\n",
                            "    <tr>\n",
                            "      <th>true_distance</th>\n",
                            "      <th></th>\n",
                            "      <th></th>\n",
                            "      <th></th>\n",
                            "      <th></th>\n",
                            "      <th></th>\n",
                            "      <th></th>\n",
                            "      <th></th>\n",
                            "      <th></th>\n",
                            "    </tr>\n",
                            "  </thead>\n",
                            "  <tbody>\n",
                            "    <tr>\n",
                            "      <th>2</th>\n",
                            "      <td>38.0</td>\n",
                            "      <td>-0.029438</td>\n",
                            "      <td>0.003004</td>\n",
                            "      <td>-0.040831</td>\n",
                            "      <td>-0.030924</td>\n",
                            "      <td>-0.029602</td>\n",
                            "      <td>-0.027807</td>\n",
                            "      <td>-0.023385</td>\n",
                            "    </tr>\n",
                            "    <tr>\n",
                            "      <th>4</th>\n",
                            "      <td>66.0</td>\n",
                            "      <td>-0.001240</td>\n",
                            "      <td>0.020251</td>\n",
                            "      <td>-0.147893</td>\n",
                            "      <td>-0.003979</td>\n",
                            "      <td>0.004289</td>\n",
                            "      <td>0.006256</td>\n",
                            "      <td>0.019563</td>\n",
                            "    </tr>\n",
                            "    <tr>\n",
                            "      <th>6</th>\n",
                            "      <td>50.0</td>\n",
                            "      <td>0.057202</td>\n",
                            "      <td>0.019387</td>\n",
                            "      <td>0.011187</td>\n",
                            "      <td>0.050325</td>\n",
                            "      <td>0.060501</td>\n",
                            "      <td>0.068222</td>\n",
                            "      <td>0.105156</td>\n",
                            "    </tr>\n",
                            "    <tr>\n",
                            "      <th>8</th>\n",
                            "      <td>70.0</td>\n",
                            "      <td>0.136781</td>\n",
                            "      <td>0.072503</td>\n",
                            "      <td>-0.133978</td>\n",
                            "      <td>0.120218</td>\n",
                            "      <td>0.161476</td>\n",
                            "      <td>0.180135</td>\n",
                            "      <td>0.217045</td>\n",
                            "    </tr>\n",
                            "    <tr>\n",
                            "      <th>10</th>\n",
                            "      <td>27.0</td>\n",
                            "      <td>0.146839</td>\n",
                            "      <td>0.137689</td>\n",
                            "      <td>-0.241821</td>\n",
                            "      <td>0.157788</td>\n",
                            "      <td>0.184064</td>\n",
                            "      <td>0.218061</td>\n",
                            "      <td>0.272151</td>\n",
                            "    </tr>\n",
                            "  </tbody>\n",
                            "</table>\n",
                            "</div>"
                        ],
                        "text/plain": [
                            "               count      mean       std       min       25%       50%  \\\n",
                            "true_distance                                                            \n",
                            "2               38.0 -0.029438  0.003004 -0.040831 -0.030924 -0.029602   \n",
                            "4               66.0 -0.001240  0.020251 -0.147893 -0.003979  0.004289   \n",
                            "6               50.0  0.057202  0.019387  0.011187  0.050325  0.060501   \n",
                            "8               70.0  0.136781  0.072503 -0.133978  0.120218  0.161476   \n",
                            "10              27.0  0.146839  0.137689 -0.241821  0.157788  0.184064   \n",
                            "\n",
                            "                    75%       max  \n",
                            "true_distance                      \n",
                            "2             -0.027807 -0.023385  \n",
                            "4              0.006256  0.019563  \n",
                            "6              0.068222  0.105156  \n",
                            "8              0.180135  0.217045  \n",
                            "10             0.218061  0.272151  "
                        ]
                    },
                    "execution_count": 48,
                    "metadata": {},
                    "output_type": "execute_result"
                }
            ],
            "source": [
                "grouped_df.error.describe()"
            ]
        },
        {
            "cell_type": "code",
            "execution_count": 49,
            "metadata": {},
            "outputs": [],
            "source": [
                "def box_plotter(column_name):\n",
                "    fig, axes = plt.subplots(1,len(input_vals))\n",
                "\n",
                "    for i, val in enumerate(input_vals):\n",
                "        grouped_df.get_group(val).boxplot(column=column_name, ax=axes.flatten()[i])\n",
                "        axes.flatten()[i].set_title(val)\n",
                "\n",
                "\n",
                "    plt.tight_layout()\n",
                "    plt.show()"
            ]
        },
        {
            "cell_type": "code",
            "execution_count": 50,
            "metadata": {},
            "outputs": [
                {
                    "data": {
                        "image/png": "[encoded data removed]",
                        "text/plain": [
                            "<Figure size 432x288 with 5 Axes>"
                        ]
                    },
                    "metadata": {
                        "needs_background": "light"
                    },
                    "output_type": "display_data"
                }
            ],
            "source": [
                "box_plotter(target)"
            ]
        },
        {
            "cell_type": "code",
            "execution_count": 51,
            "metadata": {},
            "outputs": [
                {
                    "data": {
                        "image/png": "[encoded data removed]",
                        "text/plain": [
                            "<Figure size 432x288 with 5 Axes>"
                        ]
                    },
                    "metadata": {
                        "needs_background": "light"
                    },
                    "output_type": "display_data"
                }
            ],
            "source": [
                "box_plotter('error')"
            ]
        }
    ],
    "metadata": {
        "kernelspec": {
            "display_name": "Python 3 (ipykernel)",
            "language": "python",
            "name": "python3"
        },
        "language_info": {
            "codemirror_mode": {
                "name": "ipython",
                "version": 3
            },
            "file_extension": ".py",
            "mimetype": "text/x-python",
            "name": "python",
            "nbconvert_exporter": "python",
            "pygments_lexer": "ipython3",
            "version": "3.8.10"
        },
        "orig_nbformat": 4
    },
    "nbformat": 4,
    "nbformat_minor": 2
}