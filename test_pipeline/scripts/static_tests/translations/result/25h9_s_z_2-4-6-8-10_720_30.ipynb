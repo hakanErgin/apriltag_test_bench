{
    "cells": [
        {
            "cell_type": "code",
            "execution_count": 1,
            "metadata": {},
            "outputs": [],
            "source": [
                "import rosbag\n",
                "import pandas as pd\n",
                "import matplotlib.pyplot as plt\n",
                "import numpy as np\n",
                "import tf\n",
                "from scipy.signal import find_peaks"
            ]
        },
        {
            "cell_type": "code",
            "execution_count": 2,
            "metadata": {},
            "outputs": [],
            "source": [
                "\n",
                "bag = rosbag.Bag('/home/hakanergin/code/rosbags/static/translation/25h9_s_z_2-4-6-8-10_720_30.bag')\n",
                "\n",
                "# create variables\n",
                "target = 'distance - z'\n",
                "true_value = 'true_distance'\n",
                "\n",
                "# input values in meters. the order matters, it will be used for binning \n",
                "input_vals = [2,4,6,8,10]"
            ]
        },
        {
            "cell_type": "code",
            "execution_count": 3,
            "metadata": {},
            "outputs": [],
            "source": [
                "topic = '/tf'\n",
                "\n",
                "rows = []\n",
                "\n",
                "for topic, msg, t in bag.read_messages(topics=topic):\n",
                "    \n",
                "    time = t\n",
                "    distance = msg.transforms[0].transform.translation.z\n",
                "\n",
                "    # print(msg.transforms[0].header.stamp.secs, msg.transforms[0].header.stamp.nsecs)\n",
                "    \n",
                "    # create row\n",
                "    row={'time': time.to_sec(), target: distance}\n",
                "    rows.append(row)\n",
                "\n",
                "df = pd.DataFrame.from_records(rows)"
            ]
        },
        {
            "cell_type": "code",
            "execution_count": 4,
            "metadata": {},
            "outputs": [
                {
                    "data": {
                        "text/html": [
                            "<div>\n",
                            "<style scoped>\n",
                            "    .dataframe tbody tr th:only-of-type {\n",
                            "        vertical-align: middle;\n",
                            "    }\n",
                            "\n",
                            "    .dataframe tbody tr th {\n",
                            "        vertical-align: top;\n",
                            "    }\n",
                            "\n",
                            "    .dataframe thead th {\n",
                            "        text-align: right;\n",
                            "    }\n",
                            "</style>\n",
                            "<table border=\"1\" class=\"dataframe\">\n",
                            "  <thead>\n",
                            "    <tr style=\"text-align: right;\">\n",
                            "      <th></th>\n",
                            "      <th>relative_time</th>\n",
                            "      <th>distance - z</th>\n",
                            "    </tr>\n",
                            "  </thead>\n",
                            "  <tbody>\n",
                            "    <tr>\n",
                            "      <th>0</th>\n",
                            "      <td>0.000000</td>\n",
                            "      <td>1.960545</td>\n",
                            "    </tr>\n",
                            "    <tr>\n",
                            "      <th>1</th>\n",
                            "      <td>1.072042</td>\n",
                            "      <td>1.997144</td>\n",
                            "    </tr>\n",
                            "    <tr>\n",
                            "      <th>2</th>\n",
                            "      <td>1.399024</td>\n",
                            "      <td>1.996068</td>\n",
                            "    </tr>\n",
                            "    <tr>\n",
                            "      <th>3</th>\n",
                            "      <td>1.724036</td>\n",
                            "      <td>1.996194</td>\n",
                            "    </tr>\n",
                            "    <tr>\n",
                            "      <th>4</th>\n",
                            "      <td>2.030176</td>\n",
                            "      <td>2.005255</td>\n",
                            "    </tr>\n",
                            "    <tr>\n",
                            "      <th>...</th>\n",
                            "      <td>...</td>\n",
                            "      <td>...</td>\n",
                            "    </tr>\n",
                            "    <tr>\n",
                            "      <th>1148</th>\n",
                            "      <td>120.498550</td>\n",
                            "      <td>10.162689</td>\n",
                            "    </tr>\n",
                            "    <tr>\n",
                            "      <th>1149</th>\n",
                            "      <td>127.021808</td>\n",
                            "      <td>1.776928</td>\n",
                            "    </tr>\n",
                            "    <tr>\n",
                            "      <th>1150</th>\n",
                            "      <td>127.117690</td>\n",
                            "      <td>1.678446</td>\n",
                            "    </tr>\n",
                            "    <tr>\n",
                            "      <th>1151</th>\n",
                            "      <td>127.217435</td>\n",
                            "      <td>1.556955</td>\n",
                            "    </tr>\n",
                            "    <tr>\n",
                            "      <th>1152</th>\n",
                            "      <td>127.326046</td>\n",
                            "      <td>1.466971</td>\n",
                            "    </tr>\n",
                            "  </tbody>\n",
                            "</table>\n",
                            "<p>1153 rows × 2 columns</p>\n",
                            "</div>"
                        ],
                        "text/plain": [
                            "      relative_time  distance - z\n",
                            "0          0.000000      1.960545\n",
                            "1          1.072042      1.997144\n",
                            "2          1.399024      1.996068\n",
                            "3          1.724036      1.996194\n",
                            "4          2.030176      2.005255\n",
                            "...             ...           ...\n",
                            "1148     120.498550     10.162689\n",
                            "1149     127.021808      1.776928\n",
                            "1150     127.117690      1.678446\n",
                            "1151     127.217435      1.556955\n",
                            "1152     127.326046      1.466971\n",
                            "\n",
                            "[1153 rows x 2 columns]"
                        ]
                    },
                    "execution_count": 4,
                    "metadata": {},
                    "output_type": "execute_result"
                }
            ],
            "source": [
                "# calculate relative time in seconds instead of absolute time\n",
                "df['relative_time'] =  df.loc[0:, 'time'] - df.at[0, 'time']\n",
                "df = df.drop(columns=['time'])\n",
                "df = df[['relative_time', target]]\n",
                "df"
            ]
        },
        {
            "cell_type": "code",
            "execution_count": 5,
            "metadata": {},
            "outputs": [
                {
                    "data": {
                        "text/plain": [
                            "<AxesSubplot:xlabel='relative_time'>"
                        ]
                    },
                    "execution_count": 5,
                    "metadata": {},
                    "output_type": "execute_result"
                },
                {
                    "data": {
                        "image/png": "[encoded data removed]",
                        "text/plain": [
                            "<Figure size 432x288 with 1 Axes>"
                        ]
                    },
                    "metadata": {
                        "needs_background": "light"
                    },
                    "output_type": "display_data"
                }
            ],
            "source": [
                "# initial graph\n",
                "df.plot(x='relative_time', y=target)"
            ]
        },
        {
            "cell_type": "code",
            "execution_count": 6,
            "metadata": {},
            "outputs": [],
            "source": [
                "# find plateaus\n",
                "x = df[target]\n",
                "peaks, _ = find_peaks(x, threshold=(0, .25)) # from find_peaks docs: Threshold: The first element is always interpreted as the minimal and the second, if supplied, as the maximal required threshold."
            ]
        },
        {
            "cell_type": "code",
            "execution_count": 7,
            "metadata": {},
            "outputs": [
                {
                    "data": {
                        "text/plain": [
                            "268"
                        ]
                    },
                    "execution_count": 7,
                    "metadata": {},
                    "output_type": "execute_result"
                }
            ],
            "source": [
                "# the amount of data points we are left with\n",
                "len(x[peaks])"
            ]
        },
        {
            "cell_type": "code",
            "execution_count": 8,
            "metadata": {},
            "outputs": [],
            "source": [
                "# create filtered data frame\n",
                "df_filtered_by_targets = df.loc[peaks]"
            ]
        },
        {
            "cell_type": "code",
            "execution_count": 9,
            "metadata": {},
            "outputs": [
                {
                    "data": {
                        "text/plain": [
                            "<AxesSubplot:xlabel='relative_time', ylabel='distance - z'>"
                        ]
                    },
                    "execution_count": 9,
                    "metadata": {},
                    "output_type": "execute_result"
                },
                {
                    "data": {
                        "image/png": "[encoded data removed]",
                        "text/plain": [
                            "<Figure size 432x288 with 1 Axes>"
                        ]
                    },
                    "metadata": {
                        "needs_background": "light"
                    },
                    "output_type": "display_data"
                }
            ],
            "source": [
                "df_filtered_by_targets.plot.scatter(x='relative_time', y=target)"
            ]
        },
        {
            "cell_type": "code",
            "execution_count": 10,
            "metadata": {},
            "outputs": [
                {
                    "data": {
                        "text/plain": [
                            "268"
                        ]
                    },
                    "execution_count": 10,
                    "metadata": {},
                    "output_type": "execute_result"
                }
            ],
            "source": [
                "# segmenting/binning by real value\n",
                "df_filtered_by_targets[true_value] = pd.cut(df_filtered_by_targets[target], bins=len(input_vals), labels=input_vals)\n",
                "len(df_filtered_by_targets)"
            ]
        },
        {
            "cell_type": "code",
            "execution_count": 11,
            "metadata": {},
            "outputs": [],
            "source": [
                "# calculate the error\n",
                "df_filtered_by_targets['error'] =  df_filtered_by_targets.apply(lambda row: row[true_value] - row[target], axis=1)"
            ]
        },
        {
            "cell_type": "code",
            "execution_count": 12,
            "metadata": {},
            "outputs": [],
            "source": [
                "grouped_df = df_filtered_by_targets.groupby(true_value)"
            ]
        },
        {
            "cell_type": "code",
            "execution_count": 13,
            "metadata": {},
            "outputs": [
                {
                    "data": {
                        "text/html": [
                            "<div>\n",
                            "<style scoped>\n",
                            "    .dataframe tbody tr th:only-of-type {\n",
                            "        vertical-align: middle;\n",
                            "    }\n",
                            "\n",
                            "    .dataframe tbody tr th {\n",
                            "        vertical-align: top;\n",
                            "    }\n",
                            "\n",
                            "    .dataframe thead th {\n",
                            "        text-align: right;\n",
                            "    }\n",
                            "</style>\n",
                            "<table border=\"1\" class=\"dataframe\">\n",
                            "  <thead>\n",
                            "    <tr style=\"text-align: right;\">\n",
                            "      <th></th>\n",
                            "      <th>relative_time</th>\n",
                            "      <th>distance - z</th>\n",
                            "      <th>true_distance</th>\n",
                            "      <th>error</th>\n",
                            "    </tr>\n",
                            "  </thead>\n",
                            "  <tbody>\n",
                            "    <tr>\n",
                            "      <th>1</th>\n",
                            "      <td>1.072042</td>\n",
                            "      <td>1.997144</td>\n",
                            "      <td>2</td>\n",
                            "      <td>0.002856</td>\n",
                            "    </tr>\n",
                            "    <tr>\n",
                            "      <th>4</th>\n",
                            "      <td>2.030176</td>\n",
                            "      <td>2.005255</td>\n",
                            "      <td>2</td>\n",
                            "      <td>-0.005255</td>\n",
                            "    </tr>\n",
                            "    <tr>\n",
                            "      <th>210</th>\n",
                            "      <td>25.190984</td>\n",
                            "      <td>3.996442</td>\n",
                            "      <td>4</td>\n",
                            "      <td>0.003558</td>\n",
                            "    </tr>\n",
                            "    <tr>\n",
                            "      <th>213</th>\n",
                            "      <td>25.500976</td>\n",
                            "      <td>3.991022</td>\n",
                            "      <td>4</td>\n",
                            "      <td>0.008978</td>\n",
                            "    </tr>\n",
                            "    <tr>\n",
                            "      <th>433</th>\n",
                            "      <td>47.629466</td>\n",
                            "      <td>5.962003</td>\n",
                            "      <td>6</td>\n",
                            "      <td>0.037997</td>\n",
                            "    </tr>\n",
                            "    <tr>\n",
                            "      <th>435</th>\n",
                            "      <td>47.827514</td>\n",
                            "      <td>6.010240</td>\n",
                            "      <td>6</td>\n",
                            "      <td>-0.010240</td>\n",
                            "    </tr>\n",
                            "    <tr>\n",
                            "      <th>667</th>\n",
                            "      <td>71.399283</td>\n",
                            "      <td>7.821978</td>\n",
                            "      <td>8</td>\n",
                            "      <td>0.178022</td>\n",
                            "    </tr>\n",
                            "    <tr>\n",
                            "      <th>673</th>\n",
                            "      <td>72.003427</td>\n",
                            "      <td>7.974796</td>\n",
                            "      <td>8</td>\n",
                            "      <td>0.025204</td>\n",
                            "    </tr>\n",
                            "    <tr>\n",
                            "      <th>900</th>\n",
                            "      <td>95.292998</td>\n",
                            "      <td>9.171560</td>\n",
                            "      <td>10</td>\n",
                            "      <td>0.828440</td>\n",
                            "    </tr>\n",
                            "    <tr>\n",
                            "      <th>904</th>\n",
                            "      <td>95.710317</td>\n",
                            "      <td>9.328845</td>\n",
                            "      <td>10</td>\n",
                            "      <td>0.671155</td>\n",
                            "    </tr>\n",
                            "  </tbody>\n",
                            "</table>\n",
                            "</div>"
                        ],
                        "text/plain": [
                            "     relative_time  distance - z true_distance     error\n",
                            "1         1.072042      1.997144             2  0.002856\n",
                            "4         2.030176      2.005255             2 -0.005255\n",
                            "210      25.190984      3.996442             4  0.003558\n",
                            "213      25.500976      3.991022             4  0.008978\n",
                            "433      47.629466      5.962003             6  0.037997\n",
                            "435      47.827514      6.010240             6 -0.010240\n",
                            "667      71.399283      7.821978             8  0.178022\n",
                            "673      72.003427      7.974796             8  0.025204\n",
                            "900      95.292998      9.171560            10  0.828440\n",
                            "904      95.710317      9.328845            10  0.671155"
                        ]
                    },
                    "execution_count": 13,
                    "metadata": {},
                    "output_type": "execute_result"
                }
            ],
            "source": [
                "# verify if the bins are in correct order, this is dictated by input_vals order\n",
                "grouped_df.head(2)"
            ]
        },
        {
            "cell_type": "code",
            "execution_count": 14,
            "metadata": {},
            "outputs": [
                {
                    "data": {
                        "text/html": [
                            "<div>\n",
                            "<style scoped>\n",
                            "    .dataframe tbody tr th:only-of-type {\n",
                            "        vertical-align: middle;\n",
                            "    }\n",
                            "\n",
                            "    .dataframe tbody tr th {\n",
                            "        vertical-align: top;\n",
                            "    }\n",
                            "\n",
                            "    .dataframe thead th {\n",
                            "        text-align: right;\n",
                            "    }\n",
                            "</style>\n",
                            "<table border=\"1\" class=\"dataframe\">\n",
                            "  <thead>\n",
                            "    <tr style=\"text-align: right;\">\n",
                            "      <th></th>\n",
                            "      <th>count</th>\n",
                            "      <th>mean</th>\n",
                            "      <th>std</th>\n",
                            "      <th>min</th>\n",
                            "      <th>25%</th>\n",
                            "      <th>50%</th>\n",
                            "      <th>75%</th>\n",
                            "      <th>max</th>\n",
                            "    </tr>\n",
                            "    <tr>\n",
                            "      <th>true_distance</th>\n",
                            "      <th></th>\n",
                            "      <th></th>\n",
                            "      <th></th>\n",
                            "      <th></th>\n",
                            "      <th></th>\n",
                            "      <th></th>\n",
                            "      <th></th>\n",
                            "      <th></th>\n",
                            "    </tr>\n",
                            "  </thead>\n",
                            "  <tbody>\n",
                            "    <tr>\n",
                            "      <th>2</th>\n",
                            "      <td>48.0</td>\n",
                            "      <td>0.009053</td>\n",
                            "      <td>0.003349</td>\n",
                            "      <td>-0.005255</td>\n",
                            "      <td>0.007929</td>\n",
                            "      <td>0.008539</td>\n",
                            "      <td>0.010025</td>\n",
                            "      <td>0.015483</td>\n",
                            "    </tr>\n",
                            "    <tr>\n",
                            "      <th>4</th>\n",
                            "      <td>52.0</td>\n",
                            "      <td>0.027407</td>\n",
                            "      <td>0.011466</td>\n",
                            "      <td>-0.011467</td>\n",
                            "      <td>0.022708</td>\n",
                            "      <td>0.030162</td>\n",
                            "      <td>0.036435</td>\n",
                            "      <td>0.048881</td>\n",
                            "    </tr>\n",
                            "    <tr>\n",
                            "      <th>6</th>\n",
                            "      <td>56.0</td>\n",
                            "      <td>0.061099</td>\n",
                            "      <td>0.018768</td>\n",
                            "      <td>-0.012514</td>\n",
                            "      <td>0.054233</td>\n",
                            "      <td>0.066275</td>\n",
                            "      <td>0.072211</td>\n",
                            "      <td>0.083732</td>\n",
                            "    </tr>\n",
                            "    <tr>\n",
                            "      <th>8</th>\n",
                            "      <td>62.0</td>\n",
                            "      <td>0.102019</td>\n",
                            "      <td>0.025637</td>\n",
                            "      <td>-0.029328</td>\n",
                            "      <td>0.097607</td>\n",
                            "      <td>0.103683</td>\n",
                            "      <td>0.111896</td>\n",
                            "      <td>0.178022</td>\n",
                            "    </tr>\n",
                            "    <tr>\n",
                            "      <th>10</th>\n",
                            "      <td>50.0</td>\n",
                            "      <td>0.395284</td>\n",
                            "      <td>0.096413</td>\n",
                            "      <td>0.258516</td>\n",
                            "      <td>0.338438</td>\n",
                            "      <td>0.403032</td>\n",
                            "      <td>0.434327</td>\n",
                            "      <td>0.828440</td>\n",
                            "    </tr>\n",
                            "  </tbody>\n",
                            "</table>\n",
                            "</div>"
                        ],
                        "text/plain": [
                            "               count      mean       std       min       25%       50%  \\\n",
                            "true_distance                                                            \n",
                            "2               48.0  0.009053  0.003349 -0.005255  0.007929  0.008539   \n",
                            "4               52.0  0.027407  0.011466 -0.011467  0.022708  0.030162   \n",
                            "6               56.0  0.061099  0.018768 -0.012514  0.054233  0.066275   \n",
                            "8               62.0  0.102019  0.025637 -0.029328  0.097607  0.103683   \n",
                            "10              50.0  0.395284  0.096413  0.258516  0.338438  0.403032   \n",
                            "\n",
                            "                    75%       max  \n",
                            "true_distance                      \n",
                            "2              0.010025  0.015483  \n",
                            "4              0.036435  0.048881  \n",
                            "6              0.072211  0.083732  \n",
                            "8              0.111896  0.178022  \n",
                            "10             0.434327  0.828440  "
                        ]
                    },
                    "execution_count": 14,
                    "metadata": {},
                    "output_type": "execute_result"
                }
            ],
            "source": [
                "grouped_df.error.describe()"
            ]
        },
        {
            "cell_type": "code",
            "execution_count": 15,
            "metadata": {},
            "outputs": [],
            "source": [
                "def box_plotter(column_name):\n",
                "    fig, axes = plt.subplots(1,len(input_vals))\n",
                "\n",
                "    for i, val in enumerate(input_vals):\n",
                "        grouped_df.get_group(val).boxplot(column=column_name, ax=axes.flatten()[i])\n",
                "        axes.flatten()[i].set_title(val)\n",
                "\n",
                "\n",
                "    plt.tight_layout()\n",
                "    plt.show()"
            ]
        },
        {
            "cell_type": "code",
            "execution_count": 16,
            "metadata": {},
            "outputs": [
                {
                    "data": {
                        "image/png": "[encoded data removed]",
                        "text/plain": [
                            "<Figure size 432x288 with 5 Axes>"
                        ]
                    },
                    "metadata": {
                        "needs_background": "light"
                    },
                    "output_type": "display_data"
                }
            ],
            "source": [
                "box_plotter(target)"
            ]
        },
        {
            "cell_type": "code",
            "execution_count": 17,
            "metadata": {},
            "outputs": [
                {
                    "data": {
                        "image/png": "[encoded data removed]",
                        "text/plain": [
                            "<Figure size 432x288 with 5 Axes>"
                        ]
                    },
                    "metadata": {
                        "needs_background": "light"
                    },
                    "output_type": "display_data"
                }
            ],
            "source": [
                "box_plotter('error')"
            ]
        },
        {
            "cell_type": "code",
            "execution_count": 18,
            "metadata": {},
            "outputs": [],
            "source": [
                "df_filtered_by_targets.to_csv('/home/hakanergin/code/apriltag_test_bench/test_pipeline/scripts/static_tests/translations/result/csv/25h9_720.csv')"
            ]
        }
    ],
    "metadata": {
        "kernelspec": {
            "display_name": "Python 3 (ipykernel)",
            "language": "python",
            "name": "python3"
        },
        "language_info": {
            "codemirror_mode": {
                "name": "ipython",
                "version": 3
            },
            "file_extension": ".py",
            "mimetype": "text/x-python",
            "name": "python",
            "nbconvert_exporter": "python",
            "pygments_lexer": "ipython3",
            "version": "3.8.10"
        },
        "orig_nbformat": 4
    },
    "nbformat": 4,
    "nbformat_minor": 2
}
