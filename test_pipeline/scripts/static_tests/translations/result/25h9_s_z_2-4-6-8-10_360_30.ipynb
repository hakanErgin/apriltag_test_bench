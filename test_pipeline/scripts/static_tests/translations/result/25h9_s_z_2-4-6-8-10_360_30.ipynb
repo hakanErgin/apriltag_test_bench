{
 "cells": [
  {
   "cell_type": "code",
   "execution_count": 17,
   "metadata": {},
   "outputs": [],
   "source": [
    "import rosbag\n",
    "import pandas as pd\n",
    "import matplotlib.pyplot as plt\n",
    "import numpy as np\n",
    "import tf\n",
    "from scipy.signal import find_peaks"
   ]
  },
  {
   "cell_type": "code",
   "execution_count": 18,
   "metadata": {},
   "outputs": [],
   "source": [
    "\n",
    "bag = rosbag.Bag('/home/uware/rosbags/25h9_slz_2-4-6-8-10_360_30.bag')\n",
    "\n",
    "# create variables\n",
    "target = 'distance - z'\n",
    "true_value = 'true_distance'\n",
    "\n",
    "# input values in meters. the order matters, it will be used for binning \n",
    "input_vals = [2,4,6]"
   ]
  },
  {
   "cell_type": "code",
   "execution_count": 19,
   "metadata": {},
   "outputs": [],
   "source": [
    "topic = '/tf'\n",
    "\n",
    "rows = []\n",
    "\n",
    "for topic, msg, t in bag.read_messages(topics=topic):\n",
    "    \n",
    "    time = t\n",
    "    distance = msg.transforms[0].transform.translation.z\n",
    "\n",
    "    # print(msg.transforms[0].header.stamp.secs, msg.transforms[0].header.stamp.nsecs)\n",
    "    \n",
    "    # create row\n",
    "    row={'time': time.to_sec(), target: distance}\n",
    "    rows.append(row)\n",
    "\n",
    "df = pd.DataFrame.from_records(rows)"
   ]
  },
  {
   "cell_type": "code",
   "execution_count": 20,
   "metadata": {},
   "outputs": [
    {
     "data": {
      "text/html": [
       "<div>\n",
       "<style scoped>\n",
       "    .dataframe tbody tr th:only-of-type {\n",
       "        vertical-align: middle;\n",
       "    }\n",
       "\n",
       "    .dataframe tbody tr th {\n",
       "        vertical-align: top;\n",
       "    }\n",
       "\n",
       "    .dataframe thead th {\n",
       "        text-align: right;\n",
       "    }\n",
       "</style>\n",
       "<table border=\"1\" class=\"dataframe\">\n",
       "  <thead>\n",
       "    <tr style=\"text-align: right;\">\n",
       "      <th></th>\n",
       "      <th>relative_time</th>\n",
       "      <th>distance - z</th>\n",
       "    </tr>\n",
       "  </thead>\n",
       "  <tbody>\n",
       "    <tr>\n",
       "      <th>0</th>\n",
       "      <td>0.000000</td>\n",
       "      <td>1.908570</td>\n",
       "    </tr>\n",
       "    <tr>\n",
       "      <th>1</th>\n",
       "      <td>0.063482</td>\n",
       "      <td>1.927094</td>\n",
       "    </tr>\n",
       "    <tr>\n",
       "      <th>2</th>\n",
       "      <td>0.776844</td>\n",
       "      <td>2.008212</td>\n",
       "    </tr>\n",
       "    <tr>\n",
       "      <th>3</th>\n",
       "      <td>0.840539</td>\n",
       "      <td>1.999719</td>\n",
       "    </tr>\n",
       "    <tr>\n",
       "      <th>4</th>\n",
       "      <td>0.907908</td>\n",
       "      <td>1.984563</td>\n",
       "    </tr>\n",
       "    <tr>\n",
       "      <th>...</th>\n",
       "      <td>...</td>\n",
       "      <td>...</td>\n",
       "    </tr>\n",
       "    <tr>\n",
       "      <th>1247</th>\n",
       "      <td>126.346909</td>\n",
       "      <td>1.603789</td>\n",
       "    </tr>\n",
       "    <tr>\n",
       "      <th>1248</th>\n",
       "      <td>126.380880</td>\n",
       "      <td>1.573041</td>\n",
       "    </tr>\n",
       "    <tr>\n",
       "      <th>1249</th>\n",
       "      <td>126.413937</td>\n",
       "      <td>1.535043</td>\n",
       "    </tr>\n",
       "    <tr>\n",
       "      <th>1250</th>\n",
       "      <td>126.447239</td>\n",
       "      <td>1.490486</td>\n",
       "    </tr>\n",
       "    <tr>\n",
       "      <th>1251</th>\n",
       "      <td>126.512727</td>\n",
       "      <td>1.455089</td>\n",
       "    </tr>\n",
       "  </tbody>\n",
       "</table>\n",
       "<p>1252 rows × 2 columns</p>\n",
       "</div>"
      ],
      "text/plain": [
       "      relative_time  distance - z\n",
       "0          0.000000      1.908570\n",
       "1          0.063482      1.927094\n",
       "2          0.776844      2.008212\n",
       "3          0.840539      1.999719\n",
       "4          0.907908      1.984563\n",
       "...             ...           ...\n",
       "1247     126.346909      1.603789\n",
       "1248     126.380880      1.573041\n",
       "1249     126.413937      1.535043\n",
       "1250     126.447239      1.490486\n",
       "1251     126.512727      1.455089\n",
       "\n",
       "[1252 rows x 2 columns]"
      ]
     },
     "execution_count": 20,
     "metadata": {},
     "output_type": "execute_result"
    }
   ],
   "source": [
    "# calculate relative time in seconds instead of absolute time\n",
    "df['relative_time'] =  df.loc[0:, 'time'] - df.at[0, 'time']\n",
    "df = df.drop(columns=['time'])\n",
    "df = df[['relative_time', target]]\n",
    "df"
   ]
  },
  {
   "cell_type": "code",
   "execution_count": 21,
   "metadata": {},
   "outputs": [
    {
     "data": {
      "text/plain": [
       "<AxesSubplot:xlabel='relative_time'>"
      ]
     },
     "execution_count": 21,
     "metadata": {},
     "output_type": "execute_result"
    },
    {
     "data": {
      "image/png": "[encoded data removed]",
      "text/plain": [
       "<Figure size 432x288 with 1 Axes>"
      ]
     },
     "metadata": {
      "needs_background": "light"
     },
     "output_type": "display_data"
    }
   ],
   "source": [
    "# initial graph\n",
    "df.plot(x='relative_time', y=target)"
   ]
  },
  {
   "cell_type": "code",
   "execution_count": 22,
   "metadata": {},
   "outputs": [],
   "source": [
    "# find plateaus\n",
    "x = df[target]\n",
    "peaks, _ = find_peaks(x, threshold=(0, 1)) # from find_peaks docs: Threshold: The first element is always interpreted as the minimal and the second, if supplied, as the maximal required threshold."
   ]
  },
  {
   "cell_type": "code",
   "execution_count": 23,
   "metadata": {},
   "outputs": [
    {
     "data": {
      "text/plain": [
       "245"
      ]
     },
     "execution_count": 23,
     "metadata": {},
     "output_type": "execute_result"
    }
   ],
   "source": [
    "# the amount of data points we are left with\n",
    "len(x[peaks])"
   ]
  },
  {
   "cell_type": "code",
   "execution_count": 24,
   "metadata": {},
   "outputs": [],
   "source": [
    "# create filtered data frame\n",
    "df_filtered_by_targets = df.loc[peaks]"
   ]
  },
  {
   "cell_type": "code",
   "execution_count": 25,
   "metadata": {},
   "outputs": [
    {
     "data": {
      "text/plain": [
       "<AxesSubplot:xlabel='relative_time', ylabel='distance - z'>"
      ]
     },
     "execution_count": 25,
     "metadata": {},
     "output_type": "execute_result"
    },
    {
     "data": {
      "image/png": "[encoded data removed]",
      "text/plain": [
       "<Figure size 432x288 with 1 Axes>"
      ]
     },
     "metadata": {
      "needs_background": "light"
     },
     "output_type": "display_data"
    }
   ],
   "source": [
    "df_filtered_by_targets.plot.scatter(x='relative_time', y=target)"
   ]
  },
  {
   "cell_type": "code",
   "execution_count": 26,
   "metadata": {},
   "outputs": [
    {
     "data": {
      "text/plain": [
       "245"
      ]
     },
     "execution_count": 26,
     "metadata": {},
     "output_type": "execute_result"
    }
   ],
   "source": [
    "# segmenting/binning by real value\n",
    "df_filtered_by_targets[true_value] = pd.cut(df_filtered_by_targets[target], bins=len(input_vals), labels=input_vals)\n",
    "len(df_filtered_by_targets)"
   ]
  },
  {
   "cell_type": "code",
   "execution_count": 27,
   "metadata": {},
   "outputs": [],
   "source": [
    "# calculate the error\n",
    "df_filtered_by_targets['error'] =  df_filtered_by_targets.apply(lambda row: row[true_value] - row[target], axis=1)"
   ]
  },
  {
   "cell_type": "code",
   "execution_count": 28,
   "metadata": {},
   "outputs": [],
   "source": [
    "grouped_df = df_filtered_by_targets.groupby(true_value)"
   ]
  },
  {
   "cell_type": "code",
   "execution_count": 29,
   "metadata": {},
   "outputs": [
    {
     "data": {
      "text/html": [
       "<div>\n",
       "<style scoped>\n",
       "    .dataframe tbody tr th:only-of-type {\n",
       "        vertical-align: middle;\n",
       "    }\n",
       "\n",
       "    .dataframe tbody tr th {\n",
       "        vertical-align: top;\n",
       "    }\n",
       "\n",
       "    .dataframe thead th {\n",
       "        text-align: right;\n",
       "    }\n",
       "</style>\n",
       "<table border=\"1\" class=\"dataframe\">\n",
       "  <thead>\n",
       "    <tr style=\"text-align: right;\">\n",
       "      <th></th>\n",
       "      <th>relative_time</th>\n",
       "      <th>distance - z</th>\n",
       "      <th>true_distance</th>\n",
       "      <th>error</th>\n",
       "    </tr>\n",
       "  </thead>\n",
       "  <tbody>\n",
       "    <tr>\n",
       "      <th>2</th>\n",
       "      <td>0.776844</td>\n",
       "      <td>2.008212</td>\n",
       "      <td>2</td>\n",
       "      <td>-0.008212</td>\n",
       "    </tr>\n",
       "    <tr>\n",
       "      <th>6</th>\n",
       "      <td>1.038972</td>\n",
       "      <td>1.980636</td>\n",
       "      <td>2</td>\n",
       "      <td>0.019364</td>\n",
       "    </tr>\n",
       "    <tr>\n",
       "      <th>579</th>\n",
       "      <td>23.683247</td>\n",
       "      <td>3.765623</td>\n",
       "      <td>4</td>\n",
       "      <td>0.234377</td>\n",
       "    </tr>\n",
       "    <tr>\n",
       "      <th>585</th>\n",
       "      <td>24.115516</td>\n",
       "      <td>3.913355</td>\n",
       "      <td>4</td>\n",
       "      <td>0.086645</td>\n",
       "    </tr>\n",
       "    <tr>\n",
       "      <th>1198</th>\n",
       "      <td>45.686358</td>\n",
       "      <td>4.912327</td>\n",
       "      <td>6</td>\n",
       "      <td>1.087673</td>\n",
       "    </tr>\n",
       "    <tr>\n",
       "      <th>1203</th>\n",
       "      <td>45.883427</td>\n",
       "      <td>4.978627</td>\n",
       "      <td>6</td>\n",
       "      <td>1.021373</td>\n",
       "    </tr>\n",
       "  </tbody>\n",
       "</table>\n",
       "</div>"
      ],
      "text/plain": [
       "      relative_time  distance - z true_distance     error\n",
       "2          0.776844      2.008212             2 -0.008212\n",
       "6          1.038972      1.980636             2  0.019364\n",
       "579       23.683247      3.765623             4  0.234377\n",
       "585       24.115516      3.913355             4  0.086645\n",
       "1198      45.686358      4.912327             6  1.087673\n",
       "1203      45.883427      4.978627             6  1.021373"
      ]
     },
     "execution_count": 29,
     "metadata": {},
     "output_type": "execute_result"
    }
   ],
   "source": [
    "# verify if the bins are in correct order, this is dictated by input_vals order\n",
    "grouped_df.head(2)"
   ]
  },
  {
   "cell_type": "code",
   "execution_count": 30,
   "metadata": {},
   "outputs": [
    {
     "data": {
      "text/html": [
       "<div>\n",
       "<style scoped>\n",
       "    .dataframe tbody tr th:only-of-type {\n",
       "        vertical-align: middle;\n",
       "    }\n",
       "\n",
       "    .dataframe tbody tr th {\n",
       "        vertical-align: top;\n",
       "    }\n",
       "\n",
       "    .dataframe thead th {\n",
       "        text-align: right;\n",
       "    }\n",
       "</style>\n",
       "<table border=\"1\" class=\"dataframe\">\n",
       "  <thead>\n",
       "    <tr style=\"text-align: right;\">\n",
       "      <th></th>\n",
       "      <th>count</th>\n",
       "      <th>mean</th>\n",
       "      <th>std</th>\n",
       "      <th>min</th>\n",
       "      <th>25%</th>\n",
       "      <th>50%</th>\n",
       "      <th>75%</th>\n",
       "      <th>max</th>\n",
       "    </tr>\n",
       "    <tr>\n",
       "      <th>true_distance</th>\n",
       "      <th></th>\n",
       "      <th></th>\n",
       "      <th></th>\n",
       "      <th></th>\n",
       "      <th></th>\n",
       "      <th></th>\n",
       "      <th></th>\n",
       "      <th></th>\n",
       "    </tr>\n",
       "  </thead>\n",
       "  <tbody>\n",
       "    <tr>\n",
       "      <th>2</th>\n",
       "      <td>110.0</td>\n",
       "      <td>0.028930</td>\n",
       "      <td>0.005381</td>\n",
       "      <td>-0.008212</td>\n",
       "      <td>0.027174</td>\n",
       "      <td>0.030445</td>\n",
       "      <td>0.032011</td>\n",
       "      <td>0.035209</td>\n",
       "    </tr>\n",
       "    <tr>\n",
       "      <th>4</th>\n",
       "      <td>122.0</td>\n",
       "      <td>0.100684</td>\n",
       "      <td>0.021783</td>\n",
       "      <td>0.002069</td>\n",
       "      <td>0.096158</td>\n",
       "      <td>0.101553</td>\n",
       "      <td>0.105245</td>\n",
       "      <td>0.234377</td>\n",
       "    </tr>\n",
       "    <tr>\n",
       "      <th>6</th>\n",
       "      <td>13.0</td>\n",
       "      <td>0.476063</td>\n",
       "      <td>0.378139</td>\n",
       "      <td>-0.345334</td>\n",
       "      <td>0.322262</td>\n",
       "      <td>0.336205</td>\n",
       "      <td>0.770572</td>\n",
       "      <td>1.087673</td>\n",
       "    </tr>\n",
       "  </tbody>\n",
       "</table>\n",
       "</div>"
      ],
      "text/plain": [
       "               count      mean       std       min       25%       50%  \\\n",
       "true_distance                                                            \n",
       "2              110.0  0.028930  0.005381 -0.008212  0.027174  0.030445   \n",
       "4              122.0  0.100684  0.021783  0.002069  0.096158  0.101553   \n",
       "6               13.0  0.476063  0.378139 -0.345334  0.322262  0.336205   \n",
       "\n",
       "                    75%       max  \n",
       "true_distance                      \n",
       "2              0.032011  0.035209  \n",
       "4              0.105245  0.234377  \n",
       "6              0.770572  1.087673  "
      ]
     },
     "execution_count": 30,
     "metadata": {},
     "output_type": "execute_result"
    }
   ],
   "source": [
    "grouped_df.error.describe()"
   ]
  },
  {
   "cell_type": "code",
   "execution_count": 31,
   "metadata": {},
   "outputs": [],
   "source": [
    "def box_plotter(column_name):\n",
    "    fig, axes = plt.subplots(1,len(input_vals))\n",
    "\n",
    "    for i, val in enumerate(input_vals):\n",
    "        grouped_df.get_group(val).boxplot(column=column_name, ax=axes.flatten()[i])\n",
    "        axes.flatten()[i].set_title(val)\n",
    "\n",
    "\n",
    "    plt.tight_layout()\n",
    "    plt.show()"
   ]
  },
  {
   "cell_type": "code",
   "execution_count": 32,
   "metadata": {},
   "outputs": [
    {
     "data": {
      "image/png": "[encoded data removed]",
      "text/plain": [
       "<Figure size 432x288 with 3 Axes>"
      ]
     },
     "metadata": {
      "needs_background": "light"
     },
     "output_type": "display_data"
    }
   ],
   "source": [
    "box_plotter(target)"
   ]
  },
  {
   "cell_type": "code",
   "execution_count": 33,
   "metadata": {},
   "outputs": [
    {
     "data": {
      "image/png": "[encoded data removed]",
      "text/plain": [
       "<Figure size 432x288 with 3 Axes>"
      ]
     },
     "metadata": {
      "needs_background": "light"
     },
     "output_type": "display_data"
    }
   ],
   "source": [
    "box_plotter('error')"
   ]
  }
 ],
 "metadata": {
  "kernelspec": {
   "display_name": "Python 3 (ipykernel)",
   "language": "python",
   "name": "python3"
  },
  "language_info": {
   "codemirror_mode": {
    "name": "ipython",
    "version": 3
   },
   "file_extension": ".py",
   "mimetype": "text/x-python",
   "name": "python",
   "nbconvert_exporter": "python",
   "pygments_lexer": "ipython3",
   "version": "3.8.10"
  },
  "orig_nbformat": 4
 },
 "nbformat": 4,
 "nbformat_minor": 2
}
