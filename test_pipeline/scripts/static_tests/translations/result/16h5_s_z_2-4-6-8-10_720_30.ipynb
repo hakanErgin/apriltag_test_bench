{
    "cells": [
        {
            "cell_type": "code",
            "execution_count": 69,
            "metadata": {},
            "outputs": [],
            "source": [
                "import rosbag\n",
                "import pandas as pd\n",
                "import matplotlib.pyplot as plt\n",
                "import numpy as np\n",
                "import tf\n",
                "from scipy.signal import find_peaks"
            ]
        },
        {
            "cell_type": "code",
            "execution_count": 70,
            "metadata": {},
            "outputs": [],
            "source": [
                "\n",
                "bag = rosbag.Bag('/home/hakanergin/code/rosbags/static/translation/16h5_s_z_2-4-6-8-10_720_30.bag')\n",
                "\n",
                "# create variables\n",
                "target = 'distance - z'\n",
                "true_value = 'true_distance'\n",
                "\n",
                "# input values in meters. the order matters, it will be used for binning \n",
                "input_vals = [2,4,6,8,10]"
            ]
        },
        {
            "cell_type": "code",
            "execution_count": 71,
            "metadata": {},
            "outputs": [],
            "source": [
                "topic = '/tf'\n",
                "\n",
                "rows = []\n",
                "\n",
                "for topic, msg, t in bag.read_messages(topics=topic):\n",
                "    \n",
                "    time = t\n",
                "    distance = msg.transforms[0].transform.translation.z\n",
                "\n",
                "    # print(msg.transforms[0].header.stamp.secs, msg.transforms[0].header.stamp.nsecs)\n",
                "    \n",
                "    # create row\n",
                "    row={'time': time.to_sec(), target: distance}\n",
                "    rows.append(row)\n",
                "\n",
                "df = pd.DataFrame.from_records(rows)"
            ]
        },
        {
            "cell_type": "code",
            "execution_count": 72,
            "metadata": {},
            "outputs": [
                {
                    "data": {
                        "text/html": [
                            "<div>\n",
                            "<style scoped>\n",
                            "    .dataframe tbody tr th:only-of-type {\n",
                            "        vertical-align: middle;\n",
                            "    }\n",
                            "\n",
                            "    .dataframe tbody tr th {\n",
                            "        vertical-align: top;\n",
                            "    }\n",
                            "\n",
                            "    .dataframe thead th {\n",
                            "        text-align: right;\n",
                            "    }\n",
                            "</style>\n",
                            "<table border=\"1\" class=\"dataframe\">\n",
                            "  <thead>\n",
                            "    <tr style=\"text-align: right;\">\n",
                            "      <th></th>\n",
                            "      <th>relative_time</th>\n",
                            "      <th>distance - z</th>\n",
                            "    </tr>\n",
                            "  </thead>\n",
                            "  <tbody>\n",
                            "    <tr>\n",
                            "      <th>0</th>\n",
                            "      <td>0.000000</td>\n",
                            "      <td>8.782432</td>\n",
                            "    </tr>\n",
                            "    <tr>\n",
                            "      <th>1</th>\n",
                            "      <td>0.521732</td>\n",
                            "      <td>2.607496</td>\n",
                            "    </tr>\n",
                            "    <tr>\n",
                            "      <th>2</th>\n",
                            "      <td>2.643071</td>\n",
                            "      <td>12.019321</td>\n",
                            "    </tr>\n",
                            "    <tr>\n",
                            "      <th>3</th>\n",
                            "      <td>2.998963</td>\n",
                            "      <td>4.597394</td>\n",
                            "    </tr>\n",
                            "    <tr>\n",
                            "      <th>4</th>\n",
                            "      <td>8.204559</td>\n",
                            "      <td>2.089604</td>\n",
                            "    </tr>\n",
                            "    <tr>\n",
                            "      <th>...</th>\n",
                            "      <td>...</td>\n",
                            "      <td>...</td>\n",
                            "    </tr>\n",
                            "    <tr>\n",
                            "      <th>1030</th>\n",
                            "      <td>113.340234</td>\n",
                            "      <td>12.615003</td>\n",
                            "    </tr>\n",
                            "    <tr>\n",
                            "      <th>1031</th>\n",
                            "      <td>115.551266</td>\n",
                            "      <td>8.821924</td>\n",
                            "    </tr>\n",
                            "    <tr>\n",
                            "      <th>1032</th>\n",
                            "      <td>116.892225</td>\n",
                            "      <td>5.399960</td>\n",
                            "    </tr>\n",
                            "    <tr>\n",
                            "      <th>1033</th>\n",
                            "      <td>118.157073</td>\n",
                            "      <td>2.410818</td>\n",
                            "    </tr>\n",
                            "    <tr>\n",
                            "      <th>1034</th>\n",
                            "      <td>118.751303</td>\n",
                            "      <td>10.929875</td>\n",
                            "    </tr>\n",
                            "  </tbody>\n",
                            "</table>\n",
                            "<p>1035 rows × 2 columns</p>\n",
                            "</div>"
                        ],
                        "text/plain": [
                            "      relative_time  distance - z\n",
                            "0          0.000000      8.782432\n",
                            "1          0.521732      2.607496\n",
                            "2          2.643071     12.019321\n",
                            "3          2.998963      4.597394\n",
                            "4          8.204559      2.089604\n",
                            "...             ...           ...\n",
                            "1030     113.340234     12.615003\n",
                            "1031     115.551266      8.821924\n",
                            "1032     116.892225      5.399960\n",
                            "1033     118.157073      2.410818\n",
                            "1034     118.751303     10.929875\n",
                            "\n",
                            "[1035 rows x 2 columns]"
                        ]
                    },
                    "execution_count": 72,
                    "metadata": {},
                    "output_type": "execute_result"
                }
            ],
            "source": [
                "# calculate relative time in seconds instead of absolute time\n",
                "df['relative_time'] =  df.loc[0:, 'time'] - df.at[0, 'time']\n",
                "df = df.drop(columns=['time'])\n",
                "df = df[['relative_time', target]]\n",
                "df"
            ]
        },
        {
            "cell_type": "code",
            "execution_count": 73,
            "metadata": {},
            "outputs": [
                {
                    "data": {
                        "text/plain": [
                            "<AxesSubplot:xlabel='relative_time'>"
                        ]
                    },
                    "execution_count": 73,
                    "metadata": {},
                    "output_type": "execute_result"
                },
                {
                    "data": {
                        "image/png": "[encoded data removed]",
                        "text/plain": [
                            "<Figure size 432x288 with 1 Axes>"
                        ]
                    },
                    "metadata": {
                        "needs_background": "light"
                    },
                    "output_type": "display_data"
                }
            ],
            "source": [
                "# initial graph\n",
                "df.plot(x='relative_time', y=target)"
            ]
        },
        {
            "cell_type": "code",
            "execution_count": 74,
            "metadata": {},
            "outputs": [],
            "source": [
                "# find plateaus\n",
                "x = df[target]\n",
                "peaks, _ = find_peaks(x, threshold=(0, .01)) # from find_peaks docs: Threshold: The first element is always interpreted as the minimal and the second, if supplied, as the maximal required threshold."
            ]
        },
        {
            "cell_type": "code",
            "execution_count": 75,
            "metadata": {},
            "outputs": [
                {
                    "data": {
                        "text/plain": [
                            "126"
                        ]
                    },
                    "execution_count": 75,
                    "metadata": {},
                    "output_type": "execute_result"
                }
            ],
            "source": [
                "# the amount of data points we are left with\n",
                "len(x[peaks])"
            ]
        },
        {
            "cell_type": "code",
            "execution_count": 76,
            "metadata": {},
            "outputs": [],
            "source": [
                "# create filtered data frame\n",
                "df_filtered_by_targets = df.loc[peaks]"
            ]
        },
        {
            "cell_type": "code",
            "execution_count": 77,
            "metadata": {},
            "outputs": [
                {
                    "data": {
                        "text/plain": [
                            "<AxesSubplot:xlabel='relative_time', ylabel='distance - z'>"
                        ]
                    },
                    "execution_count": 77,
                    "metadata": {},
                    "output_type": "execute_result"
                },
                {
                    "data": {
                        "image/png": "[encoded data removed]",
                        "text/plain": [
                            "<Figure size 432x288 with 1 Axes>"
                        ]
                    },
                    "metadata": {
                        "needs_background": "light"
                    },
                    "output_type": "display_data"
                }
            ],
            "source": [
                "df_filtered_by_targets.plot.scatter(x='relative_time', y=target)"
            ]
        },
        {
            "cell_type": "code",
            "execution_count": 78,
            "metadata": {},
            "outputs": [
                {
                    "data": {
                        "text/html": [
                            "<div>\n",
                            "<style scoped>\n",
                            "    .dataframe tbody tr th:only-of-type {\n",
                            "        vertical-align: middle;\n",
                            "    }\n",
                            "\n",
                            "    .dataframe tbody tr th {\n",
                            "        vertical-align: top;\n",
                            "    }\n",
                            "\n",
                            "    .dataframe thead th {\n",
                            "        text-align: right;\n",
                            "    }\n",
                            "</style>\n",
                            "<table border=\"1\" class=\"dataframe\">\n",
                            "  <thead>\n",
                            "    <tr style=\"text-align: right;\">\n",
                            "      <th></th>\n",
                            "      <th>relative_time</th>\n",
                            "      <th>distance - z</th>\n",
                            "      <th>true_distance</th>\n",
                            "    </tr>\n",
                            "  </thead>\n",
                            "  <tbody>\n",
                            "    <tr>\n",
                            "      <th>25</th>\n",
                            "      <td>10.095030</td>\n",
                            "      <td>1.988969</td>\n",
                            "      <td>2</td>\n",
                            "    </tr>\n",
                            "    <tr>\n",
                            "      <th>29</th>\n",
                            "      <td>10.445126</td>\n",
                            "      <td>1.981787</td>\n",
                            "      <td>2</td>\n",
                            "    </tr>\n",
                            "    <tr>\n",
                            "      <th>36</th>\n",
                            "      <td>11.077830</td>\n",
                            "      <td>1.983022</td>\n",
                            "      <td>2</td>\n",
                            "    </tr>\n",
                            "    <tr>\n",
                            "      <th>40</th>\n",
                            "      <td>11.441707</td>\n",
                            "      <td>1.979422</td>\n",
                            "      <td>2</td>\n",
                            "    </tr>\n",
                            "    <tr>\n",
                            "      <th>43</th>\n",
                            "      <td>11.714670</td>\n",
                            "      <td>1.974954</td>\n",
                            "      <td>2</td>\n",
                            "    </tr>\n",
                            "    <tr>\n",
                            "      <th>...</th>\n",
                            "      <td>...</td>\n",
                            "      <td>...</td>\n",
                            "      <td>...</td>\n",
                            "    </tr>\n",
                            "    <tr>\n",
                            "      <th>957</th>\n",
                            "      <td>104.233259</td>\n",
                            "      <td>9.794761</td>\n",
                            "      <td>10</td>\n",
                            "    </tr>\n",
                            "    <tr>\n",
                            "      <th>965</th>\n",
                            "      <td>104.786744</td>\n",
                            "      <td>9.790002</td>\n",
                            "      <td>10</td>\n",
                            "    </tr>\n",
                            "    <tr>\n",
                            "      <th>1002</th>\n",
                            "      <td>108.121137</td>\n",
                            "      <td>9.795913</td>\n",
                            "      <td>10</td>\n",
                            "    </tr>\n",
                            "    <tr>\n",
                            "      <th>1008</th>\n",
                            "      <td>108.705643</td>\n",
                            "      <td>9.798352</td>\n",
                            "      <td>10</td>\n",
                            "    </tr>\n",
                            "    <tr>\n",
                            "      <th>1011</th>\n",
                            "      <td>108.985179</td>\n",
                            "      <td>9.802371</td>\n",
                            "      <td>10</td>\n",
                            "    </tr>\n",
                            "  </tbody>\n",
                            "</table>\n",
                            "<p>126 rows × 3 columns</p>\n",
                            "</div>"
                        ],
                        "text/plain": [
                            "      relative_time  distance - z true_distance\n",
                            "25        10.095030      1.988969             2\n",
                            "29        10.445126      1.981787             2\n",
                            "36        11.077830      1.983022             2\n",
                            "40        11.441707      1.979422             2\n",
                            "43        11.714670      1.974954             2\n",
                            "...             ...           ...           ...\n",
                            "957      104.233259      9.794761            10\n",
                            "965      104.786744      9.790002            10\n",
                            "1002     108.121137      9.795913            10\n",
                            "1008     108.705643      9.798352            10\n",
                            "1011     108.985179      9.802371            10\n",
                            "\n",
                            "[126 rows x 3 columns]"
                        ]
                    },
                    "execution_count": 78,
                    "metadata": {},
                    "output_type": "execute_result"
                }
            ],
            "source": [
                "# segmenting/binning by real value\n",
                "df_filtered_by_targets[true_value] = pd.cut(df_filtered_by_targets[target], bins=len(input_vals), labels=input_vals)\n",
                "df_filtered_by_targets"
            ]
        },
        {
            "cell_type": "code",
            "execution_count": 79,
            "metadata": {},
            "outputs": [],
            "source": [
                "# calculate the error\n",
                "df_filtered_by_targets['error'] =  df_filtered_by_targets.apply(lambda row: row[true_value] - row[target], axis=1)"
            ]
        },
        {
            "cell_type": "code",
            "execution_count": 80,
            "metadata": {},
            "outputs": [],
            "source": [
                "grouped_df = df_filtered_by_targets.groupby(true_value)"
            ]
        },
        {
            "cell_type": "code",
            "execution_count": 81,
            "metadata": {},
            "outputs": [
                {
                    "data": {
                        "text/html": [
                            "<div>\n",
                            "<style scoped>\n",
                            "    .dataframe tbody tr th:only-of-type {\n",
                            "        vertical-align: middle;\n",
                            "    }\n",
                            "\n",
                            "    .dataframe tbody tr th {\n",
                            "        vertical-align: top;\n",
                            "    }\n",
                            "\n",
                            "    .dataframe thead th {\n",
                            "        text-align: right;\n",
                            "    }\n",
                            "</style>\n",
                            "<table border=\"1\" class=\"dataframe\">\n",
                            "  <thead>\n",
                            "    <tr style=\"text-align: right;\">\n",
                            "      <th></th>\n",
                            "      <th>relative_time</th>\n",
                            "      <th>distance - z</th>\n",
                            "      <th>true_distance</th>\n",
                            "      <th>error</th>\n",
                            "    </tr>\n",
                            "  </thead>\n",
                            "  <tbody>\n",
                            "    <tr>\n",
                            "      <th>183</th>\n",
                            "      <td>24.752275</td>\n",
                            "      <td>1.975847</td>\n",
                            "      <td>2</td>\n",
                            "      <td>0.024153</td>\n",
                            "    </tr>\n",
                            "    <tr>\n",
                            "      <th>188</th>\n",
                            "      <td>25.199072</td>\n",
                            "      <td>1.976624</td>\n",
                            "      <td>2</td>\n",
                            "      <td>0.023376</td>\n",
                            "    </tr>\n",
                            "    <tr>\n",
                            "      <th>194</th>\n",
                            "      <td>25.806198</td>\n",
                            "      <td>1.973280</td>\n",
                            "      <td>2</td>\n",
                            "      <td>0.026720</td>\n",
                            "    </tr>\n",
                            "    <tr>\n",
                            "      <th>379</th>\n",
                            "      <td>43.954669</td>\n",
                            "      <td>3.965543</td>\n",
                            "      <td>4</td>\n",
                            "      <td>0.034457</td>\n",
                            "    </tr>\n",
                            "    <tr>\n",
                            "      <th>384</th>\n",
                            "      <td>44.402091</td>\n",
                            "      <td>3.969175</td>\n",
                            "      <td>4</td>\n",
                            "      <td>0.030825</td>\n",
                            "    </tr>\n",
                            "    <tr>\n",
                            "      <th>386</th>\n",
                            "      <td>44.584923</td>\n",
                            "      <td>3.969006</td>\n",
                            "      <td>4</td>\n",
                            "      <td>0.030994</td>\n",
                            "    </tr>\n",
                            "    <tr>\n",
                            "      <th>559</th>\n",
                            "      <td>63.143780</td>\n",
                            "      <td>6.009527</td>\n",
                            "      <td>6</td>\n",
                            "      <td>-0.009527</td>\n",
                            "    </tr>\n",
                            "    <tr>\n",
                            "      <th>561</th>\n",
                            "      <td>63.331070</td>\n",
                            "      <td>6.012574</td>\n",
                            "      <td>6</td>\n",
                            "      <td>-0.012574</td>\n",
                            "    </tr>\n",
                            "    <tr>\n",
                            "      <th>567</th>\n",
                            "      <td>63.897462</td>\n",
                            "      <td>6.009624</td>\n",
                            "      <td>6</td>\n",
                            "      <td>-0.009624</td>\n",
                            "    </tr>\n",
                            "    <tr>\n",
                            "      <th>770</th>\n",
                            "      <td>85.908602</td>\n",
                            "      <td>7.936924</td>\n",
                            "      <td>8</td>\n",
                            "      <td>0.063076</td>\n",
                            "    </tr>\n",
                            "    <tr>\n",
                            "      <th>773</th>\n",
                            "      <td>86.217751</td>\n",
                            "      <td>7.939435</td>\n",
                            "      <td>8</td>\n",
                            "      <td>0.060565</td>\n",
                            "    </tr>\n",
                            "    <tr>\n",
                            "      <th>780</th>\n",
                            "      <td>86.875518</td>\n",
                            "      <td>7.936579</td>\n",
                            "      <td>8</td>\n",
                            "      <td>0.063421</td>\n",
                            "    </tr>\n",
                            "    <tr>\n",
                            "      <th>1002</th>\n",
                            "      <td>108.121137</td>\n",
                            "      <td>9.795913</td>\n",
                            "      <td>10</td>\n",
                            "      <td>0.204087</td>\n",
                            "    </tr>\n",
                            "    <tr>\n",
                            "      <th>1008</th>\n",
                            "      <td>108.705643</td>\n",
                            "      <td>9.798352</td>\n",
                            "      <td>10</td>\n",
                            "      <td>0.201648</td>\n",
                            "    </tr>\n",
                            "    <tr>\n",
                            "      <th>1011</th>\n",
                            "      <td>108.985179</td>\n",
                            "      <td>9.802371</td>\n",
                            "      <td>10</td>\n",
                            "      <td>0.197629</td>\n",
                            "    </tr>\n",
                            "  </tbody>\n",
                            "</table>\n",
                            "</div>"
                        ],
                        "text/plain": [
                            "      relative_time  distance - z true_distance     error\n",
                            "183       24.752275      1.975847             2  0.024153\n",
                            "188       25.199072      1.976624             2  0.023376\n",
                            "194       25.806198      1.973280             2  0.026720\n",
                            "379       43.954669      3.965543             4  0.034457\n",
                            "384       44.402091      3.969175             4  0.030825\n",
                            "386       44.584923      3.969006             4  0.030994\n",
                            "559       63.143780      6.009527             6 -0.009527\n",
                            "561       63.331070      6.012574             6 -0.012574\n",
                            "567       63.897462      6.009624             6 -0.009624\n",
                            "770       85.908602      7.936924             8  0.063076\n",
                            "773       86.217751      7.939435             8  0.060565\n",
                            "780       86.875518      7.936579             8  0.063421\n",
                            "1002     108.121137      9.795913            10  0.204087\n",
                            "1008     108.705643      9.798352            10  0.201648\n",
                            "1011     108.985179      9.802371            10  0.197629"
                        ]
                    },
                    "execution_count": 81,
                    "metadata": {},
                    "output_type": "execute_result"
                }
            ],
            "source": [
                "# verify if the bins are in correct order, this is dictated by input_vals order\n",
                "grouped_df.tail(3)"
            ]
        },
        {
            "cell_type": "code",
            "execution_count": 82,
            "metadata": {},
            "outputs": [
                {
                    "data": {
                        "text/html": [
                            "<div>\n",
                            "<style scoped>\n",
                            "    .dataframe tbody tr th:only-of-type {\n",
                            "        vertical-align: middle;\n",
                            "    }\n",
                            "\n",
                            "    .dataframe tbody tr th {\n",
                            "        vertical-align: top;\n",
                            "    }\n",
                            "\n",
                            "    .dataframe thead th {\n",
                            "        text-align: right;\n",
                            "    }\n",
                            "</style>\n",
                            "<table border=\"1\" class=\"dataframe\">\n",
                            "  <thead>\n",
                            "    <tr style=\"text-align: right;\">\n",
                            "      <th></th>\n",
                            "      <th>count</th>\n",
                            "      <th>mean</th>\n",
                            "      <th>std</th>\n",
                            "      <th>min</th>\n",
                            "      <th>25%</th>\n",
                            "      <th>50%</th>\n",
                            "      <th>75%</th>\n",
                            "      <th>max</th>\n",
                            "    </tr>\n",
                            "    <tr>\n",
                            "      <th>true_distance</th>\n",
                            "      <th></th>\n",
                            "      <th></th>\n",
                            "      <th></th>\n",
                            "      <th></th>\n",
                            "      <th></th>\n",
                            "      <th></th>\n",
                            "      <th></th>\n",
                            "      <th></th>\n",
                            "    </tr>\n",
                            "  </thead>\n",
                            "  <tbody>\n",
                            "    <tr>\n",
                            "      <th>2</th>\n",
                            "      <td>39.0</td>\n",
                            "      <td>0.021291</td>\n",
                            "      <td>0.004381</td>\n",
                            "      <td>0.011031</td>\n",
                            "      <td>0.017671</td>\n",
                            "      <td>0.021213</td>\n",
                            "      <td>0.024907</td>\n",
                            "      <td>0.029044</td>\n",
                            "    </tr>\n",
                            "    <tr>\n",
                            "      <th>4</th>\n",
                            "      <td>29.0</td>\n",
                            "      <td>0.034259</td>\n",
                            "      <td>0.007442</td>\n",
                            "      <td>0.020051</td>\n",
                            "      <td>0.029031</td>\n",
                            "      <td>0.034047</td>\n",
                            "      <td>0.041196</td>\n",
                            "      <td>0.045940</td>\n",
                            "    </tr>\n",
                            "    <tr>\n",
                            "      <th>6</th>\n",
                            "      <td>15.0</td>\n",
                            "      <td>0.007378</td>\n",
                            "      <td>0.013531</td>\n",
                            "      <td>-0.012574</td>\n",
                            "      <td>-0.004202</td>\n",
                            "      <td>0.006456</td>\n",
                            "      <td>0.020478</td>\n",
                            "      <td>0.027191</td>\n",
                            "    </tr>\n",
                            "    <tr>\n",
                            "      <th>8</th>\n",
                            "      <td>23.0</td>\n",
                            "      <td>0.072056</td>\n",
                            "      <td>0.019338</td>\n",
                            "      <td>0.013080</td>\n",
                            "      <td>0.062094</td>\n",
                            "      <td>0.070143</td>\n",
                            "      <td>0.084080</td>\n",
                            "      <td>0.106280</td>\n",
                            "    </tr>\n",
                            "    <tr>\n",
                            "      <th>10</th>\n",
                            "      <td>20.0</td>\n",
                            "      <td>0.190948</td>\n",
                            "      <td>0.017860</td>\n",
                            "      <td>0.142863</td>\n",
                            "      <td>0.185516</td>\n",
                            "      <td>0.192848</td>\n",
                            "      <td>0.203893</td>\n",
                            "      <td>0.212590</td>\n",
                            "    </tr>\n",
                            "  </tbody>\n",
                            "</table>\n",
                            "</div>"
                        ],
                        "text/plain": [
                            "               count      mean       std       min       25%       50%  \\\n",
                            "true_distance                                                            \n",
                            "2               39.0  0.021291  0.004381  0.011031  0.017671  0.021213   \n",
                            "4               29.0  0.034259  0.007442  0.020051  0.029031  0.034047   \n",
                            "6               15.0  0.007378  0.013531 -0.012574 -0.004202  0.006456   \n",
                            "8               23.0  0.072056  0.019338  0.013080  0.062094  0.070143   \n",
                            "10              20.0  0.190948  0.017860  0.142863  0.185516  0.192848   \n",
                            "\n",
                            "                    75%       max  \n",
                            "true_distance                      \n",
                            "2              0.024907  0.029044  \n",
                            "4              0.041196  0.045940  \n",
                            "6              0.020478  0.027191  \n",
                            "8              0.084080  0.106280  \n",
                            "10             0.203893  0.212590  "
                        ]
                    },
                    "execution_count": 82,
                    "metadata": {},
                    "output_type": "execute_result"
                }
            ],
            "source": [
                "grouped_df.error.describe()"
            ]
        },
        {
            "cell_type": "code",
            "execution_count": 83,
            "metadata": {},
            "outputs": [],
            "source": [
                "def box_plotter(column_name):\n",
                "    fig, axes = plt.subplots(1,len(input_vals))\n",
                "\n",
                "    for i, val in enumerate(input_vals):\n",
                "        grouped_df.get_group(val).boxplot(column=column_name, ax=axes.flatten()[i])\n",
                "        axes.flatten()[i].set_title(val)\n",
                "\n",
                "\n",
                "    plt.tight_layout()\n",
                "    plt.show()"
            ]
        },
        {
            "cell_type": "code",
            "execution_count": 84,
            "metadata": {},
            "outputs": [
                {
                    "data": {
                        "image/png": "[encoded data removed]",
                        "text/plain": [
                            "<Figure size 432x288 with 5 Axes>"
                        ]
                    },
                    "metadata": {
                        "needs_background": "light"
                    },
                    "output_type": "display_data"
                }
            ],
            "source": [
                "box_plotter(target)"
            ]
        },
        {
            "cell_type": "code",
            "execution_count": 85,
            "metadata": {},
            "outputs": [
                {
                    "data": {
                        "image/png": "[encoded data removed]",
                        "text/plain": [
                            "<Figure size 432x288 with 5 Axes>"
                        ]
                    },
                    "metadata": {
                        "needs_background": "light"
                    },
                    "output_type": "display_data"
                }
            ],
            "source": [
                "box_plotter('error')"
            ]
        }
    ],
    "metadata": {
        "kernelspec": {
            "display_name": "Python 3 (ipykernel)",
            "language": "python",
            "name": "python3"
        },
        "language_info": {
            "codemirror_mode": {
                "name": "ipython",
                "version": 3
            },
            "file_extension": ".py",
            "mimetype": "text/x-python",
            "name": "python",
            "nbconvert_exporter": "python",
            "pygments_lexer": "ipython3",
            "version": "3.8.10"
        },
        "orig_nbformat": 4
    },
    "nbformat": 4,
    "nbformat_minor": 2
}