{
 "cells": [
  {
   "cell_type": "code",
   "execution_count": 34,
   "metadata": {},
   "outputs": [],
   "source": [
    "import rosbag\n",
    "import pandas as pd\n",
    "import matplotlib.pyplot as plt\n",
    "import numpy as np\n",
    "import tf\n",
    "from scipy.signal import find_peaks"
   ]
  },
  {
   "cell_type": "code",
   "execution_count": 35,
   "metadata": {},
   "outputs": [],
   "source": [
    "\n",
    "bag = rosbag.Bag('/home/uware/rosbags/21h7_slz_2-4-6-8-10_720_30.bag')\n",
    "\n",
    "# create variables\n",
    "target = 'distance - z'\n",
    "true_value = 'true_distance'\n",
    "\n",
    "# input values in meters. the order matters, it will be used for binning \n",
    "input_vals = [2,4,6,8]"
   ]
  },
  {
   "cell_type": "code",
   "execution_count": 36,
   "metadata": {},
   "outputs": [],
   "source": [
    "topic = '/tf'\n",
    "\n",
    "rows = []\n",
    "\n",
    "for topic, msg, t in bag.read_messages(topics=topic):\n",
    "    \n",
    "    time = t\n",
    "    distance = msg.transforms[0].transform.translation.z\n",
    "\n",
    "    # print(msg.transforms[0].header.stamp.secs, msg.transforms[0].header.stamp.nsecs)\n",
    "    \n",
    "    # create row\n",
    "    row={'time': time.to_sec(), target: distance}\n",
    "    rows.append(row)\n",
    "\n",
    "df = pd.DataFrame.from_records(rows)"
   ]
  },
  {
   "cell_type": "code",
   "execution_count": 37,
   "metadata": {},
   "outputs": [
    {
     "data": {
      "text/html": [
       "<div>\n",
       "<style scoped>\n",
       "    .dataframe tbody tr th:only-of-type {\n",
       "        vertical-align: middle;\n",
       "    }\n",
       "\n",
       "    .dataframe tbody tr th {\n",
       "        vertical-align: top;\n",
       "    }\n",
       "\n",
       "    .dataframe thead th {\n",
       "        text-align: right;\n",
       "    }\n",
       "</style>\n",
       "<table border=\"1\" class=\"dataframe\">\n",
       "  <thead>\n",
       "    <tr style=\"text-align: right;\">\n",
       "      <th></th>\n",
       "      <th>relative_time</th>\n",
       "      <th>distance - z</th>\n",
       "    </tr>\n",
       "  </thead>\n",
       "  <tbody>\n",
       "    <tr>\n",
       "      <th>0</th>\n",
       "      <td>0.000000</td>\n",
       "      <td>2.430687</td>\n",
       "    </tr>\n",
       "    <tr>\n",
       "      <th>1</th>\n",
       "      <td>0.218874</td>\n",
       "      <td>2.614680</td>\n",
       "    </tr>\n",
       "    <tr>\n",
       "      <th>2</th>\n",
       "      <td>0.380940</td>\n",
       "      <td>2.629880</td>\n",
       "    </tr>\n",
       "    <tr>\n",
       "      <th>3</th>\n",
       "      <td>0.541120</td>\n",
       "      <td>2.695564</td>\n",
       "    </tr>\n",
       "    <tr>\n",
       "      <th>4</th>\n",
       "      <td>0.697738</td>\n",
       "      <td>2.618116</td>\n",
       "    </tr>\n",
       "    <tr>\n",
       "      <th>...</th>\n",
       "      <td>...</td>\n",
       "      <td>...</td>\n",
       "    </tr>\n",
       "    <tr>\n",
       "      <th>517</th>\n",
       "      <td>96.338140</td>\n",
       "      <td>8.140831</td>\n",
       "    </tr>\n",
       "    <tr>\n",
       "      <th>518</th>\n",
       "      <td>96.511105</td>\n",
       "      <td>8.141663</td>\n",
       "    </tr>\n",
       "    <tr>\n",
       "      <th>519</th>\n",
       "      <td>96.673471</td>\n",
       "      <td>8.141918</td>\n",
       "    </tr>\n",
       "    <tr>\n",
       "      <th>520</th>\n",
       "      <td>96.845557</td>\n",
       "      <td>8.124509</td>\n",
       "    </tr>\n",
       "    <tr>\n",
       "      <th>521</th>\n",
       "      <td>97.006173</td>\n",
       "      <td>8.107044</td>\n",
       "    </tr>\n",
       "  </tbody>\n",
       "</table>\n",
       "<p>522 rows × 2 columns</p>\n",
       "</div>"
      ],
      "text/plain": [
       "     relative_time  distance - z\n",
       "0         0.000000      2.430687\n",
       "1         0.218874      2.614680\n",
       "2         0.380940      2.629880\n",
       "3         0.541120      2.695564\n",
       "4         0.697738      2.618116\n",
       "..             ...           ...\n",
       "517      96.338140      8.140831\n",
       "518      96.511105      8.141663\n",
       "519      96.673471      8.141918\n",
       "520      96.845557      8.124509\n",
       "521      97.006173      8.107044\n",
       "\n",
       "[522 rows x 2 columns]"
      ]
     },
     "execution_count": 37,
     "metadata": {},
     "output_type": "execute_result"
    }
   ],
   "source": [
    "# calculate relative time in seconds instead of absolute time\n",
    "df['relative_time'] =  df.loc[0:, 'time'] - df.at[0, 'time']\n",
    "df = df.drop(columns=['time'])\n",
    "df = df[['relative_time', target]]\n",
    "df"
   ]
  },
  {
   "cell_type": "code",
   "execution_count": 38,
   "metadata": {},
   "outputs": [
    {
     "data": {
      "text/plain": [
       "<AxesSubplot:xlabel='relative_time'>"
      ]
     },
     "execution_count": 38,
     "metadata": {},
     "output_type": "execute_result"
    },
    {
     "data": {
      "image/png": "[encoded data removed]",
      "text/plain": [
       "<Figure size 432x288 with 1 Axes>"
      ]
     },
     "metadata": {
      "needs_background": "light"
     },
     "output_type": "display_data"
    }
   ],
   "source": [
    "# initial graph\n",
    "df.plot(x='relative_time', y=target)"
   ]
  },
  {
   "cell_type": "code",
   "execution_count": 39,
   "metadata": {},
   "outputs": [],
   "source": [
    "# find plateaus\n",
    "x = df[target]\n",
    "peaks, _ = find_peaks(x, threshold=(0, .075)) # from find_peaks docs: Threshold: The first element is always interpreted as the minimal and the second, if supplied, as the maximal required threshold."
   ]
  },
  {
   "cell_type": "code",
   "execution_count": 40,
   "metadata": {},
   "outputs": [
    {
     "data": {
      "text/plain": [
       "119"
      ]
     },
     "execution_count": 40,
     "metadata": {},
     "output_type": "execute_result"
    }
   ],
   "source": [
    "# the amount of data points we are left with\n",
    "len(x[peaks])"
   ]
  },
  {
   "cell_type": "code",
   "execution_count": 41,
   "metadata": {},
   "outputs": [],
   "source": [
    "# create filtered data frame\n",
    "df_filtered_by_targets = df.loc[peaks]"
   ]
  },
  {
   "cell_type": "code",
   "execution_count": 42,
   "metadata": {},
   "outputs": [
    {
     "data": {
      "text/plain": [
       "<AxesSubplot:xlabel='relative_time', ylabel='distance - z'>"
      ]
     },
     "execution_count": 42,
     "metadata": {},
     "output_type": "execute_result"
    },
    {
     "data": {
      "image/png": "[encoded data removed]",
      "text/plain": [
       "<Figure size 432x288 with 1 Axes>"
      ]
     },
     "metadata": {
      "needs_background": "light"
     },
     "output_type": "display_data"
    }
   ],
   "source": [
    "df_filtered_by_targets.plot.scatter(x='relative_time', y=target)"
   ]
  },
  {
   "cell_type": "code",
   "execution_count": 43,
   "metadata": {},
   "outputs": [
    {
     "data": {
      "text/html": [
       "<div>\n",
       "<style scoped>\n",
       "    .dataframe tbody tr th:only-of-type {\n",
       "        vertical-align: middle;\n",
       "    }\n",
       "\n",
       "    .dataframe tbody tr th {\n",
       "        vertical-align: top;\n",
       "    }\n",
       "\n",
       "    .dataframe thead th {\n",
       "        text-align: right;\n",
       "    }\n",
       "</style>\n",
       "<table border=\"1\" class=\"dataframe\">\n",
       "  <thead>\n",
       "    <tr style=\"text-align: right;\">\n",
       "      <th></th>\n",
       "      <th>relative_time</th>\n",
       "      <th>distance - z</th>\n",
       "      <th>true_distance</th>\n",
       "    </tr>\n",
       "  </thead>\n",
       "  <tbody>\n",
       "    <tr>\n",
       "      <th>18</th>\n",
       "      <td>2.936158</td>\n",
       "      <td>2.041478</td>\n",
       "      <td>2</td>\n",
       "    </tr>\n",
       "    <tr>\n",
       "      <th>23</th>\n",
       "      <td>3.913008</td>\n",
       "      <td>2.013368</td>\n",
       "      <td>2</td>\n",
       "    </tr>\n",
       "    <tr>\n",
       "      <th>25</th>\n",
       "      <td>4.237694</td>\n",
       "      <td>2.007004</td>\n",
       "      <td>2</td>\n",
       "    </tr>\n",
       "    <tr>\n",
       "      <th>28</th>\n",
       "      <td>4.719299</td>\n",
       "      <td>2.016744</td>\n",
       "      <td>2</td>\n",
       "    </tr>\n",
       "    <tr>\n",
       "      <th>31</th>\n",
       "      <td>5.200831</td>\n",
       "      <td>2.017338</td>\n",
       "      <td>2</td>\n",
       "    </tr>\n",
       "    <tr>\n",
       "      <th>...</th>\n",
       "      <td>...</td>\n",
       "      <td>...</td>\n",
       "      <td>...</td>\n",
       "    </tr>\n",
       "    <tr>\n",
       "      <th>503</th>\n",
       "      <td>93.171525</td>\n",
       "      <td>8.147755</td>\n",
       "      <td>8</td>\n",
       "    </tr>\n",
       "    <tr>\n",
       "      <th>509</th>\n",
       "      <td>94.672021</td>\n",
       "      <td>8.150569</td>\n",
       "      <td>8</td>\n",
       "    </tr>\n",
       "    <tr>\n",
       "      <th>511</th>\n",
       "      <td>95.001554</td>\n",
       "      <td>8.150294</td>\n",
       "      <td>8</td>\n",
       "    </tr>\n",
       "    <tr>\n",
       "      <th>516</th>\n",
       "      <td>95.835752</td>\n",
       "      <td>8.148643</td>\n",
       "      <td>8</td>\n",
       "    </tr>\n",
       "    <tr>\n",
       "      <th>519</th>\n",
       "      <td>96.673471</td>\n",
       "      <td>8.141918</td>\n",
       "      <td>8</td>\n",
       "    </tr>\n",
       "  </tbody>\n",
       "</table>\n",
       "<p>119 rows × 3 columns</p>\n",
       "</div>"
      ],
      "text/plain": [
       "     relative_time  distance - z true_distance\n",
       "18        2.936158      2.041478             2\n",
       "23        3.913008      2.013368             2\n",
       "25        4.237694      2.007004             2\n",
       "28        4.719299      2.016744             2\n",
       "31        5.200831      2.017338             2\n",
       "..             ...           ...           ...\n",
       "503      93.171525      8.147755             8\n",
       "509      94.672021      8.150569             8\n",
       "511      95.001554      8.150294             8\n",
       "516      95.835752      8.148643             8\n",
       "519      96.673471      8.141918             8\n",
       "\n",
       "[119 rows x 3 columns]"
      ]
     },
     "execution_count": 43,
     "metadata": {},
     "output_type": "execute_result"
    }
   ],
   "source": [
    "# segmenting/binning by real value\n",
    "df_filtered_by_targets[true_value] = pd.cut(df_filtered_by_targets[target], bins=len(input_vals), labels=input_vals)\n",
    "df_filtered_by_targets"
   ]
  },
  {
   "cell_type": "code",
   "execution_count": 44,
   "metadata": {},
   "outputs": [],
   "source": [
    "# calculate the error\n",
    "df_filtered_by_targets['error'] =  df_filtered_by_targets.apply(lambda row: row[true_value] - row[target], axis=1)"
   ]
  },
  {
   "cell_type": "code",
   "execution_count": 45,
   "metadata": {},
   "outputs": [],
   "source": [
    "grouped_df = df_filtered_by_targets.groupby(true_value)"
   ]
  },
  {
   "cell_type": "code",
   "execution_count": 46,
   "metadata": {},
   "outputs": [
    {
     "data": {
      "text/html": [
       "<div>\n",
       "<style scoped>\n",
       "    .dataframe tbody tr th:only-of-type {\n",
       "        vertical-align: middle;\n",
       "    }\n",
       "\n",
       "    .dataframe tbody tr th {\n",
       "        vertical-align: top;\n",
       "    }\n",
       "\n",
       "    .dataframe thead th {\n",
       "        text-align: right;\n",
       "    }\n",
       "</style>\n",
       "<table border=\"1\" class=\"dataframe\">\n",
       "  <thead>\n",
       "    <tr style=\"text-align: right;\">\n",
       "      <th></th>\n",
       "      <th>relative_time</th>\n",
       "      <th>distance - z</th>\n",
       "      <th>true_distance</th>\n",
       "      <th>error</th>\n",
       "    </tr>\n",
       "  </thead>\n",
       "  <tbody>\n",
       "    <tr>\n",
       "      <th>18</th>\n",
       "      <td>2.936158</td>\n",
       "      <td>2.041478</td>\n",
       "      <td>2</td>\n",
       "      <td>-0.041478</td>\n",
       "    </tr>\n",
       "    <tr>\n",
       "      <th>23</th>\n",
       "      <td>3.913008</td>\n",
       "      <td>2.013368</td>\n",
       "      <td>2</td>\n",
       "      <td>-0.013368</td>\n",
       "    </tr>\n",
       "    <tr>\n",
       "      <th>168</th>\n",
       "      <td>29.116024</td>\n",
       "      <td>3.951261</td>\n",
       "      <td>4</td>\n",
       "      <td>0.048739</td>\n",
       "    </tr>\n",
       "    <tr>\n",
       "      <th>176</th>\n",
       "      <td>30.425614</td>\n",
       "      <td>3.974336</td>\n",
       "      <td>4</td>\n",
       "      <td>0.025664</td>\n",
       "    </tr>\n",
       "    <tr>\n",
       "      <th>303</th>\n",
       "      <td>51.598205</td>\n",
       "      <td>5.958337</td>\n",
       "      <td>6</td>\n",
       "      <td>0.041663</td>\n",
       "    </tr>\n",
       "    <tr>\n",
       "      <th>315</th>\n",
       "      <td>53.695579</td>\n",
       "      <td>5.977248</td>\n",
       "      <td>6</td>\n",
       "      <td>0.022752</td>\n",
       "    </tr>\n",
       "    <tr>\n",
       "      <th>431</th>\n",
       "      <td>77.003307</td>\n",
       "      <td>8.151496</td>\n",
       "      <td>8</td>\n",
       "      <td>-0.151496</td>\n",
       "    </tr>\n",
       "    <tr>\n",
       "      <th>435</th>\n",
       "      <td>78.003331</td>\n",
       "      <td>8.172979</td>\n",
       "      <td>8</td>\n",
       "      <td>-0.172979</td>\n",
       "    </tr>\n",
       "  </tbody>\n",
       "</table>\n",
       "</div>"
      ],
      "text/plain": [
       "     relative_time  distance - z true_distance     error\n",
       "18        2.936158      2.041478             2 -0.041478\n",
       "23        3.913008      2.013368             2 -0.013368\n",
       "168      29.116024      3.951261             4  0.048739\n",
       "176      30.425614      3.974336             4  0.025664\n",
       "303      51.598205      5.958337             6  0.041663\n",
       "315      53.695579      5.977248             6  0.022752\n",
       "431      77.003307      8.151496             8 -0.151496\n",
       "435      78.003331      8.172979             8 -0.172979"
      ]
     },
     "execution_count": 46,
     "metadata": {},
     "output_type": "execute_result"
    }
   ],
   "source": [
    "# verify if the bins are in correct order, this is dictated by input_vals order\n",
    "grouped_df.head(2)"
   ]
  },
  {
   "cell_type": "code",
   "execution_count": 47,
   "metadata": {},
   "outputs": [
    {
     "data": {
      "text/html": [
       "<div>\n",
       "<style scoped>\n",
       "    .dataframe tbody tr th:only-of-type {\n",
       "        vertical-align: middle;\n",
       "    }\n",
       "\n",
       "    .dataframe tbody tr th {\n",
       "        vertical-align: top;\n",
       "    }\n",
       "\n",
       "    .dataframe thead th {\n",
       "        text-align: right;\n",
       "    }\n",
       "</style>\n",
       "<table border=\"1\" class=\"dataframe\">\n",
       "  <thead>\n",
       "    <tr style=\"text-align: right;\">\n",
       "      <th></th>\n",
       "      <th>count</th>\n",
       "      <th>mean</th>\n",
       "      <th>std</th>\n",
       "      <th>min</th>\n",
       "      <th>25%</th>\n",
       "      <th>50%</th>\n",
       "      <th>75%</th>\n",
       "      <th>max</th>\n",
       "    </tr>\n",
       "    <tr>\n",
       "      <th>true_distance</th>\n",
       "      <th></th>\n",
       "      <th></th>\n",
       "      <th></th>\n",
       "      <th></th>\n",
       "      <th></th>\n",
       "      <th></th>\n",
       "      <th></th>\n",
       "      <th></th>\n",
       "    </tr>\n",
       "  </thead>\n",
       "  <tbody>\n",
       "    <tr>\n",
       "      <th>2</th>\n",
       "      <td>35.0</td>\n",
       "      <td>-0.016429</td>\n",
       "      <td>0.007562</td>\n",
       "      <td>-0.041478</td>\n",
       "      <td>-0.019948</td>\n",
       "      <td>-0.015010</td>\n",
       "      <td>-0.011326</td>\n",
       "      <td>-0.007004</td>\n",
       "    </tr>\n",
       "    <tr>\n",
       "      <th>4</th>\n",
       "      <td>33.0</td>\n",
       "      <td>0.038391</td>\n",
       "      <td>0.012024</td>\n",
       "      <td>0.004073</td>\n",
       "      <td>0.030392</td>\n",
       "      <td>0.041326</td>\n",
       "      <td>0.045221</td>\n",
       "      <td>0.057117</td>\n",
       "    </tr>\n",
       "    <tr>\n",
       "      <th>6</th>\n",
       "      <td>30.0</td>\n",
       "      <td>0.067271</td>\n",
       "      <td>0.032973</td>\n",
       "      <td>0.022752</td>\n",
       "      <td>0.034834</td>\n",
       "      <td>0.072886</td>\n",
       "      <td>0.095370</td>\n",
       "      <td>0.121238</td>\n",
       "    </tr>\n",
       "    <tr>\n",
       "      <th>8</th>\n",
       "      <td>21.0</td>\n",
       "      <td>-0.143146</td>\n",
       "      <td>0.017570</td>\n",
       "      <td>-0.172979</td>\n",
       "      <td>-0.151496</td>\n",
       "      <td>-0.147755</td>\n",
       "      <td>-0.125757</td>\n",
       "      <td>-0.113195</td>\n",
       "    </tr>\n",
       "  </tbody>\n",
       "</table>\n",
       "</div>"
      ],
      "text/plain": [
       "               count      mean       std       min       25%       50%  \\\n",
       "true_distance                                                            \n",
       "2               35.0 -0.016429  0.007562 -0.041478 -0.019948 -0.015010   \n",
       "4               33.0  0.038391  0.012024  0.004073  0.030392  0.041326   \n",
       "6               30.0  0.067271  0.032973  0.022752  0.034834  0.072886   \n",
       "8               21.0 -0.143146  0.017570 -0.172979 -0.151496 -0.147755   \n",
       "\n",
       "                    75%       max  \n",
       "true_distance                      \n",
       "2             -0.011326 -0.007004  \n",
       "4              0.045221  0.057117  \n",
       "6              0.095370  0.121238  \n",
       "8             -0.125757 -0.113195  "
      ]
     },
     "execution_count": 47,
     "metadata": {},
     "output_type": "execute_result"
    }
   ],
   "source": [
    "grouped_df.error.describe()"
   ]
  },
  {
   "cell_type": "code",
   "execution_count": 48,
   "metadata": {},
   "outputs": [],
   "source": [
    "def box_plotter(column_name):\n",
    "    fig, axes = plt.subplots(1,len(input_vals))\n",
    "\n",
    "    for i, val in enumerate(input_vals):\n",
    "        grouped_df.get_group(val).boxplot(column=column_name, ax=axes.flatten()[i])\n",
    "        axes.flatten()[i].set_title(val)\n",
    "\n",
    "\n",
    "    plt.tight_layout()\n",
    "    plt.show()"
   ]
  },
  {
   "cell_type": "code",
   "execution_count": 49,
   "metadata": {},
   "outputs": [
    {
     "data": {
      "image/png": "[encoded data removed]",
      "text/plain": [
       "<Figure size 432x288 with 4 Axes>"
      ]
     },
     "metadata": {
      "needs_background": "light"
     },
     "output_type": "display_data"
    }
   ],
   "source": [
    "box_plotter(target)"
   ]
  },
  {
   "cell_type": "code",
   "execution_count": 50,
   "metadata": {},
   "outputs": [
    {
     "data": {
      "image/png": "[encoded data removed]",
      "text/plain": [
       "<Figure size 432x288 with 4 Axes>"
      ]
     },
     "metadata": {
      "needs_background": "light"
     },
     "output_type": "display_data"
    }
   ],
   "source": [
    "box_plotter('error')"
   ]
  }
 ],
 "metadata": {
  "kernelspec": {
   "display_name": "Python 3 (ipykernel)",
   "language": "python",
   "name": "python3"
  },
  "language_info": {
   "codemirror_mode": {
    "name": "ipython",
    "version": 3
   },
   "file_extension": ".py",
   "mimetype": "text/x-python",
   "name": "python",
   "nbconvert_exporter": "python",
   "pygments_lexer": "ipython3",
   "version": "3.8.10"
  },
  "orig_nbformat": 4
 },
 "nbformat": 4,
 "nbformat_minor": 2
}
