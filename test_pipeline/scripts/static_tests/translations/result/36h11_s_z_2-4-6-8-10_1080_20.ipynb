{
    "cells": [
        {
            "cell_type": "code",
            "execution_count": 1,
            "metadata": {},
            "outputs": [],
            "source": [
                "import rosbag\n",
                "import pandas as pd\n",
                "import matplotlib.pyplot as plt\n",
                "import numpy as np\n",
                "import tf\n",
                "from scipy.signal import find_peaks"
            ]
        },
        {
            "cell_type": "code",
            "execution_count": 2,
            "metadata": {},
            "outputs": [],
            "source": [
                "\n",
                "bag = rosbag.Bag('/home/hakanergin/code/rosbags/static/translation/36h11_s_z_2-4-6-8-10_1080_20.bag')\n",
                "\n",
                "# create variables\n",
                "target = 'distance - z'\n",
                "true_value = 'true_distance'\n",
                "\n",
                "# input values in meters. the order matters, it will be used for binning \n",
                "input_vals = [2,4,6,8,10]"
            ]
        },
        {
            "cell_type": "code",
            "execution_count": 3,
            "metadata": {},
            "outputs": [],
            "source": [
                "topic = '/tf'\n",
                "\n",
                "rows = []\n",
                "\n",
                "for topic, msg, t in bag.read_messages(topics=topic):\n",
                "    \n",
                "    time = t\n",
                "    distance = msg.transforms[0].transform.translation.z\n",
                "\n",
                "    # print(msg.transforms[0].header.stamp.secs, msg.transforms[0].header.stamp.nsecs)\n",
                "    \n",
                "    # create row\n",
                "    row={'time': time.to_sec(), target: distance}\n",
                "    rows.append(row)\n",
                "\n",
                "df = pd.DataFrame.from_records(rows)"
            ]
        },
        {
            "cell_type": "code",
            "execution_count": 4,
            "metadata": {},
            "outputs": [
                {
                    "data": {
                        "text/html": [
                            "<div>\n",
                            "<style scoped>\n",
                            "    .dataframe tbody tr th:only-of-type {\n",
                            "        vertical-align: middle;\n",
                            "    }\n",
                            "\n",
                            "    .dataframe tbody tr th {\n",
                            "        vertical-align: top;\n",
                            "    }\n",
                            "\n",
                            "    .dataframe thead th {\n",
                            "        text-align: right;\n",
                            "    }\n",
                            "</style>\n",
                            "<table border=\"1\" class=\"dataframe\">\n",
                            "  <thead>\n",
                            "    <tr style=\"text-align: right;\">\n",
                            "      <th></th>\n",
                            "      <th>relative_time</th>\n",
                            "      <th>distance - z</th>\n",
                            "    </tr>\n",
                            "  </thead>\n",
                            "  <tbody>\n",
                            "    <tr>\n",
                            "      <th>0</th>\n",
                            "      <td>0.000000</td>\n",
                            "      <td>2.421688</td>\n",
                            "    </tr>\n",
                            "    <tr>\n",
                            "      <th>1</th>\n",
                            "      <td>0.700996</td>\n",
                            "      <td>2.290721</td>\n",
                            "    </tr>\n",
                            "    <tr>\n",
                            "      <th>2</th>\n",
                            "      <td>1.470014</td>\n",
                            "      <td>2.230895</td>\n",
                            "    </tr>\n",
                            "    <tr>\n",
                            "      <th>3</th>\n",
                            "      <td>2.186581</td>\n",
                            "      <td>2.162812</td>\n",
                            "    </tr>\n",
                            "    <tr>\n",
                            "      <th>4</th>\n",
                            "      <td>2.485063</td>\n",
                            "      <td>2.080442</td>\n",
                            "    </tr>\n",
                            "    <tr>\n",
                            "      <th>...</th>\n",
                            "      <td>...</td>\n",
                            "      <td>...</td>\n",
                            "    </tr>\n",
                            "    <tr>\n",
                            "      <th>377</th>\n",
                            "      <td>132.490464</td>\n",
                            "      <td>10.000276</td>\n",
                            "    </tr>\n",
                            "    <tr>\n",
                            "      <th>378</th>\n",
                            "      <td>132.735219</td>\n",
                            "      <td>10.007072</td>\n",
                            "    </tr>\n",
                            "    <tr>\n",
                            "      <th>379</th>\n",
                            "      <td>133.061807</td>\n",
                            "      <td>10.009450</td>\n",
                            "    </tr>\n",
                            "    <tr>\n",
                            "      <th>380</th>\n",
                            "      <td>133.359373</td>\n",
                            "      <td>9.985815</td>\n",
                            "    </tr>\n",
                            "    <tr>\n",
                            "      <th>381</th>\n",
                            "      <td>133.533193</td>\n",
                            "      <td>9.984125</td>\n",
                            "    </tr>\n",
                            "  </tbody>\n",
                            "</table>\n",
                            "<p>382 rows × 2 columns</p>\n",
                            "</div>"
                        ],
                        "text/plain": [
                            "     relative_time  distance - z\n",
                            "0         0.000000      2.421688\n",
                            "1         0.700996      2.290721\n",
                            "2         1.470014      2.230895\n",
                            "3         2.186581      2.162812\n",
                            "4         2.485063      2.080442\n",
                            "..             ...           ...\n",
                            "377     132.490464     10.000276\n",
                            "378     132.735219     10.007072\n",
                            "379     133.061807     10.009450\n",
                            "380     133.359373      9.985815\n",
                            "381     133.533193      9.984125\n",
                            "\n",
                            "[382 rows x 2 columns]"
                        ]
                    },
                    "execution_count": 4,
                    "metadata": {},
                    "output_type": "execute_result"
                }
            ],
            "source": [
                "# calculate relative time in seconds instead of absolute time\n",
                "df['relative_time'] =  df.loc[0:, 'time'] - df.at[0, 'time']\n",
                "df = df.drop(columns=['time'])\n",
                "df = df[['relative_time', target]]\n",
                "df"
            ]
        },
        {
            "cell_type": "code",
            "execution_count": 5,
            "metadata": {},
            "outputs": [
                {
                    "data": {
                        "text/plain": [
                            "<AxesSubplot:xlabel='relative_time'>"
                        ]
                    },
                    "execution_count": 5,
                    "metadata": {},
                    "output_type": "execute_result"
                },
                {
                    "data": {
                        "image/png": "[encoded data removed]",
                        "text/plain": [
                            "<Figure size 432x288 with 1 Axes>"
                        ]
                    },
                    "metadata": {
                        "needs_background": "light"
                    },
                    "output_type": "display_data"
                }
            ],
            "source": [
                "# initial graph\n",
                "df.plot(x='relative_time', y=target)"
            ]
        },
        {
            "cell_type": "code",
            "execution_count": 6,
            "metadata": {},
            "outputs": [],
            "source": [
                "# find plateaus\n",
                "x = df[target]\n",
                "peaks, _ = find_peaks(x, threshold=(0, .25)) # from find_peaks docs: Threshold: The first element is always interpreted as the minimal and the second, if supplied, as the maximal required threshold."
            ]
        },
        {
            "cell_type": "code",
            "execution_count": 7,
            "metadata": {},
            "outputs": [
                {
                    "data": {
                        "text/plain": [
                            "105"
                        ]
                    },
                    "execution_count": 7,
                    "metadata": {},
                    "output_type": "execute_result"
                }
            ],
            "source": [
                "# the amount of data points we are left with\n",
                "len(x[peaks])"
            ]
        },
        {
            "cell_type": "code",
            "execution_count": 8,
            "metadata": {},
            "outputs": [],
            "source": [
                "# create filtered data frame\n",
                "df_filtered_by_targets = df.loc[peaks]"
            ]
        },
        {
            "cell_type": "code",
            "execution_count": 9,
            "metadata": {},
            "outputs": [
                {
                    "data": {
                        "text/plain": [
                            "<AxesSubplot:xlabel='relative_time', ylabel='distance - z'>"
                        ]
                    },
                    "execution_count": 9,
                    "metadata": {},
                    "output_type": "execute_result"
                },
                {
                    "data": {
                        "image/png": "[encoded data removed]",
                        "text/plain": [
                            "<Figure size 432x288 with 1 Axes>"
                        ]
                    },
                    "metadata": {
                        "needs_background": "light"
                    },
                    "output_type": "display_data"
                }
            ],
            "source": [
                "df_filtered_by_targets.plot.scatter(x='relative_time', y=target)"
            ]
        },
        {
            "cell_type": "code",
            "execution_count": 10,
            "metadata": {},
            "outputs": [
                {
                    "data": {
                        "text/html": [
                            "<div>\n",
                            "<style scoped>\n",
                            "    .dataframe tbody tr th:only-of-type {\n",
                            "        vertical-align: middle;\n",
                            "    }\n",
                            "\n",
                            "    .dataframe tbody tr th {\n",
                            "        vertical-align: top;\n",
                            "    }\n",
                            "\n",
                            "    .dataframe thead th {\n",
                            "        text-align: right;\n",
                            "    }\n",
                            "</style>\n",
                            "<table border=\"1\" class=\"dataframe\">\n",
                            "  <thead>\n",
                            "    <tr style=\"text-align: right;\">\n",
                            "      <th></th>\n",
                            "      <th>relative_time</th>\n",
                            "      <th>distance - z</th>\n",
                            "      <th>true_distance</th>\n",
                            "    </tr>\n",
                            "  </thead>\n",
                            "  <tbody>\n",
                            "    <tr>\n",
                            "      <th>14</th>\n",
                            "      <td>5.640791</td>\n",
                            "      <td>2.038909</td>\n",
                            "      <td>2</td>\n",
                            "    </tr>\n",
                            "    <tr>\n",
                            "      <th>16</th>\n",
                            "      <td>6.226068</td>\n",
                            "      <td>2.031154</td>\n",
                            "      <td>2</td>\n",
                            "    </tr>\n",
                            "    <tr>\n",
                            "      <th>18</th>\n",
                            "      <td>6.750744</td>\n",
                            "      <td>2.028089</td>\n",
                            "      <td>2</td>\n",
                            "    </tr>\n",
                            "    <tr>\n",
                            "      <th>21</th>\n",
                            "      <td>7.681183</td>\n",
                            "      <td>2.030134</td>\n",
                            "      <td>2</td>\n",
                            "    </tr>\n",
                            "    <tr>\n",
                            "      <th>23</th>\n",
                            "      <td>8.312802</td>\n",
                            "      <td>2.029990</td>\n",
                            "      <td>2</td>\n",
                            "    </tr>\n",
                            "    <tr>\n",
                            "      <th>...</th>\n",
                            "      <td>...</td>\n",
                            "      <td>...</td>\n",
                            "      <td>...</td>\n",
                            "    </tr>\n",
                            "    <tr>\n",
                            "      <th>365</th>\n",
                            "      <td>128.739616</td>\n",
                            "      <td>10.041127</td>\n",
                            "      <td>10</td>\n",
                            "    </tr>\n",
                            "    <tr>\n",
                            "      <th>367</th>\n",
                            "      <td>129.343154</td>\n",
                            "      <td>10.045585</td>\n",
                            "      <td>10</td>\n",
                            "    </tr>\n",
                            "    <tr>\n",
                            "      <th>371</th>\n",
                            "      <td>130.640436</td>\n",
                            "      <td>9.985284</td>\n",
                            "      <td>10</td>\n",
                            "    </tr>\n",
                            "    <tr>\n",
                            "      <th>374</th>\n",
                            "      <td>131.478717</td>\n",
                            "      <td>10.009903</td>\n",
                            "      <td>10</td>\n",
                            "    </tr>\n",
                            "    <tr>\n",
                            "      <th>379</th>\n",
                            "      <td>133.061807</td>\n",
                            "      <td>10.009450</td>\n",
                            "      <td>10</td>\n",
                            "    </tr>\n",
                            "  </tbody>\n",
                            "</table>\n",
                            "<p>105 rows × 3 columns</p>\n",
                            "</div>"
                        ],
                        "text/plain": [
                            "     relative_time  distance - z true_distance\n",
                            "14        5.640791      2.038909             2\n",
                            "16        6.226068      2.031154             2\n",
                            "18        6.750744      2.028089             2\n",
                            "21        7.681183      2.030134             2\n",
                            "23        8.312802      2.029990             2\n",
                            "..             ...           ...           ...\n",
                            "365     128.739616     10.041127            10\n",
                            "367     129.343154     10.045585            10\n",
                            "371     130.640436      9.985284            10\n",
                            "374     131.478717     10.009903            10\n",
                            "379     133.061807     10.009450            10\n",
                            "\n",
                            "[105 rows x 3 columns]"
                        ]
                    },
                    "execution_count": 10,
                    "metadata": {},
                    "output_type": "execute_result"
                }
            ],
            "source": [
                "# segmenting/binning by real value\n",
                "df_filtered_by_targets[true_value] = pd.cut(df_filtered_by_targets[target], bins=len(input_vals), labels=input_vals)\n",
                "df_filtered_by_targets"
            ]
        },
        {
            "cell_type": "code",
            "execution_count": 11,
            "metadata": {},
            "outputs": [],
            "source": [
                "# calculate the error\n",
                "df_filtered_by_targets['error'] =  df_filtered_by_targets.apply(lambda row: row[true_value] - row[target], axis=1)"
            ]
        },
        {
            "cell_type": "code",
            "execution_count": 12,
            "metadata": {},
            "outputs": [],
            "source": [
                "grouped_df = df_filtered_by_targets.groupby(true_value)"
            ]
        },
        {
            "cell_type": "code",
            "execution_count": 13,
            "metadata": {},
            "outputs": [
                {
                    "data": {
                        "text/html": [
                            "<div>\n",
                            "<style scoped>\n",
                            "    .dataframe tbody tr th:only-of-type {\n",
                            "        vertical-align: middle;\n",
                            "    }\n",
                            "\n",
                            "    .dataframe tbody tr th {\n",
                            "        vertical-align: top;\n",
                            "    }\n",
                            "\n",
                            "    .dataframe thead th {\n",
                            "        text-align: right;\n",
                            "    }\n",
                            "</style>\n",
                            "<table border=\"1\" class=\"dataframe\">\n",
                            "  <thead>\n",
                            "    <tr style=\"text-align: right;\">\n",
                            "      <th></th>\n",
                            "      <th>relative_time</th>\n",
                            "      <th>distance - z</th>\n",
                            "      <th>true_distance</th>\n",
                            "      <th>error</th>\n",
                            "    </tr>\n",
                            "  </thead>\n",
                            "  <tbody>\n",
                            "    <tr>\n",
                            "      <th>14</th>\n",
                            "      <td>5.640791</td>\n",
                            "      <td>2.038909</td>\n",
                            "      <td>2</td>\n",
                            "      <td>-0.038909</td>\n",
                            "    </tr>\n",
                            "    <tr>\n",
                            "      <th>16</th>\n",
                            "      <td>6.226068</td>\n",
                            "      <td>2.031154</td>\n",
                            "      <td>2</td>\n",
                            "      <td>-0.031154</td>\n",
                            "    </tr>\n",
                            "    <tr>\n",
                            "      <th>84</th>\n",
                            "      <td>27.623237</td>\n",
                            "      <td>4.055768</td>\n",
                            "      <td>4</td>\n",
                            "      <td>-0.055768</td>\n",
                            "    </tr>\n",
                            "    <tr>\n",
                            "      <th>87</th>\n",
                            "      <td>28.658978</td>\n",
                            "      <td>4.009368</td>\n",
                            "      <td>4</td>\n",
                            "      <td>-0.009368</td>\n",
                            "    </tr>\n",
                            "    <tr>\n",
                            "      <th>172</th>\n",
                            "      <td>55.314700</td>\n",
                            "      <td>6.043797</td>\n",
                            "      <td>6</td>\n",
                            "      <td>-0.043797</td>\n",
                            "    </tr>\n",
                            "    <tr>\n",
                            "      <th>176</th>\n",
                            "      <td>56.502320</td>\n",
                            "      <td>6.038434</td>\n",
                            "      <td>6</td>\n",
                            "      <td>-0.038434</td>\n",
                            "    </tr>\n",
                            "    <tr>\n",
                            "      <th>240</th>\n",
                            "      <td>77.725833</td>\n",
                            "      <td>8.109079</td>\n",
                            "      <td>8</td>\n",
                            "      <td>-0.109079</td>\n",
                            "    </tr>\n",
                            "    <tr>\n",
                            "      <th>242</th>\n",
                            "      <td>78.404778</td>\n",
                            "      <td>8.066806</td>\n",
                            "      <td>8</td>\n",
                            "      <td>-0.066806</td>\n",
                            "    </tr>\n",
                            "    <tr>\n",
                            "      <th>322</th>\n",
                            "      <td>114.625316</td>\n",
                            "      <td>10.077808</td>\n",
                            "      <td>10</td>\n",
                            "      <td>-0.077808</td>\n",
                            "    </tr>\n",
                            "    <tr>\n",
                            "      <th>330</th>\n",
                            "      <td>117.378235</td>\n",
                            "      <td>10.072402</td>\n",
                            "      <td>10</td>\n",
                            "      <td>-0.072402</td>\n",
                            "    </tr>\n",
                            "  </tbody>\n",
                            "</table>\n",
                            "</div>"
                        ],
                        "text/plain": [
                            "     relative_time  distance - z true_distance     error\n",
                            "14        5.640791      2.038909             2 -0.038909\n",
                            "16        6.226068      2.031154             2 -0.031154\n",
                            "84       27.623237      4.055768             4 -0.055768\n",
                            "87       28.658978      4.009368             4 -0.009368\n",
                            "172      55.314700      6.043797             6 -0.043797\n",
                            "176      56.502320      6.038434             6 -0.038434\n",
                            "240      77.725833      8.109079             8 -0.109079\n",
                            "242      78.404778      8.066806             8 -0.066806\n",
                            "322     114.625316     10.077808            10 -0.077808\n",
                            "330     117.378235     10.072402            10 -0.072402"
                        ]
                    },
                    "execution_count": 13,
                    "metadata": {},
                    "output_type": "execute_result"
                }
            ],
            "source": [
                "# verify if the bins are in correct order, this is dictated by input_vals order\n",
                "grouped_df.head(2)"
            ]
        },
        {
            "cell_type": "code",
            "execution_count": 14,
            "metadata": {},
            "outputs": [
                {
                    "data": {
                        "text/html": [
                            "<div>\n",
                            "<style scoped>\n",
                            "    .dataframe tbody tr th:only-of-type {\n",
                            "        vertical-align: middle;\n",
                            "    }\n",
                            "\n",
                            "    .dataframe tbody tr th {\n",
                            "        vertical-align: top;\n",
                            "    }\n",
                            "\n",
                            "    .dataframe thead th {\n",
                            "        text-align: right;\n",
                            "    }\n",
                            "</style>\n",
                            "<table border=\"1\" class=\"dataframe\">\n",
                            "  <thead>\n",
                            "    <tr style=\"text-align: right;\">\n",
                            "      <th></th>\n",
                            "      <th>count</th>\n",
                            "      <th>mean</th>\n",
                            "      <th>std</th>\n",
                            "      <th>min</th>\n",
                            "      <th>25%</th>\n",
                            "      <th>50%</th>\n",
                            "      <th>75%</th>\n",
                            "      <th>max</th>\n",
                            "    </tr>\n",
                            "    <tr>\n",
                            "      <th>true_distance</th>\n",
                            "      <th></th>\n",
                            "      <th></th>\n",
                            "      <th></th>\n",
                            "      <th></th>\n",
                            "      <th></th>\n",
                            "      <th></th>\n",
                            "      <th></th>\n",
                            "      <th></th>\n",
                            "    </tr>\n",
                            "  </thead>\n",
                            "  <tbody>\n",
                            "    <tr>\n",
                            "      <th>2</th>\n",
                            "      <td>20.0</td>\n",
                            "      <td>-0.029198</td>\n",
                            "      <td>0.002703</td>\n",
                            "      <td>-0.038909</td>\n",
                            "      <td>-0.029888</td>\n",
                            "      <td>-0.029018</td>\n",
                            "      <td>-0.027931</td>\n",
                            "      <td>-0.025818</td>\n",
                            "    </tr>\n",
                            "    <tr>\n",
                            "      <th>4</th>\n",
                            "      <td>24.0</td>\n",
                            "      <td>-0.003390</td>\n",
                            "      <td>0.012833</td>\n",
                            "      <td>-0.055768</td>\n",
                            "      <td>-0.007372</td>\n",
                            "      <td>-0.001218</td>\n",
                            "      <td>0.003898</td>\n",
                            "      <td>0.012301</td>\n",
                            "    </tr>\n",
                            "    <tr>\n",
                            "      <th>6</th>\n",
                            "      <td>18.0</td>\n",
                            "      <td>-0.030017</td>\n",
                            "      <td>0.008542</td>\n",
                            "      <td>-0.043797</td>\n",
                            "      <td>-0.036312</td>\n",
                            "      <td>-0.028639</td>\n",
                            "      <td>-0.025507</td>\n",
                            "      <td>-0.013583</td>\n",
                            "    </tr>\n",
                            "    <tr>\n",
                            "      <th>8</th>\n",
                            "      <td>26.0</td>\n",
                            "      <td>0.000238</td>\n",
                            "      <td>0.041557</td>\n",
                            "      <td>-0.109079</td>\n",
                            "      <td>-0.010343</td>\n",
                            "      <td>0.007116</td>\n",
                            "      <td>0.031559</td>\n",
                            "      <td>0.055637</td>\n",
                            "    </tr>\n",
                            "    <tr>\n",
                            "      <th>10</th>\n",
                            "      <td>17.0</td>\n",
                            "      <td>-0.029684</td>\n",
                            "      <td>0.028080</td>\n",
                            "      <td>-0.077808</td>\n",
                            "      <td>-0.043651</td>\n",
                            "      <td>-0.034359</td>\n",
                            "      <td>-0.009903</td>\n",
                            "      <td>0.025391</td>\n",
                            "    </tr>\n",
                            "  </tbody>\n",
                            "</table>\n",
                            "</div>"
                        ],
                        "text/plain": [
                            "               count      mean       std       min       25%       50%  \\\n",
                            "true_distance                                                            \n",
                            "2               20.0 -0.029198  0.002703 -0.038909 -0.029888 -0.029018   \n",
                            "4               24.0 -0.003390  0.012833 -0.055768 -0.007372 -0.001218   \n",
                            "6               18.0 -0.030017  0.008542 -0.043797 -0.036312 -0.028639   \n",
                            "8               26.0  0.000238  0.041557 -0.109079 -0.010343  0.007116   \n",
                            "10              17.0 -0.029684  0.028080 -0.077808 -0.043651 -0.034359   \n",
                            "\n",
                            "                    75%       max  \n",
                            "true_distance                      \n",
                            "2             -0.027931 -0.025818  \n",
                            "4              0.003898  0.012301  \n",
                            "6             -0.025507 -0.013583  \n",
                            "8              0.031559  0.055637  \n",
                            "10            -0.009903  0.025391  "
                        ]
                    },
                    "execution_count": 14,
                    "metadata": {},
                    "output_type": "execute_result"
                }
            ],
            "source": [
                "grouped_df.error.describe()"
            ]
        },
        {
            "cell_type": "code",
            "execution_count": 15,
            "metadata": {},
            "outputs": [],
            "source": [
                "def box_plotter(column_name):\n",
                "    fig, axes = plt.subplots(1,len(input_vals))\n",
                "\n",
                "    for i, val in enumerate(input_vals):\n",
                "        grouped_df.get_group(val).boxplot(column=column_name, ax=axes.flatten()[i])\n",
                "        axes.flatten()[i].set_title(val)\n",
                "\n",
                "\n",
                "    plt.tight_layout()\n",
                "    plt.show()"
            ]
        },
        {
            "cell_type": "code",
            "execution_count": 16,
            "metadata": {},
            "outputs": [
                {
                    "data": {
                        "image/png": "[encoded data removed]",
                        "text/plain": [
                            "<Figure size 432x288 with 5 Axes>"
                        ]
                    },
                    "metadata": {
                        "needs_background": "light"
                    },
                    "output_type": "display_data"
                }
            ],
            "source": [
                "box_plotter(target)"
            ]
        },
        {
            "cell_type": "code",
            "execution_count": 17,
            "metadata": {},
            "outputs": [
                {
                    "data": {
                        "image/png": "[encoded data removed]",
                        "text/plain": [
                            "<Figure size 432x288 with 5 Axes>"
                        ]
                    },
                    "metadata": {
                        "needs_background": "light"
                    },
                    "output_type": "display_data"
                }
            ],
            "source": [
                "box_plotter('error')"
            ]
        },
        {
            "cell_type": "code",
            "execution_count": 18,
            "metadata": {},
            "outputs": [],
            "source": [
                "df_filtered_by_targets.to_csv('/home/hakanergin/code/apriltag_test_bench/test_pipeline/scripts/static_tests/translations/result/csv/36h11_1080.csv')"
            ]
        }
    ],
    "metadata": {
        "kernelspec": {
            "display_name": "Python 3 (ipykernel)",
            "language": "python",
            "name": "python3"
        },
        "language_info": {
            "codemirror_mode": {
                "name": "ipython",
                "version": 3
            },
            "file_extension": ".py",
            "mimetype": "text/x-python",
            "name": "python",
            "nbconvert_exporter": "python",
            "pygments_lexer": "ipython3",
            "version": "3.8.10"
        },
        "orig_nbformat": 4
    },
    "nbformat": 4,
    "nbformat_minor": 2
}
