{
    "cells": [
        {
            "cell_type": "code",
            "execution_count": 10,
            "metadata": {},
            "outputs": [],
            "source": [
                "import rosbag\n",
                "import pandas as pd\n",
                "import matplotlib.pyplot as plt\n",
                "import numpy as np\n",
                "import tf\n",
                "from scipy.signal import find_peaks"
            ]
        },
        {
            "cell_type": "code",
            "execution_count": 11,
            "metadata": {},
            "outputs": [],
            "source": [
                "\n",
                "bag = rosbag.Bag('/home/hakanergin/code/rosbags/static/translation/16h5_s_z_2-4-6-8-10_360_30.bag')\n",
                "\n",
                "# create variables\n",
                "target = 'distance - z'\n",
                "true_value = 'true_distance'\n",
                "\n",
                "# input values in meters. the order matters, it will be used for binning \n",
                "input_vals = [2,4,6]"
            ]
        },
        {
            "cell_type": "code",
            "execution_count": 12,
            "metadata": {},
            "outputs": [],
            "source": [
                "topic = '/tf'\n",
                "\n",
                "rows = []\n",
                "\n",
                "for topic, msg, t in bag.read_messages(topics=topic):\n",
                "    \n",
                "    time = t\n",
                "    distance = msg.transforms[0].transform.translation.z\n",
                "\n",
                "    # print(msg.transforms[0].header.stamp.secs, msg.transforms[0].header.stamp.nsecs)\n",
                "    \n",
                "    # create row\n",
                "    row={'time': time.to_sec(), target: distance}\n",
                "    rows.append(row)\n",
                "\n",
                "df = pd.DataFrame.from_records(rows)"
            ]
        },
        {
            "cell_type": "code",
            "execution_count": 13,
            "metadata": {},
            "outputs": [
                {
                    "data": {
                        "text/html": [
                            "<div>\n",
                            "<style scoped>\n",
                            "    .dataframe tbody tr th:only-of-type {\n",
                            "        vertical-align: middle;\n",
                            "    }\n",
                            "\n",
                            "    .dataframe tbody tr th {\n",
                            "        vertical-align: top;\n",
                            "    }\n",
                            "\n",
                            "    .dataframe thead th {\n",
                            "        text-align: right;\n",
                            "    }\n",
                            "</style>\n",
                            "<table border=\"1\" class=\"dataframe\">\n",
                            "  <thead>\n",
                            "    <tr style=\"text-align: right;\">\n",
                            "      <th></th>\n",
                            "      <th>relative_time</th>\n",
                            "      <th>distance - z</th>\n",
                            "    </tr>\n",
                            "  </thead>\n",
                            "  <tbody>\n",
                            "    <tr>\n",
                            "      <th>0</th>\n",
                            "      <td>0.000000</td>\n",
                            "      <td>3.102597</td>\n",
                            "    </tr>\n",
                            "    <tr>\n",
                            "      <th>1</th>\n",
                            "      <td>2.326608</td>\n",
                            "      <td>2.813648</td>\n",
                            "    </tr>\n",
                            "    <tr>\n",
                            "      <th>2</th>\n",
                            "      <td>2.531873</td>\n",
                            "      <td>6.702841</td>\n",
                            "    </tr>\n",
                            "    <tr>\n",
                            "      <th>3</th>\n",
                            "      <td>3.345015</td>\n",
                            "      <td>7.057930</td>\n",
                            "    </tr>\n",
                            "    <tr>\n",
                            "      <th>4</th>\n",
                            "      <td>3.345063</td>\n",
                            "      <td>4.474159</td>\n",
                            "    </tr>\n",
                            "    <tr>\n",
                            "      <th>...</th>\n",
                            "      <td>...</td>\n",
                            "      <td>...</td>\n",
                            "    </tr>\n",
                            "    <tr>\n",
                            "      <th>1626</th>\n",
                            "      <td>120.341166</td>\n",
                            "      <td>2.048708</td>\n",
                            "    </tr>\n",
                            "    <tr>\n",
                            "      <th>1627</th>\n",
                            "      <td>120.370325</td>\n",
                            "      <td>2.048708</td>\n",
                            "    </tr>\n",
                            "    <tr>\n",
                            "      <th>1628</th>\n",
                            "      <td>120.403657</td>\n",
                            "      <td>2.048708</td>\n",
                            "    </tr>\n",
                            "    <tr>\n",
                            "      <th>1629</th>\n",
                            "      <td>120.435393</td>\n",
                            "      <td>2.048708</td>\n",
                            "    </tr>\n",
                            "    <tr>\n",
                            "      <th>1630</th>\n",
                            "      <td>120.469607</td>\n",
                            "      <td>2.048708</td>\n",
                            "    </tr>\n",
                            "  </tbody>\n",
                            "</table>\n",
                            "<p>1631 rows × 2 columns</p>\n",
                            "</div>"
                        ],
                        "text/plain": [
                            "      relative_time  distance - z\n",
                            "0          0.000000      3.102597\n",
                            "1          2.326608      2.813648\n",
                            "2          2.531873      6.702841\n",
                            "3          3.345015      7.057930\n",
                            "4          3.345063      4.474159\n",
                            "...             ...           ...\n",
                            "1626     120.341166      2.048708\n",
                            "1627     120.370325      2.048708\n",
                            "1628     120.403657      2.048708\n",
                            "1629     120.435393      2.048708\n",
                            "1630     120.469607      2.048708\n",
                            "\n",
                            "[1631 rows x 2 columns]"
                        ]
                    },
                    "execution_count": 13,
                    "metadata": {},
                    "output_type": "execute_result"
                }
            ],
            "source": [
                "# calculate relative time in seconds instead of absolute time\n",
                "df['relative_time'] =  df.loc[0:, 'time'] - df.at[0, 'time']\n",
                "df = df.drop(columns=['time'])\n",
                "df = df[['relative_time', target]]\n",
                "df"
            ]
        },
        {
            "cell_type": "code",
            "execution_count": 14,
            "metadata": {},
            "outputs": [
                {
                    "data": {
                        "text/plain": [
                            "<AxesSubplot:xlabel='relative_time'>"
                        ]
                    },
                    "execution_count": 14,
                    "metadata": {},
                    "output_type": "execute_result"
                },
                {
                    "data": {
                        "image/png": "[encoded data removed]",
                        "text/plain": [
                            "<Figure size 432x288 with 1 Axes>"
                        ]
                    },
                    "metadata": {
                        "needs_background": "light"
                    },
                    "output_type": "display_data"
                }
            ],
            "source": [
                "# initial graph\n",
                "df.plot(x='relative_time', y=target)"
            ]
        },
        {
            "cell_type": "code",
            "execution_count": 15,
            "metadata": {},
            "outputs": [],
            "source": [
                "# find plateaus\n",
                "x = df[target]\n",
                "peaks, _ = find_peaks(x, threshold=(0, .001)) # from find_peaks docs: Threshold: The first element is always interpreted as the minimal and the second, if supplied, as the maximal required threshold."
            ]
        },
        {
            "cell_type": "code",
            "execution_count": 16,
            "metadata": {},
            "outputs": [
                {
                    "data": {
                        "text/plain": [
                            "112"
                        ]
                    },
                    "execution_count": 16,
                    "metadata": {},
                    "output_type": "execute_result"
                }
            ],
            "source": [
                "# the amount of data points we are left with\n",
                "len(x[peaks])"
            ]
        },
        {
            "cell_type": "code",
            "execution_count": 17,
            "metadata": {},
            "outputs": [],
            "source": [
                "# create filtered data frame\n",
                "df_filtered_by_targets = df.loc[peaks]"
            ]
        },
        {
            "cell_type": "code",
            "execution_count": 18,
            "metadata": {},
            "outputs": [
                {
                    "data": {
                        "text/plain": [
                            "<AxesSubplot:xlabel='relative_time', ylabel='distance - z'>"
                        ]
                    },
                    "execution_count": 18,
                    "metadata": {},
                    "output_type": "execute_result"
                },
                {
                    "data": {
                        "image/png": "[encoded data removed]",
                        "text/plain": [
                            "<Figure size 432x288 with 1 Axes>"
                        ]
                    },
                    "metadata": {
                        "needs_background": "light"
                    },
                    "output_type": "display_data"
                }
            ],
            "source": [
                "df_filtered_by_targets.plot.scatter(x='relative_time', y=target)"
            ]
        },
        {
            "cell_type": "code",
            "execution_count": 19,
            "metadata": {},
            "outputs": [],
            "source": [
                "# segmenting/binning by real value\n",
                "df_filtered_by_targets[true_value] = pd.cut(df_filtered_by_targets[target], bins=len(input_vals), labels=input_vals)"
            ]
        },
        {
            "cell_type": "code",
            "execution_count": 21,
            "metadata": {},
            "outputs": [],
            "source": [
                "# calculate the error\n",
                "df_filtered_by_targets['error'] =  df_filtered_by_targets.apply(lambda row: row[true_value] - row[target], axis=1)"
            ]
        },
        {
            "cell_type": "code",
            "execution_count": 22,
            "metadata": {},
            "outputs": [],
            "source": [
                "grouped_df = df_filtered_by_targets.groupby(true_value)"
            ]
        },
        {
            "cell_type": "code",
            "execution_count": 23,
            "metadata": {},
            "outputs": [
                {
                    "data": {
                        "text/html": [
                            "<div>\n",
                            "<style scoped>\n",
                            "    .dataframe tbody tr th:only-of-type {\n",
                            "        vertical-align: middle;\n",
                            "    }\n",
                            "\n",
                            "    .dataframe tbody tr th {\n",
                            "        vertical-align: top;\n",
                            "    }\n",
                            "\n",
                            "    .dataframe thead th {\n",
                            "        text-align: right;\n",
                            "    }\n",
                            "</style>\n",
                            "<table border=\"1\" class=\"dataframe\">\n",
                            "  <thead>\n",
                            "    <tr style=\"text-align: right;\">\n",
                            "      <th></th>\n",
                            "      <th>relative_time</th>\n",
                            "      <th>distance - z</th>\n",
                            "      <th>true_distance</th>\n",
                            "      <th>error</th>\n",
                            "    </tr>\n",
                            "  </thead>\n",
                            "  <tbody>\n",
                            "    <tr>\n",
                            "      <th>70</th>\n",
                            "      <td>12.669197</td>\n",
                            "      <td>1.969900</td>\n",
                            "      <td>2</td>\n",
                            "      <td>0.030100</td>\n",
                            "    </tr>\n",
                            "    <tr>\n",
                            "      <th>98</th>\n",
                            "      <td>13.603126</td>\n",
                            "      <td>1.957318</td>\n",
                            "      <td>2</td>\n",
                            "      <td>0.042682</td>\n",
                            "    </tr>\n",
                            "    <tr>\n",
                            "      <th>659</th>\n",
                            "      <td>32.803890</td>\n",
                            "      <td>3.903437</td>\n",
                            "      <td>4</td>\n",
                            "      <td>0.096563</td>\n",
                            "    </tr>\n",
                            "    <tr>\n",
                            "      <th>666</th>\n",
                            "      <td>33.070688</td>\n",
                            "      <td>3.901623</td>\n",
                            "      <td>4</td>\n",
                            "      <td>0.098377</td>\n",
                            "    </tr>\n",
                            "    <tr>\n",
                            "      <th>1125</th>\n",
                            "      <td>51.605342</td>\n",
                            "      <td>5.767455</td>\n",
                            "      <td>6</td>\n",
                            "      <td>0.232545</td>\n",
                            "    </tr>\n",
                            "    <tr>\n",
                            "      <th>1128</th>\n",
                            "      <td>51.703090</td>\n",
                            "      <td>5.766011</td>\n",
                            "      <td>6</td>\n",
                            "      <td>0.233989</td>\n",
                            "    </tr>\n",
                            "  </tbody>\n",
                            "</table>\n",
                            "</div>"
                        ],
                        "text/plain": [
                            "      relative_time  distance - z true_distance     error\n",
                            "70        12.669197      1.969900             2  0.030100\n",
                            "98        13.603126      1.957318             2  0.042682\n",
                            "659       32.803890      3.903437             4  0.096563\n",
                            "666       33.070688      3.901623             4  0.098377\n",
                            "1125      51.605342      5.767455             6  0.232545\n",
                            "1128      51.703090      5.766011             6  0.233989"
                        ]
                    },
                    "execution_count": 23,
                    "metadata": {},
                    "output_type": "execute_result"
                }
            ],
            "source": [
                "# verify if the bins are in correct order, this is dictated by input_vals order\n",
                "grouped_df.head(2)"
            ]
        },
        {
            "cell_type": "code",
            "execution_count": 24,
            "metadata": {},
            "outputs": [
                {
                    "data": {
                        "text/html": [
                            "<div>\n",
                            "<style scoped>\n",
                            "    .dataframe tbody tr th:only-of-type {\n",
                            "        vertical-align: middle;\n",
                            "    }\n",
                            "\n",
                            "    .dataframe tbody tr th {\n",
                            "        vertical-align: top;\n",
                            "    }\n",
                            "\n",
                            "    .dataframe thead th {\n",
                            "        text-align: right;\n",
                            "    }\n",
                            "</style>\n",
                            "<table border=\"1\" class=\"dataframe\">\n",
                            "  <thead>\n",
                            "    <tr style=\"text-align: right;\">\n",
                            "      <th></th>\n",
                            "      <th>count</th>\n",
                            "      <th>mean</th>\n",
                            "      <th>std</th>\n",
                            "      <th>min</th>\n",
                            "      <th>25%</th>\n",
                            "      <th>50%</th>\n",
                            "      <th>75%</th>\n",
                            "      <th>max</th>\n",
                            "    </tr>\n",
                            "    <tr>\n",
                            "      <th>true_distance</th>\n",
                            "      <th></th>\n",
                            "      <th></th>\n",
                            "      <th></th>\n",
                            "      <th></th>\n",
                            "      <th></th>\n",
                            "      <th></th>\n",
                            "      <th></th>\n",
                            "      <th></th>\n",
                            "    </tr>\n",
                            "  </thead>\n",
                            "  <tbody>\n",
                            "    <tr>\n",
                            "      <th>2</th>\n",
                            "      <td>51.0</td>\n",
                            "      <td>0.040005</td>\n",
                            "      <td>0.076103</td>\n",
                            "      <td>-0.245879</td>\n",
                            "      <td>0.031625</td>\n",
                            "      <td>0.036718</td>\n",
                            "      <td>0.042041</td>\n",
                            "      <td>0.493690</td>\n",
                            "    </tr>\n",
                            "    <tr>\n",
                            "      <th>4</th>\n",
                            "      <td>39.0</td>\n",
                            "      <td>0.097740</td>\n",
                            "      <td>0.004067</td>\n",
                            "      <td>0.088555</td>\n",
                            "      <td>0.095510</td>\n",
                            "      <td>0.097099</td>\n",
                            "      <td>0.100336</td>\n",
                            "      <td>0.109571</td>\n",
                            "    </tr>\n",
                            "    <tr>\n",
                            "      <th>6</th>\n",
                            "      <td>22.0</td>\n",
                            "      <td>0.128853</td>\n",
                            "      <td>0.187157</td>\n",
                            "      <td>-0.340216</td>\n",
                            "      <td>0.153553</td>\n",
                            "      <td>0.205187</td>\n",
                            "      <td>0.228636</td>\n",
                            "      <td>0.239916</td>\n",
                            "    </tr>\n",
                            "  </tbody>\n",
                            "</table>\n",
                            "</div>"
                        ],
                        "text/plain": [
                            "               count      mean       std       min       25%       50%  \\\n",
                            "true_distance                                                            \n",
                            "2               51.0  0.040005  0.076103 -0.245879  0.031625  0.036718   \n",
                            "4               39.0  0.097740  0.004067  0.088555  0.095510  0.097099   \n",
                            "6               22.0  0.128853  0.187157 -0.340216  0.153553  0.205187   \n",
                            "\n",
                            "                    75%       max  \n",
                            "true_distance                      \n",
                            "2              0.042041  0.493690  \n",
                            "4              0.100336  0.109571  \n",
                            "6              0.228636  0.239916  "
                        ]
                    },
                    "execution_count": 24,
                    "metadata": {},
                    "output_type": "execute_result"
                }
            ],
            "source": [
                "grouped_df.error.describe()"
            ]
        },
        {
            "cell_type": "code",
            "execution_count": 25,
            "metadata": {},
            "outputs": [],
            "source": [
                "def box_plotter(column_name):\n",
                "    fig, axes = plt.subplots(1,len(input_vals))\n",
                "\n",
                "    for i, val in enumerate(input_vals):\n",
                "        grouped_df.get_group(val).boxplot(column=column_name, ax=axes.flatten()[i])\n",
                "        axes.flatten()[i].set_title(val)\n",
                "\n",
                "\n",
                "    plt.tight_layout()\n",
                "    plt.show()"
            ]
        },
        {
            "cell_type": "code",
            "execution_count": 26,
            "metadata": {},
            "outputs": [
                {
                    "data": {
                        "image/png": "[encoded data removed]",
                        "text/plain": [
                            "<Figure size 432x288 with 3 Axes>"
                        ]
                    },
                    "metadata": {
                        "needs_background": "light"
                    },
                    "output_type": "display_data"
                }
            ],
            "source": [
                "box_plotter(target)"
            ]
        },
        {
            "cell_type": "code",
            "execution_count": 27,
            "metadata": {},
            "outputs": [
                {
                    "data": {
                        "image/png": "[encoded data removed]",
                        "text/plain": [
                            "<Figure size 432x288 with 3 Axes>"
                        ]
                    },
                    "metadata": {
                        "needs_background": "light"
                    },
                    "output_type": "display_data"
                }
            ],
            "source": [
                "box_plotter('error')"
            ]
        },
        {
            "cell_type": "code",
            "execution_count": 34,
            "metadata": {},
            "outputs": [],
            "source": [
                "df_filtered_by_targets.to_csv('/home/hakanergin/code/apriltag_test_bench/test_pipeline/scripts/static_tests/translations/result/csv/16h5_360.csv')"
            ]
        }
    ],
    "metadata": {
        "kernelspec": {
            "display_name": "Python 3 (ipykernel)",
            "language": "python",
            "name": "python3"
        },
        "language_info": {
            "codemirror_mode": {
                "name": "ipython",
                "version": 3
            },
            "file_extension": ".py",
            "mimetype": "text/x-python",
            "name": "python",
            "nbconvert_exporter": "python",
            "pygments_lexer": "ipython3",
            "version": "3.8.10"
        },
        "orig_nbformat": 4
    },
    "nbformat": 4,
    "nbformat_minor": 2
}
