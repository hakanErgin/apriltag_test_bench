{
 "cells": [
  {
   "cell_type": "code",
   "execution_count": 86,
   "metadata": {},
   "outputs": [],
   "source": [
    "import rosbag\n",
    "from geometry_msgs.msg import Point\n",
    "import pandas as pd\n",
    "import matplotlib.pyplot as plt\n",
    "import rospy\n",
    "import numpy as np"
   ]
  },
  {
   "cell_type": "code",
   "execution_count": 87,
   "metadata": {},
   "outputs": [],
   "source": [
    "bag = rosbag.Bag('/home/uware/rosbags/_2022-02-21-11-12-03.bag')\n",
    "topic = '/tf'\n",
    "\n",
    "rows = []\n",
    "\n",
    "for topic, msg, t in bag.read_messages(topics=topic):\n",
    "    \n",
    "    time = t\n",
    "    distance = msg.transforms[0].transform.translation.z\n",
    "\n",
    "    # print(msg.transforms[0].header.stamp.secs, msg.transforms[0].header.stamp.nsecs)\n",
    "    \n",
    "    # create row\n",
    "    row={'time': time.to_sec(), 'distance': distance}\n",
    "    rows.append(row)\n",
    "\n",
    "df = pd.DataFrame.from_records(rows)\n",
    "# df"
   ]
  },
  {
   "cell_type": "code",
   "execution_count": 88,
   "metadata": {},
   "outputs": [
    {
     "data": {
      "text/html": [
       "<div>\n",
       "<style scoped>\n",
       "    .dataframe tbody tr th:only-of-type {\n",
       "        vertical-align: middle;\n",
       "    }\n",
       "\n",
       "    .dataframe tbody tr th {\n",
       "        vertical-align: top;\n",
       "    }\n",
       "\n",
       "    .dataframe thead th {\n",
       "        text-align: right;\n",
       "    }\n",
       "</style>\n",
       "<table border=\"1\" class=\"dataframe\">\n",
       "  <thead>\n",
       "    <tr style=\"text-align: right;\">\n",
       "      <th></th>\n",
       "      <th>distance</th>\n",
       "      <th>relative_time</th>\n",
       "    </tr>\n",
       "  </thead>\n",
       "  <tbody>\n",
       "    <tr>\n",
       "      <th>0</th>\n",
       "      <td>1.540828</td>\n",
       "      <td>0.000000</td>\n",
       "    </tr>\n",
       "    <tr>\n",
       "      <th>1</th>\n",
       "      <td>1.544104</td>\n",
       "      <td>0.100539</td>\n",
       "    </tr>\n",
       "    <tr>\n",
       "      <th>2</th>\n",
       "      <td>1.560746</td>\n",
       "      <td>0.190374</td>\n",
       "    </tr>\n",
       "    <tr>\n",
       "      <th>3</th>\n",
       "      <td>1.584294</td>\n",
       "      <td>0.282790</td>\n",
       "    </tr>\n",
       "    <tr>\n",
       "      <th>4</th>\n",
       "      <td>1.586674</td>\n",
       "      <td>0.378646</td>\n",
       "    </tr>\n",
       "    <tr>\n",
       "      <th>...</th>\n",
       "      <td>...</td>\n",
       "      <td>...</td>\n",
       "    </tr>\n",
       "    <tr>\n",
       "      <th>566</th>\n",
       "      <td>0.525557</td>\n",
       "      <td>26.838087</td>\n",
       "    </tr>\n",
       "    <tr>\n",
       "      <th>567</th>\n",
       "      <td>0.522651</td>\n",
       "      <td>26.873688</td>\n",
       "    </tr>\n",
       "    <tr>\n",
       "      <th>568</th>\n",
       "      <td>0.526820</td>\n",
       "      <td>26.908928</td>\n",
       "    </tr>\n",
       "    <tr>\n",
       "      <th>569</th>\n",
       "      <td>0.525514</td>\n",
       "      <td>26.945567</td>\n",
       "    </tr>\n",
       "    <tr>\n",
       "      <th>570</th>\n",
       "      <td>0.521083</td>\n",
       "      <td>26.981043</td>\n",
       "    </tr>\n",
       "  </tbody>\n",
       "</table>\n",
       "<p>571 rows × 2 columns</p>\n",
       "</div>"
      ],
      "text/plain": [
       "     distance  relative_time\n",
       "0    1.540828       0.000000\n",
       "1    1.544104       0.100539\n",
       "2    1.560746       0.190374\n",
       "3    1.584294       0.282790\n",
       "4    1.586674       0.378646\n",
       "..        ...            ...\n",
       "566  0.525557      26.838087\n",
       "567  0.522651      26.873688\n",
       "568  0.526820      26.908928\n",
       "569  0.525514      26.945567\n",
       "570  0.521083      26.981043\n",
       "\n",
       "[571 rows x 2 columns]"
      ]
     },
     "execution_count": 88,
     "metadata": {},
     "output_type": "execute_result"
    }
   ],
   "source": [
    "# calculate relative time in seconds by finding the difference between time instances\n",
    "df['relative_time'] =  df.loc[0:, 'time'] - df.at[0, 'time']\n",
    "df = df.drop(columns=['time'])\n",
    "df"
   ]
  },
  {
   "cell_type": "code",
   "execution_count": 89,
   "metadata": {},
   "outputs": [
    {
     "data": {
      "text/plain": [
       "<AxesSubplot:xlabel='relative_time'>"
      ]
     },
     "execution_count": 89,
     "metadata": {},
     "output_type": "execute_result"
    },
    {
     "data": {
      "image/png": "[encoded data removed]",
      "text/plain": [
       "<Figure size 432x288 with 1 Axes>"
      ]
     },
     "metadata": {
      "needs_background": "light"
     },
     "output_type": "display_data"
    }
   ],
   "source": [
    "# initial graph\n",
    "df.plot(x='relative_time', y='distance')"
   ]
  },
  {
   "cell_type": "markdown",
   "metadata": {},
   "source": [
    "### by percentage change"
   ]
  },
  {
   "cell_type": "code",
   "execution_count": 90,
   "metadata": {},
   "outputs": [],
   "source": [
    "df_filtered_by_change = df.loc[df.distance.pct_change(periods=2)>.000001]"
   ]
  },
  {
   "cell_type": "code",
   "execution_count": 91,
   "metadata": {},
   "outputs": [
    {
     "data": {
      "text/html": [
       "<div>\n",
       "<style scoped>\n",
       "    .dataframe tbody tr th:only-of-type {\n",
       "        vertical-align: middle;\n",
       "    }\n",
       "\n",
       "    .dataframe tbody tr th {\n",
       "        vertical-align: top;\n",
       "    }\n",
       "\n",
       "    .dataframe thead th {\n",
       "        text-align: right;\n",
       "    }\n",
       "</style>\n",
       "<table border=\"1\" class=\"dataframe\">\n",
       "  <thead>\n",
       "    <tr style=\"text-align: right;\">\n",
       "      <th></th>\n",
       "      <th>distance</th>\n",
       "      <th>relative_time</th>\n",
       "    </tr>\n",
       "  </thead>\n",
       "  <tbody>\n",
       "    <tr>\n",
       "      <th>2</th>\n",
       "      <td>1.560746</td>\n",
       "      <td>0.190374</td>\n",
       "    </tr>\n",
       "    <tr>\n",
       "      <th>3</th>\n",
       "      <td>1.584294</td>\n",
       "      <td>0.282790</td>\n",
       "    </tr>\n",
       "    <tr>\n",
       "      <th>4</th>\n",
       "      <td>1.586674</td>\n",
       "      <td>0.378646</td>\n",
       "    </tr>\n",
       "    <tr>\n",
       "      <th>10</th>\n",
       "      <td>1.554982</td>\n",
       "      <td>1.205070</td>\n",
       "    </tr>\n",
       "    <tr>\n",
       "      <th>11</th>\n",
       "      <td>1.558417</td>\n",
       "      <td>1.301386</td>\n",
       "    </tr>\n",
       "    <tr>\n",
       "      <th>...</th>\n",
       "      <td>...</td>\n",
       "      <td>...</td>\n",
       "    </tr>\n",
       "    <tr>\n",
       "      <th>549</th>\n",
       "      <td>0.544580</td>\n",
       "      <td>26.204765</td>\n",
       "    </tr>\n",
       "    <tr>\n",
       "      <th>550</th>\n",
       "      <td>0.544948</td>\n",
       "      <td>26.241443</td>\n",
       "    </tr>\n",
       "    <tr>\n",
       "      <th>556</th>\n",
       "      <td>0.542944</td>\n",
       "      <td>26.467707</td>\n",
       "    </tr>\n",
       "    <tr>\n",
       "      <th>568</th>\n",
       "      <td>0.526820</td>\n",
       "      <td>26.908928</td>\n",
       "    </tr>\n",
       "    <tr>\n",
       "      <th>569</th>\n",
       "      <td>0.525514</td>\n",
       "      <td>26.945567</td>\n",
       "    </tr>\n",
       "  </tbody>\n",
       "</table>\n",
       "<p>209 rows × 2 columns</p>\n",
       "</div>"
      ],
      "text/plain": [
       "     distance  relative_time\n",
       "2    1.560746       0.190374\n",
       "3    1.584294       0.282790\n",
       "4    1.586674       0.378646\n",
       "10   1.554982       1.205070\n",
       "11   1.558417       1.301386\n",
       "..        ...            ...\n",
       "549  0.544580      26.204765\n",
       "550  0.544948      26.241443\n",
       "556  0.542944      26.467707\n",
       "568  0.526820      26.908928\n",
       "569  0.525514      26.945567\n",
       "\n",
       "[209 rows x 2 columns]"
      ]
     },
     "execution_count": 91,
     "metadata": {},
     "output_type": "execute_result"
    }
   ],
   "source": [
    "df_filtered_by_change"
   ]
  },
  {
   "cell_type": "code",
   "execution_count": 92,
   "metadata": {},
   "outputs": [
    {
     "data": {
      "text/plain": [
       "<AxesSubplot:xlabel='relative_time', ylabel='distance'>"
      ]
     },
     "execution_count": 92,
     "metadata": {},
     "output_type": "execute_result"
    },
    {
     "data": {
      "image/png": "[encoded data removed]",
      "text/plain": [
       "<Figure size 432x288 with 1 Axes>"
      ]
     },
     "metadata": {
      "needs_background": "light"
     },
     "output_type": "display_data"
    }
   ],
   "source": [
    "df_filtered_by_change.plot.scatter(x='relative_time', y='distance')"
   ]
  },
  {
   "cell_type": "markdown",
   "metadata": {},
   "source": [
    "### manual way (probably obsolete)"
   ]
  },
  {
   "cell_type": "code",
   "execution_count": 93,
   "metadata": {},
   "outputs": [
    {
     "data": {
      "text/plain": [
       "1.1    0.343257\n",
       "0.5    0.231173\n",
       "1.5    0.154116\n",
       "0.6    0.084063\n",
       "1.0    0.073555\n",
       "1.6    0.031524\n",
       "1.4    0.026270\n",
       "1.2    0.017513\n",
       "1.3    0.015762\n",
       "0.9    0.008757\n",
       "0.8    0.007005\n",
       "0.7    0.007005\n",
       "Name: distance, dtype: float64"
      ]
     },
     "execution_count": 93,
     "metadata": {},
     "output_type": "execute_result"
    }
   ],
   "source": [
    "# the spread of values when rounded\n",
    "df.distance.round(1).value_counts(normalize=True)"
   ]
  },
  {
   "cell_type": "code",
   "execution_count": 94,
   "metadata": {},
   "outputs": [
    {
     "name": "stdout",
     "output_type": "stream",
     "text": [
      "[1.6, 1.5, 1.4, 1.1, 1, 0.9, 0.6, 0.5, 0.4]\n"
     ]
    }
   ],
   "source": [
    "# input values in meters\n",
    "input_vals = [1.5,1,0.5]\n",
    "\n",
    "\n",
    "def get_range(values):\n",
    "    range = []\n",
    "    for value in values:\n",
    "        range.append(value + .1)\n",
    "        range.append(value)\n",
    "        range.append(value - .1)\n",
    "    return range\n",
    "\n",
    "target = get_range(input_vals)\n",
    "print(target)"
   ]
  },
  {
   "cell_type": "code",
   "execution_count": 95,
   "metadata": {},
   "outputs": [],
   "source": [
    "target_rows = df.loc[df.distance.round(1).isin(target)]"
   ]
  },
  {
   "cell_type": "code",
   "execution_count": 96,
   "metadata": {},
   "outputs": [
    {
     "data": {
      "text/plain": [
       "<AxesSubplot:xlabel='relative_time', ylabel='distance'>"
      ]
     },
     "execution_count": 96,
     "metadata": {},
     "output_type": "execute_result"
    },
    {
     "data": {
      "image/png": "[encoded data removed]",
      "text/plain": [
       "<Figure size 432x288 with 1 Axes>"
      ]
     },
     "metadata": {
      "needs_background": "light"
     },
     "output_type": "display_data"
    }
   ],
   "source": [
    "target_rows.plot.scatter(x='relative_time', y='distance')"
   ]
  },
  {
   "cell_type": "code",
   "execution_count": 97,
   "metadata": {},
   "outputs": [
    {
     "data": {
      "text/plain": [
       "1.1    196\n",
       "0.5    132\n",
       "1.5     88\n",
       "0.6     48\n",
       "1.0     42\n",
       "1.6     18\n",
       "1.4     15\n",
       "0.9      5\n",
       "Name: distance, dtype: int64"
      ]
     },
     "execution_count": 97,
     "metadata": {},
     "output_type": "execute_result"
    }
   ],
   "source": [
    "# the spread of rounded values we want\n",
    "target_rows.distance.round(1).value_counts(normalize=False)"
   ]
  },
  {
   "cell_type": "code",
   "execution_count": 98,
   "metadata": {},
   "outputs": [
    {
     "data": {
      "text/html": [
       "<div>\n",
       "<style scoped>\n",
       "    .dataframe tbody tr th:only-of-type {\n",
       "        vertical-align: middle;\n",
       "    }\n",
       "\n",
       "    .dataframe tbody tr th {\n",
       "        vertical-align: top;\n",
       "    }\n",
       "\n",
       "    .dataframe thead th {\n",
       "        text-align: right;\n",
       "    }\n",
       "</style>\n",
       "<table border=\"1\" class=\"dataframe\">\n",
       "  <thead>\n",
       "    <tr style=\"text-align: right;\">\n",
       "      <th></th>\n",
       "      <th>distance</th>\n",
       "      <th>relative_time</th>\n",
       "    </tr>\n",
       "  </thead>\n",
       "  <tbody>\n",
       "    <tr>\n",
       "      <th>0</th>\n",
       "      <td>1.540828</td>\n",
       "      <td>0.000000</td>\n",
       "    </tr>\n",
       "    <tr>\n",
       "      <th>1</th>\n",
       "      <td>1.544104</td>\n",
       "      <td>0.100539</td>\n",
       "    </tr>\n",
       "    <tr>\n",
       "      <th>2</th>\n",
       "      <td>1.560746</td>\n",
       "      <td>0.190374</td>\n",
       "    </tr>\n",
       "    <tr>\n",
       "      <th>3</th>\n",
       "      <td>1.584294</td>\n",
       "      <td>0.282790</td>\n",
       "    </tr>\n",
       "    <tr>\n",
       "      <th>4</th>\n",
       "      <td>1.586674</td>\n",
       "      <td>0.378646</td>\n",
       "    </tr>\n",
       "    <tr>\n",
       "      <th>...</th>\n",
       "      <td>...</td>\n",
       "      <td>...</td>\n",
       "    </tr>\n",
       "    <tr>\n",
       "      <th>566</th>\n",
       "      <td>0.525557</td>\n",
       "      <td>26.838087</td>\n",
       "    </tr>\n",
       "    <tr>\n",
       "      <th>567</th>\n",
       "      <td>0.522651</td>\n",
       "      <td>26.873688</td>\n",
       "    </tr>\n",
       "    <tr>\n",
       "      <th>568</th>\n",
       "      <td>0.526820</td>\n",
       "      <td>26.908928</td>\n",
       "    </tr>\n",
       "    <tr>\n",
       "      <th>569</th>\n",
       "      <td>0.525514</td>\n",
       "      <td>26.945567</td>\n",
       "    </tr>\n",
       "    <tr>\n",
       "      <th>570</th>\n",
       "      <td>0.521083</td>\n",
       "      <td>26.981043</td>\n",
       "    </tr>\n",
       "  </tbody>\n",
       "</table>\n",
       "<p>544 rows × 2 columns</p>\n",
       "</div>"
      ],
      "text/plain": [
       "     distance  relative_time\n",
       "0    1.540828       0.000000\n",
       "1    1.544104       0.100539\n",
       "2    1.560746       0.190374\n",
       "3    1.584294       0.282790\n",
       "4    1.586674       0.378646\n",
       "..        ...            ...\n",
       "566  0.525557      26.838087\n",
       "567  0.522651      26.873688\n",
       "568  0.526820      26.908928\n",
       "569  0.525514      26.945567\n",
       "570  0.521083      26.981043\n",
       "\n",
       "[544 rows x 2 columns]"
      ]
     },
     "execution_count": 98,
     "metadata": {},
     "output_type": "execute_result"
    }
   ],
   "source": [
    "target_rows"
   ]
  }
 ],
 "metadata": {
  "kernelspec": {
   "display_name": "Python 3 (ipykernel)",
   "language": "python",
   "name": "python3"
  },
  "language_info": {
   "codemirror_mode": {
    "name": "ipython",
    "version": 3
   },
   "file_extension": ".py",
   "mimetype": "text/x-python",
   "name": "python",
   "nbconvert_exporter": "python",
   "pygments_lexer": "ipython3",
   "version": "3.8.10"
  },
  "orig_nbformat": 4
 },
 "nbformat": 4,
 "nbformat_minor": 2
}
