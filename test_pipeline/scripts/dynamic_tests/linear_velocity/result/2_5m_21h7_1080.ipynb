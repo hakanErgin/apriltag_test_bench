{
 "cells": [
  {
   "cell_type": "code",
   "execution_count": 144,
   "metadata": {},
   "outputs": [],
   "source": [
    "import rosbag\n",
    "import pandas as pd\n",
    "import matplotlib.pyplot as plt\n",
    "import matplotlib\n",
    "import numpy as np\n",
    "import tf\n",
    "import seaborn as sns\n",
    "import subprocess"
   ]
  },
  {
   "cell_type": "code",
   "execution_count": 145,
   "metadata": {},
   "outputs": [
    {
     "name": "stdout",
     "output_type": "stream",
     "text": [
      "2_5m_21h7_1080\n"
     ]
    }
   ],
   "source": [
    "res = 1080\n",
    "dist = '2_5m'\n",
    "file_name = '21h7'\n",
    "bags_dir = '/home/uware/rosbags/dynamic/linear/'\n",
    "vid_dir = '/home/uware/Downloads/test_vids/dynamic/linear/'\n",
    "bag = rosbag.Bag(bags_dir + dist + '/'+ str(res) + '/'+ file_name + '.bag')\n",
    "vid_file = vid_dir + dist + '/'+ str(res) + '/'+ file_name + '.mp4'\n",
    "\n",
    "# create variables\n",
    "target = 'is_detected'\n",
    "\n",
    "# target is to be detected at 0.5m/s ( walking speed is about 1.4m/s )\n",
    "print(dist + '_'+ file_name + '_'+ str(res))"
   ]
  },
  {
   "cell_type": "code",
   "execution_count": 146,
   "metadata": {},
   "outputs": [],
   "source": [
    "# video length will be used for calculating avr speed\n",
    "def get_length(filename):\n",
    "    result = subprocess.run([\"ffprobe\", \"-v\", \"error\", \"-show_entries\",\n",
    "                             \"format=duration\", \"-of\",\n",
    "                             \"default=noprint_wrappers=1:nokey=1\", filename],\n",
    "        stdout=subprocess.PIPE,\n",
    "        stderr=subprocess.STDOUT)\n",
    "    return float(result.stdout)"
   ]
  },
  {
   "cell_type": "code",
   "execution_count": 147,
   "metadata": {},
   "outputs": [
    {
     "name": "stdout",
     "output_type": "stream",
     "text": [
      "4\n"
     ]
    }
   ],
   "source": [
    "topic = '/tag_detections'\n",
    "\n",
    "rows = []\n",
    "false_positives = []\n",
    "\n",
    "for topic, msg, t in bag.read_messages(topics=topic):\n",
    "    time = t.to_sec()\n",
    "    \n",
    "    # we only care if there is or there isn't a detection in message published and consider there is only one tag in the frame\n",
    "    is_detected = len(msg.detections)\n",
    "\n",
    "    # detection positions are only for information, it is not being used for anything\n",
    "    if is_detected==1:\n",
    "        position = msg.detections[0].pose.pose.pose.position\n",
    "        # add to datapoints if its within measured distance, meaning avoid fp's\n",
    "        if 2 < position.z < 3.5:\n",
    "            x,y,z = position.x, position.y, position.z\n",
    "            row={'time': time, target: is_detected, 'x': x, 'y': y, 'z': z}\n",
    "        else:\n",
    "            false_positives.append(msg.detections[0])\n",
    "    elif is_detected>1: \n",
    "        for detection in msg.detections:\n",
    "            position = detection.pose.pose.pose.position\n",
    "            # add to datapoints if its within measured distance, meaning avoid fp's\n",
    "            if 2 < position.z < 3.5:\n",
    "                x,y,z = position.x, position.y, position.z\n",
    "                row={'time': time, target: 1, 'x': x, 'y': y, 'z': z}\n",
    "            else:\n",
    "                false_positives.append(detection)\n",
    "    elif is_detected==0:\n",
    "        row={'time': time, target: is_detected, 'x': None, 'y': None, 'z': None}\n",
    "\n",
    "    rows.append(row)\n",
    "\n",
    "df = pd.DataFrame.from_records(rows)\n",
    "print(len(false_positives))"
   ]
  },
  {
   "cell_type": "code",
   "execution_count": 148,
   "metadata": {},
   "outputs": [
    {
     "data": {
      "text/html": [
       "<div>\n",
       "<style scoped>\n",
       "    .dataframe tbody tr th:only-of-type {\n",
       "        vertical-align: middle;\n",
       "    }\n",
       "\n",
       "    .dataframe tbody tr th {\n",
       "        vertical-align: top;\n",
       "    }\n",
       "\n",
       "    .dataframe thead tr th {\n",
       "        text-align: left;\n",
       "    }\n",
       "\n",
       "    .dataframe thead tr:last-of-type th {\n",
       "        text-align: right;\n",
       "    }\n",
       "</style>\n",
       "<table border=\"1\" class=\"dataframe\">\n",
       "  <thead>\n",
       "    <tr>\n",
       "      <th></th>\n",
       "      <th colspan=\"8\" halign=\"left\">x</th>\n",
       "      <th colspan=\"8\" halign=\"left\">z</th>\n",
       "    </tr>\n",
       "    <tr>\n",
       "      <th></th>\n",
       "      <th>count</th>\n",
       "      <th>mean</th>\n",
       "      <th>std</th>\n",
       "      <th>min</th>\n",
       "      <th>25%</th>\n",
       "      <th>50%</th>\n",
       "      <th>75%</th>\n",
       "      <th>max</th>\n",
       "      <th>count</th>\n",
       "      <th>mean</th>\n",
       "      <th>std</th>\n",
       "      <th>min</th>\n",
       "      <th>25%</th>\n",
       "      <th>50%</th>\n",
       "      <th>75%</th>\n",
       "      <th>max</th>\n",
       "    </tr>\n",
       "    <tr>\n",
       "      <th>is_detected</th>\n",
       "      <th></th>\n",
       "      <th></th>\n",
       "      <th></th>\n",
       "      <th></th>\n",
       "      <th></th>\n",
       "      <th></th>\n",
       "      <th></th>\n",
       "      <th></th>\n",
       "      <th></th>\n",
       "      <th></th>\n",
       "      <th></th>\n",
       "      <th></th>\n",
       "      <th></th>\n",
       "      <th></th>\n",
       "      <th></th>\n",
       "      <th></th>\n",
       "    </tr>\n",
       "  </thead>\n",
       "  <tbody>\n",
       "    <tr>\n",
       "      <th>0</th>\n",
       "      <td>0.0</td>\n",
       "      <td>NaN</td>\n",
       "      <td>NaN</td>\n",
       "      <td>NaN</td>\n",
       "      <td>NaN</td>\n",
       "      <td>NaN</td>\n",
       "      <td>NaN</td>\n",
       "      <td>NaN</td>\n",
       "      <td>0.0</td>\n",
       "      <td>NaN</td>\n",
       "      <td>NaN</td>\n",
       "      <td>NaN</td>\n",
       "      <td>NaN</td>\n",
       "      <td>NaN</td>\n",
       "      <td>NaN</td>\n",
       "      <td>NaN</td>\n",
       "    </tr>\n",
       "    <tr>\n",
       "      <th>1</th>\n",
       "      <td>45.0</td>\n",
       "      <td>-1.144274</td>\n",
       "      <td>0.709315</td>\n",
       "      <td>-2.121676</td>\n",
       "      <td>-1.716896</td>\n",
       "      <td>-1.244448</td>\n",
       "      <td>-0.461213</td>\n",
       "      <td>0.045567</td>\n",
       "      <td>45.0</td>\n",
       "      <td>2.374863</td>\n",
       "      <td>0.051971</td>\n",
       "      <td>2.28207</td>\n",
       "      <td>2.325991</td>\n",
       "      <td>2.410266</td>\n",
       "      <td>2.414242</td>\n",
       "      <td>2.451377</td>\n",
       "    </tr>\n",
       "  </tbody>\n",
       "</table>\n",
       "</div>"
      ],
      "text/plain": [
       "                x                                                              \\\n",
       "            count      mean       std       min       25%       50%       75%   \n",
       "is_detected                                                                     \n",
       "0             0.0       NaN       NaN       NaN       NaN       NaN       NaN   \n",
       "1            45.0 -1.144274  0.709315 -2.121676 -1.716896 -1.244448 -0.461213   \n",
       "\n",
       "                          z                                                   \\\n",
       "                  max count      mean       std      min       25%       50%   \n",
       "is_detected                                                                    \n",
       "0                 NaN   0.0       NaN       NaN      NaN       NaN       NaN   \n",
       "1            0.045567  45.0  2.374863  0.051971  2.28207  2.325991  2.410266   \n",
       "\n",
       "                                 \n",
       "                  75%       max  \n",
       "is_detected                      \n",
       "0                 NaN       NaN  \n",
       "1            2.414242  2.451377  "
      ]
     },
     "execution_count": 148,
     "metadata": {},
     "output_type": "execute_result"
    }
   ],
   "source": [
    "# calculate relative time in seconds instead of absolute time\n",
    "df['relative_time'] =  df.loc[0:, 'time'] - df.at[0, 'time']\n",
    "df = df.drop(columns=['time'])\n",
    "df.groupby(target)[['x','z']].describe()"
   ]
  },
  {
   "cell_type": "code",
   "execution_count": null,
   "metadata": {},
   "outputs": [
    {
     "data": {
      "text/plain": [
       "is_detected      112\n",
       "x                 45\n",
       "y                 45\n",
       "z                 45\n",
       "relative_time    112\n",
       "dtype: int64"
      ]
     },
     "execution_count": 132,
     "metadata": {},
     "output_type": "execute_result"
    }
   ],
   "source": [
    "df.count()"
   ]
  },
  {
   "cell_type": "code",
   "execution_count": null,
   "metadata": {},
   "outputs": [
    {
     "data": {
      "text/plain": [
       "0    59.821429\n",
       "1    40.178571\n",
       "Name: is_detected, dtype: float64"
      ]
     },
     "execution_count": 133,
     "metadata": {},
     "output_type": "execute_result"
    }
   ],
   "source": [
    "# ratio of detected to not\n",
    "ratios = df.is_detected.value_counts(normalize=True)*100\n",
    "ratios"
   ]
  },
  {
   "cell_type": "code",
   "execution_count": null,
   "metadata": {},
   "outputs": [
    {
     "data": {
      "text/plain": [
       "<matplotlib.legend.Legend at 0x7f65cbcee0>"
      ]
     },
     "execution_count": 134,
     "metadata": {},
     "output_type": "execute_result"
    },
    {
     "data": {
      "image/png": "[encoded data removed]",
      "text/plain": [
       "<Figure size 432x288 with 1 Axes>"
      ]
     },
     "metadata": {},
     "output_type": "display_data"
    }
   ],
   "source": [
    "ratios.plot.pie()\n",
    "plt.legend()"
   ]
  },
  {
   "cell_type": "code",
   "execution_count": null,
   "metadata": {},
   "outputs": [
    {
     "data": {
      "text/plain": [
       "7.834"
      ]
     },
     "execution_count": 135,
     "metadata": {},
     "output_type": "execute_result"
    }
   ],
   "source": [
    "vid_length = get_length(vid_file)\n",
    "vid_length"
   ]
  },
  {
   "cell_type": "code",
   "execution_count": null,
   "metadata": {},
   "outputs": [
    {
     "data": {
      "text/plain": [
       "2.1672432260288854"
      ]
     },
     "execution_count": 143,
     "metadata": {},
     "output_type": "execute_result"
    }
   ],
   "source": [
    "# distance moved\n",
    "distance = df.x.max() - df.x.min()\n",
    "distance"
   ]
  },
  {
   "cell_type": "code",
   "execution_count": null,
   "metadata": {},
   "outputs": [
    {
     "data": {
      "text/plain": [
       "0.27664580367997005"
      ]
     },
     "execution_count": 137,
     "metadata": {},
     "output_type": "execute_result"
    }
   ],
   "source": [
    "# velocity in m/s\n",
    "distance/vid_length"
   ]
  },
  {
   "cell_type": "code",
   "execution_count": null,
   "metadata": {},
   "outputs": [
    {
     "data": {
      "text/plain": [
       "<seaborn.axisgrid.FacetGrid at 0x7f65cdbac0>"
      ]
     },
     "execution_count": 139,
     "metadata": {},
     "output_type": "execute_result"
    },
    {
     "data": {
      "image/png": "[encoded data removed]",
      "text/plain": [
       "<Figure size 432x288 with 2 Axes>"
      ]
     },
     "metadata": {
      "needs_background": "light"
     },
     "output_type": "display_data"
    },
    {
     "data": {
      "image/png": "[encoded data removed]",
      "text/plain": [
       "<Figure size 360x360 with 1 Axes>"
      ]
     },
     "metadata": {
      "needs_background": "light"
     },
     "output_type": "display_data"
    },
    {
     "data": {
      "image/png": "[encoded data removed]",
      "text/plain": [
       "<Figure size 360x360 with 1 Axes>"
      ]
     },
     "metadata": {
      "needs_background": "light"
     },
     "output_type": "display_data"
    },
    {
     "data": {
      "image/png": "[encoded data removed]",
      "text/plain": [
       "<Figure size 425.5x360 with 1 Axes>"
      ]
     },
     "metadata": {
      "needs_background": "light"
     },
     "output_type": "display_data"
    }
   ],
   "source": [
    "df.plot.hexbin(x=target, y=\"relative_time\", gridsize=15)\n",
    "sns.catplot(x=target, y='relative_time', data=df)\n",
    "sns.catplot(x=target, y='relative_time', data=df, kind=\"swarm\", s=4) # s=size of markers causes warnings when >4\n",
    "\n",
    "# creating a dummy column for plotting both classes together\n",
    "df.loc[:,'all'] = 'all'\n",
    "sns.catplot(x='all', y='relative_time', data=df, hue=target, kind=\"swarm\")"
   ]
  }
 ],
 "metadata": {
  "interpreter": {
   "hash": "55fbb17d0644a6c3c7f52521bbcfa49d0e83018f101c9fd25e055131e8de8821"
  },
  "kernelspec": {
   "display_name": "Python 3.8.10 ('env': venv)",
   "language": "python",
   "name": "python3"
  },
  "language_info": {
   "codemirror_mode": {
    "name": "ipython",
    "version": 3
   },
   "file_extension": ".py",
   "mimetype": "text/x-python",
   "name": "python",
   "nbconvert_exporter": "python",
   "pygments_lexer": "ipython3",
   "version": "3.8.10"
  },
  "orig_nbformat": 4
 },
 "nbformat": 4,
 "nbformat_minor": 2
}
