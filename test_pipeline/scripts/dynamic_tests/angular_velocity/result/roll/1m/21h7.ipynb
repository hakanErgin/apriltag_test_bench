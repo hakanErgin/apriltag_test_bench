{
 "cells": [
  {
   "cell_type": "code",
   "execution_count": 1,
   "metadata": {},
   "outputs": [],
   "source": [
    "import rosbag\n",
    "import pandas as pd\n",
    "import matplotlib.pyplot as plt\n",
    "import matplotlib\n",
    "import numpy as np\n",
    "import tf\n",
    "import seaborn as sns"
   ]
  },
  {
   "cell_type": "code",
   "execution_count": 2,
   "metadata": {},
   "outputs": [],
   "source": [
    "bag = rosbag.Bag('/home/uware/rosbags/dynamic/rotational/roll/1m/21h7.bag')\n",
    "\n",
    "# create variables\n",
    "target = 'is_detected'\n",
    "\n",
    "# we are interested if tag is detected at 90°/s"
   ]
  },
  {
   "cell_type": "code",
   "execution_count": 3,
   "metadata": {},
   "outputs": [
    {
     "name": "stdout",
     "output_type": "stream",
     "text": [
      "0\n"
     ]
    }
   ],
   "source": [
    "topic = '/tag_detections'\n",
    "\n",
    "rows = []\n",
    "false_positives = []\n",
    "\n",
    "# z distance to make sure its not fp\n",
    "range = (.9, 1.1)\n",
    "\n",
    "for topic, msg, t in bag.read_messages(topics=topic):\n",
    "    time = t\n",
    "    is_detected = len(msg.detections)\n",
    "\n",
    "    if is_detected==1:\n",
    "        position = msg.detections[0].pose.pose.pose.position\n",
    "        if range[0] < position.z < range[1]:\n",
    "            orientation_quat = msg.detections[0].pose.pose.pose.orientation\n",
    "            pitch, yaw, roll = tf.transformations.euler_from_quaternion([orientation_quat.x,orientation_quat.y,orientation_quat.z,orientation_quat.w], axes='rxyz')\n",
    "            row={'time': time.to_sec(), target: is_detected, 'roll': np.degrees(roll), 'distance': position.z}\n",
    "        else:\n",
    "            false_positives.append(msg.detections[0])\n",
    "\n",
    "    elif is_detected>1:\n",
    "        for detection in msg.detections:\n",
    "            position = detection.pose.pose.pose.position\n",
    "            if range[0] < position.z < range[1]:\n",
    "                orientation_quat = detection.pose.pose.pose.orientation\n",
    "                pitch, yaw, roll = tf.transformations.euler_from_quaternion([orientation_quat.x,orientation_quat.y,orientation_quat.z,orientation_quat.w], axes='rxyz')\n",
    "                row={'time': time.to_sec(), target: 1, 'roll': np.degrees(roll), 'distance': position.z}\n",
    "            else:\n",
    "                false_positives.append(detection)\n",
    "                \n",
    "    elif is_detected==0:\n",
    "        row={'time': time.to_sec(), target: is_detected, 'roll': None}\n",
    "    rows.append(row)\n",
    "\n",
    "df = pd.DataFrame.from_records(rows)\n",
    "print(len(false_positives))\n"
   ]
  },
  {
   "cell_type": "code",
   "execution_count": 4,
   "metadata": {},
   "outputs": [
    {
     "data": {
      "text/html": [
       "<div>\n",
       "<style scoped>\n",
       "    .dataframe tbody tr th:only-of-type {\n",
       "        vertical-align: middle;\n",
       "    }\n",
       "\n",
       "    .dataframe tbody tr th {\n",
       "        vertical-align: top;\n",
       "    }\n",
       "\n",
       "    .dataframe thead th {\n",
       "        text-align: right;\n",
       "    }\n",
       "</style>\n",
       "<table border=\"1\" class=\"dataframe\">\n",
       "  <thead>\n",
       "    <tr style=\"text-align: right;\">\n",
       "      <th></th>\n",
       "      <th>is_detected</th>\n",
       "      <th>roll</th>\n",
       "      <th>distance</th>\n",
       "      <th>relative_time</th>\n",
       "    </tr>\n",
       "  </thead>\n",
       "  <tbody>\n",
       "    <tr>\n",
       "      <th>0</th>\n",
       "      <td>1</td>\n",
       "      <td>25.202019</td>\n",
       "      <td>1.053829</td>\n",
       "      <td>0.000000</td>\n",
       "    </tr>\n",
       "    <tr>\n",
       "      <th>1</th>\n",
       "      <td>1</td>\n",
       "      <td>-10.016246</td>\n",
       "      <td>1.053641</td>\n",
       "      <td>0.984118</td>\n",
       "    </tr>\n",
       "    <tr>\n",
       "      <th>15</th>\n",
       "      <td>0</td>\n",
       "      <td>NaN</td>\n",
       "      <td>NaN</td>\n",
       "      <td>11.542553</td>\n",
       "    </tr>\n",
       "  </tbody>\n",
       "</table>\n",
       "</div>"
      ],
      "text/plain": [
       "    is_detected       roll  distance  relative_time\n",
       "0             1  25.202019  1.053829       0.000000\n",
       "1             1 -10.016246  1.053641       0.984118\n",
       "15            0        NaN       NaN      11.542553"
      ]
     },
     "execution_count": 4,
     "metadata": {},
     "output_type": "execute_result"
    }
   ],
   "source": [
    "# calculate relative time in seconds instead of absolute time\n",
    "df['relative_time'] =  df.loc[0:, 'time'] - df.at[0, 'time']\n",
    "df = df.drop(columns=['time'])\n",
    "df.groupby(target).head(2)"
   ]
  },
  {
   "cell_type": "code",
   "execution_count": 5,
   "metadata": {},
   "outputs": [
    {
     "data": {
      "text/plain": [
       "count    134.000000\n",
       "mean      -0.940641\n",
       "std       25.898502\n",
       "min      -38.706590\n",
       "25%      -24.640345\n",
       "50%       -1.563840\n",
       "75%       20.596616\n",
       "max       42.077206\n",
       "Name: roll, dtype: float64"
      ]
     },
     "execution_count": 5,
     "metadata": {},
     "output_type": "execute_result"
    }
   ],
   "source": [
    "df.roll.describe()"
   ]
  },
  {
   "cell_type": "code",
   "execution_count": 6,
   "metadata": {},
   "outputs": [
    {
     "data": {
      "text/plain": [
       "80.78379523859576"
      ]
     },
     "execution_count": 6,
     "metadata": {},
     "output_type": "execute_result"
    }
   ],
   "source": [
    "df.roll.max() - df.roll.min()"
   ]
  },
  {
   "cell_type": "code",
   "execution_count": 8,
   "metadata": {},
   "outputs": [
    {
     "data": {
      "text/plain": [
       "1    99.259259\n",
       "0     0.740741\n",
       "Name: is_detected, dtype: float64"
      ]
     },
     "execution_count": 8,
     "metadata": {},
     "output_type": "execute_result"
    }
   ],
   "source": [
    "# ratio of detected to not\n",
    "ratios = df.is_detected.value_counts(normalize=True)*100\n",
    "ratios"
   ]
  },
  {
   "cell_type": "code",
   "execution_count": 9,
   "metadata": {},
   "outputs": [
    {
     "data": {
      "text/plain": [
       "<matplotlib.legend.Legend at 0x7f3548c1f0>"
      ]
     },
     "execution_count": 9,
     "metadata": {},
     "output_type": "execute_result"
    },
    {
     "data": {
      "image/png": "[encoded data removed]",
      "text/plain": [
       "<Figure size 432x288 with 1 Axes>"
      ]
     },
     "metadata": {},
     "output_type": "display_data"
    }
   ],
   "source": [
    "ratios.plot.pie()\n",
    "plt.legend()"
   ]
  },
  {
   "cell_type": "code",
   "execution_count": 10,
   "metadata": {},
   "outputs": [
    {
     "data": {
      "text/html": [
       "<div>\n",
       "<style scoped>\n",
       "    .dataframe tbody tr th:only-of-type {\n",
       "        vertical-align: middle;\n",
       "    }\n",
       "\n",
       "    .dataframe tbody tr th {\n",
       "        vertical-align: top;\n",
       "    }\n",
       "\n",
       "    .dataframe thead th {\n",
       "        text-align: right;\n",
       "    }\n",
       "</style>\n",
       "<table border=\"1\" class=\"dataframe\">\n",
       "  <thead>\n",
       "    <tr style=\"text-align: right;\">\n",
       "      <th></th>\n",
       "      <th>is_detected</th>\n",
       "      <th>roll</th>\n",
       "      <th>distance</th>\n",
       "      <th>relative_time</th>\n",
       "    </tr>\n",
       "  </thead>\n",
       "  <tbody>\n",
       "    <tr>\n",
       "      <th>0</th>\n",
       "      <td>1</td>\n",
       "      <td>25.202019</td>\n",
       "      <td>1.053829</td>\n",
       "      <td>0.000000</td>\n",
       "    </tr>\n",
       "    <tr>\n",
       "      <th>1</th>\n",
       "      <td>1</td>\n",
       "      <td>-10.016246</td>\n",
       "      <td>1.053641</td>\n",
       "      <td>0.984118</td>\n",
       "    </tr>\n",
       "    <tr>\n",
       "      <th>2</th>\n",
       "      <td>1</td>\n",
       "      <td>38.755707</td>\n",
       "      <td>1.050887</td>\n",
       "      <td>2.031584</td>\n",
       "    </tr>\n",
       "    <tr>\n",
       "      <th>3</th>\n",
       "      <td>1</td>\n",
       "      <td>-5.596660</td>\n",
       "      <td>1.054823</td>\n",
       "      <td>3.011603</td>\n",
       "    </tr>\n",
       "    <tr>\n",
       "      <th>4</th>\n",
       "      <td>1</td>\n",
       "      <td>38.870532</td>\n",
       "      <td>1.053228</td>\n",
       "      <td>3.975042</td>\n",
       "    </tr>\n",
       "  </tbody>\n",
       "</table>\n",
       "</div>"
      ],
      "text/plain": [
       "   is_detected       roll  distance  relative_time\n",
       "0            1  25.202019  1.053829       0.000000\n",
       "1            1 -10.016246  1.053641       0.984118\n",
       "2            1  38.755707  1.050887       2.031584\n",
       "3            1  -5.596660  1.054823       3.011603\n",
       "4            1  38.870532  1.053228       3.975042"
      ]
     },
     "execution_count": 10,
     "metadata": {},
     "output_type": "execute_result"
    }
   ],
   "source": [
    "df.head(5)"
   ]
  },
  {
   "cell_type": "code",
   "execution_count": 11,
   "metadata": {},
   "outputs": [
    {
     "data": {
      "text/plain": [
       "<seaborn.axisgrid.FacetGrid at 0x7f354345b0>"
      ]
     },
     "execution_count": 11,
     "metadata": {},
     "output_type": "execute_result"
    },
    {
     "data": {
      "image/png": "[encoded data removed]",
      "text/plain": [
       "<Figure size 432x288 with 2 Axes>"
      ]
     },
     "metadata": {
      "needs_background": "light"
     },
     "output_type": "display_data"
    },
    {
     "data": {
      "image/png": "[encoded data removed]",
      "text/plain": [
       "<Figure size 360x360 with 1 Axes>"
      ]
     },
     "metadata": {
      "needs_background": "light"
     },
     "output_type": "display_data"
    },
    {
     "data": {
      "image/png": "[encoded data removed]",
      "text/plain": [
       "<Figure size 360x360 with 1 Axes>"
      ]
     },
     "metadata": {
      "needs_background": "light"
     },
     "output_type": "display_data"
    },
    {
     "data": {
      "image/png": "[encoded data removed]",
      "text/plain": [
       "<Figure size 425.5x360 with 1 Axes>"
      ]
     },
     "metadata": {
      "needs_background": "light"
     },
     "output_type": "display_data"
    }
   ],
   "source": [
    "df.plot.hexbin(x=target, y=\"relative_time\", gridsize=15)\n",
    "sns.catplot(x=target, y='relative_time', data=df)\n",
    "sns.catplot(x=target, y='relative_time', data=df, kind=\"swarm\", s=4) # s=size of markers causes warnings when >4\n",
    "\n",
    "# creating a dummy column for plotting both classes together\n",
    "df.loc[:,'all'] = 'all'\n",
    "sns.catplot(x='all', y='relative_time', data=df, hue=target, kind=\"swarm\")"
   ]
  },
  {
   "cell_type": "code",
   "execution_count": 12,
   "metadata": {},
   "outputs": [
    {
     "data": {
      "text/plain": [
       "count    134.000000\n",
       "mean      -0.940641\n",
       "std       25.898502\n",
       "min      -38.706590\n",
       "25%      -24.640345\n",
       "50%       -1.563840\n",
       "75%       20.596616\n",
       "max       42.077206\n",
       "Name: roll, dtype: float64"
      ]
     },
     "execution_count": 12,
     "metadata": {},
     "output_type": "execute_result"
    }
   ],
   "source": [
    "df.roll.describe()"
   ]
  }
 ],
 "metadata": {
  "interpreter": {
   "hash": "55fbb17d0644a6c3c7f52521bbcfa49d0e83018f101c9fd25e055131e8de8821"
  },
  "kernelspec": {
   "display_name": "Python 3.8.10 ('env': venv)",
   "language": "python",
   "name": "python3"
  },
  "language_info": {
   "codemirror_mode": {
    "name": "ipython",
    "version": 3
   },
   "file_extension": ".py",
   "mimetype": "text/x-python",
   "name": "python",
   "nbconvert_exporter": "python",
   "pygments_lexer": "ipython3",
   "version": "3.8.10"
  },
  "orig_nbformat": 4
 },
 "nbformat": 4,
 "nbformat_minor": 2
}
